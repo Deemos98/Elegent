{
 "cells": [
  {
   "cell_type": "code",
   "execution_count": 95,
   "metadata": {},
   "outputs": [],
   "source": [
    "import pandas as pd\n",
    "import numpy as np\n",
    "import time\n",
    "from icecream import ic\n",
    "import pandas_ta as ta\n",
    "from tqdm.notebook import tqdm\n",
    "import talib\n",
    "import optuna\n",
    "import lightgbm as lgb\n",
    "from sklearn.model_selection import train_test_split\n",
    "from sklearn.metrics import log_loss\n",
    "import vectorbt as vbt\n",
    "import joblib\n",
    "import re\n",
    "from optuna.importance import get_param_importances\n",
    "import csv\n",
    "import warnings\n",
    "from datetime import datetime\n",
    "from collections import deque\n",
    "# 忽略所有警告\n",
    "warnings.filterwarnings(\"ignore\")\n",
    "warnings.filterwarnings('ignore', category=UserWarning, module='lightgbm')"
   ]
  },
  {
   "cell_type": "code",
   "execution_count": 90,
   "metadata": {
    "collapsed": false,
    "jupyter": {
     "outputs_hidden": false
    }
   },
   "outputs": [],
   "source": [
    "def min_index(window):\n",
    "    # 获取当前窗口内最小值的索引\n",
    "    if window.isna().all():  # 如果当前窗口都是NaN，返回NaN\n",
    "        return None\n",
    "    return window.idxmin()\n",
    "def max_index(window):\n",
    "    # 获取当前窗口内最小值的索引\n",
    "    if window.isna().all():  # 如果当前窗口都是NaN，返回NaN\n",
    "        return None\n",
    "    return window.idxmax()\n",
    "# 将apply应用于滚动窗口\n",
    "\n",
    "def find_local_extrema(df, window):\n",
    "    # 用rolling window找局部极小值和极大值\n",
    "    local_min = df['close'].rolling(window=window, center=True).min()\n",
    "    local_max = df['close'].rolling(window=window, center=True).max()\n",
    "    min_idx = df['close'].rolling(window=window, center=True).apply(min_index, raw=False)\n",
    "    max_idx = df['close'].rolling(window=window, center=True).apply(max_index, raw=False)\n",
    "    return local_min, local_max, min_idx, max_idx\n",
    "\n",
    "def generate_trade_signals(df, window, r, n):\n",
    "    # 事先计算局部最小值、最大值和对应的索引\n",
    "    local_min, local_max, min_idx, max_idx = find_local_extrema(df, window)\n",
    "\n",
    "    # 创建信号列\n",
    "    df['signal'] = 0\n",
    "    df['position'] = 0\n",
    "    position = 0\n",
    "    price = 0\n",
    "    return_rate = 0\n",
    "    return_rates = []\n",
    "\n",
    "    # 避免在循环中频繁使用 `df.at` 进行逐行修改，提前将信号存入数组\n",
    "    signals = np.zeros(len(df))\n",
    "    positions = np.zeros(len(df))\n",
    "\n",
    "    # 循环遍历数据，寻找买入和卖出信号\n",
    "    for i in range(int(window / 2), len(df) - int(window / 2)):  # 跳过前后window期\n",
    "        positions[i] = position\n",
    "        if positions[i] == 0:\n",
    "            if df['close'].at[i] == local_min.at[i]:  # 当前点是局部最低点\n",
    "                # 判断是否是买入信号\n",
    "                if min_idx.at[i] < max_idx.at[i]:  # 如果局部最低点更接近开盘点（即之前出现过低点）\n",
    "                    signals[i] = 1  # 买入信号\n",
    "                    position = 1  # 多单\n",
    "                    price = df['close'].at[i]  # 记录价格\n",
    "            elif df['close'].at[i] == local_max.at[i]:  # 当前点是局部最高点\n",
    "                # 判断是否是卖出信号\n",
    "                if max_idx.at[i] > min_idx.at[i]:  # 如果局部最高点更接近开盘点\n",
    "                    signals[i] = -1  # 卖出信号\n",
    "                    position = -1  # 空单\n",
    "                    price = df['close'].at[i]  # 记录价格\n",
    "\n",
    "        # 判断止损或止盈\n",
    "        elif positions[i] == 1:  # 如果是多单\n",
    "            if df['close'].at[i] <= price * r:\n",
    "                signals[i] = -1  # 卖出信号\n",
    "                return_rate = (df['close'].at[i] / price - 1) * n\n",
    "                return_rates.append(return_rate)\n",
    "                position = 0  # 清仓\n",
    "            elif df['close'].at[i] == local_max.at[i]:\n",
    "                signals[i] = -1  # 卖出信号\n",
    "                return_rate = (df['close'].at[i] / price - 1) * n\n",
    "                return_rates.append(return_rate)\n",
    "                position = 0  # 清仓\n",
    "\n",
    "        elif positions[i] == -1:  # 如果是空单\n",
    "            if price <= df['close'].at[i] * r:\n",
    "                signals[i] = 1  # 买入信号，平空仓\n",
    "                return_rate = (price / df['close'].at[i] - 1) * n\n",
    "                return_rates.append(return_rate)\n",
    "                position = 0  # 清仓\n",
    "            elif df['close'].at[i] == local_min.at[i]:\n",
    "                signals[i] = 1  # 买入信号，平空仓\n",
    "                return_rate = (price / df['close'].at[i] - 1) * n\n",
    "                return_rates.append(return_rate)\n",
    "                position = 0  # 清仓\n",
    "\n",
    "    # 将信号和仓位添加回 DataFrame\n",
    "    df['signal'] = signals\n",
    "    df['position'] = positions\n",
    "\n",
    "    return df, return_rates"
   ]
  },
  {
   "cell_type": "code",
   "execution_count": 55,
   "metadata": {
    "collapsed": false,
    "jupyter": {
     "outputs_hidden": false
    }
   },
   "outputs": [],
   "source": [
    "# df = pd.read_csv('C:\\pythonProject\\DOGEUSDT.csv', encoding='utf-8-sig')\n",
    "df = pd.read_csv('D:\\DOGEUSDT.csv', encoding='utf-8-sig')"
   ]
  },
  {
   "cell_type": "code",
   "execution_count": 146,
   "metadata": {
    "collapsed": false,
    "jupyter": {
     "outputs_hidden": false
    }
   },
   "outputs": [
    {
     "data": {
      "text/plain": "                 timestamp     open     high      low    close   volume  \\\n0      2024-09-07 19:01:00  0.09419  0.09424  0.09419  0.09421   793070   \n1      2024-09-07 19:02:00  0.09421  0.09421  0.09410  0.09413   747305   \n2      2024-09-07 19:03:00  0.09413  0.09416  0.09409  0.09415  1834230   \n3      2024-09-07 19:04:00  0.09416  0.09421  0.09415  0.09419  1123645   \n4      2024-09-07 19:05:00  0.09419  0.09422  0.09413  0.09422  1050421   \n...                    ...      ...      ...      ...      ...      ...   \n172845 2025-01-05 19:46:00  0.38346  0.38354  0.38320  0.38354  1079425   \n172846 2025-01-05 19:47:00  0.38353  0.38359  0.38320  0.38331   423009   \n172847 2025-01-05 19:48:00  0.38331  0.38344  0.38323  0.38344   497276   \n172848 2025-01-05 19:49:00  0.38344  0.38350  0.38310  0.38310   629479   \n172849 2025-01-05 19:50:00  0.38311  0.38317  0.38301  0.38301   692884   \n\n        quote_asset_volume  number_of_trades  taker_buy_base_asset_volume  \\\n0              74718.99823               707                       385310   \n1              70361.83392               406                       328807   \n2             172679.97070               437                      1650595   \n3             105832.91100               467                       429589   \n4              98915.23366               702                       239439   \n...                    ...               ...                          ...   \n172845        413874.25630               910                       697291   \n172846        162188.43010               735                       208956   \n172847        190621.12470               677                       163543   \n172848        241312.88290               693                       278198   \n172849        265461.40640               452                       110883   \n\n        taker_buy_quote_asset_volume  taker_sell_base_asset_volume  \\\n0                        36302.39951                        407760   \n1                        30955.86591                        418498   \n2                       155394.07950                        183635   \n3                        40460.87287                        694056   \n4                        22549.16096                        810982   \n...                              ...                           ...   \n172845                  267359.52940                        382134   \n172846                   80115.06906                        214053   \n172847                   62695.32911                        333733   \n172848                  106661.61650                        351281   \n172849                   42480.44599                        582001   \n\n        taker_sell_quote_asset_volume  taker_buy_sell_volume  \\\n0                         38416.59872                 -22450   \n1                         39405.96801                 -89691   \n2                         17285.89120                1466960   \n3                         65372.03813                -264467   \n4                         76366.07270                -571543   \n...                               ...                    ...   \n172845                   146514.72690                 315157   \n172846                    82073.36104                  -5097   \n172847                   127925.79559                -170190   \n172848                   134651.26640                 -73083   \n172849                   222980.96041                -471118   \n\n        taker_buy_sell_quote_asset_volume  local_min  local_max  min_idx  \\\n0                             -2114.19921        NaN        NaN      NaN   \n1                             -8450.10210        NaN        NaN      NaN   \n2                            138108.18830        NaN        NaN      NaN   \n3                            -24911.16526        NaN        NaN      NaN   \n4                            -53816.91174        NaN        NaN      NaN   \n...                                   ...        ...        ...      ...   \n172845                       120844.80250        NaN        NaN      NaN   \n172846                        -1958.29198        NaN        NaN      NaN   \n172847                       -65230.46648        NaN        NaN      NaN   \n172848                       -27989.64990        NaN        NaN      NaN   \n172849                      -180500.51442        NaN        NaN      NaN   \n\n        max_idx  signal  position  \n0           NaN     0.0       0.0  \n1           NaN     0.0       0.0  \n2           NaN     0.0       0.0  \n3           NaN     0.0       0.0  \n4           NaN     0.0       0.0  \n...         ...     ...       ...  \n172845      NaN     0.0       0.0  \n172846      NaN     0.0       0.0  \n172847      NaN     0.0       0.0  \n172848      NaN     0.0       0.0  \n172849      NaN     0.0       0.0  \n\n[172850 rows x 20 columns]",
      "text/html": "<div>\n<style scoped>\n    .dataframe tbody tr th:only-of-type {\n        vertical-align: middle;\n    }\n\n    .dataframe tbody tr th {\n        vertical-align: top;\n    }\n\n    .dataframe thead th {\n        text-align: right;\n    }\n</style>\n<table border=\"1\" class=\"dataframe\">\n  <thead>\n    <tr style=\"text-align: right;\">\n      <th></th>\n      <th>timestamp</th>\n      <th>open</th>\n      <th>high</th>\n      <th>low</th>\n      <th>close</th>\n      <th>volume</th>\n      <th>quote_asset_volume</th>\n      <th>number_of_trades</th>\n      <th>taker_buy_base_asset_volume</th>\n      <th>taker_buy_quote_asset_volume</th>\n      <th>taker_sell_base_asset_volume</th>\n      <th>taker_sell_quote_asset_volume</th>\n      <th>taker_buy_sell_volume</th>\n      <th>taker_buy_sell_quote_asset_volume</th>\n      <th>local_min</th>\n      <th>local_max</th>\n      <th>min_idx</th>\n      <th>max_idx</th>\n      <th>signal</th>\n      <th>position</th>\n    </tr>\n  </thead>\n  <tbody>\n    <tr>\n      <th>0</th>\n      <td>2024-09-07 19:01:00</td>\n      <td>0.09419</td>\n      <td>0.09424</td>\n      <td>0.09419</td>\n      <td>0.09421</td>\n      <td>793070</td>\n      <td>74718.99823</td>\n      <td>707</td>\n      <td>385310</td>\n      <td>36302.39951</td>\n      <td>407760</td>\n      <td>38416.59872</td>\n      <td>-22450</td>\n      <td>-2114.19921</td>\n      <td>NaN</td>\n      <td>NaN</td>\n      <td>NaN</td>\n      <td>NaN</td>\n      <td>0.0</td>\n      <td>0.0</td>\n    </tr>\n    <tr>\n      <th>1</th>\n      <td>2024-09-07 19:02:00</td>\n      <td>0.09421</td>\n      <td>0.09421</td>\n      <td>0.09410</td>\n      <td>0.09413</td>\n      <td>747305</td>\n      <td>70361.83392</td>\n      <td>406</td>\n      <td>328807</td>\n      <td>30955.86591</td>\n      <td>418498</td>\n      <td>39405.96801</td>\n      <td>-89691</td>\n      <td>-8450.10210</td>\n      <td>NaN</td>\n      <td>NaN</td>\n      <td>NaN</td>\n      <td>NaN</td>\n      <td>0.0</td>\n      <td>0.0</td>\n    </tr>\n    <tr>\n      <th>2</th>\n      <td>2024-09-07 19:03:00</td>\n      <td>0.09413</td>\n      <td>0.09416</td>\n      <td>0.09409</td>\n      <td>0.09415</td>\n      <td>1834230</td>\n      <td>172679.97070</td>\n      <td>437</td>\n      <td>1650595</td>\n      <td>155394.07950</td>\n      <td>183635</td>\n      <td>17285.89120</td>\n      <td>1466960</td>\n      <td>138108.18830</td>\n      <td>NaN</td>\n      <td>NaN</td>\n      <td>NaN</td>\n      <td>NaN</td>\n      <td>0.0</td>\n      <td>0.0</td>\n    </tr>\n    <tr>\n      <th>3</th>\n      <td>2024-09-07 19:04:00</td>\n      <td>0.09416</td>\n      <td>0.09421</td>\n      <td>0.09415</td>\n      <td>0.09419</td>\n      <td>1123645</td>\n      <td>105832.91100</td>\n      <td>467</td>\n      <td>429589</td>\n      <td>40460.87287</td>\n      <td>694056</td>\n      <td>65372.03813</td>\n      <td>-264467</td>\n      <td>-24911.16526</td>\n      <td>NaN</td>\n      <td>NaN</td>\n      <td>NaN</td>\n      <td>NaN</td>\n      <td>0.0</td>\n      <td>0.0</td>\n    </tr>\n    <tr>\n      <th>4</th>\n      <td>2024-09-07 19:05:00</td>\n      <td>0.09419</td>\n      <td>0.09422</td>\n      <td>0.09413</td>\n      <td>0.09422</td>\n      <td>1050421</td>\n      <td>98915.23366</td>\n      <td>702</td>\n      <td>239439</td>\n      <td>22549.16096</td>\n      <td>810982</td>\n      <td>76366.07270</td>\n      <td>-571543</td>\n      <td>-53816.91174</td>\n      <td>NaN</td>\n      <td>NaN</td>\n      <td>NaN</td>\n      <td>NaN</td>\n      <td>0.0</td>\n      <td>0.0</td>\n    </tr>\n    <tr>\n      <th>...</th>\n      <td>...</td>\n      <td>...</td>\n      <td>...</td>\n      <td>...</td>\n      <td>...</td>\n      <td>...</td>\n      <td>...</td>\n      <td>...</td>\n      <td>...</td>\n      <td>...</td>\n      <td>...</td>\n      <td>...</td>\n      <td>...</td>\n      <td>...</td>\n      <td>...</td>\n      <td>...</td>\n      <td>...</td>\n      <td>...</td>\n      <td>...</td>\n      <td>...</td>\n    </tr>\n    <tr>\n      <th>172845</th>\n      <td>2025-01-05 19:46:00</td>\n      <td>0.38346</td>\n      <td>0.38354</td>\n      <td>0.38320</td>\n      <td>0.38354</td>\n      <td>1079425</td>\n      <td>413874.25630</td>\n      <td>910</td>\n      <td>697291</td>\n      <td>267359.52940</td>\n      <td>382134</td>\n      <td>146514.72690</td>\n      <td>315157</td>\n      <td>120844.80250</td>\n      <td>NaN</td>\n      <td>NaN</td>\n      <td>NaN</td>\n      <td>NaN</td>\n      <td>0.0</td>\n      <td>0.0</td>\n    </tr>\n    <tr>\n      <th>172846</th>\n      <td>2025-01-05 19:47:00</td>\n      <td>0.38353</td>\n      <td>0.38359</td>\n      <td>0.38320</td>\n      <td>0.38331</td>\n      <td>423009</td>\n      <td>162188.43010</td>\n      <td>735</td>\n      <td>208956</td>\n      <td>80115.06906</td>\n      <td>214053</td>\n      <td>82073.36104</td>\n      <td>-5097</td>\n      <td>-1958.29198</td>\n      <td>NaN</td>\n      <td>NaN</td>\n      <td>NaN</td>\n      <td>NaN</td>\n      <td>0.0</td>\n      <td>0.0</td>\n    </tr>\n    <tr>\n      <th>172847</th>\n      <td>2025-01-05 19:48:00</td>\n      <td>0.38331</td>\n      <td>0.38344</td>\n      <td>0.38323</td>\n      <td>0.38344</td>\n      <td>497276</td>\n      <td>190621.12470</td>\n      <td>677</td>\n      <td>163543</td>\n      <td>62695.32911</td>\n      <td>333733</td>\n      <td>127925.79559</td>\n      <td>-170190</td>\n      <td>-65230.46648</td>\n      <td>NaN</td>\n      <td>NaN</td>\n      <td>NaN</td>\n      <td>NaN</td>\n      <td>0.0</td>\n      <td>0.0</td>\n    </tr>\n    <tr>\n      <th>172848</th>\n      <td>2025-01-05 19:49:00</td>\n      <td>0.38344</td>\n      <td>0.38350</td>\n      <td>0.38310</td>\n      <td>0.38310</td>\n      <td>629479</td>\n      <td>241312.88290</td>\n      <td>693</td>\n      <td>278198</td>\n      <td>106661.61650</td>\n      <td>351281</td>\n      <td>134651.26640</td>\n      <td>-73083</td>\n      <td>-27989.64990</td>\n      <td>NaN</td>\n      <td>NaN</td>\n      <td>NaN</td>\n      <td>NaN</td>\n      <td>0.0</td>\n      <td>0.0</td>\n    </tr>\n    <tr>\n      <th>172849</th>\n      <td>2025-01-05 19:50:00</td>\n      <td>0.38311</td>\n      <td>0.38317</td>\n      <td>0.38301</td>\n      <td>0.38301</td>\n      <td>692884</td>\n      <td>265461.40640</td>\n      <td>452</td>\n      <td>110883</td>\n      <td>42480.44599</td>\n      <td>582001</td>\n      <td>222980.96041</td>\n      <td>-471118</td>\n      <td>-180500.51442</td>\n      <td>NaN</td>\n      <td>NaN</td>\n      <td>NaN</td>\n      <td>NaN</td>\n      <td>0.0</td>\n      <td>0.0</td>\n    </tr>\n  </tbody>\n</table>\n<p>172850 rows × 20 columns</p>\n</div>"
     },
     "execution_count": 146,
     "metadata": {},
     "output_type": "execute_result"
    }
   ],
   "source": [
    "df2 = df\n",
    "df2['timestamp'] = pd.to_datetime(df2['timestamp'])\n",
    "df2"
   ]
  },
  {
   "cell_type": "code",
   "execution_count": 147,
   "metadata": {
    "collapsed": false
   },
   "outputs": [
    {
     "data": {
      "text/plain": "                 timestamp     open     high      low    close   volume  \\\n0      2024-09-07 19:01:00  0.09419  0.09424  0.09419  0.09421   793070   \n1      2024-09-07 19:02:00  0.09421  0.09421  0.09410  0.09413   747305   \n2      2024-09-07 19:03:00  0.09413  0.09416  0.09409  0.09415  1834230   \n3      2024-09-07 19:04:00  0.09416  0.09421  0.09415  0.09419  1123645   \n4      2024-09-07 19:05:00  0.09419  0.09422  0.09413  0.09422  1050421   \n...                    ...      ...      ...      ...      ...      ...   \n172845 2025-01-05 19:46:00  0.38346  0.38354  0.38320  0.38354  1079425   \n172846 2025-01-05 19:47:00  0.38353  0.38359  0.38320  0.38331   423009   \n172847 2025-01-05 19:48:00  0.38331  0.38344  0.38323  0.38344   497276   \n172848 2025-01-05 19:49:00  0.38344  0.38350  0.38310  0.38310   629479   \n172849 2025-01-05 19:50:00  0.38311  0.38317  0.38301  0.38301   692884   \n\n        quote_asset_volume  number_of_trades  taker_buy_base_asset_volume  \\\n0              74718.99823               707                       385310   \n1              70361.83392               406                       328807   \n2             172679.97070               437                      1650595   \n3             105832.91100               467                       429589   \n4              98915.23366               702                       239439   \n...                    ...               ...                          ...   \n172845        413874.25630               910                       697291   \n172846        162188.43010               735                       208956   \n172847        190621.12470               677                       163543   \n172848        241312.88290               693                       278198   \n172849        265461.40640               452                       110883   \n\n        taker_buy_quote_asset_volume  taker_sell_base_asset_volume  \\\n0                        36302.39951                        407760   \n1                        30955.86591                        418498   \n2                       155394.07950                        183635   \n3                        40460.87287                        694056   \n4                        22549.16096                        810982   \n...                              ...                           ...   \n172845                  267359.52940                        382134   \n172846                   80115.06906                        214053   \n172847                   62695.32911                        333733   \n172848                  106661.61650                        351281   \n172849                   42480.44599                        582001   \n\n        taker_sell_quote_asset_volume  taker_buy_sell_volume  \\\n0                         38416.59872                 -22450   \n1                         39405.96801                 -89691   \n2                         17285.89120                1466960   \n3                         65372.03813                -264467   \n4                         76366.07270                -571543   \n...                               ...                    ...   \n172845                   146514.72690                 315157   \n172846                    82073.36104                  -5097   \n172847                   127925.79559                -170190   \n172848                   134651.26640                 -73083   \n172849                   222980.96041                -471118   \n\n        taker_buy_sell_quote_asset_volume  local_min  local_max  min_idx  \\\n0                             -2114.19921        NaN        NaN      NaN   \n1                             -8450.10210        NaN        NaN      NaN   \n2                            138108.18830        NaN        NaN      NaN   \n3                            -24911.16526        NaN        NaN      NaN   \n4                            -53816.91174        NaN        NaN      NaN   \n...                                   ...        ...        ...      ...   \n172845                       120844.80250        NaN        NaN      NaN   \n172846                        -1958.29198        NaN        NaN      NaN   \n172847                       -65230.46648        NaN        NaN      NaN   \n172848                       -27989.64990        NaN        NaN      NaN   \n172849                      -180500.51442        NaN        NaN      NaN   \n\n        max_idx  signal  position  \n0           NaN     0.0       0.0  \n1           NaN     0.0       0.0  \n2           NaN     0.0       0.0  \n3           NaN     0.0       0.0  \n4           NaN     0.0       0.0  \n...         ...     ...       ...  \n172845      NaN     0.0       0.0  \n172846      NaN     0.0       0.0  \n172847      NaN     0.0       0.0  \n172848      NaN     0.0       0.0  \n172849      NaN     0.0       0.0  \n\n[172850 rows x 20 columns]",
      "text/html": "<div>\n<style scoped>\n    .dataframe tbody tr th:only-of-type {\n        vertical-align: middle;\n    }\n\n    .dataframe tbody tr th {\n        vertical-align: top;\n    }\n\n    .dataframe thead th {\n        text-align: right;\n    }\n</style>\n<table border=\"1\" class=\"dataframe\">\n  <thead>\n    <tr style=\"text-align: right;\">\n      <th></th>\n      <th>timestamp</th>\n      <th>open</th>\n      <th>high</th>\n      <th>low</th>\n      <th>close</th>\n      <th>volume</th>\n      <th>quote_asset_volume</th>\n      <th>number_of_trades</th>\n      <th>taker_buy_base_asset_volume</th>\n      <th>taker_buy_quote_asset_volume</th>\n      <th>taker_sell_base_asset_volume</th>\n      <th>taker_sell_quote_asset_volume</th>\n      <th>taker_buy_sell_volume</th>\n      <th>taker_buy_sell_quote_asset_volume</th>\n      <th>local_min</th>\n      <th>local_max</th>\n      <th>min_idx</th>\n      <th>max_idx</th>\n      <th>signal</th>\n      <th>position</th>\n    </tr>\n  </thead>\n  <tbody>\n    <tr>\n      <th>0</th>\n      <td>2024-09-07 19:01:00</td>\n      <td>0.09419</td>\n      <td>0.09424</td>\n      <td>0.09419</td>\n      <td>0.09421</td>\n      <td>793070</td>\n      <td>74718.99823</td>\n      <td>707</td>\n      <td>385310</td>\n      <td>36302.39951</td>\n      <td>407760</td>\n      <td>38416.59872</td>\n      <td>-22450</td>\n      <td>-2114.19921</td>\n      <td>NaN</td>\n      <td>NaN</td>\n      <td>NaN</td>\n      <td>NaN</td>\n      <td>0.0</td>\n      <td>0.0</td>\n    </tr>\n    <tr>\n      <th>1</th>\n      <td>2024-09-07 19:02:00</td>\n      <td>0.09421</td>\n      <td>0.09421</td>\n      <td>0.09410</td>\n      <td>0.09413</td>\n      <td>747305</td>\n      <td>70361.83392</td>\n      <td>406</td>\n      <td>328807</td>\n      <td>30955.86591</td>\n      <td>418498</td>\n      <td>39405.96801</td>\n      <td>-89691</td>\n      <td>-8450.10210</td>\n      <td>NaN</td>\n      <td>NaN</td>\n      <td>NaN</td>\n      <td>NaN</td>\n      <td>0.0</td>\n      <td>0.0</td>\n    </tr>\n    <tr>\n      <th>2</th>\n      <td>2024-09-07 19:03:00</td>\n      <td>0.09413</td>\n      <td>0.09416</td>\n      <td>0.09409</td>\n      <td>0.09415</td>\n      <td>1834230</td>\n      <td>172679.97070</td>\n      <td>437</td>\n      <td>1650595</td>\n      <td>155394.07950</td>\n      <td>183635</td>\n      <td>17285.89120</td>\n      <td>1466960</td>\n      <td>138108.18830</td>\n      <td>NaN</td>\n      <td>NaN</td>\n      <td>NaN</td>\n      <td>NaN</td>\n      <td>0.0</td>\n      <td>0.0</td>\n    </tr>\n    <tr>\n      <th>3</th>\n      <td>2024-09-07 19:04:00</td>\n      <td>0.09416</td>\n      <td>0.09421</td>\n      <td>0.09415</td>\n      <td>0.09419</td>\n      <td>1123645</td>\n      <td>105832.91100</td>\n      <td>467</td>\n      <td>429589</td>\n      <td>40460.87287</td>\n      <td>694056</td>\n      <td>65372.03813</td>\n      <td>-264467</td>\n      <td>-24911.16526</td>\n      <td>NaN</td>\n      <td>NaN</td>\n      <td>NaN</td>\n      <td>NaN</td>\n      <td>0.0</td>\n      <td>0.0</td>\n    </tr>\n    <tr>\n      <th>4</th>\n      <td>2024-09-07 19:05:00</td>\n      <td>0.09419</td>\n      <td>0.09422</td>\n      <td>0.09413</td>\n      <td>0.09422</td>\n      <td>1050421</td>\n      <td>98915.23366</td>\n      <td>702</td>\n      <td>239439</td>\n      <td>22549.16096</td>\n      <td>810982</td>\n      <td>76366.07270</td>\n      <td>-571543</td>\n      <td>-53816.91174</td>\n      <td>NaN</td>\n      <td>NaN</td>\n      <td>NaN</td>\n      <td>NaN</td>\n      <td>0.0</td>\n      <td>0.0</td>\n    </tr>\n    <tr>\n      <th>...</th>\n      <td>...</td>\n      <td>...</td>\n      <td>...</td>\n      <td>...</td>\n      <td>...</td>\n      <td>...</td>\n      <td>...</td>\n      <td>...</td>\n      <td>...</td>\n      <td>...</td>\n      <td>...</td>\n      <td>...</td>\n      <td>...</td>\n      <td>...</td>\n      <td>...</td>\n      <td>...</td>\n      <td>...</td>\n      <td>...</td>\n      <td>...</td>\n      <td>...</td>\n    </tr>\n    <tr>\n      <th>172845</th>\n      <td>2025-01-05 19:46:00</td>\n      <td>0.38346</td>\n      <td>0.38354</td>\n      <td>0.38320</td>\n      <td>0.38354</td>\n      <td>1079425</td>\n      <td>413874.25630</td>\n      <td>910</td>\n      <td>697291</td>\n      <td>267359.52940</td>\n      <td>382134</td>\n      <td>146514.72690</td>\n      <td>315157</td>\n      <td>120844.80250</td>\n      <td>NaN</td>\n      <td>NaN</td>\n      <td>NaN</td>\n      <td>NaN</td>\n      <td>0.0</td>\n      <td>0.0</td>\n    </tr>\n    <tr>\n      <th>172846</th>\n      <td>2025-01-05 19:47:00</td>\n      <td>0.38353</td>\n      <td>0.38359</td>\n      <td>0.38320</td>\n      <td>0.38331</td>\n      <td>423009</td>\n      <td>162188.43010</td>\n      <td>735</td>\n      <td>208956</td>\n      <td>80115.06906</td>\n      <td>214053</td>\n      <td>82073.36104</td>\n      <td>-5097</td>\n      <td>-1958.29198</td>\n      <td>NaN</td>\n      <td>NaN</td>\n      <td>NaN</td>\n      <td>NaN</td>\n      <td>0.0</td>\n      <td>0.0</td>\n    </tr>\n    <tr>\n      <th>172847</th>\n      <td>2025-01-05 19:48:00</td>\n      <td>0.38331</td>\n      <td>0.38344</td>\n      <td>0.38323</td>\n      <td>0.38344</td>\n      <td>497276</td>\n      <td>190621.12470</td>\n      <td>677</td>\n      <td>163543</td>\n      <td>62695.32911</td>\n      <td>333733</td>\n      <td>127925.79559</td>\n      <td>-170190</td>\n      <td>-65230.46648</td>\n      <td>NaN</td>\n      <td>NaN</td>\n      <td>NaN</td>\n      <td>NaN</td>\n      <td>0.0</td>\n      <td>0.0</td>\n    </tr>\n    <tr>\n      <th>172848</th>\n      <td>2025-01-05 19:49:00</td>\n      <td>0.38344</td>\n      <td>0.38350</td>\n      <td>0.38310</td>\n      <td>0.38310</td>\n      <td>629479</td>\n      <td>241312.88290</td>\n      <td>693</td>\n      <td>278198</td>\n      <td>106661.61650</td>\n      <td>351281</td>\n      <td>134651.26640</td>\n      <td>-73083</td>\n      <td>-27989.64990</td>\n      <td>NaN</td>\n      <td>NaN</td>\n      <td>NaN</td>\n      <td>NaN</td>\n      <td>0.0</td>\n      <td>0.0</td>\n    </tr>\n    <tr>\n      <th>172849</th>\n      <td>2025-01-05 19:50:00</td>\n      <td>0.38311</td>\n      <td>0.38317</td>\n      <td>0.38301</td>\n      <td>0.38301</td>\n      <td>692884</td>\n      <td>265461.40640</td>\n      <td>452</td>\n      <td>110883</td>\n      <td>42480.44599</td>\n      <td>582001</td>\n      <td>222980.96041</td>\n      <td>-471118</td>\n      <td>-180500.51442</td>\n      <td>NaN</td>\n      <td>NaN</td>\n      <td>NaN</td>\n      <td>NaN</td>\n      <td>0.0</td>\n      <td>0.0</td>\n    </tr>\n  </tbody>\n</table>\n<p>172850 rows × 20 columns</p>\n</div>"
     },
     "execution_count": 147,
     "metadata": {},
     "output_type": "execute_result"
    }
   ],
   "source": [
    "df2['taker_sell_base_asset_volume'] = df2['volume'] - df2['taker_buy_base_asset_volume']\n",
    "df2['taker_sell_quote_asset_volume'] = df2['quote_asset_volume'] - df2['taker_buy_quote_asset_volume']\n",
    "df2['taker_buy_sell_volume'] = df2['taker_buy_base_asset_volume'] - df2['taker_sell_base_asset_volume']\n",
    "df2['taker_buy_sell_quote_asset_volume'] = df2['taker_buy_quote_asset_volume'] - df2['taker_sell_quote_asset_volume']\n",
    "df2"
   ]
  },
  {
   "cell_type": "code",
   "execution_count": 151,
   "metadata": {
    "collapsed": false,
    "jupyter": {
     "outputs_hidden": false
    }
   },
   "outputs": [
    {
     "data": {
      "text/plain": "  0%|          | 0/172850 [00:00<?, ?it/s]",
      "application/vnd.jupyter.widget-view+json": {
       "version_major": 2,
       "version_minor": 0,
       "model_id": "f95364be6f094fd595b7597131fe2ab3"
      }
     },
     "metadata": {},
     "output_type": "display_data"
    }
   ],
   "source": [
    "\n",
    "\n",
    "# 计算MACD的函数\n",
    "def calculate_macd(df_15m, fast, slow, signal):\n",
    "    try:\n",
    "        _,_,macd = talib.MACD(df_15m['close'], fastperiod=fast, slowperiod=slow, signalperiod=signal)\n",
    "        macd_diff = macd.diff()\n",
    "    except:\n",
    "        macd = pd.Series([np.nan], index=[df_15m.index[-1]])  # 保持与数据结构一致\n",
    "        macd_diff = pd.Series([np.nan], index=[df_15m.index[-1]])\n",
    "    return macd.iat[-1], macd_diff.iat[-1]\n",
    "\n",
    "# 计算RSI的函数\n",
    "def calculate_rsi(df_15m, n_rsi):\n",
    "    try:\n",
    "        rsi = talib.RSI(df_15m['close'], timeperiod=n_rsi)\n",
    "        rsi_diff = rsi.diff()\n",
    "    except:\n",
    "        rsi = pd.Series([np.nan], index=[df_15m.index[-1]])  # 保持与数据结构一致\n",
    "        rsi_diff = pd.Series([np.nan], index=[df_15m.index[-1]])\n",
    "    return rsi.iat[-1], rsi_diff.iat[-1]\n",
    "\n",
    "\n",
    "# 计算ATR的函数\n",
    "def calculate_atr(df_15m, n):\n",
    "    try:\n",
    "        atr = talib.ATR(df_15m['high'], df_15m['low'], df_15m['close'], timeperiod=n)\n",
    "        current_2atr_stop_rate = round(atr.iat[-1] * 2 / df_15m['close'].iat[-1] * -1, 5)\n",
    "        current_4atr_stop_rate = round(atr.iat[-1] * 4 / df_15m['close'].iat[-1] * -1, 5)\n",
    "    except:\n",
    "        atr = pd.Series([np.nan], index=[df_15m.index[-1]])\n",
    "        current_2atr_stop_rate = pd.Series([np.nan], index=[df_15m.index[-1]])\n",
    "        current_4atr_stop_rate = pd.Series([np.nan], index=[df_15m.index[-1]])\n",
    "    return atr.iat[-1], current_2atr_stop_rate, current_4atr_stop_rate\n",
    "\n",
    "def calculate_sar(df_15m, acceleration, maximum):\n",
    "    try:\n",
    "        sar = talib.SAR(df_15m['high'], df_15m['low'], acceleration, maximum)\n",
    "        current_sar_diff = df_15m['close'].iat[-1] - sar.iat[-1]\n",
    "        current_sar_rate = round(df_15m['close'].iat[-1] / sar.iat[-1] - 1, 5)\n",
    "    except:\n",
    "        sar = pd.Series([np.nan], index=[df_15m.index[-1]])\n",
    "        current_sar_diff = pd.Series([np.nan], index=[df_15m.index[-1]])\n",
    "        current_sar_rate = pd.Series([np.nan], index=[df_15m.index[-1]])\n",
    "    return sar.iat[-1], current_sar_diff, current_sar_rate\n",
    "\n",
    "def calculate_current_last_high_rate(df_15m, n):\n",
    "    try:\n",
    "        price_rate = round(df_15m['close'].iat[-1] / df_15m['close'].iat[n] - 1, 5)\n",
    "    except:\n",
    "        price_rate = np.nan\n",
    "    return price_rate\n",
    "df_15m = pd.DataFrame(columns=['timestamp', 'open', 'high', 'low', 'close', 'volume',\n",
    "       'quote_asset_volume', 'number_of_trades', 'taker_buy_base_asset_volume',\n",
    "       'taker_buy_quote_asset_volume','taker_sell_base_asset_volume','taker_sell_quote_asset_volume','taker_buy_sell_volume','taker_buy_sell_quote_asset_volume'])\n",
    "\n",
    "current_data = {\n",
    "    'timestamp': df2['timestamp'].iat[0],\n",
    "    'open': df2['open'].iat[0],\n",
    "    'high': df2['high'].iat[0],\n",
    "    'low': df2['low'].iat[0],\n",
    "    'close': df2['close'].iat[0],\n",
    "    'volume': df2['volume'].iat[0],\n",
    "    'quote_asset_volume': df2['quote_asset_volume'].iat[0],\n",
    "    'number_of_trades': df2['number_of_trades'].iat[0],\n",
    "    'taker_buy_base_asset_volume': df2['taker_buy_base_asset_volume'].iat[0],\n",
    "    'taker_buy_quote_asset_volume': df2['taker_buy_quote_asset_volume'].iat[0],\n",
    "    'taker_sell_base_asset_volume': df2['taker_sell_base_asset_volume'].iat[0],\n",
    "    'taker_sell_quote_asset_volume': df2['taker_sell_quote_asset_volume'].iat[0],\n",
    "    'taker_buy_sell_volume': df2['taker_buy_sell_volume'].iat[0],\n",
    "    'taker_buy_sell_quote_asset_volume': df2['taker_buy_sell_quote_asset_volume'].iat[0]\n",
    "}\n",
    "last_volume = current_data['volume']\n",
    "last_quote_asset_volume = current_data['quote_asset_volume']\n",
    "last_number_of_trades = current_data['number_of_trades']\n",
    "last_taker_buy_base_asset_volume = current_data['taker_buy_base_asset_volume']\n",
    "last_taker_buy_quote_asset_volume = current_data['taker_buy_quote_asset_volume']\n",
    "last_taker_sell_base_asset_volume = current_data['taker_sell_base_asset_volume']\n",
    "last_taker_sell_quote_asset_volume = current_data['taker_sell_quote_asset_volume']\n",
    "last_taker_buy_sell_volume = current_data['taker_buy_sell_volume']\n",
    "last_taker_buy_sell_quote_asset_volume = current_data['taker_buy_sell_quote_asset_volume']\n",
    "df_15m = df_15m._append(current_data, ignore_index=True)\n",
    "\n",
    "#转为当日开始时分\n",
    "day0 = df2['timestamp'].iat[0].normalize()\n",
    "new_rows = []\n",
    "# 遍历数据\n",
    "for i in tqdm(range(len(df2))):\n",
    "    row = df2.iloc[i]\n",
    "    # 检查是否是新15分钟段的开始（0, 15, 30, 45分钟）\n",
    "    if row['timestamp'].minute % 15 == 0:\n",
    "        last_volume = current_data['volume']\n",
    "        last_quote_asset_volume = current_data['quote_asset_volume']\n",
    "        last_number_of_trades = current_data['number_of_trades']\n",
    "        last_taker_buy_base_asset_volume = current_data['taker_buy_base_asset_volume']\n",
    "        last_taker_buy_quote_asset_volume = current_data['taker_buy_quote_asset_volume']\n",
    "        last_taker_sell_base_asset_volume = current_data['taker_sell_base_asset_volume']\n",
    "        last_taker_sell_quote_asset_volume = current_data['taker_sell_quote_asset_volume']\n",
    "        last_taker_buy_sell_volume = current_data['taker_buy_sell_volume']\n",
    "        last_taker_buy_sell_quote_asset_volume = current_data['taker_buy_sell_quote_asset_volume']\n",
    "        # 开始新的15分钟段\n",
    "        current_data = {\n",
    "            'timestamp': row['timestamp'],\n",
    "            'open': row['open'],\n",
    "            'high': row['high'],\n",
    "            'low': row['low'],\n",
    "            'close': row['close'],\n",
    "            'volume': row['volume'],\n",
    "            'quote_asset_volume': row['quote_asset_volume'],\n",
    "            'number_of_trades': row['number_of_trades'],\n",
    "            'taker_buy_base_asset_volume': row['taker_buy_base_asset_volume'],\n",
    "            'taker_buy_quote_asset_volume': row['taker_buy_quote_asset_volume'],\n",
    "            'taker_sell_base_asset_volume': row['taker_sell_base_asset_volume'],\n",
    "            'taker_sell_quote_asset_volume': row['taker_sell_quote_asset_volume'],\n",
    "            'taker_buy_sell_volume': row['taker_buy_sell_volume'],\n",
    "            'taker_buy_sell_quote_asset_volume': row['taker_buy_sell_quote_asset_volume']\n",
    "        }\n",
    "        df_15m = df_15m._append(current_data, ignore_index=True)\n",
    "        if len(df_15m) > 100:\n",
    "            df_15m = df_15m.tail(100)\n",
    "    else:\n",
    "        # 更新当前15分钟段的数据\n",
    "        current_data['high'] = max(current_data['high'], row['high'])\n",
    "        current_data['low'] = min(current_data['low'], row['low'])\n",
    "        current_data['close'] = row['close']\n",
    "        current_data['volume'] += row['volume']\n",
    "        current_data['quote_asset_volume'] += row['quote_asset_volume']\n",
    "        current_data['number_of_trades'] += row['number_of_trades']\n",
    "        current_data['taker_buy_base_asset_volume'] += row['taker_buy_base_asset_volume']\n",
    "        current_data['taker_buy_quote_asset_volume'] += row['taker_buy_quote_asset_volume']\n",
    "        current_data['taker_sell_base_asset_volume'] += row['taker_sell_base_asset_volume']\n",
    "        current_data['taker_sell_quote_asset_volume'] += row['taker_sell_quote_asset_volume']\n",
    "        current_data['taker_buy_sell_volume'] += row['taker_buy_sell_volume']\n",
    "        current_data['taker_buy_sell_quote_asset_volume'] += row['taker_buy_sell_quote_asset_volume']\n",
    "    df_15m.iloc[-1] = current_data\n",
    "    day = (df2['timestamp'].iat[i]-day0).days\n",
    "    hour = df2['timestamp'].iat[i].hour\n",
    "    quarter = df2['timestamp'].iat[i].minute // 15\n",
    "    past_min = df2['timestamp'].iat[i].minute % 15\n",
    "    current_open_diff = df_15m['close'].iat[-1] - df_15m['open'].iat[-1]\n",
    "    current_open_rate = round(df_15m['close'].iat[-1] / df_15m['open'].iat[-1] - 1, 5)\n",
    "    current_low_diff = df_15m['close'].iat[-1] - df_15m['low'].iat[-1]\n",
    "    current_low_rate = round(df_15m['close'].iat[-1] / df_15m['low'].iat[-1] - 1, 5)\n",
    "    current_high_diff = df_15m['close'].iat[-1] - df_15m['high'].iat[-1]\n",
    "    current_high_rate = round(df_15m['close'].iat[-1] / df_15m['high'].iat[-1] - 1, 5)\n",
    "    try:\n",
    "        current_last_low_diff = df_15m['close'].iat[-1] - df_15m['low'].iat[-2]\n",
    "        current_last_low_rate = round(df_15m['close'].iat[-1] / df_15m['low'].iat[-2] - 1, 5)\n",
    "        current_last_high_diff = df_15m['close'].iat[-1] - df_15m['high'].iat[-2]\n",
    "        current_last_high_rate = round(df_15m['close'].iat[-1] / df_15m['high'].iat[-2] - 1, 5)\n",
    "    except:\n",
    "        current_last_low_diff = np.nan\n",
    "        current_last_low_rate = np.nan\n",
    "        current_last_high_diff = np.nan\n",
    "        current_last_high_rate = np.nan\n",
    "\n",
    "    price_rate_15min = calculate_current_last_high_rate(df_15m, -2)\n",
    "    price_rate_30min = calculate_current_last_high_rate(df_15m, -3)\n",
    "    price_rate_1h = calculate_current_last_high_rate(df_15m, -5)\n",
    "    price_rate_2h = calculate_current_last_high_rate(df_15m, -9)\n",
    "    price_rate_3h = calculate_current_last_high_rate(df_15m, -13)\n",
    "    price_rate_4h = calculate_current_last_high_rate(df_15m, -17)\n",
    "    price_rate_6h = calculate_current_last_high_rate(df_15m, -25)\n",
    "    price_rate_8h = calculate_current_last_high_rate(df_15m, -33)\n",
    "    price_rate_12h = calculate_current_last_high_rate(df_15m, -49)\n",
    "    price_rate_24h = calculate_current_last_high_rate(df_15m, -97)\n",
    "    macd1, macd1_diff = calculate_macd(df_15m, 12, 26, 9)\n",
    "    macd2, macd2_diff = calculate_macd(df_15m, 6, 13, 5)\n",
    "    macd3, macd3_diff = calculate_macd(df_15m, 10, 20, 7)\n",
    "    macd4, macd4_diff = calculate_macd(df_15m, 19, 39, 9)\n",
    "    macd5, macd5_diff = calculate_macd(df_15m, 5, 15, 3)\n",
    "    rsi1, rsi1_diff = calculate_rsi(df_15m, 5)\n",
    "    rsi2, rsi2_diff = calculate_rsi(df_15m, 6)\n",
    "    rsi3, rsi3_diff = calculate_rsi(df_15m, 7)\n",
    "    rsi4, rsi4_diff = calculate_rsi(df_15m, 9)\n",
    "    rsi5, rsi5_diff = calculate_rsi(df_15m, 14)\n",
    "    rsi6, rsi6_diff = calculate_rsi(df_15m, 21)\n",
    "    rsi7, rsi7_diff = calculate_rsi(df_15m, 24)\n",
    "    rsi8, rsi8_diff = calculate_rsi(df_15m, 28)\n",
    "    atr1,atr1_2_stop_rate,atr1_4_stop_rate = calculate_atr(df_15m, 7)\n",
    "    atr2,atr2_2_stop_rate,atr2_4_stop_rate = calculate_atr(df_15m, 14)\n",
    "    atr3,atr3_2_stop_rate,atr3_4_stop_rate = calculate_atr(df_15m, 21)\n",
    "    sar1, sar1_diff, sar1_rate = calculate_sar(df_15m, 0.02, 0.2)\n",
    "    volume_diff = current_data['volume'] - last_volume\n",
    "    volume_rate = round(current_data['volume'] / last_volume - 1, 5)\n",
    "    quote_asset_volume_diff = current_data['quote_asset_volume'] - last_quote_asset_volume\n",
    "    quote_asset_volume_rate = round(current_data['quote_asset_volume'] / last_quote_asset_volume - 1, 5)\n",
    "    number_of_trades_diff = current_data['number_of_trades'] - last_number_of_trades\n",
    "    number_of_trades_rate = round(current_data['number_of_trades'] / last_number_of_trades - 1, 5)\n",
    "    taker_buy_base_asset_volume_diff = current_data['taker_buy_base_asset_volume'] - last_taker_buy_base_asset_volume\n",
    "    taker_buy_base_asset_volume_rate = round(current_data['taker_buy_base_asset_volume'] / last_taker_buy_base_asset_volume - 1, 5)\n",
    "    taker_buy_quote_asset_volume_diff = current_data['taker_buy_quote_asset_volume'] - last_taker_buy_quote_asset_volume\n",
    "    taker_buy_quote_asset_volume_rate = round(current_data['taker_buy_quote_asset_volume'] / last_taker_buy_quote_asset_volume - 1, 5)\n",
    "    taker_sell_base_asset_volume_diff = current_data['taker_sell_base_asset_volume'] - last_taker_sell_base_asset_volume\n",
    "    taker_sell_base_asset_volume_rate = round(current_data['taker_sell_base_asset_volume'] / last_taker_sell_base_asset_volume - 1, 5)\n",
    "    taker_sell_quote_asset_volume_diff = current_data['taker_sell_quote_asset_volume'] - last_taker_sell_quote_asset_volume\n",
    "    taker_sell_quote_asset_volume_rate = round(current_data['taker_sell_quote_asset_volume'] / last_taker_sell_quote_asset_volume - 1, 5)\n",
    "    #买卖数量和额度差比\n",
    "    taker_buy_sell_volume_diff = current_data['taker_buy_sell_volume'] - last_taker_buy_sell_volume\n",
    "    taker_buy_sell_volume_rate = round(current_data['taker_buy_sell_volume'] / last_taker_buy_sell_volume - 1, 5)\n",
    "    taker_buy_sell_quote_asset_volume_diff = current_data['taker_buy_sell_quote_asset_volume'] - last_taker_buy_sell_quote_asset_volume\n",
    "    taker_buy_sell_quote_asset_volume_rate = round(current_data['taker_buy_sell_quote_asset_volume'] / last_taker_buy_sell_quote_asset_volume - 1, 5)\n",
    "    current_taker_buy_sell_volume_rate = round(current_data['taker_buy_base_asset_volume'] / current_data['taker_sell_base_asset_volume'] - 1, 5)\n",
    "    current_buy_sell_quote_asset_volume_rate = round(current_data['taker_buy_quote_asset_volume'] / current_data['taker_sell_quote_asset_volume'] - 1, 5)\n",
    "    new_row = {\n",
    "        'timestamp': row['timestamp'],\n",
    "        'day': day,\n",
    "        'hour': hour,\n",
    "        'quarter': quarter,  # 15分钟区间\n",
    "        'past_min': past_min,\n",
    "        'open': row['open'],\n",
    "        'high': row['high'],\n",
    "        'low': row['low'],\n",
    "        'close': row['close'],\n",
    "        'volume': row['volume'],\n",
    "        'quote_asset_volume': row['quote_asset_volume'],\n",
    "        'number_of_trades': row['number_of_trades'],\n",
    "        'taker_buy_base_asset_volume': row['taker_buy_base_asset_volume'],\n",
    "        'taker_buy_quote_asset_volume': row['taker_buy_quote_asset_volume'],\n",
    "        'taker_sell_base_asset_volume': row['taker_sell_base_asset_volume'],\n",
    "        'taker_sell_quote_asset_volume': row['taker_sell_quote_asset_volume'],\n",
    "        'taker_buy_sell_volume': row['taker_buy_sell_volume'],\n",
    "        'taker_buy_sell_quote_asset_volume': row['taker_buy_sell_quote_asset_volume'],\n",
    "        'current_open_diff': current_open_diff,  \n",
    "        'current_open_rate': current_open_rate,  \n",
    "        'current_low_diff': current_low_diff,  \n",
    "        'current_low_rate': current_low_rate,  \n",
    "        'current_high_diff': current_high_diff,  \n",
    "        'current_high_rate': current_high_rate,  \n",
    "        'current_last_low_diff': current_last_low_diff,  \n",
    "        'current_last_low_rate': current_last_low_rate,  \n",
    "        'current_last_high_diff': current_last_high_diff,  \n",
    "        'current_last_high_rate': current_last_high_rate,  \n",
    "        'price_rate_15min': price_rate_15min,  \n",
    "        'price_rate_30min': price_rate_30min,  \n",
    "        'price_rate_1h': price_rate_1h,  \n",
    "        'price_rate_2h': price_rate_2h,  \n",
    "        'price_rate_3h': price_rate_3h,  \n",
    "        'price_rate_4h': price_rate_4h,  \n",
    "        'price_rate_6h': price_rate_6h,  \n",
    "        'price_rate_8h': price_rate_8h,  \n",
    "        'price_rate_12h': price_rate_12h,  \n",
    "        'price_rate_24h': price_rate_24h,  \n",
    "        'macd1': macd1,  \n",
    "        'macd1_diff': macd1_diff,  \n",
    "        'macd2': macd2,  \n",
    "        'macd2_diff': macd2_diff,  \n",
    "        'macd3': macd3,  \n",
    "        'macd3_diff': macd3_diff,  \n",
    "        'macd4': macd4,  \n",
    "        'macd4_diff': macd4_diff,  \n",
    "        'macd5': macd5,  \n",
    "        'macd5_diff': macd5_diff,  \n",
    "        'rsi1': rsi1,  \n",
    "        'rsi1_diff': rsi1_diff,  \n",
    "        'rsi2': rsi2,  \n",
    "        'rsi2_diff': rsi2_diff,  \n",
    "        'rsi3': rsi3,  \n",
    "        'rsi3_diff': rsi3_diff,  \n",
    "        'rsi4': rsi4,  \n",
    "        'rsi4_diff': rsi4_diff,  \n",
    "        'rsi5': rsi5,  \n",
    "        'rsi5_diff': rsi5_diff,  \n",
    "        'rsi6': rsi6,  \n",
    "        'rsi6_diff': rsi6_diff,  \n",
    "        'rsi7': rsi7,  \n",
    "        'rsi7_diff': rsi7_diff,  \n",
    "        'rsi8': rsi8,  \n",
    "        'rsi8_diff': rsi8_diff,  \n",
    "        'atr1': atr1,  \n",
    "        'atr1_2_stop_rate': atr1_2_stop_rate,\n",
    "        'atr1_4_stop_rate': atr1_4_stop_rate,\n",
    "        'atr2': atr2,\n",
    "        'atr2_2_stop_rate': atr2_2_stop_rate,\n",
    "        'atr2_4_stop_rate': atr2_4_stop_rate,\n",
    "        'atr3': atr3,\n",
    "        'atr3_2_stop_rate': atr3_2_stop_rate,\n",
    "        'atr3_4_stop_rate': atr3_4_stop_rate,\n",
    "        'sar1': sar1,\n",
    "        'sar1_diff': sar1_diff,\n",
    "        'sar1_rate': sar1_rate,\n",
    "        'volume_diff': volume_diff,  \n",
    "        'volume_rate': volume_rate,  \n",
    "        'quote_asset_volume_diff': quote_asset_volume_diff,  \n",
    "        'quote_asset_volume_rate': quote_asset_volume_rate,  \n",
    "        'number_of_trades_diff': number_of_trades_diff,  \n",
    "        'number_of_trades_rate': number_of_trades_rate,  \n",
    "        'taker_buy_base_asset_volume_diff': taker_buy_base_asset_volume_diff,  \n",
    "        'taker_buy_base_asset_volume_rate': taker_buy_base_asset_volume_rate,  \n",
    "        'taker_buy_quote_asset_volume_diff': taker_buy_quote_asset_volume_diff,  \n",
    "        'taker_buy_quote_asset_volume_rate': taker_buy_quote_asset_volume_rate,  \n",
    "        'taker_sell_base_asset_volume_diff': taker_sell_base_asset_volume_diff,  \n",
    "        'taker_sell_base_asset_volume_rate': taker_sell_base_asset_volume_rate,  \n",
    "        'taker_sell_quote_asset_volume_diff': taker_sell_quote_asset_volume_diff,  \n",
    "        'taker_sell_quote_asset_volume_rate': taker_sell_quote_asset_volume_rate,  \n",
    "        'taker_buy_sell_volume_diff': taker_buy_sell_volume_diff,  \n",
    "        'taker_buy_sell_volume_rate': taker_buy_sell_volume_rate,  \n",
    "        'taker_buy_sell_quote_asset_volume_diff': taker_buy_sell_quote_asset_volume_diff,  \n",
    "        'taker_buy_sell_quote_asset_volume_rate': taker_buy_sell_quote_asset_volume_rate,  \n",
    "        'current_taker_buy_sell_volume_rate': current_taker_buy_sell_volume_rate,  \n",
    "        'current_buy_sell_quote_asset_volume_rate': current_buy_sell_quote_asset_volume_rate  \n",
    "    }\n",
    "\n",
    "    # 添加新行到lgb_future DataFrame中\n",
    "    new_rows.append(new_row)\n",
    "\n",
    "# 找到包含 'diff' 的列\n",
    "lgb_future = pd.DataFrame(new_rows)\n",
    "diff_columns = [col for col in lgb_future.columns if 'diff' in col]\n",
    "\n",
    "lgb_future[diff_columns] = lgb_future[diff_columns].round(6)\n"
   ]
  },
  {
   "cell_type": "code",
   "execution_count": 154,
   "outputs": [
    {
     "data": {
      "text/plain": "                 timestamp  day  hour  quarter  past_min     open     high  \\\n0      2024-09-07 19:01:00    0    19        0         1  0.09419  0.09424   \n1      2024-09-07 19:02:00    0    19        0         2  0.09421  0.09421   \n2      2024-09-07 19:03:00    0    19        0         3  0.09413  0.09416   \n3      2024-09-07 19:04:00    0    19        0         4  0.09416  0.09421   \n4      2024-09-07 19:05:00    0    19        0         5  0.09419  0.09422   \n...                    ...  ...   ...      ...       ...      ...      ...   \n172845 2025-01-05 19:46:00  120    19        3         1  0.38346  0.38354   \n172846 2025-01-05 19:47:00  120    19        3         2  0.38353  0.38359   \n172847 2025-01-05 19:48:00  120    19        3         3  0.38331  0.38344   \n172848 2025-01-05 19:49:00  120    19        3         4  0.38344  0.38350   \n172849 2025-01-05 19:50:00  120    19        3         5  0.38311  0.38317   \n\n            low    close   volume  ...  taker_sell_base_asset_volume_diff  \\\n0       0.09419  0.09421   793070  ...                             407760   \n1       0.09410  0.09413   747305  ...                             826258   \n2       0.09409  0.09415  1834230  ...                            1009893   \n3       0.09415  0.09419  1123645  ...                            1703949   \n4       0.09413  0.09422  1050421  ...                            2514931   \n...         ...      ...      ...  ...                                ...   \n172845  0.38320  0.38354  1079425  ...                          -16629788   \n172846  0.38320  0.38331   423009  ...                          -16415735   \n172847  0.38323  0.38344   497276  ...                          -16082002   \n172848  0.38310  0.38310   629479  ...                          -15730721   \n172849  0.38301  0.38301   692884  ...                          -15148720   \n\n        taker_sell_base_asset_volume_rate  taker_sell_quote_asset_volume_diff  \\\n0                                 1.00000                        3.841660e+04   \n1                                 2.02633                        7.782257e+04   \n2                                 2.47668                        9.510846e+04   \n3                                 4.17880                        1.604805e+05   \n4                                 6.16767                        2.368466e+05   \n...                                   ...                                 ...   \n172845                           -0.90454                       -6.369729e+06   \n172846                           -0.89290                       -6.287656e+06   \n172847                           -0.87475                       -6.159730e+06   \n172848                           -0.85564                       -6.025079e+06   \n172849                           -0.82398                       -5.802098e+06   \n\n        taker_sell_quote_asset_volume_rate  taker_buy_sell_volume_diff  \\\n0                                  1.00000                      -22450   \n1                                  2.02575                     -112141   \n2                                  2.47571                     1354819   \n3                                  4.17737                     1090352   \n4                                  6.16521                      518809   \n...                                    ...                         ...   \n172845                            -0.90445                     4815438   \n172846                            -0.89279                     4810341   \n172847                            -0.87463                     4640151   \n172848                            -0.85551                     4567068   \n172849                            -0.82385                     4095950   \n\n        taker_buy_sell_volume_rate  taker_buy_sell_quote_asset_volume_diff  \\\n0                          1.00000                           -2.114199e+03   \n1                          4.99514                           -1.056430e+04   \n2                        -60.34829                            1.275439e+05   \n3                        -48.56802                            1.026327e+05   \n4                        -23.10953                            4.881581e+04   \n...                            ...                                     ...   \n172845                    -0.87904                            1.843329e+06   \n172846                    -0.87811                            1.841370e+06   \n172847                    -0.84704                            1.776140e+06   \n172848                    -0.83370                            1.748150e+06   \n172849                    -0.74770                            1.567650e+06   \n\n        taker_buy_sell_quote_asset_volume_rate  \\\n0                                      1.00000   \n1                                      4.99683   \n2                                    -60.32728   \n3                                    -48.54449   \n4                                    -23.08950   \n...                                        ...   \n172845                                -0.87885   \n172846                                -0.87792   \n172847                                -0.84682   \n172848                                -0.83347   \n172849                                -0.74742   \n\n        current_taker_buy_sell_volume_rate  \\\n0                                 -0.05506   \n1                                 -0.10907   \n2                                  0.93984   \n3                                  0.50571   \n4                                  0.16983   \n...                                    ...   \n172845                            -0.37758   \n172846                            -0.33912   \n172847                            -0.36388   \n172848                            -0.34325   \n172849                            -0.42710   \n\n        current_buy_sell_quote_asset_volume_rate  \n0                                       -0.05503  \n1                                       -0.10907  \n2                                        0.93937  \n3                                        0.50538  \n4                                        0.16966  \n...                                          ...  \n172845                                  -0.37758  \n172846                                  -0.33913  \n172847                                  -0.36388  \n172848                                  -0.34323  \n172849                                  -0.42704  \n\n[172850 rows x 96 columns]",
      "text/html": "<div>\n<style scoped>\n    .dataframe tbody tr th:only-of-type {\n        vertical-align: middle;\n    }\n\n    .dataframe tbody tr th {\n        vertical-align: top;\n    }\n\n    .dataframe thead th {\n        text-align: right;\n    }\n</style>\n<table border=\"1\" class=\"dataframe\">\n  <thead>\n    <tr style=\"text-align: right;\">\n      <th></th>\n      <th>timestamp</th>\n      <th>day</th>\n      <th>hour</th>\n      <th>quarter</th>\n      <th>past_min</th>\n      <th>open</th>\n      <th>high</th>\n      <th>low</th>\n      <th>close</th>\n      <th>volume</th>\n      <th>...</th>\n      <th>taker_sell_base_asset_volume_diff</th>\n      <th>taker_sell_base_asset_volume_rate</th>\n      <th>taker_sell_quote_asset_volume_diff</th>\n      <th>taker_sell_quote_asset_volume_rate</th>\n      <th>taker_buy_sell_volume_diff</th>\n      <th>taker_buy_sell_volume_rate</th>\n      <th>taker_buy_sell_quote_asset_volume_diff</th>\n      <th>taker_buy_sell_quote_asset_volume_rate</th>\n      <th>current_taker_buy_sell_volume_rate</th>\n      <th>current_buy_sell_quote_asset_volume_rate</th>\n    </tr>\n  </thead>\n  <tbody>\n    <tr>\n      <th>0</th>\n      <td>2024-09-07 19:01:00</td>\n      <td>0</td>\n      <td>19</td>\n      <td>0</td>\n      <td>1</td>\n      <td>0.09419</td>\n      <td>0.09424</td>\n      <td>0.09419</td>\n      <td>0.09421</td>\n      <td>793070</td>\n      <td>...</td>\n      <td>407760</td>\n      <td>1.00000</td>\n      <td>3.841660e+04</td>\n      <td>1.00000</td>\n      <td>-22450</td>\n      <td>1.00000</td>\n      <td>-2.114199e+03</td>\n      <td>1.00000</td>\n      <td>-0.05506</td>\n      <td>-0.05503</td>\n    </tr>\n    <tr>\n      <th>1</th>\n      <td>2024-09-07 19:02:00</td>\n      <td>0</td>\n      <td>19</td>\n      <td>0</td>\n      <td>2</td>\n      <td>0.09421</td>\n      <td>0.09421</td>\n      <td>0.09410</td>\n      <td>0.09413</td>\n      <td>747305</td>\n      <td>...</td>\n      <td>826258</td>\n      <td>2.02633</td>\n      <td>7.782257e+04</td>\n      <td>2.02575</td>\n      <td>-112141</td>\n      <td>4.99514</td>\n      <td>-1.056430e+04</td>\n      <td>4.99683</td>\n      <td>-0.10907</td>\n      <td>-0.10907</td>\n    </tr>\n    <tr>\n      <th>2</th>\n      <td>2024-09-07 19:03:00</td>\n      <td>0</td>\n      <td>19</td>\n      <td>0</td>\n      <td>3</td>\n      <td>0.09413</td>\n      <td>0.09416</td>\n      <td>0.09409</td>\n      <td>0.09415</td>\n      <td>1834230</td>\n      <td>...</td>\n      <td>1009893</td>\n      <td>2.47668</td>\n      <td>9.510846e+04</td>\n      <td>2.47571</td>\n      <td>1354819</td>\n      <td>-60.34829</td>\n      <td>1.275439e+05</td>\n      <td>-60.32728</td>\n      <td>0.93984</td>\n      <td>0.93937</td>\n    </tr>\n    <tr>\n      <th>3</th>\n      <td>2024-09-07 19:04:00</td>\n      <td>0</td>\n      <td>19</td>\n      <td>0</td>\n      <td>4</td>\n      <td>0.09416</td>\n      <td>0.09421</td>\n      <td>0.09415</td>\n      <td>0.09419</td>\n      <td>1123645</td>\n      <td>...</td>\n      <td>1703949</td>\n      <td>4.17880</td>\n      <td>1.604805e+05</td>\n      <td>4.17737</td>\n      <td>1090352</td>\n      <td>-48.56802</td>\n      <td>1.026327e+05</td>\n      <td>-48.54449</td>\n      <td>0.50571</td>\n      <td>0.50538</td>\n    </tr>\n    <tr>\n      <th>4</th>\n      <td>2024-09-07 19:05:00</td>\n      <td>0</td>\n      <td>19</td>\n      <td>0</td>\n      <td>5</td>\n      <td>0.09419</td>\n      <td>0.09422</td>\n      <td>0.09413</td>\n      <td>0.09422</td>\n      <td>1050421</td>\n      <td>...</td>\n      <td>2514931</td>\n      <td>6.16767</td>\n      <td>2.368466e+05</td>\n      <td>6.16521</td>\n      <td>518809</td>\n      <td>-23.10953</td>\n      <td>4.881581e+04</td>\n      <td>-23.08950</td>\n      <td>0.16983</td>\n      <td>0.16966</td>\n    </tr>\n    <tr>\n      <th>...</th>\n      <td>...</td>\n      <td>...</td>\n      <td>...</td>\n      <td>...</td>\n      <td>...</td>\n      <td>...</td>\n      <td>...</td>\n      <td>...</td>\n      <td>...</td>\n      <td>...</td>\n      <td>...</td>\n      <td>...</td>\n      <td>...</td>\n      <td>...</td>\n      <td>...</td>\n      <td>...</td>\n      <td>...</td>\n      <td>...</td>\n      <td>...</td>\n      <td>...</td>\n      <td>...</td>\n    </tr>\n    <tr>\n      <th>172845</th>\n      <td>2025-01-05 19:46:00</td>\n      <td>120</td>\n      <td>19</td>\n      <td>3</td>\n      <td>1</td>\n      <td>0.38346</td>\n      <td>0.38354</td>\n      <td>0.38320</td>\n      <td>0.38354</td>\n      <td>1079425</td>\n      <td>...</td>\n      <td>-16629788</td>\n      <td>-0.90454</td>\n      <td>-6.369729e+06</td>\n      <td>-0.90445</td>\n      <td>4815438</td>\n      <td>-0.87904</td>\n      <td>1.843329e+06</td>\n      <td>-0.87885</td>\n      <td>-0.37758</td>\n      <td>-0.37758</td>\n    </tr>\n    <tr>\n      <th>172846</th>\n      <td>2025-01-05 19:47:00</td>\n      <td>120</td>\n      <td>19</td>\n      <td>3</td>\n      <td>2</td>\n      <td>0.38353</td>\n      <td>0.38359</td>\n      <td>0.38320</td>\n      <td>0.38331</td>\n      <td>423009</td>\n      <td>...</td>\n      <td>-16415735</td>\n      <td>-0.89290</td>\n      <td>-6.287656e+06</td>\n      <td>-0.89279</td>\n      <td>4810341</td>\n      <td>-0.87811</td>\n      <td>1.841370e+06</td>\n      <td>-0.87792</td>\n      <td>-0.33912</td>\n      <td>-0.33913</td>\n    </tr>\n    <tr>\n      <th>172847</th>\n      <td>2025-01-05 19:48:00</td>\n      <td>120</td>\n      <td>19</td>\n      <td>3</td>\n      <td>3</td>\n      <td>0.38331</td>\n      <td>0.38344</td>\n      <td>0.38323</td>\n      <td>0.38344</td>\n      <td>497276</td>\n      <td>...</td>\n      <td>-16082002</td>\n      <td>-0.87475</td>\n      <td>-6.159730e+06</td>\n      <td>-0.87463</td>\n      <td>4640151</td>\n      <td>-0.84704</td>\n      <td>1.776140e+06</td>\n      <td>-0.84682</td>\n      <td>-0.36388</td>\n      <td>-0.36388</td>\n    </tr>\n    <tr>\n      <th>172848</th>\n      <td>2025-01-05 19:49:00</td>\n      <td>120</td>\n      <td>19</td>\n      <td>3</td>\n      <td>4</td>\n      <td>0.38344</td>\n      <td>0.38350</td>\n      <td>0.38310</td>\n      <td>0.38310</td>\n      <td>629479</td>\n      <td>...</td>\n      <td>-15730721</td>\n      <td>-0.85564</td>\n      <td>-6.025079e+06</td>\n      <td>-0.85551</td>\n      <td>4567068</td>\n      <td>-0.83370</td>\n      <td>1.748150e+06</td>\n      <td>-0.83347</td>\n      <td>-0.34325</td>\n      <td>-0.34323</td>\n    </tr>\n    <tr>\n      <th>172849</th>\n      <td>2025-01-05 19:50:00</td>\n      <td>120</td>\n      <td>19</td>\n      <td>3</td>\n      <td>5</td>\n      <td>0.38311</td>\n      <td>0.38317</td>\n      <td>0.38301</td>\n      <td>0.38301</td>\n      <td>692884</td>\n      <td>...</td>\n      <td>-15148720</td>\n      <td>-0.82398</td>\n      <td>-5.802098e+06</td>\n      <td>-0.82385</td>\n      <td>4095950</td>\n      <td>-0.74770</td>\n      <td>1.567650e+06</td>\n      <td>-0.74742</td>\n      <td>-0.42710</td>\n      <td>-0.42704</td>\n    </tr>\n  </tbody>\n</table>\n<p>172850 rows × 96 columns</p>\n</div>"
     },
     "execution_count": 154,
     "metadata": {},
     "output_type": "execute_result"
    }
   ],
   "source": [
    "lgb_future"
   ],
   "metadata": {
    "collapsed": false
   }
  },
  {
   "cell_type": "code",
   "execution_count": 156,
   "metadata": {
    "collapsed": false,
    "jupyter": {
     "outputs_hidden": false
    }
   },
   "outputs": [],
   "source": [
    "lgb_future.to_csv(r'D:\\lgb_future.csv',encoding='utf-8-sig', index=False)\n",
    "# lgb_future = pd.read_csv(r'C:\\pythonProject\\lgb_future.csv',encoding='utf-8-sig')"
   ]
  },
  {
   "cell_type": "code",
   "execution_count": null,
   "metadata": {
    "collapsed": false,
    "jupyter": {
     "outputs_hidden": false
    }
   },
   "outputs": [],
   "source": [
    "# 定义目标函数\n",
    "def best_signal(trial, df2):\n",
    "    windows = trial.suggest_int('windows', 3, 1441)\n",
    "    r = trial.suggest_float('r', 0.5, 1, step=0.001)\n",
    "    n = trial.suggest_int('n', 5, 10)\n",
    "    df2, return_rates= generate_trade_signals(df2, windows, r, n)\n",
    "    return_series = pd.Series(return_rates)\n",
    "    min_loss = 1\n",
    "    for i in range(len(return_series)):\n",
    "        if return_series.loc[i] < 0:\n",
    "            loss = min((1 + return_series.loc[i:]).cumprod()-1)\n",
    "            if loss < min_loss:\n",
    "                min_loss = loss\n",
    "    victory_rate = return_series.map(lambda x: 1 if x> 0 else 0).mean()\n",
    "    return len(return_series), min_loss, victory_rate\n",
    "\n",
    "# 进行超参数优化\n",
    "study = optuna.create_study(directions=[\"maximize\", \"maximize\", \"maximize\"])\n",
    "def progress_bar_callback(study, trial):\n",
    "    # 更新进度条\n",
    "    progress_bar.update(1)\n",
    "\n",
    "# 使用 tqdm 创建一个进度条\n",
    "progress_bar = tqdm(total=100, desc=\"Optimizing\", ncols=100)\n",
    "\n",
    "study.optimize(lambda trial: best_signal(trial, df2), n_trials=100, n_jobs=8, callbacks=[progress_bar_callback])\n",
    "\n",
    "# 获取参数组合及对应的收益\n",
    "param_combinations = [(trial.params, trial.values) for trial in study.trials]\n",
    "\n",
    "# 过滤出收益率大于1000%且胜率大于50%的组合\n",
    "filtered_combinations = [\n",
    "    (params, values)\n",
    "    for params, values in param_combinations\n",
    "    if values != None\n",
    "]\n",
    "\n",
    "# 根据胜率从高到低排序\n",
    "filtered_combinations.sort(key=lambda x: x[1][1], reverse=True)\n",
    "\n",
    "# 输出最佳参数，包括交易次数\n",
    "for i in range(min(10, len(filtered_combinations))):\n",
    "    params, values = filtered_combinations[i]\n",
    "    print(f\"排名 {i + 1} 的参数组合: {[round(value, 3) for value in params.values()]}, \"\n",
    "          f\"交易次数: {values[0]}, 最大损失数: {values[1]}, 胜率: {values[2]}\")\n",
    "\n",
    "\n"
   ]
  },
  {
   "cell_type": "code",
   "execution_count": 157,
   "metadata": {},
   "outputs": [
    {
     "name": "stdout",
     "output_type": "stream",
     "text": [
      "-0.25553480928247607 349 0.9856733524355301\n"
     ]
    }
   ],
   "source": [
    "df2, return_rates= generate_trade_signals(df2, 207, 0.891, 10)\n",
    "return_series = pd.Series(return_rates)\n",
    "min_loss = 1\n",
    "for i in range(len(return_series)):\n",
    "    if return_series.loc[i] < 0:\n",
    "        loss = min((1 + return_series.loc[i:]).cumprod()-1)\n",
    "        if loss < min_loss:\n",
    "            min_loss = loss\n",
    "victory_rate = return_series.map(lambda x: 1 if x> 0 else 0).mean()\n",
    "print(min_loss, len(return_series), victory_rate)\n"
   ]
  },
  {
   "cell_type": "code",
   "execution_count": 180,
   "metadata": {
    "collapsed": false,
    "jupyter": {
     "outputs_hidden": false
    }
   },
   "outputs": [
    {
     "data": {
      "text/plain": "signal\n 0.0    172152\n 1.0       349\n-1.0       349\nName: count, dtype: int64"
     },
     "execution_count": 180,
     "metadata": {},
     "output_type": "execute_result"
    }
   ],
   "source": [
    "lgb_future['timestamp'] = pd.to_datetime(lgb_future['timestamp'])\n",
    "lgb_future2 = lgb_future.merge(df2[['timestamp','signal']], how='left', on='timestamp')\n",
    "lgb_future2['signal'].value_counts()"
   ]
  },
  {
   "cell_type": "code",
   "execution_count": 182,
   "outputs": [],
   "source": [
    "def signal_process(lgb_future2, n):\n",
    "    signals = lgb_future2['signal'].to_list()\n",
    "    close = lgb_future2['close'].to_list()\n",
    "    positions = np.zeros(len(lgb_future2))\n",
    "    return_rates = np.zeros(len(lgb_future2))\n",
    "    trade_prices = 0\n",
    "    position = 0\n",
    "    for i in tqdm(range(len(lgb_future2))):\n",
    "        if position == 0:\n",
    "            if signals[i] != 0:\n",
    "                position = signals[i]\n",
    "                positions[i] = position\n",
    "                trade_prices = close[i]\n",
    "        elif position == 1:\n",
    "            positions[i] = position\n",
    "            return_rates[i] = (close[i] / trade_prices - 1) * n\n",
    "            if signals[i] == -1:\n",
    "                position = 0\n",
    "        elif position == -1:\n",
    "            positions[i] = position\n",
    "            return_rates[i] = (trade_prices / close[i] - 1) * n\n",
    "            if signals[i] == 1:\n",
    "                position = 0\n",
    "    lgb_future2['position'] = positions\n",
    "    lgb_future2['return_rate'] = return_rates\n",
    "    return lgb_future2"
   ],
   "metadata": {
    "collapsed": false
   }
  },
  {
   "cell_type": "code",
   "execution_count": 183,
   "outputs": [
    {
     "data": {
      "text/plain": "  0%|          | 0/172850 [00:00<?, ?it/s]",
      "application/vnd.jupyter.widget-view+json": {
       "version_major": 2,
       "version_minor": 0,
       "model_id": "c7a2ec161d8445cb996504f9d91e3297"
      }
     },
     "metadata": {},
     "output_type": "display_data"
    }
   ],
   "source": [
    "lgb_future2 = signal_process(lgb_future2, 10)"
   ],
   "metadata": {
    "collapsed": false
   }
  },
  {
   "cell_type": "code",
   "execution_count": 186,
   "outputs": [
    {
     "data": {
      "text/plain": "                 timestamp  day  hour  quarter  past_min     open     high  \\\n0      2024-09-07 19:01:00    0    19        0         1  0.09419  0.09424   \n1      2024-09-07 19:02:00    0    19        0         2  0.09421  0.09421   \n2      2024-09-07 19:03:00    0    19        0         3  0.09413  0.09416   \n3      2024-09-07 19:04:00    0    19        0         4  0.09416  0.09421   \n4      2024-09-07 19:05:00    0    19        0         5  0.09419  0.09422   \n...                    ...  ...   ...      ...       ...      ...      ...   \n172845 2025-01-05 19:46:00  120    19        3         1  0.38346  0.38354   \n172846 2025-01-05 19:47:00  120    19        3         2  0.38353  0.38359   \n172847 2025-01-05 19:48:00  120    19        3         3  0.38331  0.38344   \n172848 2025-01-05 19:49:00  120    19        3         4  0.38344  0.38350   \n172849 2025-01-05 19:50:00  120    19        3         5  0.38311  0.38317   \n\n            low    close   volume  ...  taker_sell_quote_asset_volume_rate  \\\n0       0.09419  0.09421   793070  ...                             1.00000   \n1       0.09410  0.09413   747305  ...                             2.02575   \n2       0.09409  0.09415  1834230  ...                             2.47571   \n3       0.09415  0.09419  1123645  ...                             4.17737   \n4       0.09413  0.09422  1050421  ...                             6.16521   \n...         ...      ...      ...  ...                                 ...   \n172845  0.38320  0.38354  1079425  ...                            -0.90445   \n172846  0.38320  0.38331   423009  ...                            -0.89279   \n172847  0.38323  0.38344   497276  ...                            -0.87463   \n172848  0.38310  0.38310   629479  ...                            -0.85551   \n172849  0.38301  0.38301   692884  ...                            -0.82385   \n\n        taker_buy_sell_volume_diff  taker_buy_sell_volume_rate  \\\n0                           -22450                     1.00000   \n1                          -112141                     4.99514   \n2                          1354819                   -60.34829   \n3                          1090352                   -48.56802   \n4                           518809                   -23.10953   \n...                            ...                         ...   \n172845                     4815438                    -0.87904   \n172846                     4810341                    -0.87811   \n172847                     4640151                    -0.84704   \n172848                     4567068                    -0.83370   \n172849                     4095950                    -0.74770   \n\n        taker_buy_sell_quote_asset_volume_diff  \\\n0                                -2.114199e+03   \n1                                -1.056430e+04   \n2                                 1.275439e+05   \n3                                 1.026327e+05   \n4                                 4.881581e+04   \n...                                        ...   \n172845                            1.843329e+06   \n172846                            1.841370e+06   \n172847                            1.776140e+06   \n172848                            1.748150e+06   \n172849                            1.567650e+06   \n\n        taker_buy_sell_quote_asset_volume_rate  \\\n0                                      1.00000   \n1                                      4.99683   \n2                                    -60.32728   \n3                                    -48.54449   \n4                                    -23.08950   \n...                                        ...   \n172845                                -0.87885   \n172846                                -0.87792   \n172847                                -0.84682   \n172848                                -0.83347   \n172849                                -0.74742   \n\n        current_taker_buy_sell_volume_rate  \\\n0                                 -0.05506   \n1                                 -0.10907   \n2                                  0.93984   \n3                                  0.50571   \n4                                  0.16983   \n...                                    ...   \n172845                            -0.37758   \n172846                            -0.33912   \n172847                            -0.36388   \n172848                            -0.34325   \n172849                            -0.42710   \n\n        current_buy_sell_quote_asset_volume_rate  signal  position  \\\n0                                       -0.05503     0.0       0.0   \n1                                       -0.10907     0.0       0.0   \n2                                        0.93937     0.0       0.0   \n3                                        0.50538     0.0       0.0   \n4                                        0.16966     0.0       0.0   \n...                                          ...     ...       ...   \n172845                                  -0.37758     0.0       0.0   \n172846                                  -0.33913     0.0       0.0   \n172847                                  -0.36388     0.0       0.0   \n172848                                  -0.34323     0.0       0.0   \n172849                                  -0.42704     0.0       0.0   \n\n        return_rate  \n0               0.0  \n1               0.0  \n2               0.0  \n3               0.0  \n4               0.0  \n...             ...  \n172845          0.0  \n172846          0.0  \n172847          0.0  \n172848          0.0  \n172849          0.0  \n\n[172850 rows x 99 columns]",
      "text/html": "<div>\n<style scoped>\n    .dataframe tbody tr th:only-of-type {\n        vertical-align: middle;\n    }\n\n    .dataframe tbody tr th {\n        vertical-align: top;\n    }\n\n    .dataframe thead th {\n        text-align: right;\n    }\n</style>\n<table border=\"1\" class=\"dataframe\">\n  <thead>\n    <tr style=\"text-align: right;\">\n      <th></th>\n      <th>timestamp</th>\n      <th>day</th>\n      <th>hour</th>\n      <th>quarter</th>\n      <th>past_min</th>\n      <th>open</th>\n      <th>high</th>\n      <th>low</th>\n      <th>close</th>\n      <th>volume</th>\n      <th>...</th>\n      <th>taker_sell_quote_asset_volume_rate</th>\n      <th>taker_buy_sell_volume_diff</th>\n      <th>taker_buy_sell_volume_rate</th>\n      <th>taker_buy_sell_quote_asset_volume_diff</th>\n      <th>taker_buy_sell_quote_asset_volume_rate</th>\n      <th>current_taker_buy_sell_volume_rate</th>\n      <th>current_buy_sell_quote_asset_volume_rate</th>\n      <th>signal</th>\n      <th>position</th>\n      <th>return_rate</th>\n    </tr>\n  </thead>\n  <tbody>\n    <tr>\n      <th>0</th>\n      <td>2024-09-07 19:01:00</td>\n      <td>0</td>\n      <td>19</td>\n      <td>0</td>\n      <td>1</td>\n      <td>0.09419</td>\n      <td>0.09424</td>\n      <td>0.09419</td>\n      <td>0.09421</td>\n      <td>793070</td>\n      <td>...</td>\n      <td>1.00000</td>\n      <td>-22450</td>\n      <td>1.00000</td>\n      <td>-2.114199e+03</td>\n      <td>1.00000</td>\n      <td>-0.05506</td>\n      <td>-0.05503</td>\n      <td>0.0</td>\n      <td>0.0</td>\n      <td>0.0</td>\n    </tr>\n    <tr>\n      <th>1</th>\n      <td>2024-09-07 19:02:00</td>\n      <td>0</td>\n      <td>19</td>\n      <td>0</td>\n      <td>2</td>\n      <td>0.09421</td>\n      <td>0.09421</td>\n      <td>0.09410</td>\n      <td>0.09413</td>\n      <td>747305</td>\n      <td>...</td>\n      <td>2.02575</td>\n      <td>-112141</td>\n      <td>4.99514</td>\n      <td>-1.056430e+04</td>\n      <td>4.99683</td>\n      <td>-0.10907</td>\n      <td>-0.10907</td>\n      <td>0.0</td>\n      <td>0.0</td>\n      <td>0.0</td>\n    </tr>\n    <tr>\n      <th>2</th>\n      <td>2024-09-07 19:03:00</td>\n      <td>0</td>\n      <td>19</td>\n      <td>0</td>\n      <td>3</td>\n      <td>0.09413</td>\n      <td>0.09416</td>\n      <td>0.09409</td>\n      <td>0.09415</td>\n      <td>1834230</td>\n      <td>...</td>\n      <td>2.47571</td>\n      <td>1354819</td>\n      <td>-60.34829</td>\n      <td>1.275439e+05</td>\n      <td>-60.32728</td>\n      <td>0.93984</td>\n      <td>0.93937</td>\n      <td>0.0</td>\n      <td>0.0</td>\n      <td>0.0</td>\n    </tr>\n    <tr>\n      <th>3</th>\n      <td>2024-09-07 19:04:00</td>\n      <td>0</td>\n      <td>19</td>\n      <td>0</td>\n      <td>4</td>\n      <td>0.09416</td>\n      <td>0.09421</td>\n      <td>0.09415</td>\n      <td>0.09419</td>\n      <td>1123645</td>\n      <td>...</td>\n      <td>4.17737</td>\n      <td>1090352</td>\n      <td>-48.56802</td>\n      <td>1.026327e+05</td>\n      <td>-48.54449</td>\n      <td>0.50571</td>\n      <td>0.50538</td>\n      <td>0.0</td>\n      <td>0.0</td>\n      <td>0.0</td>\n    </tr>\n    <tr>\n      <th>4</th>\n      <td>2024-09-07 19:05:00</td>\n      <td>0</td>\n      <td>19</td>\n      <td>0</td>\n      <td>5</td>\n      <td>0.09419</td>\n      <td>0.09422</td>\n      <td>0.09413</td>\n      <td>0.09422</td>\n      <td>1050421</td>\n      <td>...</td>\n      <td>6.16521</td>\n      <td>518809</td>\n      <td>-23.10953</td>\n      <td>4.881581e+04</td>\n      <td>-23.08950</td>\n      <td>0.16983</td>\n      <td>0.16966</td>\n      <td>0.0</td>\n      <td>0.0</td>\n      <td>0.0</td>\n    </tr>\n    <tr>\n      <th>...</th>\n      <td>...</td>\n      <td>...</td>\n      <td>...</td>\n      <td>...</td>\n      <td>...</td>\n      <td>...</td>\n      <td>...</td>\n      <td>...</td>\n      <td>...</td>\n      <td>...</td>\n      <td>...</td>\n      <td>...</td>\n      <td>...</td>\n      <td>...</td>\n      <td>...</td>\n      <td>...</td>\n      <td>...</td>\n      <td>...</td>\n      <td>...</td>\n      <td>...</td>\n      <td>...</td>\n    </tr>\n    <tr>\n      <th>172845</th>\n      <td>2025-01-05 19:46:00</td>\n      <td>120</td>\n      <td>19</td>\n      <td>3</td>\n      <td>1</td>\n      <td>0.38346</td>\n      <td>0.38354</td>\n      <td>0.38320</td>\n      <td>0.38354</td>\n      <td>1079425</td>\n      <td>...</td>\n      <td>-0.90445</td>\n      <td>4815438</td>\n      <td>-0.87904</td>\n      <td>1.843329e+06</td>\n      <td>-0.87885</td>\n      <td>-0.37758</td>\n      <td>-0.37758</td>\n      <td>0.0</td>\n      <td>0.0</td>\n      <td>0.0</td>\n    </tr>\n    <tr>\n      <th>172846</th>\n      <td>2025-01-05 19:47:00</td>\n      <td>120</td>\n      <td>19</td>\n      <td>3</td>\n      <td>2</td>\n      <td>0.38353</td>\n      <td>0.38359</td>\n      <td>0.38320</td>\n      <td>0.38331</td>\n      <td>423009</td>\n      <td>...</td>\n      <td>-0.89279</td>\n      <td>4810341</td>\n      <td>-0.87811</td>\n      <td>1.841370e+06</td>\n      <td>-0.87792</td>\n      <td>-0.33912</td>\n      <td>-0.33913</td>\n      <td>0.0</td>\n      <td>0.0</td>\n      <td>0.0</td>\n    </tr>\n    <tr>\n      <th>172847</th>\n      <td>2025-01-05 19:48:00</td>\n      <td>120</td>\n      <td>19</td>\n      <td>3</td>\n      <td>3</td>\n      <td>0.38331</td>\n      <td>0.38344</td>\n      <td>0.38323</td>\n      <td>0.38344</td>\n      <td>497276</td>\n      <td>...</td>\n      <td>-0.87463</td>\n      <td>4640151</td>\n      <td>-0.84704</td>\n      <td>1.776140e+06</td>\n      <td>-0.84682</td>\n      <td>-0.36388</td>\n      <td>-0.36388</td>\n      <td>0.0</td>\n      <td>0.0</td>\n      <td>0.0</td>\n    </tr>\n    <tr>\n      <th>172848</th>\n      <td>2025-01-05 19:49:00</td>\n      <td>120</td>\n      <td>19</td>\n      <td>3</td>\n      <td>4</td>\n      <td>0.38344</td>\n      <td>0.38350</td>\n      <td>0.38310</td>\n      <td>0.38310</td>\n      <td>629479</td>\n      <td>...</td>\n      <td>-0.85551</td>\n      <td>4567068</td>\n      <td>-0.83370</td>\n      <td>1.748150e+06</td>\n      <td>-0.83347</td>\n      <td>-0.34325</td>\n      <td>-0.34323</td>\n      <td>0.0</td>\n      <td>0.0</td>\n      <td>0.0</td>\n    </tr>\n    <tr>\n      <th>172849</th>\n      <td>2025-01-05 19:50:00</td>\n      <td>120</td>\n      <td>19</td>\n      <td>3</td>\n      <td>5</td>\n      <td>0.38311</td>\n      <td>0.38317</td>\n      <td>0.38301</td>\n      <td>0.38301</td>\n      <td>692884</td>\n      <td>...</td>\n      <td>-0.82385</td>\n      <td>4095950</td>\n      <td>-0.74770</td>\n      <td>1.567650e+06</td>\n      <td>-0.74742</td>\n      <td>-0.42710</td>\n      <td>-0.42704</td>\n      <td>0.0</td>\n      <td>0.0</td>\n      <td>0.0</td>\n    </tr>\n  </tbody>\n</table>\n<p>172850 rows × 99 columns</p>\n</div>"
     },
     "execution_count": 186,
     "metadata": {},
     "output_type": "execute_result"
    }
   ],
   "source": [
    "lgb_future2"
   ],
   "metadata": {
    "collapsed": false
   }
  },
  {
   "cell_type": "code",
   "execution_count": 211,
   "metadata": {},
   "outputs": [],
   "source": [
    "'''\n",
    "定义平仓-开仓冷却，加仓间冷却，开仓-平仓冷却\n",
    "平仓分两步，lgb模型发送平仓信号后，再用当前价格和滑动n个收盘价平均值对比，当前价格<滑动均价平仓\n",
    "'''\n",
    "def predicted_signal_process(lgb_future3, n, profit_rate, stop_rate, w1, w2, w3, w4, w5, w6, w7):\n",
    "    position = 0\n",
    "    trade_price = 0\n",
    "    return_rate = 0\n",
    "    positions = np.zeros(len(lgb_future3))\n",
    "    trade_prices = np.zeros(len(lgb_future3))\n",
    "    return_rates = np.zeros(len(lgb_future3))\n",
    "    close = lgb_future3['close'].tolist()\n",
    "    predicted_signal = lgb_future3['predicted_signal'].tolist()\n",
    "    sar = lgb_future3['sar1'].tolist()\n",
    "    stop_rate = [stop_rate] * len(lgb_future3)\n",
    "    atr1_2 = lgb_future3['atr1_2_stop_rate'].tolist()\n",
    "    atr1_4 = lgb_future3['atr1_4_stop_rate'].tolist()\n",
    "    atr2_2 = lgb_future3['atr2_2_stop_rate'].tolist()\n",
    "    atr2_4 = lgb_future3['atr2_4_stop_rate'].tolist()\n",
    "    atr3_2 = lgb_future3['atr3_2_stop_rate'].tolist()\n",
    "    atr3_4 = lgb_future3['atr3_4_stop_rate'].tolist()\n",
    "    w_stop_rate = [\n",
    "                (w1 * stop_rate[i] + w2 * atr1_2[i] + w3 * atr1_4[i] +\n",
    "                w4 * atr2_2[i] + w5 * atr2_4[i] + w6 * atr3_2[i] +\n",
    "                w7 * atr3_4[i]) * n\n",
    "                for i in range(len(lgb_future3))\n",
    "            ]\n",
    "    for i in range(len(lgb_future3)):\n",
    "        positions[i] = position\n",
    "        return_rates[i] = return_rate\n",
    "        trade_prices[i] = trade_price\n",
    "        # 空仓时候\n",
    "        if positions[i] == 0:\n",
    "            if predicted_signal[i] == 1:\n",
    "                trade_price = close[i]\n",
    "                trade_prices[i] = trade_price\n",
    "                position = 1\n",
    "                positions[i] = position\n",
    "            elif predicted_signal[i] == -1:\n",
    "                trade_price = close[i]\n",
    "                trade_prices[i] = trade_price\n",
    "                position = -1\n",
    "                positions[i] = position\n",
    "        #多仓情况\n",
    "        elif positions[i] == 1:\n",
    "            try:\n",
    "                return_rate = ((close[i] / trade_price) -1) * n\n",
    "                return_rates[i] = return_rate\n",
    "            except:\n",
    "                pass\n",
    "            if predicted_signal[i] != 0:\n",
    "                if return_rate < w_stop_rate[i]: #止损强行平仓\n",
    "                    predicted_signal[i] = -1\n",
    "                    position = 0\n",
    "                    trade_price = 0\n",
    "                    return_rate = 0\n",
    "                elif close[i] < sar[i] and return_rate > profit_rate * n: #sar反转并且大于固定止盈\n",
    "                    predicted_signal[i] = -1\n",
    "                    position = 0\n",
    "                    trade_price = 0\n",
    "                    return_rate = 0\n",
    "                else:\n",
    "                    predicted_signal[i] = 0\n",
    "        #空仓情况\n",
    "        elif positions[i] == -1:\n",
    "            try:\n",
    "                return_rate = ((trade_price / close[i]) -1) * n\n",
    "                return_rates[i] = return_rate\n",
    "            except:\n",
    "                pass\n",
    "            if predicted_signal[i] != 0:\n",
    "                if return_rate < w_stop_rate[i]: #止损强行平仓\n",
    "                    predicted_signal[i] = 1\n",
    "                    position = 0\n",
    "                    trade_price = 0\n",
    "                    return_rate = 0\n",
    "                elif close[i] > sar[i] and return_rate > profit_rate * n: #sar反转并且大于固定止盈\n",
    "                    predicted_signal[i] = 1\n",
    "                    position = 0\n",
    "                    trade_price = 0\n",
    "                    return_rate = 0\n",
    "                else:\n",
    "                    predicted_signal[i] = 0\n",
    "\n",
    "    lgb_future3['position'] = positions\n",
    "    lgb_future3['predicted_signal2'] = predicted_signal\n",
    "    lgb_future3['trade_prices'] = trade_prices\n",
    "    lgb_future3['return_rates'] = return_rates\n",
    "    lgb_future3['w_stop_rate'] = w_stop_rate\n",
    "    return lgb_future3\n",
    "            \n",
    "def vbt_process(lgb_future3):\n",
    "# 初始化空的信号序列\n",
    "    entries = np.zeros(len(lgb_future3), dtype=bool)\n",
    "    exits = np.zeros(len(lgb_future3), dtype=bool)\n",
    "    short_entries = np.zeros(len(lgb_future3), dtype=bool)\n",
    "    short_exits = np.zeros(len(lgb_future3), dtype=bool)\n",
    "    signals = lgb_future3['predicted_signal2'].to_list()\n",
    "    # 初始化当前仓位状态\n",
    "    is_long = None\n",
    "    buy_index = 0\n",
    "    # 遍历每个信号并生成买入/卖出信号\n",
    "    for i in range(len(lgb_future3)):\n",
    "        signal = signals[i]\n",
    "        if is_long is None:\n",
    "            if signal == 1:\n",
    "                entries[i] = True\n",
    "                is_long = True\n",
    "                buy_index = i\n",
    "            elif signal == -1:  # 如果当前持有空仓，则平空仓并开多仓\n",
    "                short_entries[i] = True\n",
    "                is_long = False\n",
    "                buy_index = i\n",
    "        elif signal == -1 and is_long == True:\n",
    "            exits[i] = True\n",
    "            is_long = None\n",
    "        elif signal == 1 and is_long == False:\n",
    "            short_exits[i] = True\n",
    "            is_long = None\n",
    "    if is_long != None:\n",
    "        entries[buy_index] = False\n",
    "        short_entries[buy_index] = False\n",
    "    # 将信号集成到数据框架中\n",
    "    lgb_future3['entries'] = entries\n",
    "    lgb_future3['exits'] = exits\n",
    "    lgb_future3['short_entries'] = short_entries\n",
    "    lgb_future3['short_exits'] = short_exits\n",
    "    # 计算每次交易的持仓量\n",
    "    cash = 1  # 初始现金\n",
    "    size = cash / lgb_future3['close']  # 每次买入的数量\n",
    "    portfolio = vbt.Portfolio.from_signals(\n",
    "        lgb_future3['close'],  # 使用 close 价格作为价格数据\n",
    "        entries=entries,  # 买入信号\n",
    "        exits=exits,  # 卖出信号\n",
    "        short_entries=short_entries,  # 开空仓信号\n",
    "        short_exits=short_exits,  # 平空仓信号\n",
    "        init_cash=cash,  # 初始资金\n",
    "        size=size,  # 每次买入的数量\n",
    "        fees=0.0,  # 无佣金\n",
    "        slippage=0.0,  # 不考虑滑点\n",
    "        cash_sharing=True,  # 支持现金共享\n",
    "        direction='both'\n",
    "    )\n",
    "    # 输出结果\n",
    "    portfolio.total_return()\n",
    "    trades = portfolio.trades.records\n",
    "    return lgb_future3, trades\n",
    "def simulate_trading_performance(trades, n):\n",
    "    cash = 1\n",
    "    min_loss = 0\n",
    "    cashs = []\n",
    "    for i in range(len(trades)):\n",
    "        cashs.append(cash)\n",
    "        cash = cash * (1 + trades.loc[i, 'return'] * n) * (1- 0.0001 * n)\n",
    "    cashs_series = pd.Series(cashs)\n",
    "    ratios = cashs_series.shift(-1) / cashs_series\n",
    "    max_get = 0\n",
    "    for i in range(len(ratios)):\n",
    "        if ratios.loc[i] < 1:\n",
    "            loss = min(ratios[i:].cumprod() - 1)\n",
    "            if loss < min_loss:\n",
    "                min_loss = loss\n",
    "        if ratios.loc[i] > 1:\n",
    "            get = max(ratios[i:].cumprod() - 1)\n",
    "            if get > min_loss:\n",
    "                max_get = get\n",
    "    return cash, min_loss, max_get\n"
   ]
  },
  {
   "cell_type": "code",
   "execution_count": 196,
   "metadata": {
    "collapsed": false,
    "jupyter": {
     "outputs_hidden": false
    },
    "scrolled": true
   },
   "outputs": [
    {
     "name": "stderr",
     "output_type": "stream",
     "text": [
      "[I 2025-01-17 17:01:13,958] A new study created in memory with name: no-name-9af71bff-51c1-420f-953e-02360748ab93\n"
     ]
    },
    {
     "data": {
      "text/plain": "Optimizing:   0%|                                                           | 0/100 [00:00<?, ?it/s]",
      "application/vnd.jupyter.widget-view+json": {
       "version_major": 2,
       "version_minor": 0,
       "model_id": "a6d7d098cedc4a50b0fe0908f4d92129"
      }
     },
     "metadata": {},
     "output_type": "display_data"
    },
    {
     "name": "stderr",
     "output_type": "stream",
     "text": [
      "[I 2025-01-17 17:01:27,836] Trial 0 finished with values: [0.5646107123739063, -0.7273491140790652, 41.0] and parameters: {'class_weight_1': 698, 'class_weight_-1': 460, 'learning_rate': 0.00493850119366445, 'num_leaves': 238, 'max_depth': 1, 'min_child_samples': 44, 'max_bin': 255, 'subsample': 0.7570053532215002, 'lambda_l1': 3.4062681184185974, 'lambda_l2': 4.856424032164723, 'bagging_fraction': 0.703131562571165, 'feature_fraction': 0.7274364090221886, 'w1': 0.32, 'w2': 0.22999999999999998, 'w3': 0.16999999999999998, 'w4': 0.09, 'w5': 0.08, 'w6': 0.1100000000000001, 'n': 8, 'stop_rate': -0.02825, 'profit_rate': 0.00925}.\n",
      "[I 2025-01-17 17:01:36,131] Trial 4 finished with values: [1.5876339739183267, -0.23927431752584616, 34.0] and parameters: {'class_weight_1': 989, 'class_weight_-1': 652, 'learning_rate': 0.019804998810055974, 'num_leaves': 248, 'max_depth': 2, 'min_child_samples': 14, 'max_bin': 464, 'subsample': 0.7515476786711806, 'lambda_l1': 2.3492206529284343, 'lambda_l2': 1.818854032097783, 'bagging_fraction': 0.5241013056335866, 'feature_fraction': 0.6413264287467324, 'w1': 0.38, 'w2': 0.37, 'w3': 0.05, 'w4': 0.05, 'w5': 0.05, 'w6': 0.09999999999999987, 'n': 7, 'stop_rate': -0.01871428571428571, 'profit_rate': 0.009142857142857144}.\n",
      "[I 2025-01-17 17:01:39,516] Trial 5 finished with values: [1.895214232808811, -0.5693124455851769, 17.0] and parameters: {'class_weight_1': 656, 'class_weight_-1': 432, 'learning_rate': 0.07099631800184837, 'num_leaves': 37, 'max_depth': 3, 'min_child_samples': 56, 'max_bin': 138, 'subsample': 0.9932269335772503, 'lambda_l1': 7.342680126191459, 'lambda_l2': 7.5790299167390796, 'bagging_fraction': 0.6641430908078706, 'feature_fraction': 0.7611894144989464, 'w1': 0.2, 'w2': 0.31, 'w3': 0.12000000000000001, 'w4': 0.1, 'w5': 0.05, 'w6': 0.21999999999999997, 'n': 8, 'stop_rate': -0.01825, 'profit_rate': 0.00725}.\n",
      "[I 2025-01-17 17:02:17,326] Trial 8 finished with values: [0.3889321138790806, -0.7625457357000973, 24.0] and parameters: {'class_weight_1': 525, 'class_weight_-1': 346, 'learning_rate': 0.0036684114683823094, 'num_leaves': 234, 'max_depth': 0, 'min_child_samples': 94, 'max_bin': 299, 'subsample': 0.9971971703227606, 'lambda_l1': 8.405171007829082, 'lambda_l2': 9.227046861162485, 'bagging_fraction': 0.7790768232897425, 'feature_fraction': 0.9579238158747919, 'w1': 0.12000000000000001, 'w2': 0.07, 'w3': 0.09, 'w4': 0.14, 'w5': 0.24, 'w6': 0.33999999999999997, 'n': 7, 'stop_rate': -0.023714285714285712, 'profit_rate': 0.009142857142857144}.\n",
      "[I 2025-01-17 17:02:26,602] Trial 10 finished with values: [0.8769877629170777, -0.7259783074706385, 17.0] and parameters: {'class_weight_1': 40, 'class_weight_-1': 26, 'learning_rate': 0.005838692061690657, 'num_leaves': 163, 'max_depth': 8, 'min_child_samples': 88, 'max_bin': 265, 'subsample': 0.6170889984157883, 'lambda_l1': 2.474955728987125, 'lambda_l2': 6.9611396458490145, 'bagging_fraction': 0.6368853637383516, 'feature_fraction': 0.6859637254150408, 'w1': 0.24, 'w2': 0.31, 'w3': 0.07, 'w4': 0.2, 'w5': 0.05, 'w6': 0.1299999999999999, 'n': 9, 'stop_rate': -0.011777777777777776, 'profit_rate': 0.006555555555555556}.\n",
      "[I 2025-01-17 17:02:29,716] Trial 3 finished with values: [2.2366401702754, -0.6493781911441305, 19.0] and parameters: {'class_weight_1': 840, 'class_weight_-1': 554, 'learning_rate': 0.0011235961797912747, 'num_leaves': 132, 'max_depth': 0, 'min_child_samples': 54, 'max_bin': 423, 'subsample': 0.925083775913722, 'lambda_l1': 5.990175595468006, 'lambda_l2': 0.5161091481044056, 'bagging_fraction': 0.6775850509772572, 'feature_fraction': 0.8782332065169249, 'w1': 0.19, 'w2': 0.52, 'w3': 0.05, 'w4': 0.060000000000000005, 'w5': 0.060000000000000005, 'w6': 0.11999999999999988, 'n': 9, 'stop_rate': -0.026777777777777775, 'profit_rate': 0.005555555555555556}.\n",
      "[I 2025-01-17 17:02:33,916] Trial 9 finished with values: [2.923551307782849, -0.3254316472694898, 9.0] and parameters: {'class_weight_1': 378, 'class_weight_-1': 249, 'learning_rate': 0.05993069661783687, 'num_leaves': 103, 'max_depth': 10, 'min_child_samples': 50, 'max_bin': 383, 'subsample': 0.9729622393625208, 'lambda_l1': 0.3984514235591574, 'lambda_l2': 3.8648301237018625, 'bagging_fraction': 0.8928568456335184, 'feature_fraction': 0.7779162994962061, 'w1': 0.49, 'w2': 0.05, 'w3': 0.09, 'w4': 0.15000000000000002, 'w5': 0.05, 'w6': 0.16999999999999993, 'n': 10, 'stop_rate': -0.012, 'profit_rate': 0.009000000000000001}.\n",
      "[I 2025-01-17 17:02:36,755] Trial 6 finished with values: [2.302350877876592, -0.6236441777564184, 17.0] and parameters: {'class_weight_1': 887, 'class_weight_-1': 585, 'learning_rate': 0.010323939581129735, 'num_leaves': 216, 'max_depth': 12, 'min_child_samples': 55, 'max_bin': 340, 'subsample': 0.6661089726848581, 'lambda_l1': 4.157050164616677, 'lambda_l2': 1.5580328344824113, 'bagging_fraction': 0.5650691780009487, 'feature_fraction': 0.5271560608137128, 'w1': 0.15000000000000002, 'w2': 0.45, 'w3': 0.11, 'w4': 0.05, 'w5': 0.07, 'w6': 0.16999999999999993, 'n': 9, 'stop_rate': -0.021777777777777778, 'profit_rate': 0.006555555555555556}.\n",
      "[I 2025-01-17 17:02:41,880] Trial 12 finished with values: [0.9215703765249946, -0.5809119648428552, 22.0] and parameters: {'class_weight_1': 157, 'class_weight_-1': 103, 'learning_rate': 0.01344111482233152, 'num_leaves': 77, 'max_depth': 3, 'min_child_samples': 78, 'max_bin': 292, 'subsample': 0.7727515332634519, 'lambda_l1': 3.3489506696537363, 'lambda_l2': 6.168738120357471, 'bagging_fraction': 0.5006554241896402, 'feature_fraction': 0.6930230133927098, 'w1': 0.5800000000000001, 'w2': 0.15000000000000002, 'w3': 0.05, 'w4': 0.05, 'w5': 0.06, 'w6': 0.10999999999999988, 'n': 9, 'stop_rate': -0.011777777777777776, 'profit_rate': 0.007555555555555556}.\n",
      "[I 2025-01-17 17:02:44,560] Trial 2 finished with values: [4.025269950188674, 0.0, 8.0] and parameters: {'class_weight_1': 899, 'class_weight_-1': 593, 'learning_rate': 0.08953743874451628, 'num_leaves': 151, 'max_depth': 13, 'min_child_samples': 44, 'max_bin': 366, 'subsample': 0.6865662812005069, 'lambda_l1': 7.067517080949263, 'lambda_l2': 8.382655880195221, 'bagging_fraction': 0.8674386763679025, 'feature_fraction': 0.6626759827463693, 'w1': 0.35, 'w2': 0.39, 'w3': 0.05, 'w4': 0.05, 'w5': 0.05, 'w6': 0.10999999999999988, 'n': 8, 'stop_rate': -0.014249999999999999, 'profit_rate': 0.00925}.\n",
      "[I 2025-01-17 17:02:50,004] Trial 13 finished with values: [15.469005776507286, 0.0, 49.0] and parameters: {'class_weight_1': 905, 'class_weight_-1': 597, 'learning_rate': 0.001115011130511221, 'num_leaves': 138, 'max_depth': 4, 'min_child_samples': 82, 'max_bin': 475, 'subsample': 0.6066530220597356, 'lambda_l1': 6.089844506312197, 'lambda_l2': 5.838782921735804, 'bagging_fraction': 0.6417416451707096, 'feature_fraction': 0.6285203994305923, 'w1': 0.5700000000000001, 'w2': 0.13, 'w3': 0.07, 'w4': 0.05, 'w5': 0.05, 'w6': 0.1299999999999999, 'n': 9, 'stop_rate': -0.018777777777777775, 'profit_rate': 0.006555555555555556}.\n",
      "[I 2025-01-17 17:02:53,026] Trial 7 finished with values: [10.122704401915586, 0.0, 8.0] and parameters: {'class_weight_1': 530, 'class_weight_-1': 349, 'learning_rate': 0.052977621831760545, 'num_leaves': 244, 'max_depth': 15, 'min_child_samples': 33, 'max_bin': 350, 'subsample': 0.7983887778687232, 'lambda_l1': 4.812426556870316, 'lambda_l2': 0.8867081838801338, 'bagging_fraction': 0.8978806062308227, 'feature_fraction': 0.7874521012117855, 'w1': 0.64, 'w2': 0.08, 'w3': 0.07, 'w4': 0.05, 'w5': 0.05, 'w6': 0.10999999999999988, 'n': 10, 'stop_rate': -0.024, 'profit_rate': 0.007}.\n",
      "[I 2025-01-17 17:03:03,627] Trial 1 finished with values: [1.6621673989013008, -0.6942557360807198, 15.0] and parameters: {'class_weight_1': 110, 'class_weight_-1': 72, 'learning_rate': 0.0048673644489176365, 'num_leaves': 163, 'max_depth': -1, 'min_child_samples': 24, 'max_bin': 187, 'subsample': 0.6793044290451355, 'lambda_l1': 3.6889373603752897, 'lambda_l2': 4.989593469777168, 'bagging_fraction': 0.7237235589731366, 'feature_fraction': 0.9288769922897062, 'w1': 0.6900000000000001, 'w2': 0.05, 'w3': 0.05, 'w4': 0.05, 'w5': 0.05, 'w6': 0.10999999999999976, 'n': 10, 'stop_rate': -0.014000000000000002, 'profit_rate': 0.006}.\n",
      "[I 2025-01-17 17:03:04,431] Trial 15 finished with values: [0.7355952881841183, -0.7070664309673991, 18.0] and parameters: {'class_weight_1': 357, 'class_weight_-1': 235, 'learning_rate': 0.0016698228286486042, 'num_leaves': 194, 'max_depth': 5, 'min_child_samples': 14, 'max_bin': 284, 'subsample': 0.6218945442428712, 'lambda_l1': 2.560025580250577, 'lambda_l2': 4.868220030930194, 'bagging_fraction': 0.8075074331177475, 'feature_fraction': 0.5727565333820286, 'w1': 0.41, 'w2': 0.28, 'w3': 0.08, 'w4': 0.08, 'w5': 0.05, 'w6': 0.10000000000000009, 'n': 7, 'stop_rate': -0.03171428571428571, 'profit_rate': 0.0071428571428571435}.\n",
      "[I 2025-01-17 17:03:13,654] Trial 20 finished with values: [4.856353047582987, 0.0, 73.0] and parameters: {'class_weight_1': 919, 'class_weight_-1': 606, 'learning_rate': 0.001291366039049601, 'num_leaves': 205, 'max_depth': 2, 'min_child_samples': 60, 'max_bin': 242, 'subsample': 0.9079489795107265, 'lambda_l1': 9.84023741819529, 'lambda_l2': 9.871573095505484, 'bagging_fraction': 0.9101961874865552, 'feature_fraction': 0.7199203858691032, 'w1': 0.5800000000000001, 'w2': 0.05, 'w3': 0.13, 'w4': 0.05, 'w5': 0.05, 'w6': 0.1399999999999998, 'n': 10, 'stop_rate': -0.011000000000000001, 'profit_rate': 0.005}.\n",
      "[I 2025-01-17 17:03:21,107] Trial 18 finished with values: [1.0699998951151917, -0.8127394301121749, 17.0] and parameters: {'class_weight_1': 79, 'class_weight_-1': 52, 'learning_rate': 0.0016646697898630093, 'num_leaves': 142, 'max_depth': 5, 'min_child_samples': 28, 'max_bin': 483, 'subsample': 0.6548392092237776, 'lambda_l1': 7.667320020089196, 'lambda_l2': 9.844818165723517, 'bagging_fraction': 0.9010309032735837, 'feature_fraction': 0.9157409860694093, 'w1': 0.46, 'w2': 0.09, 'w3': 0.15000000000000002, 'w4': 0.07, 'w5': 0.060000000000000005, 'w6': 0.16999999999999993, 'n': 10, 'stop_rate': -0.015000000000000001, 'profit_rate': 0.005}.\n",
      "[I 2025-01-17 17:03:34,833] Trial 16 finished with values: [2.3351885588689636, -0.7099450337417935, 20.0] and parameters: {'class_weight_1': 490, 'class_weight_-1': 323, 'learning_rate': 0.007476185366922512, 'num_leaves': 51, 'max_depth': 0, 'min_child_samples': 52, 'max_bin': 405, 'subsample': 0.7217983326223766, 'lambda_l1': 8.186749325738319, 'lambda_l2': 6.637729962464062, 'bagging_fraction': 0.6517338002241562, 'feature_fraction': 0.8510158627904747, 'w1': 0.53, 'w2': 0.16999999999999998, 'w3': 0.09, 'w4': 0.06, 'w5': 0.05, 'w6': 0.10000000000000009, 'n': 10, 'stop_rate': -0.010000000000000002, 'profit_rate': 0.006}.\n",
      "[I 2025-01-17 17:03:35,198] Trial 11 finished with values: [1.8009840072608925, -0.7065493231503708, 16.0] and parameters: {'class_weight_1': 270, 'class_weight_-1': 178, 'learning_rate': 0.003598073918584841, 'num_leaves': 78, 'max_depth': 15, 'min_child_samples': 45, 'max_bin': 127, 'subsample': 0.5063195002633756, 'lambda_l1': 4.0551785187565965, 'lambda_l2': 3.3613571659958827, 'bagging_fraction': 0.5445614602675737, 'feature_fraction': 0.7023950117831204, 'w1': 0.060000000000000005, 'w2': 0.67, 'w3': 0.06, 'w4': 0.05, 'w5': 0.05, 'w6': 0.10999999999999988, 'n': 9, 'stop_rate': -0.021777777777777778, 'profit_rate': 0.009555555555555557}.\n",
      "[I 2025-01-17 17:03:41,824] Trial 17 finished with values: [1.2111633295993907, -0.7667069141942117, 16.0] and parameters: {'class_weight_1': 784, 'class_weight_-1': 517, 'learning_rate': 0.029137070034448546, 'num_leaves': 202, 'max_depth': 10, 'min_child_samples': 26, 'max_bin': 300, 'subsample': 0.5502441905004734, 'lambda_l1': 8.599258991934786, 'lambda_l2': 7.283518837127643, 'bagging_fraction': 0.8051670998022742, 'feature_fraction': 0.6330012102906235, 'w1': 0.21000000000000002, 'w2': 0.28, 'w3': 0.24, 'w4': 0.11, 'w5': 0.05, 'w6': 0.10999999999999999, 'n': 10, 'stop_rate': -0.021, 'profit_rate': 0.007}.\n",
      "[I 2025-01-17 17:03:48,276] Trial 14 finished with values: [5.71838093474768, 0.0, 7.0] and parameters: {'class_weight_1': 895, 'class_weight_-1': 590, 'learning_rate': 0.05281141306371162, 'num_leaves': 114, 'max_depth': 14, 'min_child_samples': 91, 'max_bin': 306, 'subsample': 0.6014276087626358, 'lambda_l1': 5.475611147367422, 'lambda_l2': 8.358726531246504, 'bagging_fraction': 0.552391307031596, 'feature_fraction': 0.9078569413991469, 'w1': 0.63, 'w2': 0.12, 'w3': 0.05, 'w4': 0.05, 'w5': 0.05, 'w6': 0.09999999999999987, 'n': 7, 'stop_rate': -0.03171428571428571, 'profit_rate': 0.0071428571428571435}.\n",
      "[I 2025-01-17 17:03:48,607] Trial 22 finished with values: [0.42860129628269544, -0.8585255388628179, 20.0] and parameters: {'class_weight_1': 251, 'class_weight_-1': 165, 'learning_rate': 0.007161980517263182, 'num_leaves': 200, 'max_depth': 6, 'min_child_samples': 42, 'max_bin': 332, 'subsample': 0.5794243645415551, 'lambda_l1': 9.66718482323171, 'lambda_l2': 6.291334499326138, 'bagging_fraction': 0.5469159280655687, 'feature_fraction': 0.8849110890137302, 'w1': 0.36, 'w2': 0.39, 'w3': 0.05, 'w4': 0.05, 'w5': 0.05, 'w6': 0.09999999999999987, 'n': 9, 'stop_rate': -0.027777777777777776, 'profit_rate': 0.005555555555555556}.\n",
      "[I 2025-01-17 17:04:10,098] Trial 21 finished with values: [2.0652328775174986, -0.5204222835184014, 19.0] and parameters: {'class_weight_1': 192, 'class_weight_-1': 126, 'learning_rate': 0.007546247151220378, 'num_leaves': 189, 'max_depth': 8, 'min_child_samples': 83, 'max_bin': 217, 'subsample': 0.7748371621027713, 'lambda_l1': 9.285212704692139, 'lambda_l2': 2.9578332695215357, 'bagging_fraction': 0.6043215030319707, 'feature_fraction': 0.5067484848416013, 'w1': 0.25, 'w2': 0.29, 'w3': 0.05, 'w4': 0.14, 'w5': 0.060000000000000005, 'w6': 0.20999999999999985, 'n': 7, 'stop_rate': -0.024714285714285713, 'profit_rate': 0.008142857142857143}.\n",
      "[I 2025-01-17 17:04:16,847] Trial 29 finished with values: [9.813197979686421, -0.4585447463229244, 55.0] and parameters: {'class_weight_1': 626, 'class_weight_-1': 413, 'learning_rate': 0.024975363968363164, 'num_leaves': 185, 'max_depth': 1, 'min_child_samples': 28, 'max_bin': 251, 'subsample': 0.9424714725451283, 'lambda_l1': 0.8759559686772589, 'lambda_l2': 5.206420321603269, 'bagging_fraction': 0.6813802230654187, 'feature_fraction': 0.6143299652103658, 'w1': 0.18, 'w2': 0.24, 'w3': 0.11, 'w4': 0.27, 'w5': 0.05, 'w6': 0.1499999999999999, 'n': 10, 'stop_rate': -0.011000000000000001, 'profit_rate': 0.009000000000000001}.\n",
      "[I 2025-01-17 17:04:21,057] Trial 23 finished with values: [1.6618516621498263, -0.5621866989336712, 18.0] and parameters: {'class_weight_1': 613, 'class_weight_-1': 404, 'learning_rate': 0.0018707216392228028, 'num_leaves': 118, 'max_depth': 11, 'min_child_samples': 93, 'max_bin': 181, 'subsample': 0.6589702167412674, 'lambda_l1': 5.485132823582658, 'lambda_l2': 5.260523653554298, 'bagging_fraction': 0.9804355988794484, 'feature_fraction': 0.8373021188298247, 'w1': 0.49, 'w2': 0.11, 'w3': 0.16999999999999998, 'w4': 0.07, 'w5': 0.05, 'w6': 0.10999999999999988, 'n': 8, 'stop_rate': -0.03125, 'profit_rate': 0.00725}.\n",
      "[I 2025-01-17 17:04:21,325] Trial 19 finished with values: [5.038568251434742, 0.0, 7.0] and parameters: {'class_weight_1': 271, 'class_weight_-1': 178, 'learning_rate': 0.08580413174381973, 'num_leaves': 201, 'max_depth': 15, 'min_child_samples': 98, 'max_bin': 341, 'subsample': 0.8166596324037245, 'lambda_l1': 2.99159702247508, 'lambda_l2': 0.895689512166491, 'bagging_fraction': 0.6905695217012144, 'feature_fraction': 0.9704127119902638, 'w1': 0.22000000000000003, 'w2': 0.07, 'w3': 0.15000000000000002, 'w4': 0.24, 'w5': 0.15000000000000002, 'w6': 0.16999999999999993, 'n': 8, 'stop_rate': -0.01325, 'profit_rate': 0.00725}.\n",
      "[I 2025-01-17 17:04:28,617] Trial 25 finished with values: [1.7268760277321238, -0.7662798379367013, 20.0] and parameters: {'class_weight_1': 868, 'class_weight_-1': 572, 'learning_rate': 0.006602362823467221, 'num_leaves': 245, 'max_depth': 11, 'min_child_samples': 43, 'max_bin': 215, 'subsample': 0.9523681862697765, 'lambda_l1': 1.6434453275613792, 'lambda_l2': 8.7984381678253, 'bagging_fraction': 0.7113977811392461, 'feature_fraction': 0.9753995891513918, 'w1': 0.54, 'w2': 0.12000000000000001, 'w3': 0.060000000000000005, 'w4': 0.08, 'w5': 0.08, 'w6': 0.12, 'n': 10, 'stop_rate': -0.019000000000000003, 'profit_rate': 0.01}.\n",
      "[I 2025-01-17 17:04:40,940] Trial 31 finished with values: [4.3934308704124625, -0.2432321058701059, 43.0] and parameters: {'class_weight_1': 952, 'class_weight_-1': 628, 'learning_rate': 0.001466440423508177, 'num_leaves': 150, 'max_depth': 4, 'min_child_samples': 12, 'max_bin': 479, 'subsample': 0.5737117823104931, 'lambda_l1': 3.4453553595116757, 'lambda_l2': 5.968781742136622, 'bagging_fraction': 0.9798571363720399, 'feature_fraction': 0.7602539254568003, 'w1': 0.16999999999999998, 'w2': 0.29, 'w3': 0.16999999999999998, 'w4': 0.15000000000000002, 'w5': 0.060000000000000005, 'w6': 0.16000000000000003, 'n': 8, 'stop_rate': -0.02025, 'profit_rate': 0.00825}.\n",
      "[I 2025-01-17 17:04:46,821] Trial 24 finished with values: [0.8245919548453466, -0.5531245297425289, 19.0] and parameters: {'class_weight_1': 928, 'class_weight_-1': 612, 'learning_rate': 0.0046327889413293345, 'num_leaves': 179, 'max_depth': -1, 'min_child_samples': 85, 'max_bin': 427, 'subsample': 0.5561945484492858, 'lambda_l1': 1.0380162980784435, 'lambda_l2': 6.257400446600304, 'bagging_fraction': 0.9286354374630941, 'feature_fraction': 0.8825425445744732, 'w1': 0.14, 'w2': 0.6000000000000001, 'w3': 0.05, 'w4': 0.05, 'w5': 0.05, 'w6': 0.10999999999999976, 'n': 7, 'stop_rate': -0.023714285714285712, 'profit_rate': 0.009142857142857144}.\n",
      "[I 2025-01-17 17:04:57,612] Trial 26 finished with values: [2.375485505349121, -0.5433027554316231, 11.0] and parameters: {'class_weight_1': 125, 'class_weight_-1': 82, 'learning_rate': 0.0014788782290118437, 'num_leaves': 99, 'max_depth': 13, 'min_child_samples': 90, 'max_bin': 158, 'subsample': 0.7447204120070441, 'lambda_l1': 3.4956754763308187, 'lambda_l2': 7.849042218184748, 'bagging_fraction': 0.5709644113047103, 'feature_fraction': 0.9465268788808883, 'w1': 0.45, 'w2': 0.2, 'w3': 0.14, 'w4': 0.05, 'w5': 0.05, 'w6': 0.10999999999999988, 'n': 8, 'stop_rate': -0.03025, 'profit_rate': 0.00825}.\n",
      "[I 2025-01-17 17:04:59,090] Trial 33 finished with values: [0.6517334799392981, -0.8574551333393806, 25.0] and parameters: {'class_weight_1': 982, 'class_weight_-1': 648, 'learning_rate': 0.003233180059567019, 'num_leaves': 104, 'max_depth': 6, 'min_child_samples': 75, 'max_bin': 196, 'subsample': 0.6181682425743802, 'lambda_l1': 9.761214599967866, 'lambda_l2': 1.2415306581659047, 'bagging_fraction': 0.5983958518174795, 'feature_fraction': 0.6523760802249714, 'w1': 0.5900000000000001, 'w2': 0.060000000000000005, 'w3': 0.14, 'w4': 0.05, 'w5': 0.05, 'w6': 0.10999999999999976, 'n': 10, 'stop_rate': -0.018000000000000002, 'profit_rate': 0.006}.\n",
      "[I 2025-01-17 17:05:09,914] Trial 30 finished with values: [2.1380467668438317, -0.5615190751498187, 18.0] and parameters: {'class_weight_1': 693, 'class_weight_-1': 457, 'learning_rate': 0.0012909080415223425, 'num_leaves': 86, 'max_depth': 10, 'min_child_samples': 21, 'max_bin': 441, 'subsample': 0.6198895107104296, 'lambda_l1': 7.0639202787203885, 'lambda_l2': 5.803465917713862, 'bagging_fraction': 0.720976287810885, 'feature_fraction': 0.7468032514309622, 'w1': 0.13, 'w2': 0.62, 'w3': 0.05, 'w4': 0.05, 'w5': 0.05, 'w6': 0.09999999999999987, 'n': 8, 'stop_rate': -0.01825, 'profit_rate': 0.00725}.\n",
      "[I 2025-01-17 17:05:10,468] Trial 27 finished with values: [0.6261823297885933, -0.7391178828804511, 13.0] and parameters: {'class_weight_1': 55, 'class_weight_-1': 36, 'learning_rate': 0.005753323096689346, 'num_leaves': 206, 'max_depth': 9, 'min_child_samples': 61, 'max_bin': 437, 'subsample': 0.5504106957342383, 'lambda_l1': 0.8864381362204299, 'lambda_l2': 2.6252974874034365, 'bagging_fraction': 0.9684555251666107, 'feature_fraction': 0.7571547583363634, 'w1': 0.25, 'w2': 0.060000000000000005, 'w3': 0.12000000000000001, 'w4': 0.08, 'w5': 0.16, 'w6': 0.32999999999999996, 'n': 8, 'stop_rate': -0.02025, 'profit_rate': 0.00825}.\n",
      "[I 2025-01-17 17:05:11,218] Trial 28 finished with values: [1.670933616160918, 0.0, 8.0] and parameters: {'class_weight_1': 24, 'class_weight_-1': 15, 'learning_rate': 0.0424306703088225, 'num_leaves': 229, 'max_depth': 12, 'min_child_samples': 46, 'max_bin': 464, 'subsample': 0.5354221529667483, 'lambda_l1': 9.675701073059885, 'lambda_l2': 0.43988526186542476, 'bagging_fraction': 0.7631669460497077, 'feature_fraction': 0.7226517005983957, 'w1': 0.29, 'w2': 0.31, 'w3': 0.16, 'w4': 0.08, 'w5': 0.06, 'w6': 0.10000000000000009, 'n': 9, 'stop_rate': -0.016777777777777777, 'profit_rate': 0.006555555555555556}.\n",
      "[I 2025-01-17 17:05:18,307] Trial 40 finished with values: [0.30244577481916957, -0.6814435659454494, 43.0] and parameters: {'class_weight_1': 900, 'class_weight_-1': 594, 'learning_rate': 0.004200100248138273, 'num_leaves': 54, 'max_depth': 1, 'min_child_samples': 29, 'max_bin': 174, 'subsample': 0.6129337136884424, 'lambda_l1': 8.254387326710157, 'lambda_l2': 4.283689583187138, 'bagging_fraction': 0.8397286965980556, 'feature_fraction': 0.653077028296648, 'w1': 0.6200000000000001, 'w2': 0.09, 'w3': 0.060000000000000005, 'w4': 0.060000000000000005, 'w5': 0.06, 'w6': 0.10999999999999988, 'n': 10, 'stop_rate': -0.02, 'profit_rate': 0.009000000000000001}.\n",
      "[I 2025-01-17 17:05:29,250] Trial 32 finished with values: [1.1480728840442969, -0.6840164682877083, 17.0] and parameters: {'class_weight_1': 260, 'class_weight_-1': 171, 'learning_rate': 0.0020833235659665234, 'num_leaves': 182, 'max_depth': 13, 'min_child_samples': 91, 'max_bin': 370, 'subsample': 0.7190675348515307, 'lambda_l1': 8.453599140523956, 'lambda_l2': 7.288464430330634, 'bagging_fraction': 0.7950494857720984, 'feature_fraction': 0.9357973000015211, 'w1': 0.26, 'w2': 0.2, 'w3': 0.33, 'w4': 0.05, 'w5': 0.05, 'w6': 0.10999999999999988, 'n': 7, 'stop_rate': -0.01771428571428571, 'profit_rate': 0.009142857142857144}.\n",
      "[I 2025-01-17 17:05:40,884] Trial 36 finished with values: [2.243291541353429, -0.5615190751498187, 16.0] and parameters: {'class_weight_1': 435, 'class_weight_-1': 287, 'learning_rate': 0.004121515756541475, 'num_leaves': 104, 'max_depth': 7, 'min_child_samples': 56, 'max_bin': 422, 'subsample': 0.7597008225976858, 'lambda_l1': 0.37237844082891214, 'lambda_l2': 3.158557112172523, 'bagging_fraction': 0.5946009669807295, 'feature_fraction': 0.5164697255657702, 'w1': 0.2, 'w2': 0.46, 'w3': 0.05, 'w4': 0.13, 'w5': 0.05, 'w6': 0.10999999999999988, 'n': 8, 'stop_rate': -0.01625, 'profit_rate': 0.00925}.\n",
      "[I 2025-01-17 17:05:42,390] Trial 38 finished with values: [2.297874540644361, -0.4821554930090144, 14.0] and parameters: {'class_weight_1': 343, 'class_weight_-1': 226, 'learning_rate': 0.017767058664516326, 'num_leaves': 140, 'max_depth': 6, 'min_child_samples': 83, 'max_bin': 399, 'subsample': 0.9430387074684453, 'lambda_l1': 5.828220791490506, 'lambda_l2': 4.565095646945286, 'bagging_fraction': 0.657476502823179, 'feature_fraction': 0.8564831914385358, 'w1': 0.53, 'w2': 0.13, 'w3': 0.060000000000000005, 'w4': 0.12, 'w5': 0.05, 'w6': 0.10999999999999988, 'n': 7, 'stop_rate': -0.02671428571428571, 'profit_rate': 0.009142857142857144}.\n",
      "[I 2025-01-17 17:05:44,122] Trial 35 finished with values: [1.747822616320892, -0.7390728409932422, 16.0] and parameters: {'class_weight_1': 584, 'class_weight_-1': 385, 'learning_rate': 0.004558303481979699, 'num_leaves': 136, 'max_depth': 11, 'min_child_samples': 13, 'max_bin': 450, 'subsample': 0.7129945794619654, 'lambda_l1': 5.485204366923478, 'lambda_l2': 7.891578037661593, 'bagging_fraction': 0.8576822757942759, 'feature_fraction': 0.6379576666497622, 'w1': 0.1, 'w2': 0.56, 'w3': 0.09, 'w4': 0.060000000000000005, 'w5': 0.08, 'w6': 0.10999999999999999, 'n': 10, 'stop_rate': -0.015000000000000001, 'profit_rate': 0.009000000000000001}.\n",
      "[I 2025-01-17 17:05:49,015] Trial 43 finished with values: [6.1893737480422795, -0.1919510156225308, 56.0] and parameters: {'class_weight_1': 905, 'class_weight_-1': 597, 'learning_rate': 0.02820275241595847, 'num_leaves': 30, 'max_depth': 1, 'min_child_samples': 63, 'max_bin': 486, 'subsample': 0.8599822070599548, 'lambda_l1': 9.350788061995718, 'lambda_l2': 2.350136850774099, 'bagging_fraction': 0.6308101387543428, 'feature_fraction': 0.9753019957711664, 'w1': 0.44, 'w2': 0.16, 'w3': 0.14, 'w4': 0.08, 'w5': 0.08, 'w6': 0.10000000000000009, 'n': 9, 'stop_rate': -0.024777777777777777, 'profit_rate': 0.006555555555555556}.\n",
      "[I 2025-01-17 17:05:57,457] Trial 46 finished with values: [1.4682813109399435, -0.32082813676843014, 47.0] and parameters: {'class_weight_1': 827, 'class_weight_-1': 545, 'learning_rate': 0.0029077714174737166, 'num_leaves': 249, 'max_depth': 2, 'min_child_samples': 78, 'max_bin': 402, 'subsample': 0.7869120834192823, 'lambda_l1': 1.843380012486695, 'lambda_l2': 1.0210174733104416, 'bagging_fraction': 0.7244652519048734, 'feature_fraction': 0.6797628794948898, 'w1': 0.11, 'w2': 0.5700000000000001, 'w3': 0.05, 'w4': 0.08, 'w5': 0.05, 'w6': 0.1399999999999999, 'n': 7, 'stop_rate': -0.03571428571428571, 'profit_rate': 0.0071428571428571435}.\n",
      "[I 2025-01-17 17:06:02,189] Trial 34 finished with values: [0.5723040662783293, -0.4972909904334022, 9.0] and parameters: {'class_weight_1': 373, 'class_weight_-1': 246, 'learning_rate': 0.04895175525884589, 'num_leaves': 157, 'max_depth': 14, 'min_child_samples': 41, 'max_bin': 371, 'subsample': 0.6238793287091156, 'lambda_l1': 7.729458863427156, 'lambda_l2': 7.172644183036219, 'bagging_fraction': 0.7009661906496816, 'feature_fraction': 0.9499310847825739, 'w1': 0.29, 'w2': 0.13, 'w3': 0.25, 'w4': 0.13, 'w5': 0.07, 'w6': 0.13000000000000012, 'n': 7, 'stop_rate': -0.02271428571428571, 'profit_rate': 0.009142857142857144}.\n",
      "[I 2025-01-17 17:06:05,901] Trial 39 finished with values: [1.710836703597994, -0.7582341039073743, 17.0] and parameters: {'class_weight_1': 604, 'class_weight_-1': 398, 'learning_rate': 0.020796667566146735, 'num_leaves': 68, 'max_depth': 10, 'min_child_samples': 71, 'max_bin': 458, 'subsample': 0.861818870023777, 'lambda_l1': 1.4018576737397337, 'lambda_l2': 9.77282430621399, 'bagging_fraction': 0.804760775537783, 'feature_fraction': 0.7006793462428826, 'w1': 0.5700000000000001, 'w2': 0.08, 'w3': 0.07, 'w4': 0.07, 'w5': 0.07, 'w6': 0.1399999999999999, 'n': 10, 'stop_rate': -0.02, 'profit_rate': 0.009000000000000001}.\n",
      "[I 2025-01-17 17:06:11,645] Trial 37 finished with values: [1.299589847130749, -0.7936084050232952, 17.0] and parameters: {'class_weight_1': 288, 'class_weight_-1': 190, 'learning_rate': 0.004124758490406428, 'num_leaves': 185, 'max_depth': 14, 'min_child_samples': 55, 'max_bin': 386, 'subsample': 0.6633525815327377, 'lambda_l1': 8.782128117568334, 'lambda_l2': 3.0895544080891257, 'bagging_fraction': 0.8549548299227588, 'feature_fraction': 0.8626971049721661, 'w1': 0.16999999999999998, 'w2': 0.44, 'w3': 0.12000000000000001, 'w4': 0.09, 'w5': 0.08, 'w6': 0.10000000000000009, 'n': 10, 'stop_rate': -0.016, 'profit_rate': 0.007}.\n",
      "[I 2025-01-17 17:06:16,825] Trial 41 finished with values: [1.0808601343510862, -0.6421519969549676, 22.0] and parameters: {'class_weight_1': 679, 'class_weight_-1': 448, 'learning_rate': 0.0012072511774614209, 'num_leaves': 214, 'max_depth': 0, 'min_child_samples': 88, 'max_bin': 116, 'subsample': 0.7222644402379508, 'lambda_l1': 4.796465673606166, 'lambda_l2': 5.234019366183396, 'bagging_fraction': 0.514593571693674, 'feature_fraction': 0.8177094013711316, 'w1': 0.2, 'w2': 0.32, 'w3': 0.25, 'w4': 0.060000000000000005, 'w5': 0.06, 'w6': 0.10999999999999988, 'n': 8, 'stop_rate': -0.02025, 'profit_rate': 0.00625}.\n",
      "[I 2025-01-17 17:06:17,327] Trial 42 finished with values: [6.040436358931018, 0.0, 8.0] and parameters: {'class_weight_1': 31, 'class_weight_-1': 20, 'learning_rate': 0.036845772322272506, 'num_leaves': 202, 'max_depth': 8, 'min_child_samples': 81, 'max_bin': 151, 'subsample': 0.9130652367448224, 'lambda_l1': 6.733159192571812, 'lambda_l2': 4.288516418357319, 'bagging_fraction': 0.6605109062940422, 'feature_fraction': 0.5943670848854278, 'w1': 0.15000000000000002, 'w2': 0.28, 'w3': 0.13, 'w4': 0.13, 'w5': 0.060000000000000005, 'w6': 0.2499999999999999, 'n': 9, 'stop_rate': -0.018777777777777775, 'profit_rate': 0.009555555555555557}.\n",
      "[I 2025-01-17 17:06:31,622] Trial 50 finished with values: [0.8613736694798315, -0.7397661135645018, 15.0] and parameters: {'class_weight_1': 229, 'class_weight_-1': 151, 'learning_rate': 0.007865884750230326, 'num_leaves': 165, 'max_depth': 4, 'min_child_samples': 16, 'max_bin': 313, 'subsample': 0.826341472910142, 'lambda_l1': 1.8607523804593784, 'lambda_l2': 4.999792566365682, 'bagging_fraction': 0.8785844607465259, 'feature_fraction': 0.6366950016061318, 'w1': 0.47, 'w2': 0.11, 'w3': 0.16, 'w4': 0.05, 'w5': 0.08, 'w6': 0.13, 'n': 10, 'stop_rate': -0.019000000000000003, 'profit_rate': 0.008}.\n",
      "[I 2025-01-17 17:06:37,620] Trial 48 finished with values: [0.8022731911170043, -0.8595241052768955, 18.0] and parameters: {'class_weight_1': 664, 'class_weight_-1': 438, 'learning_rate': 0.023125646389733162, 'num_leaves': 22, 'max_depth': 0, 'min_child_samples': 31, 'max_bin': 289, 'subsample': 0.7481254554158261, 'lambda_l1': 5.152796726220698, 'lambda_l2': 5.241381657731406, 'bagging_fraction': 0.5025156913812165, 'feature_fraction': 0.9968768830124426, 'w1': 0.47, 'w2': 0.27, 'w3': 0.06, 'w4': 0.05, 'w5': 0.05, 'w6': 0.09999999999999987, 'n': 10, 'stop_rate': -0.023, 'profit_rate': 0.008}.\n",
      "[I 2025-01-17 17:06:42,936] Trial 44 finished with values: [1.9265752944483288, -0.7318713784815061, 19.0] and parameters: {'class_weight_1': 823, 'class_weight_-1': 543, 'learning_rate': 0.0010864652477200671, 'num_leaves': 113, 'max_depth': 15, 'min_child_samples': 58, 'max_bin': 203, 'subsample': 0.60335827804532, 'lambda_l1': 8.201917377989774, 'lambda_l2': 5.444075418953416, 'bagging_fraction': 0.9139866266042652, 'feature_fraction': 0.6626528813080004, 'w1': 0.56, 'w2': 0.11, 'w3': 0.09, 'w4': 0.060000000000000005, 'w5': 0.060000000000000005, 'w6': 0.11999999999999988, 'n': 10, 'stop_rate': -0.017, 'profit_rate': 0.007}.\n",
      "[I 2025-01-17 17:06:44,645] Trial 47 finished with values: [1.3295701552725134, -0.4821554930090144, 13.0] and parameters: {'class_weight_1': 862, 'class_weight_-1': 568, 'learning_rate': 0.001690543537603388, 'num_leaves': 221, 'max_depth': 10, 'min_child_samples': 76, 'max_bin': 400, 'subsample': 0.6751824443286958, 'lambda_l1': 2.060098377744699, 'lambda_l2': 2.1595315770751267, 'bagging_fraction': 0.7822511309323659, 'feature_fraction': 0.9667610383467138, 'w1': 0.38, 'w2': 0.05, 'w3': 0.36, 'w4': 0.05, 'w5': 0.05, 'w6': 0.10999999999999988, 'n': 7, 'stop_rate': -0.03271428571428571, 'profit_rate': 0.008142857142857143}.\n",
      "[I 2025-01-17 17:06:54,701] Trial 54 finished with values: [0.2642531406042941, -0.9123425302586682, 19.0] and parameters: {'class_weight_1': 366, 'class_weight_-1': 241, 'learning_rate': 0.051524393100885565, 'num_leaves': 145, 'max_depth': 4, 'min_child_samples': 84, 'max_bin': 497, 'subsample': 0.5032122838330044, 'lambda_l1': 6.125186936092914, 'lambda_l2': 7.237522888757898, 'bagging_fraction': 0.8207505839679997, 'feature_fraction': 0.6346438688930298, 'w1': 0.08, 'w2': 0.38, 'w3': 0.25, 'w4': 0.05, 'w5': 0.060000000000000005, 'w6': 0.17999999999999994, 'n': 9, 'stop_rate': -0.014777777777777775, 'profit_rate': 0.008555555555555556}.\n",
      "[I 2025-01-17 17:06:59,021] Trial 45 finished with values: [4.343278072249299, 0.0, 7.0] and parameters: {'class_weight_1': 42, 'class_weight_-1': 27, 'learning_rate': 0.06654642530724507, 'num_leaves': 199, 'max_depth': 13, 'min_child_samples': 73, 'max_bin': 250, 'subsample': 0.7486963837158745, 'lambda_l1': 6.110739502957671, 'lambda_l2': 7.134424540213904, 'bagging_fraction': 0.5302654818416808, 'feature_fraction': 0.720125833551289, 'w1': 0.6900000000000001, 'w2': 0.05, 'w3': 0.05, 'w4': 0.05, 'w5': 0.05, 'w6': 0.10999999999999976, 'n': 7, 'stop_rate': -0.020714285714285713, 'profit_rate': 0.008142857142857143}.\n",
      "[I 2025-01-17 17:07:07,978] Trial 52 finished with values: [0.5797867209944878, -0.809408840070258, 19.0] and parameters: {'class_weight_1': 392, 'class_weight_-1': 258, 'learning_rate': 0.010438022928806022, 'num_leaves': 107, 'max_depth': 10, 'min_child_samples': 98, 'max_bin': 363, 'subsample': 0.6060000318490217, 'lambda_l1': 6.7359772726638765, 'lambda_l2': 5.518514533903601, 'bagging_fraction': 0.7551075806542779, 'feature_fraction': 0.9787801302814487, 'w1': 0.33, 'w2': 0.2, 'w3': 0.09, 'w4': 0.13, 'w5': 0.12000000000000001, 'w6': 0.13, 'n': 9, 'stop_rate': -0.013777777777777776, 'profit_rate': 0.005555555555555556}.\n",
      "[I 2025-01-17 17:07:16,336] Trial 53 finished with values: [1.3870064533582735, -0.8007309000439856, 18.0] and parameters: {'class_weight_1': 965, 'class_weight_-1': 636, 'learning_rate': 0.01882024543335227, 'num_leaves': 191, 'max_depth': 11, 'min_child_samples': 53, 'max_bin': 289, 'subsample': 0.8382352651031668, 'lambda_l1': 8.230746107341652, 'lambda_l2': 2.7374449143237234, 'bagging_fraction': 0.8323437634798566, 'feature_fraction': 0.810162038422242, 'w1': 0.48, 'w2': 0.14, 'w3': 0.16, 'w4': 0.05, 'w5': 0.05, 'w6': 0.11999999999999988, 'n': 10, 'stop_rate': -0.014000000000000002, 'profit_rate': 0.006}.\n",
      "[I 2025-01-17 17:07:23,668] Trial 51 finished with values: [2.205979865094957, -0.543969373957691, 15.0] and parameters: {'class_weight_1': 417, 'class_weight_-1': 275, 'learning_rate': 0.0015432469799459626, 'num_leaves': 197, 'max_depth': 15, 'min_child_samples': 68, 'max_bin': 317, 'subsample': 0.9742193094052438, 'lambda_l1': 7.749881369870655, 'lambda_l2': 1.7693760658354551, 'bagging_fraction': 0.9675181628444295, 'feature_fraction': 0.6801380543461781, 'w1': 0.6900000000000001, 'w2': 0.05, 'w3': 0.05, 'w4': 0.05, 'w5': 0.05, 'w6': 0.10999999999999976, 'n': 8, 'stop_rate': -0.02225, 'profit_rate': 0.00925}.\n",
      "[I 2025-01-17 17:07:29,187] Trial 49 finished with values: [1.7135758084319548, -0.778512607836187, 16.0] and parameters: {'class_weight_1': 364, 'class_weight_-1': 240, 'learning_rate': 0.001343794300000156, 'num_leaves': 172, 'max_depth': 13, 'min_child_samples': 35, 'max_bin': 137, 'subsample': 0.7476485934062309, 'lambda_l1': 0.8624663188273984, 'lambda_l2': 2.975467362485463, 'bagging_fraction': 0.9235822527007622, 'feature_fraction': 0.6723049211909606, 'w1': 0.29, 'w2': 0.29, 'w3': 0.18, 'w4': 0.07, 'w5': 0.06, 'w6': 0.10999999999999988, 'n': 10, 'stop_rate': -0.012, 'profit_rate': 0.005}.\n",
      "[I 2025-01-17 17:07:39,745] Trial 56 finished with values: [1.2565715281474688, -0.7739241069007512, 15.0] and parameters: {'class_weight_1': 225, 'class_weight_-1': 148, 'learning_rate': 0.011114826213591543, 'num_leaves': 220, 'max_depth': 10, 'min_child_samples': 70, 'max_bin': 432, 'subsample': 0.7384157655349647, 'lambda_l1': 3.3093413294093974, 'lambda_l2': 8.778327557879344, 'bagging_fraction': 0.8369868343864844, 'feature_fraction': 0.9290502763932083, 'w1': 0.31, 'w2': 0.15000000000000002, 'w3': 0.22000000000000003, 'w4': 0.15000000000000002, 'w5': 0.06, 'w6': 0.10999999999999988, 'n': 10, 'stop_rate': -0.015000000000000001, 'profit_rate': 0.008}.\n",
      "[I 2025-01-17 17:07:39,965] Trial 60 finished with values: [0.45756279272889444, -0.8804619591028395, 19.0] and parameters: {'class_weight_1': 784, 'class_weight_-1': 517, 'learning_rate': 0.029137070034448546, 'num_leaves': 202, 'max_depth': 5, 'min_child_samples': 33, 'max_bin': 483, 'subsample': 0.6548392092237776, 'lambda_l1': 8.599258991934786, 'lambda_l2': 9.844818165723517, 'bagging_fraction': 0.9010309032735837, 'feature_fraction': 0.9157409860694093, 'w1': 0.15000000000000002, 'w2': 0.19, 'w3': 0.32, 'w4': 0.08, 'w5': 0.07, 'w6': 0.18999999999999995, 'n': 10, 'stop_rate': -0.021, 'profit_rate': 0.007}.\n",
      "[I 2025-01-17 17:07:46,685] Trial 63 finished with values: [1.4932644738846175, -0.44718925891123507, 43.0] and parameters: {'class_weight_1': 656, 'class_weight_-1': 432, 'learning_rate': 0.07099631800184837, 'num_leaves': 37, 'max_depth': 1, 'min_child_samples': 56, 'max_bin': 292, 'subsample': 0.7727515332634519, 'lambda_l1': 6.886132414299057, 'lambda_l2': 2.1490661149328094, 'bagging_fraction': 0.5006554241896402, 'feature_fraction': 0.6930230133927098, 'w1': 0.11, 'w2': 0.6200000000000001, 'w3': 0.06, 'w4': 0.05, 'w5': 0.05, 'w6': 0.10999999999999988, 'n': 9, 'stop_rate': -0.019777777777777776, 'profit_rate': 0.008555555555555556}.\n",
      "[I 2025-01-17 17:07:47,697] Trial 55 finished with values: [10.82002690383089, 0.0, 11.0] and parameters: {'class_weight_1': 971, 'class_weight_-1': 640, 'learning_rate': 0.04131715136456235, 'num_leaves': 253, 'max_depth': 0, 'min_child_samples': 49, 'max_bin': 239, 'subsample': 0.9731594605799653, 'lambda_l1': 9.060935493305978, 'lambda_l2': 0.9559329988163112, 'bagging_fraction': 0.8657755755637861, 'feature_fraction': 0.8037284125232539, 'w1': 0.48, 'w2': 0.26, 'w3': 0.05, 'w4': 0.05, 'w5': 0.05, 'w6': 0.10999999999999988, 'n': 10, 'stop_rate': -0.02, 'profit_rate': 0.007}.\n",
      "[I 2025-01-17 17:07:47,948] Trial 62 finished with values: [5.993228303014475, -0.16978973096523908, 35.0] and parameters: {'class_weight_1': 823, 'class_weight_-1': 543, 'learning_rate': 0.001115011130511221, 'num_leaves': 113, 'max_depth': 4, 'min_child_samples': 58, 'max_bin': 475, 'subsample': 0.60335827804532, 'lambda_l1': 8.201917377989774, 'lambda_l2': 5.444075418953416, 'bagging_fraction': 0.6786536016838178, 'feature_fraction': 0.6285203994305923, 'w1': 0.56, 'w2': 0.11, 'w3': 0.09, 'w4': 0.07, 'w5': 0.05, 'w6': 0.11999999999999988, 'n': 9, 'stop_rate': -0.014777777777777775, 'profit_rate': 0.009555555555555557}.\n",
      "[I 2025-01-17 17:07:59,342] Trial 58 finished with values: [0.34335865662368265, -0.8996417686488806, 21.0] and parameters: {'class_weight_1': 530, 'class_weight_-1': 349, 'learning_rate': 0.017767058664516326, 'num_leaves': 244, 'max_depth': 0, 'min_child_samples': 83, 'max_bin': 399, 'subsample': 0.5516831854481333, 'lambda_l1': 4.812426556870316, 'lambda_l2': 4.565095646945286, 'bagging_fraction': 0.8978806062308227, 'feature_fraction': 0.8564831914385358, 'w1': 0.53, 'w2': 0.18, 'w3': 0.05, 'w4': 0.05, 'w5': 0.05, 'w6': 0.1399999999999999, 'n': 10, 'stop_rate': -0.018000000000000002, 'profit_rate': 0.009000000000000001}.\n",
      "[I 2025-01-17 17:08:03,061] Trial 57 finished with values: [0.37117486106227265, -0.8437318775528262, 15.0] and parameters: {'class_weight_1': 67, 'class_weight_-1': 44, 'learning_rate': 0.0018707216392228028, 'num_leaves': 118, 'max_depth': 10, 'min_child_samples': 21, 'max_bin': 181, 'subsample': 0.6589702167412674, 'lambda_l1': 5.485132823582658, 'lambda_l2': 5.803465917713862, 'bagging_fraction': 0.720976287810885, 'feature_fraction': 0.8373021188298247, 'w1': 0.49, 'w2': 0.19, 'w3': 0.08, 'w4': 0.08, 'w5': 0.06, 'w6': 0.10000000000000009, 'n': 8, 'stop_rate': -0.021249999999999998, 'profit_rate': 0.00825}.\n",
      "[I 2025-01-17 17:08:16,826] Trial 68 finished with values: [0.8173762759371407, -0.7430986137671194, 17.0] and parameters: {'class_weight_1': 229, 'class_weight_-1': 151, 'learning_rate': 0.017767058664516326, 'num_leaves': 165, 'max_depth': 4, 'min_child_samples': 83, 'max_bin': 399, 'subsample': 0.826341472910142, 'lambda_l1': 1.8607523804593784, 'lambda_l2': 4.999792566365682, 'bagging_fraction': 0.657476502823179, 'feature_fraction': 0.6366950016061318, 'w1': 0.53, 'w2': 0.2, 'w3': 0.05, 'w4': 0.05, 'w5': 0.06, 'w6': 0.10999999999999988, 'n': 7, 'stop_rate': -0.03071428571428571, 'profit_rate': 0.0071428571428571435}.\n",
      "[I 2025-01-17 17:08:17,087] Trial 59 finished with values: [5.611954146320796, 0.0, 7.0] and parameters: {'class_weight_1': 899, 'class_weight_-1': 593, 'learning_rate': 0.08953743874451628, 'num_leaves': 151, 'max_depth': 13, 'min_child_samples': 44, 'max_bin': 366, 'subsample': 0.6865662812005069, 'lambda_l1': 7.067517080949263, 'lambda_l2': 8.382655880195221, 'bagging_fraction': 0.6455669836575723, 'feature_fraction': 0.6626759827463693, 'w1': 0.35, 'w2': 0.11, 'w3': 0.14, 'w4': 0.060000000000000005, 'w5': 0.16, 'w6': 0.17999999999999994, 'n': 8, 'stop_rate': -0.02825, 'profit_rate': 0.00625}.\n",
      "[I 2025-01-17 17:08:22,945] Trial 70 finished with values: [10.397408598779387, 0.0, 49.0] and parameters: {'class_weight_1': 435, 'class_weight_-1': 287, 'learning_rate': 0.004121515756541475, 'num_leaves': 238, 'max_depth': 1, 'min_child_samples': 56, 'max_bin': 255, 'subsample': 0.7570053532215002, 'lambda_l1': 0.37237844082891214, 'lambda_l2': 3.158557112172523, 'bagging_fraction': 0.703131562571165, 'feature_fraction': 0.5164697255657702, 'w1': 0.32, 'w2': 0.09, 'w3': 0.07, 'w4': 0.24, 'w5': 0.07, 'w6': 0.20999999999999996, 'n': 8, 'stop_rate': -0.014249999999999999, 'profit_rate': 0.00925}.\n",
      "[I 2025-01-17 17:08:25,519] Trial 64 finished with values: [6.040436358931018, 0.0, 8.0] and parameters: {'class_weight_1': 31, 'class_weight_-1': 20, 'learning_rate': 0.036845772322272506, 'num_leaves': 202, 'max_depth': 8, 'min_child_samples': 81, 'max_bin': 151, 'subsample': 0.9130652367448224, 'lambda_l1': 6.733159192571812, 'lambda_l2': 4.288516418357319, 'bagging_fraction': 0.6605109062940422, 'feature_fraction': 0.5943670848854278, 'w1': 0.15000000000000002, 'w2': 0.25, 'w3': 0.07, 'w4': 0.3, 'w5': 0.1, 'w6': 0.13, 'n': 9, 'stop_rate': -0.017777777777777774, 'profit_rate': 0.007555555555555556}.\n",
      "[I 2025-01-17 17:08:27,876] Trial 65 finished with values: [1.913892170166471, -0.6290379465857119, 16.0] and parameters: {'class_weight_1': 474, 'class_weight_-1': 312, 'learning_rate': 0.036845772322272506, 'num_leaves': 151, 'max_depth': 8, 'min_child_samples': 44, 'max_bin': 366, 'subsample': 0.6865662812005069, 'lambda_l1': 7.067517080949263, 'lambda_l2': 8.382655880195221, 'bagging_fraction': 0.8674386763679025, 'feature_fraction': 0.6626759827463693, 'w1': 0.35, 'w2': 0.2, 'w3': 0.05, 'w4': 0.21000000000000002, 'w5': 0.08, 'w6': 0.10999999999999999, 'n': 9, 'stop_rate': -0.013777777777777776, 'profit_rate': 0.007555555555555556}.\n",
      "[I 2025-01-17 17:08:29,099] Trial 61 finished with values: [6.326594488085096, 0.0, 9.0] and parameters: {'class_weight_1': 530, 'class_weight_-1': 349, 'learning_rate': 0.052977621831760545, 'num_leaves': 244, 'max_depth': 15, 'min_child_samples': 98, 'max_bin': 160, 'subsample': 0.7983887778687232, 'lambda_l1': 6.7359772726638765, 'lambda_l2': 5.518514533903601, 'bagging_fraction': 0.8978806062308227, 'feature_fraction': 0.9807474227825197, 'w1': 0.64, 'w2': 0.08, 'w3': 0.08, 'w4': 0.05, 'w5': 0.05, 'w6': 0.09999999999999998, 'n': 9, 'stop_rate': -0.023777777777777776, 'profit_rate': 0.006555555555555556}.\n",
      "[I 2025-01-17 17:08:31,300] Trial 67 finished with values: [1.4846615561570955, -0.801112645353167, 20.0] and parameters: {'class_weight_1': 784, 'class_weight_-1': 517, 'learning_rate': 0.001291366039049601, 'num_leaves': 205, 'max_depth': 10, 'min_child_samples': 26, 'max_bin': 242, 'subsample': 0.5502441905004734, 'lambda_l1': 9.84023741819529, 'lambda_l2': 7.283518837127643, 'bagging_fraction': 0.9101961874865552, 'feature_fraction': 0.6330012102906235, 'w1': 0.5800000000000001, 'w2': 0.14, 'w3': 0.05, 'w4': 0.05, 'w5': 0.060000000000000005, 'w6': 0.11999999999999977, 'n': 10, 'stop_rate': -0.015000000000000001, 'profit_rate': 0.006}.\n",
      "[I 2025-01-17 17:08:49,752] Trial 66 finished with values: [1.8747355315398258, -0.768696106188555, 13.0] and parameters: {'class_weight_1': 40, 'class_weight_-1': 26, 'learning_rate': 0.005838692061690657, 'num_leaves': 244, 'max_depth': 12, 'min_child_samples': 88, 'max_bin': 265, 'subsample': 0.6170889984157883, 'lambda_l1': 4.812426556870316, 'lambda_l2': 6.9611396458490145, 'bagging_fraction': 0.8978806062308227, 'feature_fraction': 0.7874521012117855, 'w1': 0.24, 'w2': 0.43, 'w3': 0.060000000000000005, 'w4': 0.09, 'w5': 0.07, 'w6': 0.1100000000000001, 'n': 10, 'stop_rate': -0.017, 'profit_rate': 0.009000000000000001}.\n",
      "[I 2025-01-17 17:08:53,731] Trial 76 finished with values: [0.723690885831443, -0.692796337705867, 20.0] and parameters: {'class_weight_1': 357, 'class_weight_-1': 235, 'learning_rate': 0.0016698228286486042, 'num_leaves': 194, 'max_depth': 5, 'min_child_samples': 14, 'max_bin': 284, 'subsample': 0.6218945442428712, 'lambda_l1': 3.4956754763308187, 'lambda_l2': 7.849042218184748, 'bagging_fraction': 0.8075074331177475, 'feature_fraction': 0.9465268788808883, 'w1': 0.41, 'w2': 0.29, 'w3': 0.09, 'w4': 0.05, 'w5': 0.05, 'w6': 0.10999999999999999, 'n': 7, 'stop_rate': -0.02271428571428571, 'profit_rate': 0.009142857142857144}.\n",
      "[I 2025-01-17 17:08:58,648] Trial 69 finished with values: [0.44037229706302056, -0.6599458934762981, 11.0] and parameters: {'class_weight_1': 378, 'class_weight_-1': 249, 'learning_rate': 0.052977621831760545, 'num_leaves': 146, 'max_depth': 10, 'min_child_samples': 50, 'max_bin': 383, 'subsample': 0.7983887778687232, 'lambda_l1': 4.812426556870316, 'lambda_l2': 7.247108635231287, 'bagging_fraction': 0.8978806062308227, 'feature_fraction': 0.7874521012117855, 'w1': 0.49, 'w2': 0.24, 'w3': 0.060000000000000005, 'w4': 0.05, 'w5': 0.05, 'w6': 0.10999999999999988, 'n': 10, 'stop_rate': -0.017, 'profit_rate': 0.009000000000000001}.\n",
      "[I 2025-01-17 17:09:01,108] Trial 74 finished with values: [1.2830569581403053, -0.5190404317841557, 16.0] and parameters: {'class_weight_1': 898, 'class_weight_-1': 592, 'learning_rate': 0.007546247151220378, 'num_leaves': 189, 'max_depth': 8, 'min_child_samples': 83, 'max_bin': 189, 'subsample': 0.7748371621027713, 'lambda_l1': 3.2725404528500333, 'lambda_l2': 8.358726531246504, 'bagging_fraction': 0.6043215030319707, 'feature_fraction': 0.9078569413991469, 'w1': 0.25, 'w2': 0.13, 'w3': 0.37, 'w4': 0.060000000000000005, 'w5': 0.060000000000000005, 'w6': 0.1299999999999999, 'n': 7, 'stop_rate': -0.03571428571428571, 'profit_rate': 0.009142857142857144}.\n",
      "[I 2025-01-17 17:09:08,920] Trial 72 finished with values: [1.3697037292282062, -0.8056648168612287, 19.0] and parameters: {'class_weight_1': 192, 'class_weight_-1': 126, 'learning_rate': 0.007546247151220378, 'num_leaves': 189, 'max_depth': 8, 'min_child_samples': 29, 'max_bin': 174, 'subsample': 0.7748371621027713, 'lambda_l1': 8.05009845276374, 'lambda_l2': 4.283689583187138, 'bagging_fraction': 0.8397286965980556, 'feature_fraction': 0.6944322001159478, 'w1': 0.6200000000000001, 'w2': 0.11, 'w3': 0.05, 'w4': 0.06, 'w5': 0.05, 'w6': 0.10999999999999988, 'n': 10, 'stop_rate': -0.016, 'profit_rate': 0.006}.\n",
      "[I 2025-01-17 17:09:14,693] Trial 80 finished with values: [2.0885284684971688, -0.5615190751498187, 18.0] and parameters: {'class_weight_1': 435, 'class_weight_-1': 287, 'learning_rate': 0.07099631800184837, 'num_leaves': 104, 'max_depth': 3, 'min_child_samples': 56, 'max_bin': 422, 'subsample': 0.7597008225976858, 'lambda_l1': 0.37237844082891214, 'lambda_l2': 7.5790299167390796, 'bagging_fraction': 0.6641430908078706, 'feature_fraction': 0.6537760565629721, 'w1': 0.2, 'w2': 0.24, 'w3': 0.26, 'w4': 0.08, 'w5': 0.11, 'w6': 0.1100000000000001, 'n': 8, 'stop_rate': -0.02225, 'profit_rate': 0.00725}.\n",
      "[I 2025-01-17 17:09:15,320] Trial 81 finished with values: [0.6211594478187641, -0.7831479212595379, 24.0] and parameters: {'class_weight_1': 435, 'class_weight_-1': 287, 'learning_rate': 0.00493850119366445, 'num_leaves': 104, 'max_depth': 1, 'min_child_samples': 44, 'max_bin': 422, 'subsample': 0.7570053532215002, 'lambda_l1': 0.37237844082891214, 'lambda_l2': 4.856424032164723, 'bagging_fraction': 0.703131562571165, 'feature_fraction': 0.5164697255657702, 'w1': 0.2, 'w2': 0.12000000000000001, 'w3': 0.33, 'w4': 0.14, 'w5': 0.1, 'w6': 0.10999999999999999, 'n': 8, 'stop_rate': -0.03125, 'profit_rate': 0.00625}.\n",
      "[I 2025-01-17 17:09:15,522] Trial 77 finished with values: [1.0899552483005819, -0.5666966484667395, 21.0] and parameters: {'class_weight_1': 726, 'class_weight_-1': 479, 'learning_rate': 0.007476185366922512, 'num_leaves': 51, 'max_depth': 5, 'min_child_samples': 52, 'max_bin': 405, 'subsample': 0.6218945442428712, 'lambda_l1': 8.186749325738319, 'lambda_l2': 4.868220030930194, 'bagging_fraction': 0.6517338002241562, 'feature_fraction': 0.5727565333820286, 'w1': 0.53, 'w2': 0.19, 'w3': 0.05, 'w4': 0.060000000000000005, 'w5': 0.05, 'w6': 0.11999999999999988, 'n': 7, 'stop_rate': -0.03371428571428571, 'profit_rate': 0.008142857142857143}.\n",
      "[I 2025-01-17 17:09:30,136] Trial 71 finished with values: [1.1868939066154864, -0.8198325546049255, 18.0] and parameters: {'class_weight_1': 417, 'class_weight_-1': 275, 'learning_rate': 0.0015432469799459626, 'num_leaves': 197, 'max_depth': 15, 'min_child_samples': 49, 'max_bin': 239, 'subsample': 0.9731594605799653, 'lambda_l1': 7.749881369870655, 'lambda_l2': 1.4883803161555542, 'bagging_fraction': 0.9675181628444295, 'feature_fraction': 0.6801380543461781, 'w1': 0.6900000000000001, 'w2': 0.05, 'w3': 0.05, 'w4': 0.05, 'w5': 0.05, 'w6': 0.10999999999999976, 'n': 10, 'stop_rate': -0.013000000000000001, 'profit_rate': 0.007}.\n",
      "[I 2025-01-17 17:09:31,270] Trial 75 finished with values: [0.22479941250610874, -0.9265164734320134, 18.0] and parameters: {'class_weight_1': 270, 'class_weight_-1': 178, 'learning_rate': 0.003598073918584841, 'num_leaves': 78, 'max_depth': 13, 'min_child_samples': 73, 'max_bin': 250, 'subsample': 0.5063195002633756, 'lambda_l1': 6.110739502957671, 'lambda_l2': 7.134424540213904, 'bagging_fraction': 0.5445614602675737, 'feature_fraction': 0.7023950117831204, 'w1': 0.060000000000000005, 'w2': 0.21000000000000002, 'w3': 0.16, 'w4': 0.15000000000000002, 'w5': 0.18, 'w6': 0.24, 'n': 9, 'stop_rate': -0.027777777777777776, 'profit_rate': 0.008555555555555556}.\n",
      "[I 2025-01-17 17:09:37,377] Trial 73 finished with values: [1.4535806179239106, -0.6198213798610128, 13.0] and parameters: {'class_weight_1': 343, 'class_weight_-1': 226, 'learning_rate': 0.0010915153164305735, 'num_leaves': 140, 'max_depth': 12, 'min_child_samples': 83, 'max_bin': 464, 'subsample': 0.9430387074684453, 'lambda_l1': 5.828220791490506, 'lambda_l2': 0.43988526186542476, 'bagging_fraction': 0.657476502823179, 'feature_fraction': 0.7226517005983957, 'w1': 0.53, 'w2': 0.16, 'w3': 0.05, 'w4': 0.060000000000000005, 'w5': 0.05, 'w6': 0.1499999999999998, 'n': 7, 'stop_rate': -0.03171428571428571, 'profit_rate': 0.0071428571428571435}.\n",
      "[I 2025-01-17 17:09:45,375] Trial 83 finished with values: [2.125781653241086, -0.6434989551721257, 19.0] and parameters: {'class_weight_1': 343, 'class_weight_-1': 226, 'learning_rate': 0.005838692061690657, 'num_leaves': 140, 'max_depth': 6, 'min_child_samples': 83, 'max_bin': 265, 'subsample': 0.6170889984157883, 'lambda_l1': 2.474955728987125, 'lambda_l2': 6.9611396458490145, 'bagging_fraction': 0.657476502823179, 'feature_fraction': 0.8564831914385358, 'w1': 0.53, 'w2': 0.15000000000000002, 'w3': 0.11, 'w4': 0.05, 'w5': 0.05, 'w6': 0.10999999999999988, 'n': 9, 'stop_rate': -0.018777777777777775, 'profit_rate': 0.006555555555555556}.\n",
      "[I 2025-01-17 17:09:49,992] Trial 79 finished with values: [1.5023543940649842, -0.7134623930969761, 16.0] and parameters: {'class_weight_1': 613, 'class_weight_-1': 404, 'learning_rate': 0.0018707216392228028, 'num_leaves': 66, 'max_depth': 11, 'min_child_samples': 33, 'max_bin': 181, 'subsample': 0.6589702167412674, 'lambda_l1': 4.812426556870316, 'lambda_l2': 7.647127635567089, 'bagging_fraction': 0.5898324656037879, 'feature_fraction': 0.7874521012117855, 'w1': 0.64, 'w2': 0.060000000000000005, 'w3': 0.08, 'w4': 0.06, 'w5': 0.05, 'w6': 0.10999999999999988, 'n': 8, 'stop_rate': -0.021249999999999998, 'profit_rate': 0.00925}.\n",
      "[I 2025-01-17 17:09:52,551] Trial 78 finished with values: [1.4796427044821117, -0.7655072318704067, 21.0] and parameters: {'class_weight_1': 604, 'class_weight_-1': 398, 'learning_rate': 0.020796667566146735, 'num_leaves': 68, 'max_depth': 10, 'min_child_samples': 71, 'max_bin': 458, 'subsample': 0.7869120834192823, 'lambda_l1': 1.4018576737397337, 'lambda_l2': 1.0210174733104416, 'bagging_fraction': 0.7244652519048734, 'feature_fraction': 0.7006793462428826, 'w1': 0.5700000000000001, 'w2': 0.14, 'w3': 0.07, 'w4': 0.05, 'w5': 0.05, 'w6': 0.11999999999999988, 'n': 10, 'stop_rate': -0.010000000000000002, 'profit_rate': 0.005}.\n",
      "[I 2025-01-17 17:10:09,744] Trial 82 finished with values: [2.3304378334089346, -0.6274027056258978, 17.0] and parameters: {'class_weight_1': 905, 'class_weight_-1': 597, 'learning_rate': 0.010323939581129735, 'num_leaves': 138, 'max_depth': 12, 'min_child_samples': 82, 'max_bin': 475, 'subsample': 0.6661089726848581, 'lambda_l1': 6.089844506312197, 'lambda_l2': 1.5580328344824113, 'bagging_fraction': 0.5650691780009487, 'feature_fraction': 0.6285203994305923, 'w1': 0.5700000000000001, 'w2': 0.16, 'w3': 0.06, 'w4': 0.05, 'w5': 0.05, 'w6': 0.10999999999999988, 'n': 9, 'stop_rate': -0.014777777777777775, 'profit_rate': 0.008555555555555556}.\n",
      "[I 2025-01-17 17:10:11,973] Trial 87 finished with values: [2.0831083761345357, -0.7099450337417935, 18.0] and parameters: {'class_weight_1': 900, 'class_weight_-1': 594, 'learning_rate': 0.020796667566146735, 'num_leaves': 54, 'max_depth': 10, 'min_child_samples': 29, 'max_bin': 174, 'subsample': 0.861818870023777, 'lambda_l1': 8.254387326710157, 'lambda_l2': 9.77282430621399, 'bagging_fraction': 0.804760775537783, 'feature_fraction': 0.653077028296648, 'w1': 0.5700000000000001, 'w2': 0.15000000000000002, 'w3': 0.05, 'w4': 0.060000000000000005, 'w5': 0.05, 'w6': 0.11999999999999977, 'n': 10, 'stop_rate': -0.015000000000000001, 'profit_rate': 0.007}.\n",
      "[I 2025-01-17 17:10:18,272] Trial 86 finished with values: [1.5577505931478244, -0.780931792935782, 17.0] and parameters: {'class_weight_1': 584, 'class_weight_-1': 385, 'learning_rate': 0.0048673644489176365, 'num_leaves': 136, 'max_depth': 11, 'min_child_samples': 53, 'max_bin': 187, 'subsample': 0.6793044290451355, 'lambda_l1': 3.6889373603752897, 'lambda_l2': 7.891578037661593, 'bagging_fraction': 0.7237235589731366, 'feature_fraction': 0.8564117372823982, 'w1': 0.1, 'w2': 0.6100000000000001, 'w3': 0.08, 'w4': 0.05, 'w5': 0.05, 'w6': 0.10999999999999988, 'n': 10, 'stop_rate': -0.021, 'profit_rate': 0.009000000000000001}.\n",
      "[I 2025-01-17 17:10:25,281] Trial 84 finished with values: [9.15684945150165, 0.0, 8.0] and parameters: {'class_weight_1': 823, 'class_weight_-1': 543, 'learning_rate': 0.04895175525884589, 'num_leaves': 157, 'max_depth': 15, 'min_child_samples': 41, 'max_bin': 371, 'subsample': 0.60335827804532, 'lambda_l1': 7.729458863427156, 'lambda_l2': 5.444075418953416, 'bagging_fraction': 0.9139866266042652, 'feature_fraction': 0.5199672534986943, 'w1': 0.56, 'w2': 0.07, 'w3': 0.09, 'w4': 0.07, 'w5': 0.060000000000000005, 'w6': 0.1499999999999999, 'n': 9, 'stop_rate': -0.027777777777777776, 'profit_rate': 0.007555555555555556}.\n",
      "[I 2025-01-17 17:10:34,300] Trial 85 finished with values: [5.2136948748344665, 0.0, 7.0] and parameters: {'class_weight_1': 899, 'class_weight_-1': 593, 'learning_rate': 0.08953743874451628, 'num_leaves': 151, 'max_depth': 13, 'min_child_samples': 44, 'max_bin': 366, 'subsample': 0.7727515332634519, 'lambda_l1': 7.067517080949263, 'lambda_l2': 8.382655880195221, 'bagging_fraction': 0.8674386763679025, 'feature_fraction': 0.6930230133927098, 'w1': 0.5800000000000001, 'w2': 0.05, 'w3': 0.11, 'w4': 0.1, 'w5': 0.05, 'w6': 0.10999999999999988, 'n': 9, 'stop_rate': -0.024777777777777777, 'profit_rate': 0.007555555555555556}.\n",
      "[I 2025-01-17 17:10:40,071] Trial 89 finished with values: [2.189624515936168, -0.46824724098456505, 14.0] and parameters: {'class_weight_1': 260, 'class_weight_-1': 171, 'learning_rate': 0.0020833235659665234, 'num_leaves': 182, 'max_depth': 13, 'min_child_samples': 91, 'max_bin': 370, 'subsample': 0.7190675348515307, 'lambda_l1': 8.453599140523956, 'lambda_l2': 7.288464430330634, 'bagging_fraction': 0.7950494857720984, 'feature_fraction': 0.9357973000015211, 'w1': 0.26, 'w2': 0.05, 'w3': 0.43, 'w4': 0.09, 'w5': 0.05, 'w6': 0.12, 'n': 7, 'stop_rate': -0.020714285714285713, 'profit_rate': 0.009142857142857144}.\n",
      "[I 2025-01-17 17:10:44,664] Trial 88 finished with values: [8.869527668936572, 0.0, 12.0] and parameters: {'class_weight_1': 604, 'class_weight_-1': 398, 'learning_rate': 0.04131715136456235, 'num_leaves': 253, 'max_depth': 0, 'min_child_samples': 49, 'max_bin': 239, 'subsample': 0.9731594605799653, 'lambda_l1': 9.060935493305978, 'lambda_l2': 9.77282430621399, 'bagging_fraction': 0.804760775537783, 'feature_fraction': 0.7006793462428826, 'w1': 0.48, 'w2': 0.13, 'w3': 0.15000000000000002, 'w4': 0.07, 'w5': 0.05, 'w6': 0.11999999999999988, 'n': 10, 'stop_rate': -0.010000000000000002, 'profit_rate': 0.005}.\n",
      "[I 2025-01-17 17:10:49,133] Trial 95 finished with values: [1.30962683866493, -0.8213991265407146, 18.0] and parameters: {'class_weight_1': 157, 'class_weight_-1': 103, 'learning_rate': 0.01344111482233152, 'num_leaves': 77, 'max_depth': 3, 'min_child_samples': 28, 'max_bin': 251, 'subsample': 0.9424714725451283, 'lambda_l1': 3.3489506696537363, 'lambda_l2': 5.206420321603269, 'bagging_fraction': 0.6813802230654187, 'feature_fraction': 0.6930230133927098, 'w1': 0.18, 'w2': 0.28, 'w3': 0.14, 'w4': 0.19, 'w5': 0.08, 'w6': 0.13, 'n': 10, 'stop_rate': -0.013000000000000001, 'profit_rate': 0.007}.\n",
      "[I 2025-01-17 17:11:02,910] Trial 90 finished with values: [11.139610168021074, 0.0, 9.0] and parameters: {'class_weight_1': 530, 'class_weight_-1': 349, 'learning_rate': 0.052977621831760545, 'num_leaves': 244, 'max_depth': 15, 'min_child_samples': 44, 'max_bin': 350, 'subsample': 0.6865662812005069, 'lambda_l1': 7.067517080949263, 'lambda_l2': 0.8867081838801338, 'bagging_fraction': 0.8978806062308227, 'feature_fraction': 0.6626759827463693, 'w1': 0.35, 'w2': 0.21000000000000002, 'w3': 0.08, 'w4': 0.12000000000000001, 'w5': 0.07, 'w6': 0.16999999999999993, 'n': 10, 'stop_rate': -0.016, 'profit_rate': 0.006}.\n",
      "[I 2025-01-17 17:11:06,508] Trial 94 finished with values: [0.6382769288970849, -0.7659884459616016, 18.0] and parameters: {'class_weight_1': 435, 'class_weight_-1': 287, 'learning_rate': 0.004121515756541475, 'num_leaves': 201, 'max_depth': 7, 'min_child_samples': 56, 'max_bin': 422, 'subsample': 0.7597008225976858, 'lambda_l1': 0.37237844082891214, 'lambda_l2': 3.158557112172523, 'bagging_fraction': 0.5946009669807295, 'feature_fraction': 0.5164697255657702, 'w1': 0.2, 'w2': 0.11, 'w3': 0.47, 'w4': 0.06, 'w5': 0.05, 'w6': 0.10999999999999988, 'n': 7, 'stop_rate': -0.01771428571428571, 'profit_rate': 0.008142857142857143}.\n",
      "[I 2025-01-17 17:11:07,949] Trial 92 finished with values: [0.7514355029545351, -0.5233556237331036, 14.0] and parameters: {'class_weight_1': 784, 'class_weight_-1': 517, 'learning_rate': 0.0424306703088225, 'num_leaves': 229, 'max_depth': 12, 'min_child_samples': 46, 'max_bin': 464, 'subsample': 0.5502441905004734, 'lambda_l1': 9.675701073059885, 'lambda_l2': 7.283518837127643, 'bagging_fraction': 0.8051670998022742, 'feature_fraction': 0.7226517005983957, 'w1': 0.29, 'w2': 0.22000000000000003, 'w3': 0.25, 'w4': 0.07, 'w5': 0.06, 'w6': 0.10999999999999988, 'n': 10, 'stop_rate': -0.014000000000000002, 'profit_rate': 0.008}.\n",
      "[I 2025-01-17 17:11:11,181] Trial 91 finished with values: [1.474231898265126, -0.7894828121331028, 18.0] and parameters: {'class_weight_1': 270, 'class_weight_-1': 178, 'learning_rate': 0.003598073918584841, 'num_leaves': 187, 'max_depth': 10, 'min_child_samples': 45, 'max_bin': 383, 'subsample': 0.9729622393625208, 'lambda_l1': 0.3984514235591574, 'lambda_l2': 3.8648301237018625, 'bagging_fraction': 0.8928568456335184, 'feature_fraction': 0.7779162994962061, 'w1': 0.49, 'w2': 0.2, 'w3': 0.09, 'w4': 0.07, 'w5': 0.05, 'w6': 0.10000000000000009, 'n': 10, 'stop_rate': -0.012, 'profit_rate': 0.005}.\n",
      "[I 2025-01-17 17:11:15,705] Trial 93 finished with values: [1.8324845713315514, -0.5568659082294523, 13.0] and parameters: {'class_weight_1': 626, 'class_weight_-1': 413, 'learning_rate': 0.024975363968363164, 'num_leaves': 185, 'max_depth': 13, 'min_child_samples': 73, 'max_bin': 251, 'subsample': 0.7486963837158745, 'lambda_l1': 0.8759559686772589, 'lambda_l2': 7.134424540213904, 'bagging_fraction': 0.5302654818416808, 'feature_fraction': 0.720125833551289, 'w1': 0.18, 'w2': 0.15000000000000002, 'w3': 0.25, 'w4': 0.25, 'w5': 0.05, 'w6': 0.11999999999999988, 'n': 7, 'stop_rate': -0.03071428571428571, 'profit_rate': 0.0071428571428571435}.\n",
      "[I 2025-01-17 17:11:24,186] Trial 96 finished with values: [0.46846309465280556, -0.8595524187334027, 19.0] and parameters: {'class_weight_1': 378, 'class_weight_-1': 249, 'learning_rate': 0.0018707216392228028, 'num_leaves': 118, 'max_depth': 11, 'min_child_samples': 93, 'max_bin': 181, 'subsample': 0.6589702167412674, 'lambda_l1': 0.3984514235591574, 'lambda_l2': 5.260523653554298, 'bagging_fraction': 0.9804355988794484, 'feature_fraction': 0.8373021188298247, 'w1': 0.49, 'w2': 0.21000000000000002, 'w3': 0.09, 'w4': 0.06, 'w5': 0.05, 'w6': 0.10000000000000009, 'n': 10, 'stop_rate': -0.018000000000000002, 'profit_rate': 0.005}.\n",
      "[I 2025-01-17 17:11:24,807] Trial 97 finished with values: [5.565581946181566, 0.0, 11.0] and parameters: {'class_weight_1': 862, 'class_weight_-1': 568, 'learning_rate': 0.04131715136456235, 'num_leaves': 253, 'max_depth': 0, 'min_child_samples': 49, 'max_bin': 197, 'subsample': 0.9731594605799653, 'lambda_l1': 9.060935493305978, 'lambda_l2': 0.9559329988163112, 'bagging_fraction': 0.7822511309323659, 'feature_fraction': 0.9667610383467138, 'w1': 0.48, 'w2': 0.19, 'w3': 0.09, 'w4': 0.09, 'w5': 0.05, 'w6': 0.10000000000000009, 'n': 10, 'stop_rate': -0.014000000000000002, 'profit_rate': 0.009000000000000001}.\n",
      "[I 2025-01-17 17:11:27,233] Trial 98 finished with values: [0.6263251770980203, -0.8424154257125102, 15.0] and parameters: {'class_weight_1': 271, 'class_weight_-1': 178, 'learning_rate': 0.0048673644489176365, 'num_leaves': 163, 'max_depth': 15, 'min_child_samples': 98, 'max_bin': 341, 'subsample': 0.6793044290451355, 'lambda_l1': 2.99159702247508, 'lambda_l2': 4.989593469777168, 'bagging_fraction': 0.6905695217012144, 'feature_fraction': 0.9704127119902638, 'w1': 0.22000000000000003, 'w2': 0.32, 'w3': 0.22000000000000003, 'w4': 0.060000000000000005, 'w5': 0.060000000000000005, 'w6': 0.11999999999999988, 'n': 9, 'stop_rate': -0.022777777777777775, 'profit_rate': 0.009555555555555557}.\n",
      "[I 2025-01-17 17:11:35,119] Trial 99 finished with values: [1.7522235606260546, -0.6942557360807198, 11.0] and parameters: {'class_weight_1': 157, 'class_weight_-1': 103, 'learning_rate': 0.01344111482233152, 'num_leaves': 179, 'max_depth': -1, 'min_child_samples': 85, 'max_bin': 427, 'subsample': 0.5561945484492858, 'lambda_l1': 1.7008082397809843, 'lambda_l2': 6.168738120357471, 'bagging_fraction': 0.8929618899206488, 'feature_fraction': 0.8825425445744732, 'w1': 0.14, 'w2': 0.42, 'w3': 0.21000000000000002, 'w4': 0.060000000000000005, 'w5': 0.05, 'w6': 0.11999999999999988, 'n': 10, 'stop_rate': -0.023, 'profit_rate': 0.005}.\n"
     ]
    },
    {
     "name": "stdout",
     "output_type": "stream",
     "text": [
      "排名 1 的参数组合: [905, 597, 0.001, 138, 4, 82, 475, 0.607, 6.09, 5.839, 0.642, 0.629, 0.57, 0.13, 0.07, 0.05, 0.05, 0.13, 9, -0.019, 0.007], 收益率: 15.469005776507286, 最大: 0.0，收益率: 49.0\n",
      "排名 2 的参数组合: [530, 349, 0.053, 244, 15, 44, 350, 0.687, 7.068, 0.887, 0.898, 0.663, 0.35, 0.21, 0.08, 0.12, 0.07, 0.17, 10, -0.016, 0.006], 收益率: 11.139610168021074, 最大: 0.0，收益率: 9.0\n",
      "排名 3 的参数组合: [971, 640, 0.041, 253, 0, 49, 239, 0.973, 9.061, 0.956, 0.866, 0.804, 0.48, 0.26, 0.05, 0.05, 0.05, 0.11, 10, -0.02, 0.007], 收益率: 10.82002690383089, 最大: 0.0，收益率: 11.0\n",
      "排名 4 的参数组合: [435, 287, 0.004, 238, 1, 56, 255, 0.757, 0.372, 3.159, 0.703, 0.516, 0.32, 0.09, 0.07, 0.24, 0.07, 0.21, 8, -0.014, 0.009], 收益率: 10.397408598779387, 最大: 0.0，收益率: 49.0\n",
      "排名 5 的参数组合: [530, 349, 0.053, 244, 15, 33, 350, 0.798, 4.812, 0.887, 0.898, 0.787, 0.64, 0.08, 0.07, 0.05, 0.05, 0.11, 10, -0.024, 0.007], 收益率: 10.122704401915586, 最大: 0.0，收益率: 8.0\n",
      "排名 6 的参数组合: [823, 543, 0.049, 157, 15, 41, 371, 0.603, 7.729, 5.444, 0.914, 0.52, 0.56, 0.07, 0.09, 0.07, 0.06, 0.15, 9, -0.028, 0.008], 收益率: 9.15684945150165, 最大: 0.0，收益率: 8.0\n",
      "排名 7 的参数组合: [604, 398, 0.041, 253, 0, 49, 239, 0.973, 9.061, 9.773, 0.805, 0.701, 0.48, 0.13, 0.15, 0.07, 0.05, 0.12, 10, -0.01, 0.005], 收益率: 8.869527668936572, 最大: 0.0，收益率: 12.0\n",
      "排名 8 的参数组合: [530, 349, 0.053, 244, 15, 98, 160, 0.798, 6.736, 5.519, 0.898, 0.981, 0.64, 0.08, 0.08, 0.05, 0.05, 0.1, 9, -0.024, 0.007], 收益率: 6.326594488085096, 最大: 0.0，收益率: 9.0\n",
      "排名 9 的参数组合: [905, 597, 0.028, 30, 1, 63, 486, 0.86, 9.351, 2.35, 0.631, 0.975, 0.44, 0.16, 0.14, 0.08, 0.08, 0.1, 9, -0.025, 0.007], 收益率: 6.1893737480422795, 最大: -0.1919510156225308，收益率: 56.0\n",
      "排名 10 的参数组合: [31, 20, 0.037, 202, 8, 81, 151, 0.913, 6.733, 4.289, 0.661, 0.594, 0.15, 0.28, 0.13, 0.13, 0.06, 0.25, 9, -0.019, 0.01], 收益率: 6.040436358931018, 最大: 0.0，收益率: 8.0\n",
      "排名 11 的参数组合: [31, 20, 0.037, 202, 8, 81, 151, 0.913, 6.733, 4.289, 0.661, 0.594, 0.15, 0.25, 0.07, 0.3, 0.1, 0.13, 9, -0.018, 0.008], 收益率: 6.040436358931018, 最大: 0.0，收益率: 8.0\n",
      "排名 12 的参数组合: [823, 543, 0.001, 113, 4, 58, 475, 0.603, 8.202, 5.444, 0.679, 0.629, 0.56, 0.11, 0.09, 0.07, 0.05, 0.12, 9, -0.015, 0.01], 收益率: 5.993228303014475, 最大: -0.16978973096523908，收益率: 35.0\n",
      "排名 13 的参数组合: [895, 590, 0.053, 114, 14, 91, 306, 0.601, 5.476, 8.359, 0.552, 0.908, 0.63, 0.12, 0.05, 0.05, 0.05, 0.1, 7, -0.032, 0.007], 收益率: 5.71838093474768, 最大: 0.0，收益率: 7.0\n",
      "排名 14 的参数组合: [899, 593, 0.09, 151, 13, 44, 366, 0.687, 7.068, 8.383, 0.646, 0.663, 0.35, 0.11, 0.14, 0.06, 0.16, 0.18, 8, -0.028, 0.006], 收益率: 5.611954146320796, 最大: 0.0，收益率: 7.0\n",
      "排名 15 的参数组合: [862, 568, 0.041, 253, 0, 49, 197, 0.973, 9.061, 0.956, 0.782, 0.967, 0.48, 0.19, 0.09, 0.09, 0.05, 0.1, 10, -0.014, 0.009], 收益率: 5.565581946181566, 最大: 0.0，收益率: 11.0\n",
      "排名 16 的参数组合: [899, 593, 0.09, 151, 13, 44, 366, 0.773, 7.068, 8.383, 0.867, 0.693, 0.58, 0.05, 0.11, 0.1, 0.05, 0.11, 9, -0.025, 0.008], 收益率: 5.2136948748344665, 最大: 0.0，收益率: 7.0\n",
      "排名 17 的参数组合: [271, 178, 0.086, 201, 15, 98, 341, 0.817, 2.992, 0.896, 0.691, 0.97, 0.22, 0.07, 0.15, 0.24, 0.15, 0.17, 8, -0.013, 0.007], 收益率: 5.038568251434742, 最大: 0.0，收益率: 7.0\n"
     ]
    }
   ],
   "source": [
    "# 假设 lgb_future2 包含你需要的特征数据\n",
    "features = lgb_future2.columns.drop(['timestamp','signal']).tolist()\n",
    "train_size = int(0.9 * len(lgb_future2))  # 70% 数据用于训练\n",
    "\n",
    "train_data = lgb_future2[:train_size]  # 训练集\n",
    "test_data = lgb_future2[train_size:]   # 测试集\n",
    "\n",
    "X_train = train_data[features]\n",
    "y_train = train_data['signal']\n",
    "X_test = test_data[features]\n",
    "y_test = test_data['signal']\n",
    "\n",
    "# 定义目标函数\n",
    "def objective(trial, lgb_future2):\n",
    "    # 定义需要调优的超参数\n",
    "    class_weight_1 = trial.suggest_int('class_weight_1', 100, 1000)\n",
    "    lower_bound = max(100, int(class_weight_1 * 0.66))\n",
    "    upper_bound = min(1000, int(class_weight_1 * 1.5))\n",
    "    if lower_bound > upper_bound:\n",
    "        lower_bound = upper_bound\n",
    "    class_weight_0 = trial.suggest_int('class_weight_-1', lower_bound, lower_bound)\n",
    "    param = {\n",
    "    'objective': 'multiclass',  # 多分类\n",
    "    'num_class': 3,  # 三分类\n",
    "    'metric': 'multi_logloss',  # 多分类的对数损失，或使用 multi_error 或 accuracy\n",
    "    'boosting_type': 'gbdt',  # 使用 GOSS 加速树构建\n",
    "    'learning_rate': trial.suggest_float('learning_rate', 0.001, 0.1, log=True),  # 0.001 到 0.1 之间\n",
    "    'num_leaves': trial.suggest_int('num_leaves', 20, 256),  # 20 到 256 之间\n",
    "    'max_depth': trial.suggest_int('max_depth', -1, 15),  # 最大深度，-1 表示没有限制\n",
    "    'min_child_samples': trial.suggest_int('min_child_samples', 10, 100),  # 每个叶子的最小样本数\n",
    "    'max_bin': trial.suggest_int('max_bin', 100, 500),  # 特征分箱数\n",
    "    'subsample': trial.suggest_float('subsample', 0.5, 1.0),  # 每棵树训练时使用的样本比例\n",
    "    'lambda_l1': trial.suggest_float('lambda_l1', 0.0, 10.0),  # L1 正则化系数\n",
    "    'lambda_l2': trial.suggest_float('lambda_l2', 0.0, 10.0),  # L2 正则化系数\n",
    "    'bagging_fraction': trial.suggest_float('bagging_fraction', 0.5, 1.0),  # 每棵树的样本采样比例\n",
    "    'feature_fraction': trial.suggest_float('feature_fraction', 0.5, 1.0),  # 每棵树使用的特征比例\n",
    "    'boost_from_average': False,  # 对于多分类任务，通常设置为 False\n",
    "    'random_state': 42,  # 随机种子\n",
    "\n",
    "    # 类别不平衡时的权重调整\n",
    "    'class_weight': {\n",
    "        0: 1,\n",
    "        1: class_weight_1,  # 对于类别1（如平仓）的权重\n",
    "        -1: class_weight_0  # 对于类别-1（如买入）的权重\n",
    "    },\n",
    "    }\n",
    "    weights = []\n",
    "    for i in range(1, 8):\n",
    "        remaining = 1 - sum(weights)\n",
    "        if i < 7:  # 对于前6个权重\n",
    "            max_possible = remaining - (7 - i) * 0.05  # 确保剩下的权重至少每个有0.05\n",
    "            upper_bound = min(0.95, max_possible)\n",
    "            lower_bound = max(0.05, remaining - (6 - i) * 0.95)\n",
    "\n",
    "            # 如果 upper_bound 小于 lower_bound，则设置它们相等以避免无效范围\n",
    "            if upper_bound < lower_bound:\n",
    "                upper_bound = lower_bound\n",
    "\n",
    "            # 提议权重时确保它在有效范围内\n",
    "            w = trial.suggest_float(f'w{i}', lower_bound, upper_bound, step=0.01)\n",
    "            weights.append(w)\n",
    "\n",
    "            # 检查提议的权重是否导致剩余权重不足\n",
    "            if remaining - w < (6 - i) * 0.05:\n",
    "                raise ValueError(f\"Proposed weight w{i} leads to insufficient remaining weight.\")\n",
    "\n",
    "        else:  # 最后一个权重\n",
    "            weights.append(max(0.05, 1 - sum(weights)))  # 确保总和为1，并且不低于最小值\n",
    "    # 将最终确定的权重赋值给单独的变量\n",
    "    w1, w2, w3, w4, w5, w6, w7 = weights\n",
    "    n = trial.suggest_int('n', 7, 10)\n",
    "    #stop_rate固定止损\n",
    "    min_stop_rate = max(-0.25 / n, -0.3)\n",
    "    max_stop_rate = min(-0.1 / n, -0.01)\n",
    "    stop_rate = trial.suggest_float('stop_rate', min_stop_rate, max_stop_rate, step=0.001)\n",
    "    min_profit_rate = 0.05 / n\n",
    "    max_profit_rate = 0.5 / n\n",
    "    profit_rate = trial.suggest_float('profit_rate', min_profit_rate, min(max_profit_rate, 0.01), step=0.001)\n",
    "    # 训练 LGBM 模型\n",
    "    lgb_model = lgb.LGBMClassifier(**param)\n",
    "    lgb_model.fit(X_train, y_train)\n",
    "    y_pred  = lgb_model.predict(X_test)\n",
    "    # 将预测信号加入回测数据\n",
    "    lgb_future2.loc[X_test.index, 'predicted_signal'] = y_pred\n",
    "    lgb_future3 = lgb_future2.dropna().reset_index(drop=True)\n",
    "\n",
    "    lgb_future3 = predicted_signal_process(lgb_future3, n, profit_rate, stop_rate, w1, w2, w3, w4, w5, w6, w7)\n",
    "    lgb_future3, trades = vbt_process(lgb_future3)\n",
    "    cash, min_loss, max_get = simulate_trading_performance(trades, n)\n",
    "\n",
    "    return cash, min_loss, len(trades)\n",
    "# 进行超参数优化\n",
    "study = optuna.create_study(directions=[\"maximize\", \"maximize\",\"minimize\"])\n",
    "def progress_bar_callback(study, trial):\n",
    "    # 更新进度条\n",
    "    progress_bar.update(1)\n",
    "\n",
    "# 使用 tqdm 创建一个进度条\n",
    "progress_bar = tqdm(total=100, desc=\"Optimizing\", ncols=100)\n",
    "\n",
    "study.optimize(lambda trial: objective(trial, lgb_future2), n_trials=100, n_jobs=-1, callbacks=[progress_bar_callback])\n",
    "\n",
    "# 获取参数组合及对应的收益\n",
    "param_combinations = [(trial.params, trial.values) for trial in study.trials]\n",
    "\n",
    "# 过滤出收益率大于1000%且胜率大于50%的组合\n",
    "filtered_combinations = [\n",
    "    (params, values)\n",
    "    for params, values in param_combinations\n",
    "    if values != None\n",
    "        if values[0] > 5 and values[1] > -0.4\n",
    "]\n",
    "\n",
    "# 根据胜率从高到低排序\n",
    "filtered_combinations.sort(key=lambda x: x[1][0], reverse=True)\n",
    "\n",
    "# 输出最佳参数，包括交易次数\n",
    "for i in range(min(100, len(filtered_combinations))):\n",
    "    params, values = filtered_combinations[i]\n",
    "    print(f\"排名 {i + 1} 的参数组合: {[round(value, 3) for value in params.values()]}, \"\n",
    "          f\"收益率: {values[0]}, 最大回测: {values[1]}，交易次数: {values[2]}\")\n",
    "\n"
   ]
  },
  {
   "cell_type": "code",
   "execution_count": 203,
   "metadata": {},
   "outputs": [],
   "source": [
    "# 过滤出收益率大于1000%且胜率大于50%的组合\n",
    "filtered_combinations = [\n",
    "    (params, values)\n",
    "    for params, values in param_combinations\n",
    "    if values != None\n",
    "        if values[0] > 5 and values[1] > -0.4\n",
    "]\n",
    "\n",
    "with open(r'D:\\\\output1.csv', mode='w', newline='') as file:\n",
    "    writer = csv.writer(file)\n",
    "    \n",
    "    # 写入表头\n",
    "    header = list(filtered_combinations[0][0].keys()) + ['cash', 'stop_loss','trade_cnt']\n",
    "    writer.writerow(header)\n",
    "    \n",
    "    # 写入每一行的数据\n",
    "    for combination in filtered_combinations:\n",
    "        params = list(combination[0].values())\n",
    "        metrics = combination[1]\n",
    "        writer.writerow(params + metrics)"
   ]
  },
  {
   "cell_type": "code",
   "execution_count": 202,
   "outputs": [
    {
     "data": {
      "application/vnd.plotly.v1+json": {
       "data": [
        {
         "cliponaxis": false,
         "hovertemplate": [
          "n (IntDistribution): 0.011504574947432447<extra></extra>",
          "max_depth (IntDistribution): 0.016708950877783728<extra></extra>",
          "lambda_l1 (FloatDistribution): 0.017756611006739975<extra></extra>",
          "subsample (FloatDistribution): 0.029895512623780467<extra></extra>",
          "bagging_fraction (FloatDistribution): 0.0372575499216676<extra></extra>",
          "w1 (FloatDistribution): 0.04160160966593051<extra></extra>",
          "min_child_samples (IntDistribution): 0.05147977630329405<extra></extra>",
          "max_bin (IntDistribution): 0.06441603317406715<extra></extra>",
          "lambda_l2 (FloatDistribution): 0.07832958435200704<extra></extra>",
          "class_weight_1 (IntDistribution): 0.08372523320572145<extra></extra>",
          "num_leaves (IntDistribution): 0.14101016788023546<extra></extra>",
          "feature_fraction (FloatDistribution): 0.16432692503810958<extra></extra>",
          "learning_rate (FloatDistribution): 0.2619874710032304<extra></extra>"
         ],
         "name": "Objective Value 0",
         "orientation": "h",
         "text": [
          "0.01",
          "0.02",
          "0.02",
          "0.03",
          "0.04",
          "0.04",
          "0.05",
          "0.06",
          "0.08",
          "0.08",
          "0.14",
          "0.16",
          "0.26"
         ],
         "textposition": "outside",
         "x": [
          0.011504574947432447,
          0.016708950877783728,
          0.017756611006739975,
          0.029895512623780467,
          0.0372575499216676,
          0.04160160966593051,
          0.05147977630329405,
          0.06441603317406715,
          0.07832958435200704,
          0.08372523320572145,
          0.14101016788023546,
          0.16432692503810958,
          0.2619874710032304
         ],
         "y": [
          "n",
          "max_depth",
          "lambda_l1",
          "subsample",
          "bagging_fraction",
          "w1",
          "min_child_samples",
          "max_bin",
          "lambda_l2",
          "class_weight_1",
          "num_leaves",
          "feature_fraction",
          "learning_rate"
         ],
         "type": "bar"
        },
        {
         "cliponaxis": false,
         "hovertemplate": [
          "bagging_fraction (FloatDistribution): 0.004226789213424847<extra></extra>",
          "n (IntDistribution): 0.005243196017241016<extra></extra>",
          "lambda_l1 (FloatDistribution): 0.008928299972633004<extra></extra>",
          "min_child_samples (IntDistribution): 0.011594666465205412<extra></extra>",
          "subsample (FloatDistribution): 0.023216271020159957<extra></extra>",
          "feature_fraction (FloatDistribution): 0.0247016242661335<extra></extra>",
          "w1 (FloatDistribution): 0.04390142955695249<extra></extra>",
          "max_depth (IntDistribution): 0.046766954143515706<extra></extra>",
          "class_weight_1 (IntDistribution): 0.04831702914046661<extra></extra>",
          "lambda_l2 (FloatDistribution): 0.04837133575447057<extra></extra>",
          "max_bin (IntDistribution): 0.0609908438920127<extra></extra>",
          "num_leaves (IntDistribution): 0.1996052183663983<extra></extra>",
          "learning_rate (FloatDistribution): 0.4741363421913859<extra></extra>"
         ],
         "name": "Objective Value 1",
         "orientation": "h",
         "text": [
          "<0.01",
          "<0.01",
          "<0.01",
          "0.01",
          "0.02",
          "0.02",
          "0.04",
          "0.05",
          "0.05",
          "0.05",
          "0.06",
          "0.20",
          "0.47"
         ],
         "textposition": "outside",
         "x": [
          0.004226789213424847,
          0.005243196017241016,
          0.008928299972633004,
          0.011594666465205412,
          0.023216271020159957,
          0.0247016242661335,
          0.04390142955695249,
          0.046766954143515706,
          0.04831702914046661,
          0.04837133575447057,
          0.0609908438920127,
          0.1996052183663983,
          0.4741363421913859
         ],
         "y": [
          "bagging_fraction",
          "n",
          "lambda_l1",
          "min_child_samples",
          "subsample",
          "feature_fraction",
          "w1",
          "max_depth",
          "class_weight_1",
          "lambda_l2",
          "max_bin",
          "num_leaves",
          "learning_rate"
         ],
         "type": "bar"
        },
        {
         "cliponaxis": false,
         "hovertemplate": [
          "n (IntDistribution): 0.002952598955183767<extra></extra>",
          "subsample (FloatDistribution): 0.0050069980460073415<extra></extra>",
          "bagging_fraction (FloatDistribution): 0.007330360895311719<extra></extra>",
          "min_child_samples (IntDistribution): 0.0077331960510860975<extra></extra>",
          "w1 (FloatDistribution): 0.008539209650615772<extra></extra>",
          "num_leaves (IntDistribution): 0.00977076063157581<extra></extra>",
          "max_bin (IntDistribution): 0.012264034182181256<extra></extra>",
          "feature_fraction (FloatDistribution): 0.02549789761493511<extra></extra>",
          "lambda_l1 (FloatDistribution): 0.026728685915015007<extra></extra>",
          "lambda_l2 (FloatDistribution): 0.10074159856941739<extra></extra>",
          "class_weight_1 (IntDistribution): 0.11067612319485279<extra></extra>",
          "learning_rate (FloatDistribution): 0.12625984444601515<extra></extra>",
          "max_depth (IntDistribution): 0.556498691847803<extra></extra>"
         ],
         "name": "Objective Value 2",
         "orientation": "h",
         "text": [
          "<0.01",
          "<0.01",
          "<0.01",
          "<0.01",
          "<0.01",
          "<0.01",
          "0.01",
          "0.03",
          "0.03",
          "0.10",
          "0.11",
          "0.13",
          "0.56"
         ],
         "textposition": "outside",
         "x": [
          0.002952598955183767,
          0.0050069980460073415,
          0.007330360895311719,
          0.0077331960510860975,
          0.008539209650615772,
          0.00977076063157581,
          0.012264034182181256,
          0.02549789761493511,
          0.026728685915015007,
          0.10074159856941739,
          0.11067612319485279,
          0.12625984444601515,
          0.556498691847803
         ],
         "y": [
          "n",
          "subsample",
          "bagging_fraction",
          "min_child_samples",
          "w1",
          "num_leaves",
          "max_bin",
          "feature_fraction",
          "lambda_l1",
          "lambda_l2",
          "class_weight_1",
          "learning_rate",
          "max_depth"
         ],
         "type": "bar"
        }
       ],
       "layout": {
        "title": {
         "text": "Hyperparameter Importances"
        },
        "xaxis": {
         "title": {
          "text": "Hyperparameter Importance"
         }
        },
        "yaxis": {
         "title": {
          "text": "Hyperparameter"
         }
        },
        "template": {
         "data": {
          "histogram2dcontour": [
           {
            "type": "histogram2dcontour",
            "colorbar": {
             "outlinewidth": 0,
             "ticks": ""
            },
            "colorscale": [
             [
              0.0,
              "#0d0887"
             ],
             [
              0.1111111111111111,
              "#46039f"
             ],
             [
              0.2222222222222222,
              "#7201a8"
             ],
             [
              0.3333333333333333,
              "#9c179e"
             ],
             [
              0.4444444444444444,
              "#bd3786"
             ],
             [
              0.5555555555555556,
              "#d8576b"
             ],
             [
              0.6666666666666666,
              "#ed7953"
             ],
             [
              0.7777777777777778,
              "#fb9f3a"
             ],
             [
              0.8888888888888888,
              "#fdca26"
             ],
             [
              1.0,
              "#f0f921"
             ]
            ]
           }
          ],
          "choropleth": [
           {
            "type": "choropleth",
            "colorbar": {
             "outlinewidth": 0,
             "ticks": ""
            }
           }
          ],
          "histogram2d": [
           {
            "type": "histogram2d",
            "colorbar": {
             "outlinewidth": 0,
             "ticks": ""
            },
            "colorscale": [
             [
              0.0,
              "#0d0887"
             ],
             [
              0.1111111111111111,
              "#46039f"
             ],
             [
              0.2222222222222222,
              "#7201a8"
             ],
             [
              0.3333333333333333,
              "#9c179e"
             ],
             [
              0.4444444444444444,
              "#bd3786"
             ],
             [
              0.5555555555555556,
              "#d8576b"
             ],
             [
              0.6666666666666666,
              "#ed7953"
             ],
             [
              0.7777777777777778,
              "#fb9f3a"
             ],
             [
              0.8888888888888888,
              "#fdca26"
             ],
             [
              1.0,
              "#f0f921"
             ]
            ]
           }
          ],
          "heatmap": [
           {
            "type": "heatmap",
            "colorbar": {
             "outlinewidth": 0,
             "ticks": ""
            },
            "colorscale": [
             [
              0.0,
              "#0d0887"
             ],
             [
              0.1111111111111111,
              "#46039f"
             ],
             [
              0.2222222222222222,
              "#7201a8"
             ],
             [
              0.3333333333333333,
              "#9c179e"
             ],
             [
              0.4444444444444444,
              "#bd3786"
             ],
             [
              0.5555555555555556,
              "#d8576b"
             ],
             [
              0.6666666666666666,
              "#ed7953"
             ],
             [
              0.7777777777777778,
              "#fb9f3a"
             ],
             [
              0.8888888888888888,
              "#fdca26"
             ],
             [
              1.0,
              "#f0f921"
             ]
            ]
           }
          ],
          "heatmapgl": [
           {
            "type": "heatmapgl",
            "colorbar": {
             "outlinewidth": 0,
             "ticks": ""
            },
            "colorscale": [
             [
              0.0,
              "#0d0887"
             ],
             [
              0.1111111111111111,
              "#46039f"
             ],
             [
              0.2222222222222222,
              "#7201a8"
             ],
             [
              0.3333333333333333,
              "#9c179e"
             ],
             [
              0.4444444444444444,
              "#bd3786"
             ],
             [
              0.5555555555555556,
              "#d8576b"
             ],
             [
              0.6666666666666666,
              "#ed7953"
             ],
             [
              0.7777777777777778,
              "#fb9f3a"
             ],
             [
              0.8888888888888888,
              "#fdca26"
             ],
             [
              1.0,
              "#f0f921"
             ]
            ]
           }
          ],
          "contourcarpet": [
           {
            "type": "contourcarpet",
            "colorbar": {
             "outlinewidth": 0,
             "ticks": ""
            }
           }
          ],
          "contour": [
           {
            "type": "contour",
            "colorbar": {
             "outlinewidth": 0,
             "ticks": ""
            },
            "colorscale": [
             [
              0.0,
              "#0d0887"
             ],
             [
              0.1111111111111111,
              "#46039f"
             ],
             [
              0.2222222222222222,
              "#7201a8"
             ],
             [
              0.3333333333333333,
              "#9c179e"
             ],
             [
              0.4444444444444444,
              "#bd3786"
             ],
             [
              0.5555555555555556,
              "#d8576b"
             ],
             [
              0.6666666666666666,
              "#ed7953"
             ],
             [
              0.7777777777777778,
              "#fb9f3a"
             ],
             [
              0.8888888888888888,
              "#fdca26"
             ],
             [
              1.0,
              "#f0f921"
             ]
            ]
           }
          ],
          "surface": [
           {
            "type": "surface",
            "colorbar": {
             "outlinewidth": 0,
             "ticks": ""
            },
            "colorscale": [
             [
              0.0,
              "#0d0887"
             ],
             [
              0.1111111111111111,
              "#46039f"
             ],
             [
              0.2222222222222222,
              "#7201a8"
             ],
             [
              0.3333333333333333,
              "#9c179e"
             ],
             [
              0.4444444444444444,
              "#bd3786"
             ],
             [
              0.5555555555555556,
              "#d8576b"
             ],
             [
              0.6666666666666666,
              "#ed7953"
             ],
             [
              0.7777777777777778,
              "#fb9f3a"
             ],
             [
              0.8888888888888888,
              "#fdca26"
             ],
             [
              1.0,
              "#f0f921"
             ]
            ]
           }
          ],
          "mesh3d": [
           {
            "type": "mesh3d",
            "colorbar": {
             "outlinewidth": 0,
             "ticks": ""
            }
           }
          ],
          "scatter": [
           {
            "fillpattern": {
             "fillmode": "overlay",
             "size": 10,
             "solidity": 0.2
            },
            "type": "scatter"
           }
          ],
          "parcoords": [
           {
            "type": "parcoords",
            "line": {
             "colorbar": {
              "outlinewidth": 0,
              "ticks": ""
             }
            }
           }
          ],
          "scatterpolargl": [
           {
            "type": "scatterpolargl",
            "marker": {
             "colorbar": {
              "outlinewidth": 0,
              "ticks": ""
             }
            }
           }
          ],
          "bar": [
           {
            "error_x": {
             "color": "#2a3f5f"
            },
            "error_y": {
             "color": "#2a3f5f"
            },
            "marker": {
             "line": {
              "color": "#E5ECF6",
              "width": 0.5
             },
             "pattern": {
              "fillmode": "overlay",
              "size": 10,
              "solidity": 0.2
             }
            },
            "type": "bar"
           }
          ],
          "scattergeo": [
           {
            "type": "scattergeo",
            "marker": {
             "colorbar": {
              "outlinewidth": 0,
              "ticks": ""
             }
            }
           }
          ],
          "scatterpolar": [
           {
            "type": "scatterpolar",
            "marker": {
             "colorbar": {
              "outlinewidth": 0,
              "ticks": ""
             }
            }
           }
          ],
          "histogram": [
           {
            "marker": {
             "pattern": {
              "fillmode": "overlay",
              "size": 10,
              "solidity": 0.2
             }
            },
            "type": "histogram"
           }
          ],
          "scattergl": [
           {
            "type": "scattergl",
            "marker": {
             "colorbar": {
              "outlinewidth": 0,
              "ticks": ""
             }
            }
           }
          ],
          "scatter3d": [
           {
            "type": "scatter3d",
            "line": {
             "colorbar": {
              "outlinewidth": 0,
              "ticks": ""
             }
            },
            "marker": {
             "colorbar": {
              "outlinewidth": 0,
              "ticks": ""
             }
            }
           }
          ],
          "scattermapbox": [
           {
            "type": "scattermapbox",
            "marker": {
             "colorbar": {
              "outlinewidth": 0,
              "ticks": ""
             }
            }
           }
          ],
          "scatterternary": [
           {
            "type": "scatterternary",
            "marker": {
             "colorbar": {
              "outlinewidth": 0,
              "ticks": ""
             }
            }
           }
          ],
          "scattercarpet": [
           {
            "type": "scattercarpet",
            "marker": {
             "colorbar": {
              "outlinewidth": 0,
              "ticks": ""
             }
            }
           }
          ],
          "carpet": [
           {
            "aaxis": {
             "endlinecolor": "#2a3f5f",
             "gridcolor": "white",
             "linecolor": "white",
             "minorgridcolor": "white",
             "startlinecolor": "#2a3f5f"
            },
            "baxis": {
             "endlinecolor": "#2a3f5f",
             "gridcolor": "white",
             "linecolor": "white",
             "minorgridcolor": "white",
             "startlinecolor": "#2a3f5f"
            },
            "type": "carpet"
           }
          ],
          "table": [
           {
            "cells": {
             "fill": {
              "color": "#EBF0F8"
             },
             "line": {
              "color": "white"
             }
            },
            "header": {
             "fill": {
              "color": "#C8D4E3"
             },
             "line": {
              "color": "white"
             }
            },
            "type": "table"
           }
          ],
          "barpolar": [
           {
            "marker": {
             "line": {
              "color": "#E5ECF6",
              "width": 0.5
             },
             "pattern": {
              "fillmode": "overlay",
              "size": 10,
              "solidity": 0.2
             }
            },
            "type": "barpolar"
           }
          ],
          "pie": [
           {
            "automargin": true,
            "type": "pie"
           }
          ]
         },
         "layout": {
          "autotypenumbers": "strict",
          "colorway": [
           "#636efa",
           "#EF553B",
           "#00cc96",
           "#ab63fa",
           "#FFA15A",
           "#19d3f3",
           "#FF6692",
           "#B6E880",
           "#FF97FF",
           "#FECB52"
          ],
          "font": {
           "color": "#2a3f5f"
          },
          "hovermode": "closest",
          "hoverlabel": {
           "align": "left"
          },
          "paper_bgcolor": "white",
          "plot_bgcolor": "#E5ECF6",
          "polar": {
           "bgcolor": "#E5ECF6",
           "angularaxis": {
            "gridcolor": "white",
            "linecolor": "white",
            "ticks": ""
           },
           "radialaxis": {
            "gridcolor": "white",
            "linecolor": "white",
            "ticks": ""
           }
          },
          "ternary": {
           "bgcolor": "#E5ECF6",
           "aaxis": {
            "gridcolor": "white",
            "linecolor": "white",
            "ticks": ""
           },
           "baxis": {
            "gridcolor": "white",
            "linecolor": "white",
            "ticks": ""
           },
           "caxis": {
            "gridcolor": "white",
            "linecolor": "white",
            "ticks": ""
           }
          },
          "coloraxis": {
           "colorbar": {
            "outlinewidth": 0,
            "ticks": ""
           }
          },
          "colorscale": {
           "sequential": [
            [
             0.0,
             "#0d0887"
            ],
            [
             0.1111111111111111,
             "#46039f"
            ],
            [
             0.2222222222222222,
             "#7201a8"
            ],
            [
             0.3333333333333333,
             "#9c179e"
            ],
            [
             0.4444444444444444,
             "#bd3786"
            ],
            [
             0.5555555555555556,
             "#d8576b"
            ],
            [
             0.6666666666666666,
             "#ed7953"
            ],
            [
             0.7777777777777778,
             "#fb9f3a"
            ],
            [
             0.8888888888888888,
             "#fdca26"
            ],
            [
             1.0,
             "#f0f921"
            ]
           ],
           "sequentialminus": [
            [
             0.0,
             "#0d0887"
            ],
            [
             0.1111111111111111,
             "#46039f"
            ],
            [
             0.2222222222222222,
             "#7201a8"
            ],
            [
             0.3333333333333333,
             "#9c179e"
            ],
            [
             0.4444444444444444,
             "#bd3786"
            ],
            [
             0.5555555555555556,
             "#d8576b"
            ],
            [
             0.6666666666666666,
             "#ed7953"
            ],
            [
             0.7777777777777778,
             "#fb9f3a"
            ],
            [
             0.8888888888888888,
             "#fdca26"
            ],
            [
             1.0,
             "#f0f921"
            ]
           ],
           "diverging": [
            [
             0,
             "#8e0152"
            ],
            [
             0.1,
             "#c51b7d"
            ],
            [
             0.2,
             "#de77ae"
            ],
            [
             0.3,
             "#f1b6da"
            ],
            [
             0.4,
             "#fde0ef"
            ],
            [
             0.5,
             "#f7f7f7"
            ],
            [
             0.6,
             "#e6f5d0"
            ],
            [
             0.7,
             "#b8e186"
            ],
            [
             0.8,
             "#7fbc41"
            ],
            [
             0.9,
             "#4d9221"
            ],
            [
             1,
             "#276419"
            ]
           ]
          },
          "xaxis": {
           "gridcolor": "white",
           "linecolor": "white",
           "ticks": "",
           "title": {
            "standoff": 15
           },
           "zerolinecolor": "white",
           "automargin": true,
           "zerolinewidth": 2
          },
          "yaxis": {
           "gridcolor": "white",
           "linecolor": "white",
           "ticks": "",
           "title": {
            "standoff": 15
           },
           "zerolinecolor": "white",
           "automargin": true,
           "zerolinewidth": 2
          },
          "scene": {
           "xaxis": {
            "backgroundcolor": "#E5ECF6",
            "gridcolor": "white",
            "linecolor": "white",
            "showbackground": true,
            "ticks": "",
            "zerolinecolor": "white",
            "gridwidth": 2
           },
           "yaxis": {
            "backgroundcolor": "#E5ECF6",
            "gridcolor": "white",
            "linecolor": "white",
            "showbackground": true,
            "ticks": "",
            "zerolinecolor": "white",
            "gridwidth": 2
           },
           "zaxis": {
            "backgroundcolor": "#E5ECF6",
            "gridcolor": "white",
            "linecolor": "white",
            "showbackground": true,
            "ticks": "",
            "zerolinecolor": "white",
            "gridwidth": 2
           }
          },
          "shapedefaults": {
           "line": {
            "color": "#2a3f5f"
           }
          },
          "annotationdefaults": {
           "arrowcolor": "#2a3f5f",
           "arrowhead": 0,
           "arrowwidth": 1
          },
          "geo": {
           "bgcolor": "white",
           "landcolor": "#E5ECF6",
           "subunitcolor": "white",
           "showland": true,
           "showlakes": true,
           "lakecolor": "white"
          },
          "title": {
           "x": 0.05
          },
          "mapbox": {
           "style": "light"
          }
         }
        }
       },
       "config": {
        "plotlyServerURL": "https://plot.ly"
       }
      },
      "text/html": "<div>                            <div id=\"ecf37b56-a8b5-40cf-9722-ccfde85214a9\" class=\"plotly-graph-div\" style=\"height:525px; width:100%;\"></div>            <script type=\"text/javascript\">                require([\"plotly\"], function(Plotly) {                    window.PLOTLYENV=window.PLOTLYENV || {};                                    if (document.getElementById(\"ecf37b56-a8b5-40cf-9722-ccfde85214a9\")) {                    Plotly.newPlot(                        \"ecf37b56-a8b5-40cf-9722-ccfde85214a9\",                        [{\"cliponaxis\":false,\"hovertemplate\":[\"n (IntDistribution): 0.011504574947432447\\u003cextra\\u003e\\u003c\\u002fextra\\u003e\",\"max_depth (IntDistribution): 0.016708950877783728\\u003cextra\\u003e\\u003c\\u002fextra\\u003e\",\"lambda_l1 (FloatDistribution): 0.017756611006739975\\u003cextra\\u003e\\u003c\\u002fextra\\u003e\",\"subsample (FloatDistribution): 0.029895512623780467\\u003cextra\\u003e\\u003c\\u002fextra\\u003e\",\"bagging_fraction (FloatDistribution): 0.0372575499216676\\u003cextra\\u003e\\u003c\\u002fextra\\u003e\",\"w1 (FloatDistribution): 0.04160160966593051\\u003cextra\\u003e\\u003c\\u002fextra\\u003e\",\"min_child_samples (IntDistribution): 0.05147977630329405\\u003cextra\\u003e\\u003c\\u002fextra\\u003e\",\"max_bin (IntDistribution): 0.06441603317406715\\u003cextra\\u003e\\u003c\\u002fextra\\u003e\",\"lambda_l2 (FloatDistribution): 0.07832958435200704\\u003cextra\\u003e\\u003c\\u002fextra\\u003e\",\"class_weight_1 (IntDistribution): 0.08372523320572145\\u003cextra\\u003e\\u003c\\u002fextra\\u003e\",\"num_leaves (IntDistribution): 0.14101016788023546\\u003cextra\\u003e\\u003c\\u002fextra\\u003e\",\"feature_fraction (FloatDistribution): 0.16432692503810958\\u003cextra\\u003e\\u003c\\u002fextra\\u003e\",\"learning_rate (FloatDistribution): 0.2619874710032304\\u003cextra\\u003e\\u003c\\u002fextra\\u003e\"],\"name\":\"Objective Value 0\",\"orientation\":\"h\",\"text\":[\"0.01\",\"0.02\",\"0.02\",\"0.03\",\"0.04\",\"0.04\",\"0.05\",\"0.06\",\"0.08\",\"0.08\",\"0.14\",\"0.16\",\"0.26\"],\"textposition\":\"outside\",\"x\":[0.011504574947432447,0.016708950877783728,0.017756611006739975,0.029895512623780467,0.0372575499216676,0.04160160966593051,0.05147977630329405,0.06441603317406715,0.07832958435200704,0.08372523320572145,0.14101016788023546,0.16432692503810958,0.2619874710032304],\"y\":[\"n\",\"max_depth\",\"lambda_l1\",\"subsample\",\"bagging_fraction\",\"w1\",\"min_child_samples\",\"max_bin\",\"lambda_l2\",\"class_weight_1\",\"num_leaves\",\"feature_fraction\",\"learning_rate\"],\"type\":\"bar\"},{\"cliponaxis\":false,\"hovertemplate\":[\"bagging_fraction (FloatDistribution): 0.004226789213424847\\u003cextra\\u003e\\u003c\\u002fextra\\u003e\",\"n (IntDistribution): 0.005243196017241016\\u003cextra\\u003e\\u003c\\u002fextra\\u003e\",\"lambda_l1 (FloatDistribution): 0.008928299972633004\\u003cextra\\u003e\\u003c\\u002fextra\\u003e\",\"min_child_samples (IntDistribution): 0.011594666465205412\\u003cextra\\u003e\\u003c\\u002fextra\\u003e\",\"subsample (FloatDistribution): 0.023216271020159957\\u003cextra\\u003e\\u003c\\u002fextra\\u003e\",\"feature_fraction (FloatDistribution): 0.0247016242661335\\u003cextra\\u003e\\u003c\\u002fextra\\u003e\",\"w1 (FloatDistribution): 0.04390142955695249\\u003cextra\\u003e\\u003c\\u002fextra\\u003e\",\"max_depth (IntDistribution): 0.046766954143515706\\u003cextra\\u003e\\u003c\\u002fextra\\u003e\",\"class_weight_1 (IntDistribution): 0.04831702914046661\\u003cextra\\u003e\\u003c\\u002fextra\\u003e\",\"lambda_l2 (FloatDistribution): 0.04837133575447057\\u003cextra\\u003e\\u003c\\u002fextra\\u003e\",\"max_bin (IntDistribution): 0.0609908438920127\\u003cextra\\u003e\\u003c\\u002fextra\\u003e\",\"num_leaves (IntDistribution): 0.1996052183663983\\u003cextra\\u003e\\u003c\\u002fextra\\u003e\",\"learning_rate (FloatDistribution): 0.4741363421913859\\u003cextra\\u003e\\u003c\\u002fextra\\u003e\"],\"name\":\"Objective Value 1\",\"orientation\":\"h\",\"text\":[\"\\u003c0.01\",\"\\u003c0.01\",\"\\u003c0.01\",\"0.01\",\"0.02\",\"0.02\",\"0.04\",\"0.05\",\"0.05\",\"0.05\",\"0.06\",\"0.20\",\"0.47\"],\"textposition\":\"outside\",\"x\":[0.004226789213424847,0.005243196017241016,0.008928299972633004,0.011594666465205412,0.023216271020159957,0.0247016242661335,0.04390142955695249,0.046766954143515706,0.04831702914046661,0.04837133575447057,0.0609908438920127,0.1996052183663983,0.4741363421913859],\"y\":[\"bagging_fraction\",\"n\",\"lambda_l1\",\"min_child_samples\",\"subsample\",\"feature_fraction\",\"w1\",\"max_depth\",\"class_weight_1\",\"lambda_l2\",\"max_bin\",\"num_leaves\",\"learning_rate\"],\"type\":\"bar\"},{\"cliponaxis\":false,\"hovertemplate\":[\"n (IntDistribution): 0.002952598955183767\\u003cextra\\u003e\\u003c\\u002fextra\\u003e\",\"subsample (FloatDistribution): 0.0050069980460073415\\u003cextra\\u003e\\u003c\\u002fextra\\u003e\",\"bagging_fraction (FloatDistribution): 0.007330360895311719\\u003cextra\\u003e\\u003c\\u002fextra\\u003e\",\"min_child_samples (IntDistribution): 0.0077331960510860975\\u003cextra\\u003e\\u003c\\u002fextra\\u003e\",\"w1 (FloatDistribution): 0.008539209650615772\\u003cextra\\u003e\\u003c\\u002fextra\\u003e\",\"num_leaves (IntDistribution): 0.00977076063157581\\u003cextra\\u003e\\u003c\\u002fextra\\u003e\",\"max_bin (IntDistribution): 0.012264034182181256\\u003cextra\\u003e\\u003c\\u002fextra\\u003e\",\"feature_fraction (FloatDistribution): 0.02549789761493511\\u003cextra\\u003e\\u003c\\u002fextra\\u003e\",\"lambda_l1 (FloatDistribution): 0.026728685915015007\\u003cextra\\u003e\\u003c\\u002fextra\\u003e\",\"lambda_l2 (FloatDistribution): 0.10074159856941739\\u003cextra\\u003e\\u003c\\u002fextra\\u003e\",\"class_weight_1 (IntDistribution): 0.11067612319485279\\u003cextra\\u003e\\u003c\\u002fextra\\u003e\",\"learning_rate (FloatDistribution): 0.12625984444601515\\u003cextra\\u003e\\u003c\\u002fextra\\u003e\",\"max_depth (IntDistribution): 0.556498691847803\\u003cextra\\u003e\\u003c\\u002fextra\\u003e\"],\"name\":\"Objective Value 2\",\"orientation\":\"h\",\"text\":[\"\\u003c0.01\",\"\\u003c0.01\",\"\\u003c0.01\",\"\\u003c0.01\",\"\\u003c0.01\",\"\\u003c0.01\",\"0.01\",\"0.03\",\"0.03\",\"0.10\",\"0.11\",\"0.13\",\"0.56\"],\"textposition\":\"outside\",\"x\":[0.002952598955183767,0.0050069980460073415,0.007330360895311719,0.0077331960510860975,0.008539209650615772,0.00977076063157581,0.012264034182181256,0.02549789761493511,0.026728685915015007,0.10074159856941739,0.11067612319485279,0.12625984444601515,0.556498691847803],\"y\":[\"n\",\"subsample\",\"bagging_fraction\",\"min_child_samples\",\"w1\",\"num_leaves\",\"max_bin\",\"feature_fraction\",\"lambda_l1\",\"lambda_l2\",\"class_weight_1\",\"learning_rate\",\"max_depth\"],\"type\":\"bar\"}],                        {\"title\":{\"text\":\"Hyperparameter Importances\"},\"xaxis\":{\"title\":{\"text\":\"Hyperparameter Importance\"}},\"yaxis\":{\"title\":{\"text\":\"Hyperparameter\"}},\"template\":{\"data\":{\"histogram2dcontour\":[{\"type\":\"histogram2dcontour\",\"colorbar\":{\"outlinewidth\":0,\"ticks\":\"\"},\"colorscale\":[[0.0,\"#0d0887\"],[0.1111111111111111,\"#46039f\"],[0.2222222222222222,\"#7201a8\"],[0.3333333333333333,\"#9c179e\"],[0.4444444444444444,\"#bd3786\"],[0.5555555555555556,\"#d8576b\"],[0.6666666666666666,\"#ed7953\"],[0.7777777777777778,\"#fb9f3a\"],[0.8888888888888888,\"#fdca26\"],[1.0,\"#f0f921\"]]}],\"choropleth\":[{\"type\":\"choropleth\",\"colorbar\":{\"outlinewidth\":0,\"ticks\":\"\"}}],\"histogram2d\":[{\"type\":\"histogram2d\",\"colorbar\":{\"outlinewidth\":0,\"ticks\":\"\"},\"colorscale\":[[0.0,\"#0d0887\"],[0.1111111111111111,\"#46039f\"],[0.2222222222222222,\"#7201a8\"],[0.3333333333333333,\"#9c179e\"],[0.4444444444444444,\"#bd3786\"],[0.5555555555555556,\"#d8576b\"],[0.6666666666666666,\"#ed7953\"],[0.7777777777777778,\"#fb9f3a\"],[0.8888888888888888,\"#fdca26\"],[1.0,\"#f0f921\"]]}],\"heatmap\":[{\"type\":\"heatmap\",\"colorbar\":{\"outlinewidth\":0,\"ticks\":\"\"},\"colorscale\":[[0.0,\"#0d0887\"],[0.1111111111111111,\"#46039f\"],[0.2222222222222222,\"#7201a8\"],[0.3333333333333333,\"#9c179e\"],[0.4444444444444444,\"#bd3786\"],[0.5555555555555556,\"#d8576b\"],[0.6666666666666666,\"#ed7953\"],[0.7777777777777778,\"#fb9f3a\"],[0.8888888888888888,\"#fdca26\"],[1.0,\"#f0f921\"]]}],\"heatmapgl\":[{\"type\":\"heatmapgl\",\"colorbar\":{\"outlinewidth\":0,\"ticks\":\"\"},\"colorscale\":[[0.0,\"#0d0887\"],[0.1111111111111111,\"#46039f\"],[0.2222222222222222,\"#7201a8\"],[0.3333333333333333,\"#9c179e\"],[0.4444444444444444,\"#bd3786\"],[0.5555555555555556,\"#d8576b\"],[0.6666666666666666,\"#ed7953\"],[0.7777777777777778,\"#fb9f3a\"],[0.8888888888888888,\"#fdca26\"],[1.0,\"#f0f921\"]]}],\"contourcarpet\":[{\"type\":\"contourcarpet\",\"colorbar\":{\"outlinewidth\":0,\"ticks\":\"\"}}],\"contour\":[{\"type\":\"contour\",\"colorbar\":{\"outlinewidth\":0,\"ticks\":\"\"},\"colorscale\":[[0.0,\"#0d0887\"],[0.1111111111111111,\"#46039f\"],[0.2222222222222222,\"#7201a8\"],[0.3333333333333333,\"#9c179e\"],[0.4444444444444444,\"#bd3786\"],[0.5555555555555556,\"#d8576b\"],[0.6666666666666666,\"#ed7953\"],[0.7777777777777778,\"#fb9f3a\"],[0.8888888888888888,\"#fdca26\"],[1.0,\"#f0f921\"]]}],\"surface\":[{\"type\":\"surface\",\"colorbar\":{\"outlinewidth\":0,\"ticks\":\"\"},\"colorscale\":[[0.0,\"#0d0887\"],[0.1111111111111111,\"#46039f\"],[0.2222222222222222,\"#7201a8\"],[0.3333333333333333,\"#9c179e\"],[0.4444444444444444,\"#bd3786\"],[0.5555555555555556,\"#d8576b\"],[0.6666666666666666,\"#ed7953\"],[0.7777777777777778,\"#fb9f3a\"],[0.8888888888888888,\"#fdca26\"],[1.0,\"#f0f921\"]]}],\"mesh3d\":[{\"type\":\"mesh3d\",\"colorbar\":{\"outlinewidth\":0,\"ticks\":\"\"}}],\"scatter\":[{\"fillpattern\":{\"fillmode\":\"overlay\",\"size\":10,\"solidity\":0.2},\"type\":\"scatter\"}],\"parcoords\":[{\"type\":\"parcoords\",\"line\":{\"colorbar\":{\"outlinewidth\":0,\"ticks\":\"\"}}}],\"scatterpolargl\":[{\"type\":\"scatterpolargl\",\"marker\":{\"colorbar\":{\"outlinewidth\":0,\"ticks\":\"\"}}}],\"bar\":[{\"error_x\":{\"color\":\"#2a3f5f\"},\"error_y\":{\"color\":\"#2a3f5f\"},\"marker\":{\"line\":{\"color\":\"#E5ECF6\",\"width\":0.5},\"pattern\":{\"fillmode\":\"overlay\",\"size\":10,\"solidity\":0.2}},\"type\":\"bar\"}],\"scattergeo\":[{\"type\":\"scattergeo\",\"marker\":{\"colorbar\":{\"outlinewidth\":0,\"ticks\":\"\"}}}],\"scatterpolar\":[{\"type\":\"scatterpolar\",\"marker\":{\"colorbar\":{\"outlinewidth\":0,\"ticks\":\"\"}}}],\"histogram\":[{\"marker\":{\"pattern\":{\"fillmode\":\"overlay\",\"size\":10,\"solidity\":0.2}},\"type\":\"histogram\"}],\"scattergl\":[{\"type\":\"scattergl\",\"marker\":{\"colorbar\":{\"outlinewidth\":0,\"ticks\":\"\"}}}],\"scatter3d\":[{\"type\":\"scatter3d\",\"line\":{\"colorbar\":{\"outlinewidth\":0,\"ticks\":\"\"}},\"marker\":{\"colorbar\":{\"outlinewidth\":0,\"ticks\":\"\"}}}],\"scattermapbox\":[{\"type\":\"scattermapbox\",\"marker\":{\"colorbar\":{\"outlinewidth\":0,\"ticks\":\"\"}}}],\"scatterternary\":[{\"type\":\"scatterternary\",\"marker\":{\"colorbar\":{\"outlinewidth\":0,\"ticks\":\"\"}}}],\"scattercarpet\":[{\"type\":\"scattercarpet\",\"marker\":{\"colorbar\":{\"outlinewidth\":0,\"ticks\":\"\"}}}],\"carpet\":[{\"aaxis\":{\"endlinecolor\":\"#2a3f5f\",\"gridcolor\":\"white\",\"linecolor\":\"white\",\"minorgridcolor\":\"white\",\"startlinecolor\":\"#2a3f5f\"},\"baxis\":{\"endlinecolor\":\"#2a3f5f\",\"gridcolor\":\"white\",\"linecolor\":\"white\",\"minorgridcolor\":\"white\",\"startlinecolor\":\"#2a3f5f\"},\"type\":\"carpet\"}],\"table\":[{\"cells\":{\"fill\":{\"color\":\"#EBF0F8\"},\"line\":{\"color\":\"white\"}},\"header\":{\"fill\":{\"color\":\"#C8D4E3\"},\"line\":{\"color\":\"white\"}},\"type\":\"table\"}],\"barpolar\":[{\"marker\":{\"line\":{\"color\":\"#E5ECF6\",\"width\":0.5},\"pattern\":{\"fillmode\":\"overlay\",\"size\":10,\"solidity\":0.2}},\"type\":\"barpolar\"}],\"pie\":[{\"automargin\":true,\"type\":\"pie\"}]},\"layout\":{\"autotypenumbers\":\"strict\",\"colorway\":[\"#636efa\",\"#EF553B\",\"#00cc96\",\"#ab63fa\",\"#FFA15A\",\"#19d3f3\",\"#FF6692\",\"#B6E880\",\"#FF97FF\",\"#FECB52\"],\"font\":{\"color\":\"#2a3f5f\"},\"hovermode\":\"closest\",\"hoverlabel\":{\"align\":\"left\"},\"paper_bgcolor\":\"white\",\"plot_bgcolor\":\"#E5ECF6\",\"polar\":{\"bgcolor\":\"#E5ECF6\",\"angularaxis\":{\"gridcolor\":\"white\",\"linecolor\":\"white\",\"ticks\":\"\"},\"radialaxis\":{\"gridcolor\":\"white\",\"linecolor\":\"white\",\"ticks\":\"\"}},\"ternary\":{\"bgcolor\":\"#E5ECF6\",\"aaxis\":{\"gridcolor\":\"white\",\"linecolor\":\"white\",\"ticks\":\"\"},\"baxis\":{\"gridcolor\":\"white\",\"linecolor\":\"white\",\"ticks\":\"\"},\"caxis\":{\"gridcolor\":\"white\",\"linecolor\":\"white\",\"ticks\":\"\"}},\"coloraxis\":{\"colorbar\":{\"outlinewidth\":0,\"ticks\":\"\"}},\"colorscale\":{\"sequential\":[[0.0,\"#0d0887\"],[0.1111111111111111,\"#46039f\"],[0.2222222222222222,\"#7201a8\"],[0.3333333333333333,\"#9c179e\"],[0.4444444444444444,\"#bd3786\"],[0.5555555555555556,\"#d8576b\"],[0.6666666666666666,\"#ed7953\"],[0.7777777777777778,\"#fb9f3a\"],[0.8888888888888888,\"#fdca26\"],[1.0,\"#f0f921\"]],\"sequentialminus\":[[0.0,\"#0d0887\"],[0.1111111111111111,\"#46039f\"],[0.2222222222222222,\"#7201a8\"],[0.3333333333333333,\"#9c179e\"],[0.4444444444444444,\"#bd3786\"],[0.5555555555555556,\"#d8576b\"],[0.6666666666666666,\"#ed7953\"],[0.7777777777777778,\"#fb9f3a\"],[0.8888888888888888,\"#fdca26\"],[1.0,\"#f0f921\"]],\"diverging\":[[0,\"#8e0152\"],[0.1,\"#c51b7d\"],[0.2,\"#de77ae\"],[0.3,\"#f1b6da\"],[0.4,\"#fde0ef\"],[0.5,\"#f7f7f7\"],[0.6,\"#e6f5d0\"],[0.7,\"#b8e186\"],[0.8,\"#7fbc41\"],[0.9,\"#4d9221\"],[1,\"#276419\"]]},\"xaxis\":{\"gridcolor\":\"white\",\"linecolor\":\"white\",\"ticks\":\"\",\"title\":{\"standoff\":15},\"zerolinecolor\":\"white\",\"automargin\":true,\"zerolinewidth\":2},\"yaxis\":{\"gridcolor\":\"white\",\"linecolor\":\"white\",\"ticks\":\"\",\"title\":{\"standoff\":15},\"zerolinecolor\":\"white\",\"automargin\":true,\"zerolinewidth\":2},\"scene\":{\"xaxis\":{\"backgroundcolor\":\"#E5ECF6\",\"gridcolor\":\"white\",\"linecolor\":\"white\",\"showbackground\":true,\"ticks\":\"\",\"zerolinecolor\":\"white\",\"gridwidth\":2},\"yaxis\":{\"backgroundcolor\":\"#E5ECF6\",\"gridcolor\":\"white\",\"linecolor\":\"white\",\"showbackground\":true,\"ticks\":\"\",\"zerolinecolor\":\"white\",\"gridwidth\":2},\"zaxis\":{\"backgroundcolor\":\"#E5ECF6\",\"gridcolor\":\"white\",\"linecolor\":\"white\",\"showbackground\":true,\"ticks\":\"\",\"zerolinecolor\":\"white\",\"gridwidth\":2}},\"shapedefaults\":{\"line\":{\"color\":\"#2a3f5f\"}},\"annotationdefaults\":{\"arrowcolor\":\"#2a3f5f\",\"arrowhead\":0,\"arrowwidth\":1},\"geo\":{\"bgcolor\":\"white\",\"landcolor\":\"#E5ECF6\",\"subunitcolor\":\"white\",\"showland\":true,\"showlakes\":true,\"lakecolor\":\"white\"},\"title\":{\"x\":0.05},\"mapbox\":{\"style\":\"light\"}}}},                        {\"responsive\": true}                    ).then(function(){\n                            \nvar gd = document.getElementById('ecf37b56-a8b5-40cf-9722-ccfde85214a9');\nvar x = new MutationObserver(function (mutations, observer) {{\n        var display = window.getComputedStyle(gd).display;\n        if (!display || display === 'none') {{\n            console.log([gd, 'removed!']);\n            Plotly.purge(gd);\n            observer.disconnect();\n        }}\n}});\n\n// Listen for the removal of the full notebook cells\nvar notebookContainer = gd.closest('#notebook-container');\nif (notebookContainer) {{\n    x.observe(notebookContainer, {childList: true});\n}}\n\n// Listen for the clearing of the current output cell\nvar outputEl = gd.closest('.output');\nif (outputEl) {{\n    x.observe(outputEl, {childList: true});\n}}\n\n                        })                };                });            </script>        </div>"
     },
     "metadata": {},
     "output_type": "display_data"
    },
    {
     "data": {
      "application/vnd.plotly.v1+json": {
       "data": [
        {
         "cliponaxis": false,
         "hovertemplate": [
          "lambda_l1 (FloatDistribution): 0.007121198916747497<extra></extra>",
          "n (IntDistribution): 0.0076403672496831564<extra></extra>",
          "max_depth (IntDistribution): 0.018769311009326738<extra></extra>",
          "bagging_fraction (FloatDistribution): 0.026687857358698382<extra></extra>",
          "lambda_l2 (FloatDistribution): 0.037271764271141136<extra></extra>",
          "min_child_samples (IntDistribution): 0.03950262945537106<extra></extra>",
          "w1 (FloatDistribution): 0.04154812219749269<extra></extra>",
          "max_bin (IntDistribution): 0.04662408832665843<extra></extra>",
          "subsample (FloatDistribution): 0.06548594974618484<extra></extra>",
          "class_weight_1 (IntDistribution): 0.09066495560218896<extra></extra>",
          "num_leaves (IntDistribution): 0.15922025535545184<extra></extra>",
          "learning_rate (FloatDistribution): 0.22081106869417697<extra></extra>",
          "feature_fraction (FloatDistribution): 0.23865243181687829<extra></extra>"
         ],
         "name": "Objective Value",
         "orientation": "h",
         "text": [
          "<0.01",
          "<0.01",
          "0.02",
          "0.03",
          "0.04",
          "0.04",
          "0.04",
          "0.05",
          "0.07",
          "0.09",
          "0.16",
          "0.22",
          "0.24"
         ],
         "textposition": "outside",
         "x": [
          0.007121198916747497,
          0.0076403672496831564,
          0.018769311009326738,
          0.026687857358698382,
          0.037271764271141136,
          0.03950262945537106,
          0.04154812219749269,
          0.04662408832665843,
          0.06548594974618484,
          0.09066495560218896,
          0.15922025535545184,
          0.22081106869417697,
          0.23865243181687829
         ],
         "y": [
          "lambda_l1",
          "n",
          "max_depth",
          "bagging_fraction",
          "lambda_l2",
          "min_child_samples",
          "w1",
          "max_bin",
          "subsample",
          "class_weight_1",
          "num_leaves",
          "learning_rate",
          "feature_fraction"
         ],
         "type": "bar"
        }
       ],
       "layout": {
        "title": {
         "text": "Hyperparameter Importances"
        },
        "xaxis": {
         "title": {
          "text": "Hyperparameter Importance"
         }
        },
        "yaxis": {
         "title": {
          "text": "Hyperparameter"
         }
        },
        "template": {
         "data": {
          "histogram2dcontour": [
           {
            "type": "histogram2dcontour",
            "colorbar": {
             "outlinewidth": 0,
             "ticks": ""
            },
            "colorscale": [
             [
              0.0,
              "#0d0887"
             ],
             [
              0.1111111111111111,
              "#46039f"
             ],
             [
              0.2222222222222222,
              "#7201a8"
             ],
             [
              0.3333333333333333,
              "#9c179e"
             ],
             [
              0.4444444444444444,
              "#bd3786"
             ],
             [
              0.5555555555555556,
              "#d8576b"
             ],
             [
              0.6666666666666666,
              "#ed7953"
             ],
             [
              0.7777777777777778,
              "#fb9f3a"
             ],
             [
              0.8888888888888888,
              "#fdca26"
             ],
             [
              1.0,
              "#f0f921"
             ]
            ]
           }
          ],
          "choropleth": [
           {
            "type": "choropleth",
            "colorbar": {
             "outlinewidth": 0,
             "ticks": ""
            }
           }
          ],
          "histogram2d": [
           {
            "type": "histogram2d",
            "colorbar": {
             "outlinewidth": 0,
             "ticks": ""
            },
            "colorscale": [
             [
              0.0,
              "#0d0887"
             ],
             [
              0.1111111111111111,
              "#46039f"
             ],
             [
              0.2222222222222222,
              "#7201a8"
             ],
             [
              0.3333333333333333,
              "#9c179e"
             ],
             [
              0.4444444444444444,
              "#bd3786"
             ],
             [
              0.5555555555555556,
              "#d8576b"
             ],
             [
              0.6666666666666666,
              "#ed7953"
             ],
             [
              0.7777777777777778,
              "#fb9f3a"
             ],
             [
              0.8888888888888888,
              "#fdca26"
             ],
             [
              1.0,
              "#f0f921"
             ]
            ]
           }
          ],
          "heatmap": [
           {
            "type": "heatmap",
            "colorbar": {
             "outlinewidth": 0,
             "ticks": ""
            },
            "colorscale": [
             [
              0.0,
              "#0d0887"
             ],
             [
              0.1111111111111111,
              "#46039f"
             ],
             [
              0.2222222222222222,
              "#7201a8"
             ],
             [
              0.3333333333333333,
              "#9c179e"
             ],
             [
              0.4444444444444444,
              "#bd3786"
             ],
             [
              0.5555555555555556,
              "#d8576b"
             ],
             [
              0.6666666666666666,
              "#ed7953"
             ],
             [
              0.7777777777777778,
              "#fb9f3a"
             ],
             [
              0.8888888888888888,
              "#fdca26"
             ],
             [
              1.0,
              "#f0f921"
             ]
            ]
           }
          ],
          "heatmapgl": [
           {
            "type": "heatmapgl",
            "colorbar": {
             "outlinewidth": 0,
             "ticks": ""
            },
            "colorscale": [
             [
              0.0,
              "#0d0887"
             ],
             [
              0.1111111111111111,
              "#46039f"
             ],
             [
              0.2222222222222222,
              "#7201a8"
             ],
             [
              0.3333333333333333,
              "#9c179e"
             ],
             [
              0.4444444444444444,
              "#bd3786"
             ],
             [
              0.5555555555555556,
              "#d8576b"
             ],
             [
              0.6666666666666666,
              "#ed7953"
             ],
             [
              0.7777777777777778,
              "#fb9f3a"
             ],
             [
              0.8888888888888888,
              "#fdca26"
             ],
             [
              1.0,
              "#f0f921"
             ]
            ]
           }
          ],
          "contourcarpet": [
           {
            "type": "contourcarpet",
            "colorbar": {
             "outlinewidth": 0,
             "ticks": ""
            }
           }
          ],
          "contour": [
           {
            "type": "contour",
            "colorbar": {
             "outlinewidth": 0,
             "ticks": ""
            },
            "colorscale": [
             [
              0.0,
              "#0d0887"
             ],
             [
              0.1111111111111111,
              "#46039f"
             ],
             [
              0.2222222222222222,
              "#7201a8"
             ],
             [
              0.3333333333333333,
              "#9c179e"
             ],
             [
              0.4444444444444444,
              "#bd3786"
             ],
             [
              0.5555555555555556,
              "#d8576b"
             ],
             [
              0.6666666666666666,
              "#ed7953"
             ],
             [
              0.7777777777777778,
              "#fb9f3a"
             ],
             [
              0.8888888888888888,
              "#fdca26"
             ],
             [
              1.0,
              "#f0f921"
             ]
            ]
           }
          ],
          "surface": [
           {
            "type": "surface",
            "colorbar": {
             "outlinewidth": 0,
             "ticks": ""
            },
            "colorscale": [
             [
              0.0,
              "#0d0887"
             ],
             [
              0.1111111111111111,
              "#46039f"
             ],
             [
              0.2222222222222222,
              "#7201a8"
             ],
             [
              0.3333333333333333,
              "#9c179e"
             ],
             [
              0.4444444444444444,
              "#bd3786"
             ],
             [
              0.5555555555555556,
              "#d8576b"
             ],
             [
              0.6666666666666666,
              "#ed7953"
             ],
             [
              0.7777777777777778,
              "#fb9f3a"
             ],
             [
              0.8888888888888888,
              "#fdca26"
             ],
             [
              1.0,
              "#f0f921"
             ]
            ]
           }
          ],
          "mesh3d": [
           {
            "type": "mesh3d",
            "colorbar": {
             "outlinewidth": 0,
             "ticks": ""
            }
           }
          ],
          "scatter": [
           {
            "fillpattern": {
             "fillmode": "overlay",
             "size": 10,
             "solidity": 0.2
            },
            "type": "scatter"
           }
          ],
          "parcoords": [
           {
            "type": "parcoords",
            "line": {
             "colorbar": {
              "outlinewidth": 0,
              "ticks": ""
             }
            }
           }
          ],
          "scatterpolargl": [
           {
            "type": "scatterpolargl",
            "marker": {
             "colorbar": {
              "outlinewidth": 0,
              "ticks": ""
             }
            }
           }
          ],
          "bar": [
           {
            "error_x": {
             "color": "#2a3f5f"
            },
            "error_y": {
             "color": "#2a3f5f"
            },
            "marker": {
             "line": {
              "color": "#E5ECF6",
              "width": 0.5
             },
             "pattern": {
              "fillmode": "overlay",
              "size": 10,
              "solidity": 0.2
             }
            },
            "type": "bar"
           }
          ],
          "scattergeo": [
           {
            "type": "scattergeo",
            "marker": {
             "colorbar": {
              "outlinewidth": 0,
              "ticks": ""
             }
            }
           }
          ],
          "scatterpolar": [
           {
            "type": "scatterpolar",
            "marker": {
             "colorbar": {
              "outlinewidth": 0,
              "ticks": ""
             }
            }
           }
          ],
          "histogram": [
           {
            "marker": {
             "pattern": {
              "fillmode": "overlay",
              "size": 10,
              "solidity": 0.2
             }
            },
            "type": "histogram"
           }
          ],
          "scattergl": [
           {
            "type": "scattergl",
            "marker": {
             "colorbar": {
              "outlinewidth": 0,
              "ticks": ""
             }
            }
           }
          ],
          "scatter3d": [
           {
            "type": "scatter3d",
            "line": {
             "colorbar": {
              "outlinewidth": 0,
              "ticks": ""
             }
            },
            "marker": {
             "colorbar": {
              "outlinewidth": 0,
              "ticks": ""
             }
            }
           }
          ],
          "scattermapbox": [
           {
            "type": "scattermapbox",
            "marker": {
             "colorbar": {
              "outlinewidth": 0,
              "ticks": ""
             }
            }
           }
          ],
          "scatterternary": [
           {
            "type": "scatterternary",
            "marker": {
             "colorbar": {
              "outlinewidth": 0,
              "ticks": ""
             }
            }
           }
          ],
          "scattercarpet": [
           {
            "type": "scattercarpet",
            "marker": {
             "colorbar": {
              "outlinewidth": 0,
              "ticks": ""
             }
            }
           }
          ],
          "carpet": [
           {
            "aaxis": {
             "endlinecolor": "#2a3f5f",
             "gridcolor": "white",
             "linecolor": "white",
             "minorgridcolor": "white",
             "startlinecolor": "#2a3f5f"
            },
            "baxis": {
             "endlinecolor": "#2a3f5f",
             "gridcolor": "white",
             "linecolor": "white",
             "minorgridcolor": "white",
             "startlinecolor": "#2a3f5f"
            },
            "type": "carpet"
           }
          ],
          "table": [
           {
            "cells": {
             "fill": {
              "color": "#EBF0F8"
             },
             "line": {
              "color": "white"
             }
            },
            "header": {
             "fill": {
              "color": "#C8D4E3"
             },
             "line": {
              "color": "white"
             }
            },
            "type": "table"
           }
          ],
          "barpolar": [
           {
            "marker": {
             "line": {
              "color": "#E5ECF6",
              "width": 0.5
             },
             "pattern": {
              "fillmode": "overlay",
              "size": 10,
              "solidity": 0.2
             }
            },
            "type": "barpolar"
           }
          ],
          "pie": [
           {
            "automargin": true,
            "type": "pie"
           }
          ]
         },
         "layout": {
          "autotypenumbers": "strict",
          "colorway": [
           "#636efa",
           "#EF553B",
           "#00cc96",
           "#ab63fa",
           "#FFA15A",
           "#19d3f3",
           "#FF6692",
           "#B6E880",
           "#FF97FF",
           "#FECB52"
          ],
          "font": {
           "color": "#2a3f5f"
          },
          "hovermode": "closest",
          "hoverlabel": {
           "align": "left"
          },
          "paper_bgcolor": "white",
          "plot_bgcolor": "#E5ECF6",
          "polar": {
           "bgcolor": "#E5ECF6",
           "angularaxis": {
            "gridcolor": "white",
            "linecolor": "white",
            "ticks": ""
           },
           "radialaxis": {
            "gridcolor": "white",
            "linecolor": "white",
            "ticks": ""
           }
          },
          "ternary": {
           "bgcolor": "#E5ECF6",
           "aaxis": {
            "gridcolor": "white",
            "linecolor": "white",
            "ticks": ""
           },
           "baxis": {
            "gridcolor": "white",
            "linecolor": "white",
            "ticks": ""
           },
           "caxis": {
            "gridcolor": "white",
            "linecolor": "white",
            "ticks": ""
           }
          },
          "coloraxis": {
           "colorbar": {
            "outlinewidth": 0,
            "ticks": ""
           }
          },
          "colorscale": {
           "sequential": [
            [
             0.0,
             "#0d0887"
            ],
            [
             0.1111111111111111,
             "#46039f"
            ],
            [
             0.2222222222222222,
             "#7201a8"
            ],
            [
             0.3333333333333333,
             "#9c179e"
            ],
            [
             0.4444444444444444,
             "#bd3786"
            ],
            [
             0.5555555555555556,
             "#d8576b"
            ],
            [
             0.6666666666666666,
             "#ed7953"
            ],
            [
             0.7777777777777778,
             "#fb9f3a"
            ],
            [
             0.8888888888888888,
             "#fdca26"
            ],
            [
             1.0,
             "#f0f921"
            ]
           ],
           "sequentialminus": [
            [
             0.0,
             "#0d0887"
            ],
            [
             0.1111111111111111,
             "#46039f"
            ],
            [
             0.2222222222222222,
             "#7201a8"
            ],
            [
             0.3333333333333333,
             "#9c179e"
            ],
            [
             0.4444444444444444,
             "#bd3786"
            ],
            [
             0.5555555555555556,
             "#d8576b"
            ],
            [
             0.6666666666666666,
             "#ed7953"
            ],
            [
             0.7777777777777778,
             "#fb9f3a"
            ],
            [
             0.8888888888888888,
             "#fdca26"
            ],
            [
             1.0,
             "#f0f921"
            ]
           ],
           "diverging": [
            [
             0,
             "#8e0152"
            ],
            [
             0.1,
             "#c51b7d"
            ],
            [
             0.2,
             "#de77ae"
            ],
            [
             0.3,
             "#f1b6da"
            ],
            [
             0.4,
             "#fde0ef"
            ],
            [
             0.5,
             "#f7f7f7"
            ],
            [
             0.6,
             "#e6f5d0"
            ],
            [
             0.7,
             "#b8e186"
            ],
            [
             0.8,
             "#7fbc41"
            ],
            [
             0.9,
             "#4d9221"
            ],
            [
             1,
             "#276419"
            ]
           ]
          },
          "xaxis": {
           "gridcolor": "white",
           "linecolor": "white",
           "ticks": "",
           "title": {
            "standoff": 15
           },
           "zerolinecolor": "white",
           "automargin": true,
           "zerolinewidth": 2
          },
          "yaxis": {
           "gridcolor": "white",
           "linecolor": "white",
           "ticks": "",
           "title": {
            "standoff": 15
           },
           "zerolinecolor": "white",
           "automargin": true,
           "zerolinewidth": 2
          },
          "scene": {
           "xaxis": {
            "backgroundcolor": "#E5ECF6",
            "gridcolor": "white",
            "linecolor": "white",
            "showbackground": true,
            "ticks": "",
            "zerolinecolor": "white",
            "gridwidth": 2
           },
           "yaxis": {
            "backgroundcolor": "#E5ECF6",
            "gridcolor": "white",
            "linecolor": "white",
            "showbackground": true,
            "ticks": "",
            "zerolinecolor": "white",
            "gridwidth": 2
           },
           "zaxis": {
            "backgroundcolor": "#E5ECF6",
            "gridcolor": "white",
            "linecolor": "white",
            "showbackground": true,
            "ticks": "",
            "zerolinecolor": "white",
            "gridwidth": 2
           }
          },
          "shapedefaults": {
           "line": {
            "color": "#2a3f5f"
           }
          },
          "annotationdefaults": {
           "arrowcolor": "#2a3f5f",
           "arrowhead": 0,
           "arrowwidth": 1
          },
          "geo": {
           "bgcolor": "white",
           "landcolor": "#E5ECF6",
           "subunitcolor": "white",
           "showland": true,
           "showlakes": true,
           "lakecolor": "white"
          },
          "title": {
           "x": 0.05
          },
          "mapbox": {
           "style": "light"
          }
         }
        }
       },
       "config": {
        "plotlyServerURL": "https://plot.ly"
       }
      },
      "text/html": "<div>                            <div id=\"eef9659e-8982-4f42-947e-499bae4d5997\" class=\"plotly-graph-div\" style=\"height:525px; width:100%;\"></div>            <script type=\"text/javascript\">                require([\"plotly\"], function(Plotly) {                    window.PLOTLYENV=window.PLOTLYENV || {};                                    if (document.getElementById(\"eef9659e-8982-4f42-947e-499bae4d5997\")) {                    Plotly.newPlot(                        \"eef9659e-8982-4f42-947e-499bae4d5997\",                        [{\"cliponaxis\":false,\"hovertemplate\":[\"lambda_l1 (FloatDistribution): 0.007121198916747497\\u003cextra\\u003e\\u003c\\u002fextra\\u003e\",\"n (IntDistribution): 0.0076403672496831564\\u003cextra\\u003e\\u003c\\u002fextra\\u003e\",\"max_depth (IntDistribution): 0.018769311009326738\\u003cextra\\u003e\\u003c\\u002fextra\\u003e\",\"bagging_fraction (FloatDistribution): 0.026687857358698382\\u003cextra\\u003e\\u003c\\u002fextra\\u003e\",\"lambda_l2 (FloatDistribution): 0.037271764271141136\\u003cextra\\u003e\\u003c\\u002fextra\\u003e\",\"min_child_samples (IntDistribution): 0.03950262945537106\\u003cextra\\u003e\\u003c\\u002fextra\\u003e\",\"w1 (FloatDistribution): 0.04154812219749269\\u003cextra\\u003e\\u003c\\u002fextra\\u003e\",\"max_bin (IntDistribution): 0.04662408832665843\\u003cextra\\u003e\\u003c\\u002fextra\\u003e\",\"subsample (FloatDistribution): 0.06548594974618484\\u003cextra\\u003e\\u003c\\u002fextra\\u003e\",\"class_weight_1 (IntDistribution): 0.09066495560218896\\u003cextra\\u003e\\u003c\\u002fextra\\u003e\",\"num_leaves (IntDistribution): 0.15922025535545184\\u003cextra\\u003e\\u003c\\u002fextra\\u003e\",\"learning_rate (FloatDistribution): 0.22081106869417697\\u003cextra\\u003e\\u003c\\u002fextra\\u003e\",\"feature_fraction (FloatDistribution): 0.23865243181687829\\u003cextra\\u003e\\u003c\\u002fextra\\u003e\"],\"name\":\"Objective Value\",\"orientation\":\"h\",\"text\":[\"\\u003c0.01\",\"\\u003c0.01\",\"0.02\",\"0.03\",\"0.04\",\"0.04\",\"0.04\",\"0.05\",\"0.07\",\"0.09\",\"0.16\",\"0.22\",\"0.24\"],\"textposition\":\"outside\",\"x\":[0.007121198916747497,0.0076403672496831564,0.018769311009326738,0.026687857358698382,0.037271764271141136,0.03950262945537106,0.04154812219749269,0.04662408832665843,0.06548594974618484,0.09066495560218896,0.15922025535545184,0.22081106869417697,0.23865243181687829],\"y\":[\"lambda_l1\",\"n\",\"max_depth\",\"bagging_fraction\",\"lambda_l2\",\"min_child_samples\",\"w1\",\"max_bin\",\"subsample\",\"class_weight_1\",\"num_leaves\",\"learning_rate\",\"feature_fraction\"],\"type\":\"bar\"}],                        {\"title\":{\"text\":\"Hyperparameter Importances\"},\"xaxis\":{\"title\":{\"text\":\"Hyperparameter Importance\"}},\"yaxis\":{\"title\":{\"text\":\"Hyperparameter\"}},\"template\":{\"data\":{\"histogram2dcontour\":[{\"type\":\"histogram2dcontour\",\"colorbar\":{\"outlinewidth\":0,\"ticks\":\"\"},\"colorscale\":[[0.0,\"#0d0887\"],[0.1111111111111111,\"#46039f\"],[0.2222222222222222,\"#7201a8\"],[0.3333333333333333,\"#9c179e\"],[0.4444444444444444,\"#bd3786\"],[0.5555555555555556,\"#d8576b\"],[0.6666666666666666,\"#ed7953\"],[0.7777777777777778,\"#fb9f3a\"],[0.8888888888888888,\"#fdca26\"],[1.0,\"#f0f921\"]]}],\"choropleth\":[{\"type\":\"choropleth\",\"colorbar\":{\"outlinewidth\":0,\"ticks\":\"\"}}],\"histogram2d\":[{\"type\":\"histogram2d\",\"colorbar\":{\"outlinewidth\":0,\"ticks\":\"\"},\"colorscale\":[[0.0,\"#0d0887\"],[0.1111111111111111,\"#46039f\"],[0.2222222222222222,\"#7201a8\"],[0.3333333333333333,\"#9c179e\"],[0.4444444444444444,\"#bd3786\"],[0.5555555555555556,\"#d8576b\"],[0.6666666666666666,\"#ed7953\"],[0.7777777777777778,\"#fb9f3a\"],[0.8888888888888888,\"#fdca26\"],[1.0,\"#f0f921\"]]}],\"heatmap\":[{\"type\":\"heatmap\",\"colorbar\":{\"outlinewidth\":0,\"ticks\":\"\"},\"colorscale\":[[0.0,\"#0d0887\"],[0.1111111111111111,\"#46039f\"],[0.2222222222222222,\"#7201a8\"],[0.3333333333333333,\"#9c179e\"],[0.4444444444444444,\"#bd3786\"],[0.5555555555555556,\"#d8576b\"],[0.6666666666666666,\"#ed7953\"],[0.7777777777777778,\"#fb9f3a\"],[0.8888888888888888,\"#fdca26\"],[1.0,\"#f0f921\"]]}],\"heatmapgl\":[{\"type\":\"heatmapgl\",\"colorbar\":{\"outlinewidth\":0,\"ticks\":\"\"},\"colorscale\":[[0.0,\"#0d0887\"],[0.1111111111111111,\"#46039f\"],[0.2222222222222222,\"#7201a8\"],[0.3333333333333333,\"#9c179e\"],[0.4444444444444444,\"#bd3786\"],[0.5555555555555556,\"#d8576b\"],[0.6666666666666666,\"#ed7953\"],[0.7777777777777778,\"#fb9f3a\"],[0.8888888888888888,\"#fdca26\"],[1.0,\"#f0f921\"]]}],\"contourcarpet\":[{\"type\":\"contourcarpet\",\"colorbar\":{\"outlinewidth\":0,\"ticks\":\"\"}}],\"contour\":[{\"type\":\"contour\",\"colorbar\":{\"outlinewidth\":0,\"ticks\":\"\"},\"colorscale\":[[0.0,\"#0d0887\"],[0.1111111111111111,\"#46039f\"],[0.2222222222222222,\"#7201a8\"],[0.3333333333333333,\"#9c179e\"],[0.4444444444444444,\"#bd3786\"],[0.5555555555555556,\"#d8576b\"],[0.6666666666666666,\"#ed7953\"],[0.7777777777777778,\"#fb9f3a\"],[0.8888888888888888,\"#fdca26\"],[1.0,\"#f0f921\"]]}],\"surface\":[{\"type\":\"surface\",\"colorbar\":{\"outlinewidth\":0,\"ticks\":\"\"},\"colorscale\":[[0.0,\"#0d0887\"],[0.1111111111111111,\"#46039f\"],[0.2222222222222222,\"#7201a8\"],[0.3333333333333333,\"#9c179e\"],[0.4444444444444444,\"#bd3786\"],[0.5555555555555556,\"#d8576b\"],[0.6666666666666666,\"#ed7953\"],[0.7777777777777778,\"#fb9f3a\"],[0.8888888888888888,\"#fdca26\"],[1.0,\"#f0f921\"]]}],\"mesh3d\":[{\"type\":\"mesh3d\",\"colorbar\":{\"outlinewidth\":0,\"ticks\":\"\"}}],\"scatter\":[{\"fillpattern\":{\"fillmode\":\"overlay\",\"size\":10,\"solidity\":0.2},\"type\":\"scatter\"}],\"parcoords\":[{\"type\":\"parcoords\",\"line\":{\"colorbar\":{\"outlinewidth\":0,\"ticks\":\"\"}}}],\"scatterpolargl\":[{\"type\":\"scatterpolargl\",\"marker\":{\"colorbar\":{\"outlinewidth\":0,\"ticks\":\"\"}}}],\"bar\":[{\"error_x\":{\"color\":\"#2a3f5f\"},\"error_y\":{\"color\":\"#2a3f5f\"},\"marker\":{\"line\":{\"color\":\"#E5ECF6\",\"width\":0.5},\"pattern\":{\"fillmode\":\"overlay\",\"size\":10,\"solidity\":0.2}},\"type\":\"bar\"}],\"scattergeo\":[{\"type\":\"scattergeo\",\"marker\":{\"colorbar\":{\"outlinewidth\":0,\"ticks\":\"\"}}}],\"scatterpolar\":[{\"type\":\"scatterpolar\",\"marker\":{\"colorbar\":{\"outlinewidth\":0,\"ticks\":\"\"}}}],\"histogram\":[{\"marker\":{\"pattern\":{\"fillmode\":\"overlay\",\"size\":10,\"solidity\":0.2}},\"type\":\"histogram\"}],\"scattergl\":[{\"type\":\"scattergl\",\"marker\":{\"colorbar\":{\"outlinewidth\":0,\"ticks\":\"\"}}}],\"scatter3d\":[{\"type\":\"scatter3d\",\"line\":{\"colorbar\":{\"outlinewidth\":0,\"ticks\":\"\"}},\"marker\":{\"colorbar\":{\"outlinewidth\":0,\"ticks\":\"\"}}}],\"scattermapbox\":[{\"type\":\"scattermapbox\",\"marker\":{\"colorbar\":{\"outlinewidth\":0,\"ticks\":\"\"}}}],\"scatterternary\":[{\"type\":\"scatterternary\",\"marker\":{\"colorbar\":{\"outlinewidth\":0,\"ticks\":\"\"}}}],\"scattercarpet\":[{\"type\":\"scattercarpet\",\"marker\":{\"colorbar\":{\"outlinewidth\":0,\"ticks\":\"\"}}}],\"carpet\":[{\"aaxis\":{\"endlinecolor\":\"#2a3f5f\",\"gridcolor\":\"white\",\"linecolor\":\"white\",\"minorgridcolor\":\"white\",\"startlinecolor\":\"#2a3f5f\"},\"baxis\":{\"endlinecolor\":\"#2a3f5f\",\"gridcolor\":\"white\",\"linecolor\":\"white\",\"minorgridcolor\":\"white\",\"startlinecolor\":\"#2a3f5f\"},\"type\":\"carpet\"}],\"table\":[{\"cells\":{\"fill\":{\"color\":\"#EBF0F8\"},\"line\":{\"color\":\"white\"}},\"header\":{\"fill\":{\"color\":\"#C8D4E3\"},\"line\":{\"color\":\"white\"}},\"type\":\"table\"}],\"barpolar\":[{\"marker\":{\"line\":{\"color\":\"#E5ECF6\",\"width\":0.5},\"pattern\":{\"fillmode\":\"overlay\",\"size\":10,\"solidity\":0.2}},\"type\":\"barpolar\"}],\"pie\":[{\"automargin\":true,\"type\":\"pie\"}]},\"layout\":{\"autotypenumbers\":\"strict\",\"colorway\":[\"#636efa\",\"#EF553B\",\"#00cc96\",\"#ab63fa\",\"#FFA15A\",\"#19d3f3\",\"#FF6692\",\"#B6E880\",\"#FF97FF\",\"#FECB52\"],\"font\":{\"color\":\"#2a3f5f\"},\"hovermode\":\"closest\",\"hoverlabel\":{\"align\":\"left\"},\"paper_bgcolor\":\"white\",\"plot_bgcolor\":\"#E5ECF6\",\"polar\":{\"bgcolor\":\"#E5ECF6\",\"angularaxis\":{\"gridcolor\":\"white\",\"linecolor\":\"white\",\"ticks\":\"\"},\"radialaxis\":{\"gridcolor\":\"white\",\"linecolor\":\"white\",\"ticks\":\"\"}},\"ternary\":{\"bgcolor\":\"#E5ECF6\",\"aaxis\":{\"gridcolor\":\"white\",\"linecolor\":\"white\",\"ticks\":\"\"},\"baxis\":{\"gridcolor\":\"white\",\"linecolor\":\"white\",\"ticks\":\"\"},\"caxis\":{\"gridcolor\":\"white\",\"linecolor\":\"white\",\"ticks\":\"\"}},\"coloraxis\":{\"colorbar\":{\"outlinewidth\":0,\"ticks\":\"\"}},\"colorscale\":{\"sequential\":[[0.0,\"#0d0887\"],[0.1111111111111111,\"#46039f\"],[0.2222222222222222,\"#7201a8\"],[0.3333333333333333,\"#9c179e\"],[0.4444444444444444,\"#bd3786\"],[0.5555555555555556,\"#d8576b\"],[0.6666666666666666,\"#ed7953\"],[0.7777777777777778,\"#fb9f3a\"],[0.8888888888888888,\"#fdca26\"],[1.0,\"#f0f921\"]],\"sequentialminus\":[[0.0,\"#0d0887\"],[0.1111111111111111,\"#46039f\"],[0.2222222222222222,\"#7201a8\"],[0.3333333333333333,\"#9c179e\"],[0.4444444444444444,\"#bd3786\"],[0.5555555555555556,\"#d8576b\"],[0.6666666666666666,\"#ed7953\"],[0.7777777777777778,\"#fb9f3a\"],[0.8888888888888888,\"#fdca26\"],[1.0,\"#f0f921\"]],\"diverging\":[[0,\"#8e0152\"],[0.1,\"#c51b7d\"],[0.2,\"#de77ae\"],[0.3,\"#f1b6da\"],[0.4,\"#fde0ef\"],[0.5,\"#f7f7f7\"],[0.6,\"#e6f5d0\"],[0.7,\"#b8e186\"],[0.8,\"#7fbc41\"],[0.9,\"#4d9221\"],[1,\"#276419\"]]},\"xaxis\":{\"gridcolor\":\"white\",\"linecolor\":\"white\",\"ticks\":\"\",\"title\":{\"standoff\":15},\"zerolinecolor\":\"white\",\"automargin\":true,\"zerolinewidth\":2},\"yaxis\":{\"gridcolor\":\"white\",\"linecolor\":\"white\",\"ticks\":\"\",\"title\":{\"standoff\":15},\"zerolinecolor\":\"white\",\"automargin\":true,\"zerolinewidth\":2},\"scene\":{\"xaxis\":{\"backgroundcolor\":\"#E5ECF6\",\"gridcolor\":\"white\",\"linecolor\":\"white\",\"showbackground\":true,\"ticks\":\"\",\"zerolinecolor\":\"white\",\"gridwidth\":2},\"yaxis\":{\"backgroundcolor\":\"#E5ECF6\",\"gridcolor\":\"white\",\"linecolor\":\"white\",\"showbackground\":true,\"ticks\":\"\",\"zerolinecolor\":\"white\",\"gridwidth\":2},\"zaxis\":{\"backgroundcolor\":\"#E5ECF6\",\"gridcolor\":\"white\",\"linecolor\":\"white\",\"showbackground\":true,\"ticks\":\"\",\"zerolinecolor\":\"white\",\"gridwidth\":2}},\"shapedefaults\":{\"line\":{\"color\":\"#2a3f5f\"}},\"annotationdefaults\":{\"arrowcolor\":\"#2a3f5f\",\"arrowhead\":0,\"arrowwidth\":1},\"geo\":{\"bgcolor\":\"white\",\"landcolor\":\"#E5ECF6\",\"subunitcolor\":\"white\",\"showland\":true,\"showlakes\":true,\"lakecolor\":\"white\"},\"title\":{\"x\":0.05},\"mapbox\":{\"style\":\"light\"}}}},                        {\"responsive\": true}                    ).then(function(){\n                            \nvar gd = document.getElementById('eef9659e-8982-4f42-947e-499bae4d5997');\nvar x = new MutationObserver(function (mutations, observer) {{\n        var display = window.getComputedStyle(gd).display;\n        if (!display || display === 'none') {{\n            console.log([gd, 'removed!']);\n            Plotly.purge(gd);\n            observer.disconnect();\n        }}\n}});\n\n// Listen for the removal of the full notebook cells\nvar notebookContainer = gd.closest('#notebook-container');\nif (notebookContainer) {{\n    x.observe(notebookContainer, {childList: true});\n}}\n\n// Listen for the clearing of the current output cell\nvar outputEl = gd.closest('.output');\nif (outputEl) {{\n    x.observe(outputEl, {childList: true});\n}}\n\n                        })                };                });            </script>        </div>"
     },
     "metadata": {},
     "output_type": "display_data"
    },
    {
     "data": {
      "application/vnd.plotly.v1+json": {
       "data": [
        {
         "cliponaxis": false,
         "hovertemplate": [
          "bagging_fraction (FloatDistribution): 0.005388924700242019<extra></extra>",
          "lambda_l1 (FloatDistribution): 0.0068749957709473035<extra></extra>",
          "feature_fraction (FloatDistribution): 0.006968509108027698<extra></extra>",
          "max_depth (IntDistribution): 0.009636569310808613<extra></extra>",
          "min_child_samples (IntDistribution): 0.009887873079374138<extra></extra>",
          "subsample (FloatDistribution): 0.010236664449374334<extra></extra>",
          "n (IntDistribution): 0.011806110168772836<extra></extra>",
          "w1 (FloatDistribution): 0.03153662157812577<extra></extra>",
          "class_weight_1 (IntDistribution): 0.0338291440580292<extra></extra>",
          "lambda_l2 (FloatDistribution): 0.03428425848528309<extra></extra>",
          "max_bin (IntDistribution): 0.08480911314148623<extra></extra>",
          "num_leaves (IntDistribution): 0.22255127145700906<extra></extra>",
          "learning_rate (FloatDistribution): 0.5321899446925195<extra></extra>"
         ],
         "name": "Objective Value",
         "orientation": "h",
         "text": [
          "<0.01",
          "<0.01",
          "<0.01",
          "<0.01",
          "<0.01",
          "0.01",
          "0.01",
          "0.03",
          "0.03",
          "0.03",
          "0.08",
          "0.22",
          "0.53"
         ],
         "textposition": "outside",
         "x": [
          0.005388924700242019,
          0.0068749957709473035,
          0.006968509108027698,
          0.009636569310808613,
          0.009887873079374138,
          0.010236664449374334,
          0.011806110168772836,
          0.03153662157812577,
          0.0338291440580292,
          0.03428425848528309,
          0.08480911314148623,
          0.22255127145700906,
          0.5321899446925195
         ],
         "y": [
          "bagging_fraction",
          "lambda_l1",
          "feature_fraction",
          "max_depth",
          "min_child_samples",
          "subsample",
          "n",
          "w1",
          "class_weight_1",
          "lambda_l2",
          "max_bin",
          "num_leaves",
          "learning_rate"
         ],
         "type": "bar"
        }
       ],
       "layout": {
        "title": {
         "text": "Hyperparameter Importances"
        },
        "xaxis": {
         "title": {
          "text": "Hyperparameter Importance"
         }
        },
        "yaxis": {
         "title": {
          "text": "Hyperparameter"
         }
        },
        "template": {
         "data": {
          "histogram2dcontour": [
           {
            "type": "histogram2dcontour",
            "colorbar": {
             "outlinewidth": 0,
             "ticks": ""
            },
            "colorscale": [
             [
              0.0,
              "#0d0887"
             ],
             [
              0.1111111111111111,
              "#46039f"
             ],
             [
              0.2222222222222222,
              "#7201a8"
             ],
             [
              0.3333333333333333,
              "#9c179e"
             ],
             [
              0.4444444444444444,
              "#bd3786"
             ],
             [
              0.5555555555555556,
              "#d8576b"
             ],
             [
              0.6666666666666666,
              "#ed7953"
             ],
             [
              0.7777777777777778,
              "#fb9f3a"
             ],
             [
              0.8888888888888888,
              "#fdca26"
             ],
             [
              1.0,
              "#f0f921"
             ]
            ]
           }
          ],
          "choropleth": [
           {
            "type": "choropleth",
            "colorbar": {
             "outlinewidth": 0,
             "ticks": ""
            }
           }
          ],
          "histogram2d": [
           {
            "type": "histogram2d",
            "colorbar": {
             "outlinewidth": 0,
             "ticks": ""
            },
            "colorscale": [
             [
              0.0,
              "#0d0887"
             ],
             [
              0.1111111111111111,
              "#46039f"
             ],
             [
              0.2222222222222222,
              "#7201a8"
             ],
             [
              0.3333333333333333,
              "#9c179e"
             ],
             [
              0.4444444444444444,
              "#bd3786"
             ],
             [
              0.5555555555555556,
              "#d8576b"
             ],
             [
              0.6666666666666666,
              "#ed7953"
             ],
             [
              0.7777777777777778,
              "#fb9f3a"
             ],
             [
              0.8888888888888888,
              "#fdca26"
             ],
             [
              1.0,
              "#f0f921"
             ]
            ]
           }
          ],
          "heatmap": [
           {
            "type": "heatmap",
            "colorbar": {
             "outlinewidth": 0,
             "ticks": ""
            },
            "colorscale": [
             [
              0.0,
              "#0d0887"
             ],
             [
              0.1111111111111111,
              "#46039f"
             ],
             [
              0.2222222222222222,
              "#7201a8"
             ],
             [
              0.3333333333333333,
              "#9c179e"
             ],
             [
              0.4444444444444444,
              "#bd3786"
             ],
             [
              0.5555555555555556,
              "#d8576b"
             ],
             [
              0.6666666666666666,
              "#ed7953"
             ],
             [
              0.7777777777777778,
              "#fb9f3a"
             ],
             [
              0.8888888888888888,
              "#fdca26"
             ],
             [
              1.0,
              "#f0f921"
             ]
            ]
           }
          ],
          "heatmapgl": [
           {
            "type": "heatmapgl",
            "colorbar": {
             "outlinewidth": 0,
             "ticks": ""
            },
            "colorscale": [
             [
              0.0,
              "#0d0887"
             ],
             [
              0.1111111111111111,
              "#46039f"
             ],
             [
              0.2222222222222222,
              "#7201a8"
             ],
             [
              0.3333333333333333,
              "#9c179e"
             ],
             [
              0.4444444444444444,
              "#bd3786"
             ],
             [
              0.5555555555555556,
              "#d8576b"
             ],
             [
              0.6666666666666666,
              "#ed7953"
             ],
             [
              0.7777777777777778,
              "#fb9f3a"
             ],
             [
              0.8888888888888888,
              "#fdca26"
             ],
             [
              1.0,
              "#f0f921"
             ]
            ]
           }
          ],
          "contourcarpet": [
           {
            "type": "contourcarpet",
            "colorbar": {
             "outlinewidth": 0,
             "ticks": ""
            }
           }
          ],
          "contour": [
           {
            "type": "contour",
            "colorbar": {
             "outlinewidth": 0,
             "ticks": ""
            },
            "colorscale": [
             [
              0.0,
              "#0d0887"
             ],
             [
              0.1111111111111111,
              "#46039f"
             ],
             [
              0.2222222222222222,
              "#7201a8"
             ],
             [
              0.3333333333333333,
              "#9c179e"
             ],
             [
              0.4444444444444444,
              "#bd3786"
             ],
             [
              0.5555555555555556,
              "#d8576b"
             ],
             [
              0.6666666666666666,
              "#ed7953"
             ],
             [
              0.7777777777777778,
              "#fb9f3a"
             ],
             [
              0.8888888888888888,
              "#fdca26"
             ],
             [
              1.0,
              "#f0f921"
             ]
            ]
           }
          ],
          "surface": [
           {
            "type": "surface",
            "colorbar": {
             "outlinewidth": 0,
             "ticks": ""
            },
            "colorscale": [
             [
              0.0,
              "#0d0887"
             ],
             [
              0.1111111111111111,
              "#46039f"
             ],
             [
              0.2222222222222222,
              "#7201a8"
             ],
             [
              0.3333333333333333,
              "#9c179e"
             ],
             [
              0.4444444444444444,
              "#bd3786"
             ],
             [
              0.5555555555555556,
              "#d8576b"
             ],
             [
              0.6666666666666666,
              "#ed7953"
             ],
             [
              0.7777777777777778,
              "#fb9f3a"
             ],
             [
              0.8888888888888888,
              "#fdca26"
             ],
             [
              1.0,
              "#f0f921"
             ]
            ]
           }
          ],
          "mesh3d": [
           {
            "type": "mesh3d",
            "colorbar": {
             "outlinewidth": 0,
             "ticks": ""
            }
           }
          ],
          "scatter": [
           {
            "fillpattern": {
             "fillmode": "overlay",
             "size": 10,
             "solidity": 0.2
            },
            "type": "scatter"
           }
          ],
          "parcoords": [
           {
            "type": "parcoords",
            "line": {
             "colorbar": {
              "outlinewidth": 0,
              "ticks": ""
             }
            }
           }
          ],
          "scatterpolargl": [
           {
            "type": "scatterpolargl",
            "marker": {
             "colorbar": {
              "outlinewidth": 0,
              "ticks": ""
             }
            }
           }
          ],
          "bar": [
           {
            "error_x": {
             "color": "#2a3f5f"
            },
            "error_y": {
             "color": "#2a3f5f"
            },
            "marker": {
             "line": {
              "color": "#E5ECF6",
              "width": 0.5
             },
             "pattern": {
              "fillmode": "overlay",
              "size": 10,
              "solidity": 0.2
             }
            },
            "type": "bar"
           }
          ],
          "scattergeo": [
           {
            "type": "scattergeo",
            "marker": {
             "colorbar": {
              "outlinewidth": 0,
              "ticks": ""
             }
            }
           }
          ],
          "scatterpolar": [
           {
            "type": "scatterpolar",
            "marker": {
             "colorbar": {
              "outlinewidth": 0,
              "ticks": ""
             }
            }
           }
          ],
          "histogram": [
           {
            "marker": {
             "pattern": {
              "fillmode": "overlay",
              "size": 10,
              "solidity": 0.2
             }
            },
            "type": "histogram"
           }
          ],
          "scattergl": [
           {
            "type": "scattergl",
            "marker": {
             "colorbar": {
              "outlinewidth": 0,
              "ticks": ""
             }
            }
           }
          ],
          "scatter3d": [
           {
            "type": "scatter3d",
            "line": {
             "colorbar": {
              "outlinewidth": 0,
              "ticks": ""
             }
            },
            "marker": {
             "colorbar": {
              "outlinewidth": 0,
              "ticks": ""
             }
            }
           }
          ],
          "scattermapbox": [
           {
            "type": "scattermapbox",
            "marker": {
             "colorbar": {
              "outlinewidth": 0,
              "ticks": ""
             }
            }
           }
          ],
          "scatterternary": [
           {
            "type": "scatterternary",
            "marker": {
             "colorbar": {
              "outlinewidth": 0,
              "ticks": ""
             }
            }
           }
          ],
          "scattercarpet": [
           {
            "type": "scattercarpet",
            "marker": {
             "colorbar": {
              "outlinewidth": 0,
              "ticks": ""
             }
            }
           }
          ],
          "carpet": [
           {
            "aaxis": {
             "endlinecolor": "#2a3f5f",
             "gridcolor": "white",
             "linecolor": "white",
             "minorgridcolor": "white",
             "startlinecolor": "#2a3f5f"
            },
            "baxis": {
             "endlinecolor": "#2a3f5f",
             "gridcolor": "white",
             "linecolor": "white",
             "minorgridcolor": "white",
             "startlinecolor": "#2a3f5f"
            },
            "type": "carpet"
           }
          ],
          "table": [
           {
            "cells": {
             "fill": {
              "color": "#EBF0F8"
             },
             "line": {
              "color": "white"
             }
            },
            "header": {
             "fill": {
              "color": "#C8D4E3"
             },
             "line": {
              "color": "white"
             }
            },
            "type": "table"
           }
          ],
          "barpolar": [
           {
            "marker": {
             "line": {
              "color": "#E5ECF6",
              "width": 0.5
             },
             "pattern": {
              "fillmode": "overlay",
              "size": 10,
              "solidity": 0.2
             }
            },
            "type": "barpolar"
           }
          ],
          "pie": [
           {
            "automargin": true,
            "type": "pie"
           }
          ]
         },
         "layout": {
          "autotypenumbers": "strict",
          "colorway": [
           "#636efa",
           "#EF553B",
           "#00cc96",
           "#ab63fa",
           "#FFA15A",
           "#19d3f3",
           "#FF6692",
           "#B6E880",
           "#FF97FF",
           "#FECB52"
          ],
          "font": {
           "color": "#2a3f5f"
          },
          "hovermode": "closest",
          "hoverlabel": {
           "align": "left"
          },
          "paper_bgcolor": "white",
          "plot_bgcolor": "#E5ECF6",
          "polar": {
           "bgcolor": "#E5ECF6",
           "angularaxis": {
            "gridcolor": "white",
            "linecolor": "white",
            "ticks": ""
           },
           "radialaxis": {
            "gridcolor": "white",
            "linecolor": "white",
            "ticks": ""
           }
          },
          "ternary": {
           "bgcolor": "#E5ECF6",
           "aaxis": {
            "gridcolor": "white",
            "linecolor": "white",
            "ticks": ""
           },
           "baxis": {
            "gridcolor": "white",
            "linecolor": "white",
            "ticks": ""
           },
           "caxis": {
            "gridcolor": "white",
            "linecolor": "white",
            "ticks": ""
           }
          },
          "coloraxis": {
           "colorbar": {
            "outlinewidth": 0,
            "ticks": ""
           }
          },
          "colorscale": {
           "sequential": [
            [
             0.0,
             "#0d0887"
            ],
            [
             0.1111111111111111,
             "#46039f"
            ],
            [
             0.2222222222222222,
             "#7201a8"
            ],
            [
             0.3333333333333333,
             "#9c179e"
            ],
            [
             0.4444444444444444,
             "#bd3786"
            ],
            [
             0.5555555555555556,
             "#d8576b"
            ],
            [
             0.6666666666666666,
             "#ed7953"
            ],
            [
             0.7777777777777778,
             "#fb9f3a"
            ],
            [
             0.8888888888888888,
             "#fdca26"
            ],
            [
             1.0,
             "#f0f921"
            ]
           ],
           "sequentialminus": [
            [
             0.0,
             "#0d0887"
            ],
            [
             0.1111111111111111,
             "#46039f"
            ],
            [
             0.2222222222222222,
             "#7201a8"
            ],
            [
             0.3333333333333333,
             "#9c179e"
            ],
            [
             0.4444444444444444,
             "#bd3786"
            ],
            [
             0.5555555555555556,
             "#d8576b"
            ],
            [
             0.6666666666666666,
             "#ed7953"
            ],
            [
             0.7777777777777778,
             "#fb9f3a"
            ],
            [
             0.8888888888888888,
             "#fdca26"
            ],
            [
             1.0,
             "#f0f921"
            ]
           ],
           "diverging": [
            [
             0,
             "#8e0152"
            ],
            [
             0.1,
             "#c51b7d"
            ],
            [
             0.2,
             "#de77ae"
            ],
            [
             0.3,
             "#f1b6da"
            ],
            [
             0.4,
             "#fde0ef"
            ],
            [
             0.5,
             "#f7f7f7"
            ],
            [
             0.6,
             "#e6f5d0"
            ],
            [
             0.7,
             "#b8e186"
            ],
            [
             0.8,
             "#7fbc41"
            ],
            [
             0.9,
             "#4d9221"
            ],
            [
             1,
             "#276419"
            ]
           ]
          },
          "xaxis": {
           "gridcolor": "white",
           "linecolor": "white",
           "ticks": "",
           "title": {
            "standoff": 15
           },
           "zerolinecolor": "white",
           "automargin": true,
           "zerolinewidth": 2
          },
          "yaxis": {
           "gridcolor": "white",
           "linecolor": "white",
           "ticks": "",
           "title": {
            "standoff": 15
           },
           "zerolinecolor": "white",
           "automargin": true,
           "zerolinewidth": 2
          },
          "scene": {
           "xaxis": {
            "backgroundcolor": "#E5ECF6",
            "gridcolor": "white",
            "linecolor": "white",
            "showbackground": true,
            "ticks": "",
            "zerolinecolor": "white",
            "gridwidth": 2
           },
           "yaxis": {
            "backgroundcolor": "#E5ECF6",
            "gridcolor": "white",
            "linecolor": "white",
            "showbackground": true,
            "ticks": "",
            "zerolinecolor": "white",
            "gridwidth": 2
           },
           "zaxis": {
            "backgroundcolor": "#E5ECF6",
            "gridcolor": "white",
            "linecolor": "white",
            "showbackground": true,
            "ticks": "",
            "zerolinecolor": "white",
            "gridwidth": 2
           }
          },
          "shapedefaults": {
           "line": {
            "color": "#2a3f5f"
           }
          },
          "annotationdefaults": {
           "arrowcolor": "#2a3f5f",
           "arrowhead": 0,
           "arrowwidth": 1
          },
          "geo": {
           "bgcolor": "white",
           "landcolor": "#E5ECF6",
           "subunitcolor": "white",
           "showland": true,
           "showlakes": true,
           "lakecolor": "white"
          },
          "title": {
           "x": 0.05
          },
          "mapbox": {
           "style": "light"
          }
         }
        }
       },
       "config": {
        "plotlyServerURL": "https://plot.ly"
       }
      },
      "text/html": "<div>                            <div id=\"702e5655-874f-4295-a031-8d11352fb744\" class=\"plotly-graph-div\" style=\"height:525px; width:100%;\"></div>            <script type=\"text/javascript\">                require([\"plotly\"], function(Plotly) {                    window.PLOTLYENV=window.PLOTLYENV || {};                                    if (document.getElementById(\"702e5655-874f-4295-a031-8d11352fb744\")) {                    Plotly.newPlot(                        \"702e5655-874f-4295-a031-8d11352fb744\",                        [{\"cliponaxis\":false,\"hovertemplate\":[\"bagging_fraction (FloatDistribution): 0.005388924700242019\\u003cextra\\u003e\\u003c\\u002fextra\\u003e\",\"lambda_l1 (FloatDistribution): 0.0068749957709473035\\u003cextra\\u003e\\u003c\\u002fextra\\u003e\",\"feature_fraction (FloatDistribution): 0.006968509108027698\\u003cextra\\u003e\\u003c\\u002fextra\\u003e\",\"max_depth (IntDistribution): 0.009636569310808613\\u003cextra\\u003e\\u003c\\u002fextra\\u003e\",\"min_child_samples (IntDistribution): 0.009887873079374138\\u003cextra\\u003e\\u003c\\u002fextra\\u003e\",\"subsample (FloatDistribution): 0.010236664449374334\\u003cextra\\u003e\\u003c\\u002fextra\\u003e\",\"n (IntDistribution): 0.011806110168772836\\u003cextra\\u003e\\u003c\\u002fextra\\u003e\",\"w1 (FloatDistribution): 0.03153662157812577\\u003cextra\\u003e\\u003c\\u002fextra\\u003e\",\"class_weight_1 (IntDistribution): 0.0338291440580292\\u003cextra\\u003e\\u003c\\u002fextra\\u003e\",\"lambda_l2 (FloatDistribution): 0.03428425848528309\\u003cextra\\u003e\\u003c\\u002fextra\\u003e\",\"max_bin (IntDistribution): 0.08480911314148623\\u003cextra\\u003e\\u003c\\u002fextra\\u003e\",\"num_leaves (IntDistribution): 0.22255127145700906\\u003cextra\\u003e\\u003c\\u002fextra\\u003e\",\"learning_rate (FloatDistribution): 0.5321899446925195\\u003cextra\\u003e\\u003c\\u002fextra\\u003e\"],\"name\":\"Objective Value\",\"orientation\":\"h\",\"text\":[\"\\u003c0.01\",\"\\u003c0.01\",\"\\u003c0.01\",\"\\u003c0.01\",\"\\u003c0.01\",\"0.01\",\"0.01\",\"0.03\",\"0.03\",\"0.03\",\"0.08\",\"0.22\",\"0.53\"],\"textposition\":\"outside\",\"x\":[0.005388924700242019,0.0068749957709473035,0.006968509108027698,0.009636569310808613,0.009887873079374138,0.010236664449374334,0.011806110168772836,0.03153662157812577,0.0338291440580292,0.03428425848528309,0.08480911314148623,0.22255127145700906,0.5321899446925195],\"y\":[\"bagging_fraction\",\"lambda_l1\",\"feature_fraction\",\"max_depth\",\"min_child_samples\",\"subsample\",\"n\",\"w1\",\"class_weight_1\",\"lambda_l2\",\"max_bin\",\"num_leaves\",\"learning_rate\"],\"type\":\"bar\"}],                        {\"title\":{\"text\":\"Hyperparameter Importances\"},\"xaxis\":{\"title\":{\"text\":\"Hyperparameter Importance\"}},\"yaxis\":{\"title\":{\"text\":\"Hyperparameter\"}},\"template\":{\"data\":{\"histogram2dcontour\":[{\"type\":\"histogram2dcontour\",\"colorbar\":{\"outlinewidth\":0,\"ticks\":\"\"},\"colorscale\":[[0.0,\"#0d0887\"],[0.1111111111111111,\"#46039f\"],[0.2222222222222222,\"#7201a8\"],[0.3333333333333333,\"#9c179e\"],[0.4444444444444444,\"#bd3786\"],[0.5555555555555556,\"#d8576b\"],[0.6666666666666666,\"#ed7953\"],[0.7777777777777778,\"#fb9f3a\"],[0.8888888888888888,\"#fdca26\"],[1.0,\"#f0f921\"]]}],\"choropleth\":[{\"type\":\"choropleth\",\"colorbar\":{\"outlinewidth\":0,\"ticks\":\"\"}}],\"histogram2d\":[{\"type\":\"histogram2d\",\"colorbar\":{\"outlinewidth\":0,\"ticks\":\"\"},\"colorscale\":[[0.0,\"#0d0887\"],[0.1111111111111111,\"#46039f\"],[0.2222222222222222,\"#7201a8\"],[0.3333333333333333,\"#9c179e\"],[0.4444444444444444,\"#bd3786\"],[0.5555555555555556,\"#d8576b\"],[0.6666666666666666,\"#ed7953\"],[0.7777777777777778,\"#fb9f3a\"],[0.8888888888888888,\"#fdca26\"],[1.0,\"#f0f921\"]]}],\"heatmap\":[{\"type\":\"heatmap\",\"colorbar\":{\"outlinewidth\":0,\"ticks\":\"\"},\"colorscale\":[[0.0,\"#0d0887\"],[0.1111111111111111,\"#46039f\"],[0.2222222222222222,\"#7201a8\"],[0.3333333333333333,\"#9c179e\"],[0.4444444444444444,\"#bd3786\"],[0.5555555555555556,\"#d8576b\"],[0.6666666666666666,\"#ed7953\"],[0.7777777777777778,\"#fb9f3a\"],[0.8888888888888888,\"#fdca26\"],[1.0,\"#f0f921\"]]}],\"heatmapgl\":[{\"type\":\"heatmapgl\",\"colorbar\":{\"outlinewidth\":0,\"ticks\":\"\"},\"colorscale\":[[0.0,\"#0d0887\"],[0.1111111111111111,\"#46039f\"],[0.2222222222222222,\"#7201a8\"],[0.3333333333333333,\"#9c179e\"],[0.4444444444444444,\"#bd3786\"],[0.5555555555555556,\"#d8576b\"],[0.6666666666666666,\"#ed7953\"],[0.7777777777777778,\"#fb9f3a\"],[0.8888888888888888,\"#fdca26\"],[1.0,\"#f0f921\"]]}],\"contourcarpet\":[{\"type\":\"contourcarpet\",\"colorbar\":{\"outlinewidth\":0,\"ticks\":\"\"}}],\"contour\":[{\"type\":\"contour\",\"colorbar\":{\"outlinewidth\":0,\"ticks\":\"\"},\"colorscale\":[[0.0,\"#0d0887\"],[0.1111111111111111,\"#46039f\"],[0.2222222222222222,\"#7201a8\"],[0.3333333333333333,\"#9c179e\"],[0.4444444444444444,\"#bd3786\"],[0.5555555555555556,\"#d8576b\"],[0.6666666666666666,\"#ed7953\"],[0.7777777777777778,\"#fb9f3a\"],[0.8888888888888888,\"#fdca26\"],[1.0,\"#f0f921\"]]}],\"surface\":[{\"type\":\"surface\",\"colorbar\":{\"outlinewidth\":0,\"ticks\":\"\"},\"colorscale\":[[0.0,\"#0d0887\"],[0.1111111111111111,\"#46039f\"],[0.2222222222222222,\"#7201a8\"],[0.3333333333333333,\"#9c179e\"],[0.4444444444444444,\"#bd3786\"],[0.5555555555555556,\"#d8576b\"],[0.6666666666666666,\"#ed7953\"],[0.7777777777777778,\"#fb9f3a\"],[0.8888888888888888,\"#fdca26\"],[1.0,\"#f0f921\"]]}],\"mesh3d\":[{\"type\":\"mesh3d\",\"colorbar\":{\"outlinewidth\":0,\"ticks\":\"\"}}],\"scatter\":[{\"fillpattern\":{\"fillmode\":\"overlay\",\"size\":10,\"solidity\":0.2},\"type\":\"scatter\"}],\"parcoords\":[{\"type\":\"parcoords\",\"line\":{\"colorbar\":{\"outlinewidth\":0,\"ticks\":\"\"}}}],\"scatterpolargl\":[{\"type\":\"scatterpolargl\",\"marker\":{\"colorbar\":{\"outlinewidth\":0,\"ticks\":\"\"}}}],\"bar\":[{\"error_x\":{\"color\":\"#2a3f5f\"},\"error_y\":{\"color\":\"#2a3f5f\"},\"marker\":{\"line\":{\"color\":\"#E5ECF6\",\"width\":0.5},\"pattern\":{\"fillmode\":\"overlay\",\"size\":10,\"solidity\":0.2}},\"type\":\"bar\"}],\"scattergeo\":[{\"type\":\"scattergeo\",\"marker\":{\"colorbar\":{\"outlinewidth\":0,\"ticks\":\"\"}}}],\"scatterpolar\":[{\"type\":\"scatterpolar\",\"marker\":{\"colorbar\":{\"outlinewidth\":0,\"ticks\":\"\"}}}],\"histogram\":[{\"marker\":{\"pattern\":{\"fillmode\":\"overlay\",\"size\":10,\"solidity\":0.2}},\"type\":\"histogram\"}],\"scattergl\":[{\"type\":\"scattergl\",\"marker\":{\"colorbar\":{\"outlinewidth\":0,\"ticks\":\"\"}}}],\"scatter3d\":[{\"type\":\"scatter3d\",\"line\":{\"colorbar\":{\"outlinewidth\":0,\"ticks\":\"\"}},\"marker\":{\"colorbar\":{\"outlinewidth\":0,\"ticks\":\"\"}}}],\"scattermapbox\":[{\"type\":\"scattermapbox\",\"marker\":{\"colorbar\":{\"outlinewidth\":0,\"ticks\":\"\"}}}],\"scatterternary\":[{\"type\":\"scatterternary\",\"marker\":{\"colorbar\":{\"outlinewidth\":0,\"ticks\":\"\"}}}],\"scattercarpet\":[{\"type\":\"scattercarpet\",\"marker\":{\"colorbar\":{\"outlinewidth\":0,\"ticks\":\"\"}}}],\"carpet\":[{\"aaxis\":{\"endlinecolor\":\"#2a3f5f\",\"gridcolor\":\"white\",\"linecolor\":\"white\",\"minorgridcolor\":\"white\",\"startlinecolor\":\"#2a3f5f\"},\"baxis\":{\"endlinecolor\":\"#2a3f5f\",\"gridcolor\":\"white\",\"linecolor\":\"white\",\"minorgridcolor\":\"white\",\"startlinecolor\":\"#2a3f5f\"},\"type\":\"carpet\"}],\"table\":[{\"cells\":{\"fill\":{\"color\":\"#EBF0F8\"},\"line\":{\"color\":\"white\"}},\"header\":{\"fill\":{\"color\":\"#C8D4E3\"},\"line\":{\"color\":\"white\"}},\"type\":\"table\"}],\"barpolar\":[{\"marker\":{\"line\":{\"color\":\"#E5ECF6\",\"width\":0.5},\"pattern\":{\"fillmode\":\"overlay\",\"size\":10,\"solidity\":0.2}},\"type\":\"barpolar\"}],\"pie\":[{\"automargin\":true,\"type\":\"pie\"}]},\"layout\":{\"autotypenumbers\":\"strict\",\"colorway\":[\"#636efa\",\"#EF553B\",\"#00cc96\",\"#ab63fa\",\"#FFA15A\",\"#19d3f3\",\"#FF6692\",\"#B6E880\",\"#FF97FF\",\"#FECB52\"],\"font\":{\"color\":\"#2a3f5f\"},\"hovermode\":\"closest\",\"hoverlabel\":{\"align\":\"left\"},\"paper_bgcolor\":\"white\",\"plot_bgcolor\":\"#E5ECF6\",\"polar\":{\"bgcolor\":\"#E5ECF6\",\"angularaxis\":{\"gridcolor\":\"white\",\"linecolor\":\"white\",\"ticks\":\"\"},\"radialaxis\":{\"gridcolor\":\"white\",\"linecolor\":\"white\",\"ticks\":\"\"}},\"ternary\":{\"bgcolor\":\"#E5ECF6\",\"aaxis\":{\"gridcolor\":\"white\",\"linecolor\":\"white\",\"ticks\":\"\"},\"baxis\":{\"gridcolor\":\"white\",\"linecolor\":\"white\",\"ticks\":\"\"},\"caxis\":{\"gridcolor\":\"white\",\"linecolor\":\"white\",\"ticks\":\"\"}},\"coloraxis\":{\"colorbar\":{\"outlinewidth\":0,\"ticks\":\"\"}},\"colorscale\":{\"sequential\":[[0.0,\"#0d0887\"],[0.1111111111111111,\"#46039f\"],[0.2222222222222222,\"#7201a8\"],[0.3333333333333333,\"#9c179e\"],[0.4444444444444444,\"#bd3786\"],[0.5555555555555556,\"#d8576b\"],[0.6666666666666666,\"#ed7953\"],[0.7777777777777778,\"#fb9f3a\"],[0.8888888888888888,\"#fdca26\"],[1.0,\"#f0f921\"]],\"sequentialminus\":[[0.0,\"#0d0887\"],[0.1111111111111111,\"#46039f\"],[0.2222222222222222,\"#7201a8\"],[0.3333333333333333,\"#9c179e\"],[0.4444444444444444,\"#bd3786\"],[0.5555555555555556,\"#d8576b\"],[0.6666666666666666,\"#ed7953\"],[0.7777777777777778,\"#fb9f3a\"],[0.8888888888888888,\"#fdca26\"],[1.0,\"#f0f921\"]],\"diverging\":[[0,\"#8e0152\"],[0.1,\"#c51b7d\"],[0.2,\"#de77ae\"],[0.3,\"#f1b6da\"],[0.4,\"#fde0ef\"],[0.5,\"#f7f7f7\"],[0.6,\"#e6f5d0\"],[0.7,\"#b8e186\"],[0.8,\"#7fbc41\"],[0.9,\"#4d9221\"],[1,\"#276419\"]]},\"xaxis\":{\"gridcolor\":\"white\",\"linecolor\":\"white\",\"ticks\":\"\",\"title\":{\"standoff\":15},\"zerolinecolor\":\"white\",\"automargin\":true,\"zerolinewidth\":2},\"yaxis\":{\"gridcolor\":\"white\",\"linecolor\":\"white\",\"ticks\":\"\",\"title\":{\"standoff\":15},\"zerolinecolor\":\"white\",\"automargin\":true,\"zerolinewidth\":2},\"scene\":{\"xaxis\":{\"backgroundcolor\":\"#E5ECF6\",\"gridcolor\":\"white\",\"linecolor\":\"white\",\"showbackground\":true,\"ticks\":\"\",\"zerolinecolor\":\"white\",\"gridwidth\":2},\"yaxis\":{\"backgroundcolor\":\"#E5ECF6\",\"gridcolor\":\"white\",\"linecolor\":\"white\",\"showbackground\":true,\"ticks\":\"\",\"zerolinecolor\":\"white\",\"gridwidth\":2},\"zaxis\":{\"backgroundcolor\":\"#E5ECF6\",\"gridcolor\":\"white\",\"linecolor\":\"white\",\"showbackground\":true,\"ticks\":\"\",\"zerolinecolor\":\"white\",\"gridwidth\":2}},\"shapedefaults\":{\"line\":{\"color\":\"#2a3f5f\"}},\"annotationdefaults\":{\"arrowcolor\":\"#2a3f5f\",\"arrowhead\":0,\"arrowwidth\":1},\"geo\":{\"bgcolor\":\"white\",\"landcolor\":\"#E5ECF6\",\"subunitcolor\":\"white\",\"showland\":true,\"showlakes\":true,\"lakecolor\":\"white\"},\"title\":{\"x\":0.05},\"mapbox\":{\"style\":\"light\"}}}},                        {\"responsive\": true}                    ).then(function(){\n                            \nvar gd = document.getElementById('702e5655-874f-4295-a031-8d11352fb744');\nvar x = new MutationObserver(function (mutations, observer) {{\n        var display = window.getComputedStyle(gd).display;\n        if (!display || display === 'none') {{\n            console.log([gd, 'removed!']);\n            Plotly.purge(gd);\n            observer.disconnect();\n        }}\n}});\n\n// Listen for the removal of the full notebook cells\nvar notebookContainer = gd.closest('#notebook-container');\nif (notebookContainer) {{\n    x.observe(notebookContainer, {childList: true});\n}}\n\n// Listen for the clearing of the current output cell\nvar outputEl = gd.closest('.output');\nif (outputEl) {{\n    x.observe(outputEl, {childList: true});\n}}\n\n                        })                };                });            </script>        </div>"
     },
     "metadata": {},
     "output_type": "display_data"
    },
    {
     "data": {
      "application/vnd.plotly.v1+json": {
       "data": [
        {
         "cliponaxis": false,
         "hovertemplate": [
          "n (IntDistribution): 0.0014700941762423308<extra></extra>",
          "subsample (FloatDistribution): 0.004109675084408836<extra></extra>",
          "w1 (FloatDistribution): 0.005924938755082117<extra></extra>",
          "min_child_samples (IntDistribution): 0.009094368147739422<extra></extra>",
          "bagging_fraction (FloatDistribution): 0.014814681915676486<extra></extra>",
          "feature_fraction (FloatDistribution): 0.023521862308170886<extra></extra>",
          "lambda_l1 (FloatDistribution): 0.030393908820765467<extra></extra>",
          "max_bin (IntDistribution): 0.03281074909287072<extra></extra>",
          "class_weight_1 (IntDistribution): 0.05600838427019087<extra></extra>",
          "num_leaves (IntDistribution): 0.07034121106368438<extra></extra>",
          "lambda_l2 (FloatDistribution): 0.08264719268779368<extra></extra>",
          "learning_rate (FloatDistribution): 0.1369918321342433<extra></extra>",
          "max_depth (IntDistribution): 0.5318711015431314<extra></extra>"
         ],
         "name": "Objective Value",
         "orientation": "h",
         "text": [
          "<0.01",
          "<0.01",
          "<0.01",
          "<0.01",
          "0.01",
          "0.02",
          "0.03",
          "0.03",
          "0.06",
          "0.07",
          "0.08",
          "0.14",
          "0.53"
         ],
         "textposition": "outside",
         "x": [
          0.0014700941762423308,
          0.004109675084408836,
          0.005924938755082117,
          0.009094368147739422,
          0.014814681915676486,
          0.023521862308170886,
          0.030393908820765467,
          0.03281074909287072,
          0.05600838427019087,
          0.07034121106368438,
          0.08264719268779368,
          0.1369918321342433,
          0.5318711015431314
         ],
         "y": [
          "n",
          "subsample",
          "w1",
          "min_child_samples",
          "bagging_fraction",
          "feature_fraction",
          "lambda_l1",
          "max_bin",
          "class_weight_1",
          "num_leaves",
          "lambda_l2",
          "learning_rate",
          "max_depth"
         ],
         "type": "bar"
        }
       ],
       "layout": {
        "title": {
         "text": "Hyperparameter Importances"
        },
        "xaxis": {
         "title": {
          "text": "Hyperparameter Importance"
         }
        },
        "yaxis": {
         "title": {
          "text": "Hyperparameter"
         }
        },
        "template": {
         "data": {
          "histogram2dcontour": [
           {
            "type": "histogram2dcontour",
            "colorbar": {
             "outlinewidth": 0,
             "ticks": ""
            },
            "colorscale": [
             [
              0.0,
              "#0d0887"
             ],
             [
              0.1111111111111111,
              "#46039f"
             ],
             [
              0.2222222222222222,
              "#7201a8"
             ],
             [
              0.3333333333333333,
              "#9c179e"
             ],
             [
              0.4444444444444444,
              "#bd3786"
             ],
             [
              0.5555555555555556,
              "#d8576b"
             ],
             [
              0.6666666666666666,
              "#ed7953"
             ],
             [
              0.7777777777777778,
              "#fb9f3a"
             ],
             [
              0.8888888888888888,
              "#fdca26"
             ],
             [
              1.0,
              "#f0f921"
             ]
            ]
           }
          ],
          "choropleth": [
           {
            "type": "choropleth",
            "colorbar": {
             "outlinewidth": 0,
             "ticks": ""
            }
           }
          ],
          "histogram2d": [
           {
            "type": "histogram2d",
            "colorbar": {
             "outlinewidth": 0,
             "ticks": ""
            },
            "colorscale": [
             [
              0.0,
              "#0d0887"
             ],
             [
              0.1111111111111111,
              "#46039f"
             ],
             [
              0.2222222222222222,
              "#7201a8"
             ],
             [
              0.3333333333333333,
              "#9c179e"
             ],
             [
              0.4444444444444444,
              "#bd3786"
             ],
             [
              0.5555555555555556,
              "#d8576b"
             ],
             [
              0.6666666666666666,
              "#ed7953"
             ],
             [
              0.7777777777777778,
              "#fb9f3a"
             ],
             [
              0.8888888888888888,
              "#fdca26"
             ],
             [
              1.0,
              "#f0f921"
             ]
            ]
           }
          ],
          "heatmap": [
           {
            "type": "heatmap",
            "colorbar": {
             "outlinewidth": 0,
             "ticks": ""
            },
            "colorscale": [
             [
              0.0,
              "#0d0887"
             ],
             [
              0.1111111111111111,
              "#46039f"
             ],
             [
              0.2222222222222222,
              "#7201a8"
             ],
             [
              0.3333333333333333,
              "#9c179e"
             ],
             [
              0.4444444444444444,
              "#bd3786"
             ],
             [
              0.5555555555555556,
              "#d8576b"
             ],
             [
              0.6666666666666666,
              "#ed7953"
             ],
             [
              0.7777777777777778,
              "#fb9f3a"
             ],
             [
              0.8888888888888888,
              "#fdca26"
             ],
             [
              1.0,
              "#f0f921"
             ]
            ]
           }
          ],
          "heatmapgl": [
           {
            "type": "heatmapgl",
            "colorbar": {
             "outlinewidth": 0,
             "ticks": ""
            },
            "colorscale": [
             [
              0.0,
              "#0d0887"
             ],
             [
              0.1111111111111111,
              "#46039f"
             ],
             [
              0.2222222222222222,
              "#7201a8"
             ],
             [
              0.3333333333333333,
              "#9c179e"
             ],
             [
              0.4444444444444444,
              "#bd3786"
             ],
             [
              0.5555555555555556,
              "#d8576b"
             ],
             [
              0.6666666666666666,
              "#ed7953"
             ],
             [
              0.7777777777777778,
              "#fb9f3a"
             ],
             [
              0.8888888888888888,
              "#fdca26"
             ],
             [
              1.0,
              "#f0f921"
             ]
            ]
           }
          ],
          "contourcarpet": [
           {
            "type": "contourcarpet",
            "colorbar": {
             "outlinewidth": 0,
             "ticks": ""
            }
           }
          ],
          "contour": [
           {
            "type": "contour",
            "colorbar": {
             "outlinewidth": 0,
             "ticks": ""
            },
            "colorscale": [
             [
              0.0,
              "#0d0887"
             ],
             [
              0.1111111111111111,
              "#46039f"
             ],
             [
              0.2222222222222222,
              "#7201a8"
             ],
             [
              0.3333333333333333,
              "#9c179e"
             ],
             [
              0.4444444444444444,
              "#bd3786"
             ],
             [
              0.5555555555555556,
              "#d8576b"
             ],
             [
              0.6666666666666666,
              "#ed7953"
             ],
             [
              0.7777777777777778,
              "#fb9f3a"
             ],
             [
              0.8888888888888888,
              "#fdca26"
             ],
             [
              1.0,
              "#f0f921"
             ]
            ]
           }
          ],
          "surface": [
           {
            "type": "surface",
            "colorbar": {
             "outlinewidth": 0,
             "ticks": ""
            },
            "colorscale": [
             [
              0.0,
              "#0d0887"
             ],
             [
              0.1111111111111111,
              "#46039f"
             ],
             [
              0.2222222222222222,
              "#7201a8"
             ],
             [
              0.3333333333333333,
              "#9c179e"
             ],
             [
              0.4444444444444444,
              "#bd3786"
             ],
             [
              0.5555555555555556,
              "#d8576b"
             ],
             [
              0.6666666666666666,
              "#ed7953"
             ],
             [
              0.7777777777777778,
              "#fb9f3a"
             ],
             [
              0.8888888888888888,
              "#fdca26"
             ],
             [
              1.0,
              "#f0f921"
             ]
            ]
           }
          ],
          "mesh3d": [
           {
            "type": "mesh3d",
            "colorbar": {
             "outlinewidth": 0,
             "ticks": ""
            }
           }
          ],
          "scatter": [
           {
            "fillpattern": {
             "fillmode": "overlay",
             "size": 10,
             "solidity": 0.2
            },
            "type": "scatter"
           }
          ],
          "parcoords": [
           {
            "type": "parcoords",
            "line": {
             "colorbar": {
              "outlinewidth": 0,
              "ticks": ""
             }
            }
           }
          ],
          "scatterpolargl": [
           {
            "type": "scatterpolargl",
            "marker": {
             "colorbar": {
              "outlinewidth": 0,
              "ticks": ""
             }
            }
           }
          ],
          "bar": [
           {
            "error_x": {
             "color": "#2a3f5f"
            },
            "error_y": {
             "color": "#2a3f5f"
            },
            "marker": {
             "line": {
              "color": "#E5ECF6",
              "width": 0.5
             },
             "pattern": {
              "fillmode": "overlay",
              "size": 10,
              "solidity": 0.2
             }
            },
            "type": "bar"
           }
          ],
          "scattergeo": [
           {
            "type": "scattergeo",
            "marker": {
             "colorbar": {
              "outlinewidth": 0,
              "ticks": ""
             }
            }
           }
          ],
          "scatterpolar": [
           {
            "type": "scatterpolar",
            "marker": {
             "colorbar": {
              "outlinewidth": 0,
              "ticks": ""
             }
            }
           }
          ],
          "histogram": [
           {
            "marker": {
             "pattern": {
              "fillmode": "overlay",
              "size": 10,
              "solidity": 0.2
             }
            },
            "type": "histogram"
           }
          ],
          "scattergl": [
           {
            "type": "scattergl",
            "marker": {
             "colorbar": {
              "outlinewidth": 0,
              "ticks": ""
             }
            }
           }
          ],
          "scatter3d": [
           {
            "type": "scatter3d",
            "line": {
             "colorbar": {
              "outlinewidth": 0,
              "ticks": ""
             }
            },
            "marker": {
             "colorbar": {
              "outlinewidth": 0,
              "ticks": ""
             }
            }
           }
          ],
          "scattermapbox": [
           {
            "type": "scattermapbox",
            "marker": {
             "colorbar": {
              "outlinewidth": 0,
              "ticks": ""
             }
            }
           }
          ],
          "scatterternary": [
           {
            "type": "scatterternary",
            "marker": {
             "colorbar": {
              "outlinewidth": 0,
              "ticks": ""
             }
            }
           }
          ],
          "scattercarpet": [
           {
            "type": "scattercarpet",
            "marker": {
             "colorbar": {
              "outlinewidth": 0,
              "ticks": ""
             }
            }
           }
          ],
          "carpet": [
           {
            "aaxis": {
             "endlinecolor": "#2a3f5f",
             "gridcolor": "white",
             "linecolor": "white",
             "minorgridcolor": "white",
             "startlinecolor": "#2a3f5f"
            },
            "baxis": {
             "endlinecolor": "#2a3f5f",
             "gridcolor": "white",
             "linecolor": "white",
             "minorgridcolor": "white",
             "startlinecolor": "#2a3f5f"
            },
            "type": "carpet"
           }
          ],
          "table": [
           {
            "cells": {
             "fill": {
              "color": "#EBF0F8"
             },
             "line": {
              "color": "white"
             }
            },
            "header": {
             "fill": {
              "color": "#C8D4E3"
             },
             "line": {
              "color": "white"
             }
            },
            "type": "table"
           }
          ],
          "barpolar": [
           {
            "marker": {
             "line": {
              "color": "#E5ECF6",
              "width": 0.5
             },
             "pattern": {
              "fillmode": "overlay",
              "size": 10,
              "solidity": 0.2
             }
            },
            "type": "barpolar"
           }
          ],
          "pie": [
           {
            "automargin": true,
            "type": "pie"
           }
          ]
         },
         "layout": {
          "autotypenumbers": "strict",
          "colorway": [
           "#636efa",
           "#EF553B",
           "#00cc96",
           "#ab63fa",
           "#FFA15A",
           "#19d3f3",
           "#FF6692",
           "#B6E880",
           "#FF97FF",
           "#FECB52"
          ],
          "font": {
           "color": "#2a3f5f"
          },
          "hovermode": "closest",
          "hoverlabel": {
           "align": "left"
          },
          "paper_bgcolor": "white",
          "plot_bgcolor": "#E5ECF6",
          "polar": {
           "bgcolor": "#E5ECF6",
           "angularaxis": {
            "gridcolor": "white",
            "linecolor": "white",
            "ticks": ""
           },
           "radialaxis": {
            "gridcolor": "white",
            "linecolor": "white",
            "ticks": ""
           }
          },
          "ternary": {
           "bgcolor": "#E5ECF6",
           "aaxis": {
            "gridcolor": "white",
            "linecolor": "white",
            "ticks": ""
           },
           "baxis": {
            "gridcolor": "white",
            "linecolor": "white",
            "ticks": ""
           },
           "caxis": {
            "gridcolor": "white",
            "linecolor": "white",
            "ticks": ""
           }
          },
          "coloraxis": {
           "colorbar": {
            "outlinewidth": 0,
            "ticks": ""
           }
          },
          "colorscale": {
           "sequential": [
            [
             0.0,
             "#0d0887"
            ],
            [
             0.1111111111111111,
             "#46039f"
            ],
            [
             0.2222222222222222,
             "#7201a8"
            ],
            [
             0.3333333333333333,
             "#9c179e"
            ],
            [
             0.4444444444444444,
             "#bd3786"
            ],
            [
             0.5555555555555556,
             "#d8576b"
            ],
            [
             0.6666666666666666,
             "#ed7953"
            ],
            [
             0.7777777777777778,
             "#fb9f3a"
            ],
            [
             0.8888888888888888,
             "#fdca26"
            ],
            [
             1.0,
             "#f0f921"
            ]
           ],
           "sequentialminus": [
            [
             0.0,
             "#0d0887"
            ],
            [
             0.1111111111111111,
             "#46039f"
            ],
            [
             0.2222222222222222,
             "#7201a8"
            ],
            [
             0.3333333333333333,
             "#9c179e"
            ],
            [
             0.4444444444444444,
             "#bd3786"
            ],
            [
             0.5555555555555556,
             "#d8576b"
            ],
            [
             0.6666666666666666,
             "#ed7953"
            ],
            [
             0.7777777777777778,
             "#fb9f3a"
            ],
            [
             0.8888888888888888,
             "#fdca26"
            ],
            [
             1.0,
             "#f0f921"
            ]
           ],
           "diverging": [
            [
             0,
             "#8e0152"
            ],
            [
             0.1,
             "#c51b7d"
            ],
            [
             0.2,
             "#de77ae"
            ],
            [
             0.3,
             "#f1b6da"
            ],
            [
             0.4,
             "#fde0ef"
            ],
            [
             0.5,
             "#f7f7f7"
            ],
            [
             0.6,
             "#e6f5d0"
            ],
            [
             0.7,
             "#b8e186"
            ],
            [
             0.8,
             "#7fbc41"
            ],
            [
             0.9,
             "#4d9221"
            ],
            [
             1,
             "#276419"
            ]
           ]
          },
          "xaxis": {
           "gridcolor": "white",
           "linecolor": "white",
           "ticks": "",
           "title": {
            "standoff": 15
           },
           "zerolinecolor": "white",
           "automargin": true,
           "zerolinewidth": 2
          },
          "yaxis": {
           "gridcolor": "white",
           "linecolor": "white",
           "ticks": "",
           "title": {
            "standoff": 15
           },
           "zerolinecolor": "white",
           "automargin": true,
           "zerolinewidth": 2
          },
          "scene": {
           "xaxis": {
            "backgroundcolor": "#E5ECF6",
            "gridcolor": "white",
            "linecolor": "white",
            "showbackground": true,
            "ticks": "",
            "zerolinecolor": "white",
            "gridwidth": 2
           },
           "yaxis": {
            "backgroundcolor": "#E5ECF6",
            "gridcolor": "white",
            "linecolor": "white",
            "showbackground": true,
            "ticks": "",
            "zerolinecolor": "white",
            "gridwidth": 2
           },
           "zaxis": {
            "backgroundcolor": "#E5ECF6",
            "gridcolor": "white",
            "linecolor": "white",
            "showbackground": true,
            "ticks": "",
            "zerolinecolor": "white",
            "gridwidth": 2
           }
          },
          "shapedefaults": {
           "line": {
            "color": "#2a3f5f"
           }
          },
          "annotationdefaults": {
           "arrowcolor": "#2a3f5f",
           "arrowhead": 0,
           "arrowwidth": 1
          },
          "geo": {
           "bgcolor": "white",
           "landcolor": "#E5ECF6",
           "subunitcolor": "white",
           "showland": true,
           "showlakes": true,
           "lakecolor": "white"
          },
          "title": {
           "x": 0.05
          },
          "mapbox": {
           "style": "light"
          }
         }
        }
       },
       "config": {
        "plotlyServerURL": "https://plot.ly"
       }
      },
      "text/html": "<div>                            <div id=\"0ba36908-bfcb-44a1-a668-6a90bff4024a\" class=\"plotly-graph-div\" style=\"height:525px; width:100%;\"></div>            <script type=\"text/javascript\">                require([\"plotly\"], function(Plotly) {                    window.PLOTLYENV=window.PLOTLYENV || {};                                    if (document.getElementById(\"0ba36908-bfcb-44a1-a668-6a90bff4024a\")) {                    Plotly.newPlot(                        \"0ba36908-bfcb-44a1-a668-6a90bff4024a\",                        [{\"cliponaxis\":false,\"hovertemplate\":[\"n (IntDistribution): 0.0014700941762423308\\u003cextra\\u003e\\u003c\\u002fextra\\u003e\",\"subsample (FloatDistribution): 0.004109675084408836\\u003cextra\\u003e\\u003c\\u002fextra\\u003e\",\"w1 (FloatDistribution): 0.005924938755082117\\u003cextra\\u003e\\u003c\\u002fextra\\u003e\",\"min_child_samples (IntDistribution): 0.009094368147739422\\u003cextra\\u003e\\u003c\\u002fextra\\u003e\",\"bagging_fraction (FloatDistribution): 0.014814681915676486\\u003cextra\\u003e\\u003c\\u002fextra\\u003e\",\"feature_fraction (FloatDistribution): 0.023521862308170886\\u003cextra\\u003e\\u003c\\u002fextra\\u003e\",\"lambda_l1 (FloatDistribution): 0.030393908820765467\\u003cextra\\u003e\\u003c\\u002fextra\\u003e\",\"max_bin (IntDistribution): 0.03281074909287072\\u003cextra\\u003e\\u003c\\u002fextra\\u003e\",\"class_weight_1 (IntDistribution): 0.05600838427019087\\u003cextra\\u003e\\u003c\\u002fextra\\u003e\",\"num_leaves (IntDistribution): 0.07034121106368438\\u003cextra\\u003e\\u003c\\u002fextra\\u003e\",\"lambda_l2 (FloatDistribution): 0.08264719268779368\\u003cextra\\u003e\\u003c\\u002fextra\\u003e\",\"learning_rate (FloatDistribution): 0.1369918321342433\\u003cextra\\u003e\\u003c\\u002fextra\\u003e\",\"max_depth (IntDistribution): 0.5318711015431314\\u003cextra\\u003e\\u003c\\u002fextra\\u003e\"],\"name\":\"Objective Value\",\"orientation\":\"h\",\"text\":[\"\\u003c0.01\",\"\\u003c0.01\",\"\\u003c0.01\",\"\\u003c0.01\",\"0.01\",\"0.02\",\"0.03\",\"0.03\",\"0.06\",\"0.07\",\"0.08\",\"0.14\",\"0.53\"],\"textposition\":\"outside\",\"x\":[0.0014700941762423308,0.004109675084408836,0.005924938755082117,0.009094368147739422,0.014814681915676486,0.023521862308170886,0.030393908820765467,0.03281074909287072,0.05600838427019087,0.07034121106368438,0.08264719268779368,0.1369918321342433,0.5318711015431314],\"y\":[\"n\",\"subsample\",\"w1\",\"min_child_samples\",\"bagging_fraction\",\"feature_fraction\",\"lambda_l1\",\"max_bin\",\"class_weight_1\",\"num_leaves\",\"lambda_l2\",\"learning_rate\",\"max_depth\"],\"type\":\"bar\"}],                        {\"title\":{\"text\":\"Hyperparameter Importances\"},\"xaxis\":{\"title\":{\"text\":\"Hyperparameter Importance\"}},\"yaxis\":{\"title\":{\"text\":\"Hyperparameter\"}},\"template\":{\"data\":{\"histogram2dcontour\":[{\"type\":\"histogram2dcontour\",\"colorbar\":{\"outlinewidth\":0,\"ticks\":\"\"},\"colorscale\":[[0.0,\"#0d0887\"],[0.1111111111111111,\"#46039f\"],[0.2222222222222222,\"#7201a8\"],[0.3333333333333333,\"#9c179e\"],[0.4444444444444444,\"#bd3786\"],[0.5555555555555556,\"#d8576b\"],[0.6666666666666666,\"#ed7953\"],[0.7777777777777778,\"#fb9f3a\"],[0.8888888888888888,\"#fdca26\"],[1.0,\"#f0f921\"]]}],\"choropleth\":[{\"type\":\"choropleth\",\"colorbar\":{\"outlinewidth\":0,\"ticks\":\"\"}}],\"histogram2d\":[{\"type\":\"histogram2d\",\"colorbar\":{\"outlinewidth\":0,\"ticks\":\"\"},\"colorscale\":[[0.0,\"#0d0887\"],[0.1111111111111111,\"#46039f\"],[0.2222222222222222,\"#7201a8\"],[0.3333333333333333,\"#9c179e\"],[0.4444444444444444,\"#bd3786\"],[0.5555555555555556,\"#d8576b\"],[0.6666666666666666,\"#ed7953\"],[0.7777777777777778,\"#fb9f3a\"],[0.8888888888888888,\"#fdca26\"],[1.0,\"#f0f921\"]]}],\"heatmap\":[{\"type\":\"heatmap\",\"colorbar\":{\"outlinewidth\":0,\"ticks\":\"\"},\"colorscale\":[[0.0,\"#0d0887\"],[0.1111111111111111,\"#46039f\"],[0.2222222222222222,\"#7201a8\"],[0.3333333333333333,\"#9c179e\"],[0.4444444444444444,\"#bd3786\"],[0.5555555555555556,\"#d8576b\"],[0.6666666666666666,\"#ed7953\"],[0.7777777777777778,\"#fb9f3a\"],[0.8888888888888888,\"#fdca26\"],[1.0,\"#f0f921\"]]}],\"heatmapgl\":[{\"type\":\"heatmapgl\",\"colorbar\":{\"outlinewidth\":0,\"ticks\":\"\"},\"colorscale\":[[0.0,\"#0d0887\"],[0.1111111111111111,\"#46039f\"],[0.2222222222222222,\"#7201a8\"],[0.3333333333333333,\"#9c179e\"],[0.4444444444444444,\"#bd3786\"],[0.5555555555555556,\"#d8576b\"],[0.6666666666666666,\"#ed7953\"],[0.7777777777777778,\"#fb9f3a\"],[0.8888888888888888,\"#fdca26\"],[1.0,\"#f0f921\"]]}],\"contourcarpet\":[{\"type\":\"contourcarpet\",\"colorbar\":{\"outlinewidth\":0,\"ticks\":\"\"}}],\"contour\":[{\"type\":\"contour\",\"colorbar\":{\"outlinewidth\":0,\"ticks\":\"\"},\"colorscale\":[[0.0,\"#0d0887\"],[0.1111111111111111,\"#46039f\"],[0.2222222222222222,\"#7201a8\"],[0.3333333333333333,\"#9c179e\"],[0.4444444444444444,\"#bd3786\"],[0.5555555555555556,\"#d8576b\"],[0.6666666666666666,\"#ed7953\"],[0.7777777777777778,\"#fb9f3a\"],[0.8888888888888888,\"#fdca26\"],[1.0,\"#f0f921\"]]}],\"surface\":[{\"type\":\"surface\",\"colorbar\":{\"outlinewidth\":0,\"ticks\":\"\"},\"colorscale\":[[0.0,\"#0d0887\"],[0.1111111111111111,\"#46039f\"],[0.2222222222222222,\"#7201a8\"],[0.3333333333333333,\"#9c179e\"],[0.4444444444444444,\"#bd3786\"],[0.5555555555555556,\"#d8576b\"],[0.6666666666666666,\"#ed7953\"],[0.7777777777777778,\"#fb9f3a\"],[0.8888888888888888,\"#fdca26\"],[1.0,\"#f0f921\"]]}],\"mesh3d\":[{\"type\":\"mesh3d\",\"colorbar\":{\"outlinewidth\":0,\"ticks\":\"\"}}],\"scatter\":[{\"fillpattern\":{\"fillmode\":\"overlay\",\"size\":10,\"solidity\":0.2},\"type\":\"scatter\"}],\"parcoords\":[{\"type\":\"parcoords\",\"line\":{\"colorbar\":{\"outlinewidth\":0,\"ticks\":\"\"}}}],\"scatterpolargl\":[{\"type\":\"scatterpolargl\",\"marker\":{\"colorbar\":{\"outlinewidth\":0,\"ticks\":\"\"}}}],\"bar\":[{\"error_x\":{\"color\":\"#2a3f5f\"},\"error_y\":{\"color\":\"#2a3f5f\"},\"marker\":{\"line\":{\"color\":\"#E5ECF6\",\"width\":0.5},\"pattern\":{\"fillmode\":\"overlay\",\"size\":10,\"solidity\":0.2}},\"type\":\"bar\"}],\"scattergeo\":[{\"type\":\"scattergeo\",\"marker\":{\"colorbar\":{\"outlinewidth\":0,\"ticks\":\"\"}}}],\"scatterpolar\":[{\"type\":\"scatterpolar\",\"marker\":{\"colorbar\":{\"outlinewidth\":0,\"ticks\":\"\"}}}],\"histogram\":[{\"marker\":{\"pattern\":{\"fillmode\":\"overlay\",\"size\":10,\"solidity\":0.2}},\"type\":\"histogram\"}],\"scattergl\":[{\"type\":\"scattergl\",\"marker\":{\"colorbar\":{\"outlinewidth\":0,\"ticks\":\"\"}}}],\"scatter3d\":[{\"type\":\"scatter3d\",\"line\":{\"colorbar\":{\"outlinewidth\":0,\"ticks\":\"\"}},\"marker\":{\"colorbar\":{\"outlinewidth\":0,\"ticks\":\"\"}}}],\"scattermapbox\":[{\"type\":\"scattermapbox\",\"marker\":{\"colorbar\":{\"outlinewidth\":0,\"ticks\":\"\"}}}],\"scatterternary\":[{\"type\":\"scatterternary\",\"marker\":{\"colorbar\":{\"outlinewidth\":0,\"ticks\":\"\"}}}],\"scattercarpet\":[{\"type\":\"scattercarpet\",\"marker\":{\"colorbar\":{\"outlinewidth\":0,\"ticks\":\"\"}}}],\"carpet\":[{\"aaxis\":{\"endlinecolor\":\"#2a3f5f\",\"gridcolor\":\"white\",\"linecolor\":\"white\",\"minorgridcolor\":\"white\",\"startlinecolor\":\"#2a3f5f\"},\"baxis\":{\"endlinecolor\":\"#2a3f5f\",\"gridcolor\":\"white\",\"linecolor\":\"white\",\"minorgridcolor\":\"white\",\"startlinecolor\":\"#2a3f5f\"},\"type\":\"carpet\"}],\"table\":[{\"cells\":{\"fill\":{\"color\":\"#EBF0F8\"},\"line\":{\"color\":\"white\"}},\"header\":{\"fill\":{\"color\":\"#C8D4E3\"},\"line\":{\"color\":\"white\"}},\"type\":\"table\"}],\"barpolar\":[{\"marker\":{\"line\":{\"color\":\"#E5ECF6\",\"width\":0.5},\"pattern\":{\"fillmode\":\"overlay\",\"size\":10,\"solidity\":0.2}},\"type\":\"barpolar\"}],\"pie\":[{\"automargin\":true,\"type\":\"pie\"}]},\"layout\":{\"autotypenumbers\":\"strict\",\"colorway\":[\"#636efa\",\"#EF553B\",\"#00cc96\",\"#ab63fa\",\"#FFA15A\",\"#19d3f3\",\"#FF6692\",\"#B6E880\",\"#FF97FF\",\"#FECB52\"],\"font\":{\"color\":\"#2a3f5f\"},\"hovermode\":\"closest\",\"hoverlabel\":{\"align\":\"left\"},\"paper_bgcolor\":\"white\",\"plot_bgcolor\":\"#E5ECF6\",\"polar\":{\"bgcolor\":\"#E5ECF6\",\"angularaxis\":{\"gridcolor\":\"white\",\"linecolor\":\"white\",\"ticks\":\"\"},\"radialaxis\":{\"gridcolor\":\"white\",\"linecolor\":\"white\",\"ticks\":\"\"}},\"ternary\":{\"bgcolor\":\"#E5ECF6\",\"aaxis\":{\"gridcolor\":\"white\",\"linecolor\":\"white\",\"ticks\":\"\"},\"baxis\":{\"gridcolor\":\"white\",\"linecolor\":\"white\",\"ticks\":\"\"},\"caxis\":{\"gridcolor\":\"white\",\"linecolor\":\"white\",\"ticks\":\"\"}},\"coloraxis\":{\"colorbar\":{\"outlinewidth\":0,\"ticks\":\"\"}},\"colorscale\":{\"sequential\":[[0.0,\"#0d0887\"],[0.1111111111111111,\"#46039f\"],[0.2222222222222222,\"#7201a8\"],[0.3333333333333333,\"#9c179e\"],[0.4444444444444444,\"#bd3786\"],[0.5555555555555556,\"#d8576b\"],[0.6666666666666666,\"#ed7953\"],[0.7777777777777778,\"#fb9f3a\"],[0.8888888888888888,\"#fdca26\"],[1.0,\"#f0f921\"]],\"sequentialminus\":[[0.0,\"#0d0887\"],[0.1111111111111111,\"#46039f\"],[0.2222222222222222,\"#7201a8\"],[0.3333333333333333,\"#9c179e\"],[0.4444444444444444,\"#bd3786\"],[0.5555555555555556,\"#d8576b\"],[0.6666666666666666,\"#ed7953\"],[0.7777777777777778,\"#fb9f3a\"],[0.8888888888888888,\"#fdca26\"],[1.0,\"#f0f921\"]],\"diverging\":[[0,\"#8e0152\"],[0.1,\"#c51b7d\"],[0.2,\"#de77ae\"],[0.3,\"#f1b6da\"],[0.4,\"#fde0ef\"],[0.5,\"#f7f7f7\"],[0.6,\"#e6f5d0\"],[0.7,\"#b8e186\"],[0.8,\"#7fbc41\"],[0.9,\"#4d9221\"],[1,\"#276419\"]]},\"xaxis\":{\"gridcolor\":\"white\",\"linecolor\":\"white\",\"ticks\":\"\",\"title\":{\"standoff\":15},\"zerolinecolor\":\"white\",\"automargin\":true,\"zerolinewidth\":2},\"yaxis\":{\"gridcolor\":\"white\",\"linecolor\":\"white\",\"ticks\":\"\",\"title\":{\"standoff\":15},\"zerolinecolor\":\"white\",\"automargin\":true,\"zerolinewidth\":2},\"scene\":{\"xaxis\":{\"backgroundcolor\":\"#E5ECF6\",\"gridcolor\":\"white\",\"linecolor\":\"white\",\"showbackground\":true,\"ticks\":\"\",\"zerolinecolor\":\"white\",\"gridwidth\":2},\"yaxis\":{\"backgroundcolor\":\"#E5ECF6\",\"gridcolor\":\"white\",\"linecolor\":\"white\",\"showbackground\":true,\"ticks\":\"\",\"zerolinecolor\":\"white\",\"gridwidth\":2},\"zaxis\":{\"backgroundcolor\":\"#E5ECF6\",\"gridcolor\":\"white\",\"linecolor\":\"white\",\"showbackground\":true,\"ticks\":\"\",\"zerolinecolor\":\"white\",\"gridwidth\":2}},\"shapedefaults\":{\"line\":{\"color\":\"#2a3f5f\"}},\"annotationdefaults\":{\"arrowcolor\":\"#2a3f5f\",\"arrowhead\":0,\"arrowwidth\":1},\"geo\":{\"bgcolor\":\"white\",\"landcolor\":\"#E5ECF6\",\"subunitcolor\":\"white\",\"showland\":true,\"showlakes\":true,\"lakecolor\":\"white\"},\"title\":{\"x\":0.05},\"mapbox\":{\"style\":\"light\"}}}},                        {\"responsive\": true}                    ).then(function(){\n                            \nvar gd = document.getElementById('0ba36908-bfcb-44a1-a668-6a90bff4024a');\nvar x = new MutationObserver(function (mutations, observer) {{\n        var display = window.getComputedStyle(gd).display;\n        if (!display || display === 'none') {{\n            console.log([gd, 'removed!']);\n            Plotly.purge(gd);\n            observer.disconnect();\n        }}\n}});\n\n// Listen for the removal of the full notebook cells\nvar notebookContainer = gd.closest('#notebook-container');\nif (notebookContainer) {{\n    x.observe(notebookContainer, {childList: true});\n}}\n\n// Listen for the clearing of the current output cell\nvar outputEl = gd.closest('.output');\nif (outputEl) {{\n    x.observe(outputEl, {childList: true});\n}}\n\n                        })                };                });            </script>        </div>"
     },
     "metadata": {},
     "output_type": "display_data"
    }
   ],
   "source": [
    "from optuna.visualization import plot_param_importances, plot_contour\n",
    "\n",
    "# 可视化超参数重要性\n",
    "fig = plot_param_importances(study)\n",
    "fig.show()\n",
    "\n",
    "# 可视化超参数之间的相互作用（选择几个重要的超参数）\n",
    "fig = plot_param_importances(study, target=lambda t: t.values[0] if t.values else None)\n",
    "fig.show()\n",
    "\n",
    "# 可视化超参数之间的相互作用（选择几个重要的超参数）\n",
    "fig = plot_param_importances(study, target=lambda t: t.values[1] if t.values else None)\n",
    "fig.show()\n",
    "\n",
    "# 可视化超参数之间的相互作用（选择几个重要的超参数）\n",
    "fig = plot_param_importances(study, target=lambda t: t.values[2] if t.values else None)\n",
    "fig.show()"
   ],
   "metadata": {
    "collapsed": false
   }
  },
  {
   "cell_type": "code",
   "execution_count": 212,
   "metadata": {
    "collapsed": false,
    "jupyter": {
     "outputs_hidden": false
    }
   },
   "outputs": [
    {
     "name": "stderr",
     "output_type": "stream",
     "text": [
      "ic| cash: 10.122704401915586\n",
      "    min_loss: -0.22316525542011567\n",
      "    len(trades): 8\n"
     ]
    },
    {
     "data": {
      "text/plain": "(10.122704401915586, -0.22316525542011567, 8)"
     },
     "execution_count": 212,
     "metadata": {},
     "output_type": "execute_result"
    }
   ],
   "source": [
    "\n",
    "# 假设 lgb_future2 包含你需要的特征数据\n",
    "\n",
    "# 定义目标函数\n",
    "\n",
    "# 假设 lgb_future2 包含你需要的特征数据\n",
    "features = lgb_future2.columns.drop(['timestamp','signal','predicted_signal','predicted_signal2'], errors='ignore').tolist()\n",
    "train_size = int(0.9 * len(lgb_future2))  # 70% 数据用于训练\n",
    "\n",
    "train_data = lgb_future2[:train_size]  # 训练集\n",
    "test_data = lgb_future2[train_size:]   # 测试集\n",
    "\n",
    "X_train = train_data[features]\n",
    "y_train = train_data['signal']\n",
    "X_test = test_data[features]\n",
    "y_test = test_data['signal']\n",
    "\n",
    "# 定义需要调优的超参数\n",
    "param = {\n",
    "'objective': 'multiclass',  # 多分类\n",
    "'num_class': 3,  # 三分类\n",
    "'metric': 'multi_logloss',  # 多分类的对数损失，或使用 multi_error 或 accuracy\n",
    "'boosting_type': 'gbdt',  # 使用 GOSS 加速树构建\n",
    "'learning_rate': 0.0529776218317605,  # 0.001 到 0.1 之间\n",
    "'num_leaves': 244,  # 20 到 256 之间\n",
    "'max_depth': 15,  # 最大深度，-1 表示没有限制\n",
    "'min_child_samples': 33,  # 每个叶子的最小样本数\n",
    "'max_bin': 350,  # 特征分箱数\n",
    "'subsample': 0.798388777868723,  # 每棵树训练时使用的样本比例\n",
    "'lambda_l1': 4.81242655687031,  # L1 正则化系数\n",
    "'lambda_l2': 0.886708183880133,  # L2 正则化系数\n",
    "'bagging_fraction': 0.897880606230822,  # 每棵树的样本采样比例\n",
    "'feature_fraction': 0.787452101211785,  # 每棵树使用的特征比例\n",
    "'boost_from_average': False,  # 对于多分类任务，通常设置为 False\n",
    "'random_state': 42,  # 随机种子\n",
    "'verbosity':-1,\n",
    "# 类别不平衡时的权重调整\n",
    "'class_weight': {\n",
    "    0: 1,\n",
    "    1: 530,  # 对于类别1（如平仓）的权重\n",
    "    -1: 349  # 对于类别-1（如买入）的权重\n",
    "},\n",
    "}\n",
    "weights = [0.64,0.08,0.07,0.05,0.05,0.11,0\n",
    "]\n",
    "w1, w2, w3, w4, w5, w6, w7 = weights\n",
    "n = 10\n",
    "#stop_rate固定止损\n",
    "stop_rate = -0.024\n",
    "profit_rate = 0.007\n",
    "# 训练 LGBM 模型\n",
    "lgb_model = lgb.LGBMClassifier(**param)\n",
    "lgb_model.fit(X_train, y_train)\n",
    "y_pred  = lgb_model.predict(X_test)\n",
    "# 将预测信号加入回测数据\n",
    "lgb_future2.loc[X_test.index, 'predicted_signal'] = y_pred\n",
    "lgb_future3 = lgb_future2.dropna().reset_index(drop=True)\n",
    "\n",
    "lgb_future3 = predicted_signal_process(lgb_future3, n, profit_rate, stop_rate, w1, w2, w3, w4, w5, w6, w7)\n",
    "lgb_future3, trades = vbt_process(lgb_future3)\n",
    "cash, min_loss, max_get = simulate_trading_performance(trades, n)\n",
    "'''\n",
    "#实战数据测试\n",
    "dff2 = dff.copy()\n",
    "y_pred  = lgb_model.predict(dff2.iat[:,:-1])\n",
    "dff2.loc[dff2.index, 'predicted_signal'] = y_pred\n",
    "dff2, trade_cnts = predicted_signal_process(dff2, divide, n, open_cd, close_cd, add_cd, ir, stop_rate, profit_rate, loss_rate)\n",
    "dff2, trades = vbt_process(dff2)\n",
    "\n",
    "cash2, min_loss2, max_get2 = simulate_trading_performance(trades, n, divide, stop_rate, trade_cnts)\n",
    "ic(cash, min_loss, max_get, cash2, min_loss2, max_get2)\n",
    "'''\n",
    "ic(cash, min_loss,len(trades))\n"
   ]
  },
  {
   "cell_type": "code",
   "execution_count": 26,
   "metadata": {},
   "outputs": [],
   "source": [
    "lgb_future3[lgb_future3['predicted_signal'] != lgb_future3['predicted_signal2']].to_csv('C:\\pythonProject\\lgb_future3.csv', index=False, encoding='utf-8-sig')"
   ]
  },
  {
   "cell_type": "code",
   "execution_count": 206,
   "metadata": {
    "collapsed": false
   },
   "outputs": [
    {
     "data": {
      "text/plain": "predicted_signal2\n 0.0    17268\n-1.0        9\n 1.0        8\nName: count, dtype: int64"
     },
     "execution_count": 206,
     "metadata": {},
     "output_type": "execute_result"
    }
   ],
   "source": [
    "lgb_future3['predicted_signal2'].value_counts()"
   ]
  },
  {
   "cell_type": "code",
   "execution_count": 213,
   "metadata": {},
   "outputs": [
    {
     "data": {
      "text/plain": "   id  col      size  entry_idx  entry_price  entry_fees  exit_idx  \\\n0   0    0  2.943427        237      0.33974         0.0       751   \n1   1    0  2.942821        779      0.33981         0.0      3754   \n2   2    0  3.192033       3925      0.31328         0.0      8601   \n3   3    0  3.126075       9004      0.31989         0.0      9744   \n4   4    0  3.101641      10425      0.32241         0.0     10791   \n5   5    0  3.164056      11687      0.31605         0.0     12230   \n6   6    0  3.081474      12232      0.32452         0.0     13263   \n7   7    0  2.985520      13597      0.33495         0.0     15902   \n\n   exit_price  exit_fees       pnl    return  direction  status  parent_id  \n0     0.33504        0.0  0.013834  0.013834          1       1          0  \n1     0.31642        0.0  0.068833  0.068833          1       1          1  \n2     0.31823        0.0  0.015801  0.015801          0       1          2  \n3     0.31280        0.0  0.022164  0.022164          1       1          3  \n4     0.31524        0.0 -0.022239 -0.022239          0       1          4  \n5     0.32452        0.0  0.026800  0.026800          0       1          5  \n6     0.34008        0.0  0.047948  0.047948          0       1          6  \n7     0.38763        0.0  0.157277  0.157277          0       1          7  ",
      "text/html": "<div>\n<style scoped>\n    .dataframe tbody tr th:only-of-type {\n        vertical-align: middle;\n    }\n\n    .dataframe tbody tr th {\n        vertical-align: top;\n    }\n\n    .dataframe thead th {\n        text-align: right;\n    }\n</style>\n<table border=\"1\" class=\"dataframe\">\n  <thead>\n    <tr style=\"text-align: right;\">\n      <th></th>\n      <th>id</th>\n      <th>col</th>\n      <th>size</th>\n      <th>entry_idx</th>\n      <th>entry_price</th>\n      <th>entry_fees</th>\n      <th>exit_idx</th>\n      <th>exit_price</th>\n      <th>exit_fees</th>\n      <th>pnl</th>\n      <th>return</th>\n      <th>direction</th>\n      <th>status</th>\n      <th>parent_id</th>\n    </tr>\n  </thead>\n  <tbody>\n    <tr>\n      <th>0</th>\n      <td>0</td>\n      <td>0</td>\n      <td>2.943427</td>\n      <td>237</td>\n      <td>0.33974</td>\n      <td>0.0</td>\n      <td>751</td>\n      <td>0.33504</td>\n      <td>0.0</td>\n      <td>0.013834</td>\n      <td>0.013834</td>\n      <td>1</td>\n      <td>1</td>\n      <td>0</td>\n    </tr>\n    <tr>\n      <th>1</th>\n      <td>1</td>\n      <td>0</td>\n      <td>2.942821</td>\n      <td>779</td>\n      <td>0.33981</td>\n      <td>0.0</td>\n      <td>3754</td>\n      <td>0.31642</td>\n      <td>0.0</td>\n      <td>0.068833</td>\n      <td>0.068833</td>\n      <td>1</td>\n      <td>1</td>\n      <td>1</td>\n    </tr>\n    <tr>\n      <th>2</th>\n      <td>2</td>\n      <td>0</td>\n      <td>3.192033</td>\n      <td>3925</td>\n      <td>0.31328</td>\n      <td>0.0</td>\n      <td>8601</td>\n      <td>0.31823</td>\n      <td>0.0</td>\n      <td>0.015801</td>\n      <td>0.015801</td>\n      <td>0</td>\n      <td>1</td>\n      <td>2</td>\n    </tr>\n    <tr>\n      <th>3</th>\n      <td>3</td>\n      <td>0</td>\n      <td>3.126075</td>\n      <td>9004</td>\n      <td>0.31989</td>\n      <td>0.0</td>\n      <td>9744</td>\n      <td>0.31280</td>\n      <td>0.0</td>\n      <td>0.022164</td>\n      <td>0.022164</td>\n      <td>1</td>\n      <td>1</td>\n      <td>3</td>\n    </tr>\n    <tr>\n      <th>4</th>\n      <td>4</td>\n      <td>0</td>\n      <td>3.101641</td>\n      <td>10425</td>\n      <td>0.32241</td>\n      <td>0.0</td>\n      <td>10791</td>\n      <td>0.31524</td>\n      <td>0.0</td>\n      <td>-0.022239</td>\n      <td>-0.022239</td>\n      <td>0</td>\n      <td>1</td>\n      <td>4</td>\n    </tr>\n    <tr>\n      <th>5</th>\n      <td>5</td>\n      <td>0</td>\n      <td>3.164056</td>\n      <td>11687</td>\n      <td>0.31605</td>\n      <td>0.0</td>\n      <td>12230</td>\n      <td>0.32452</td>\n      <td>0.0</td>\n      <td>0.026800</td>\n      <td>0.026800</td>\n      <td>0</td>\n      <td>1</td>\n      <td>5</td>\n    </tr>\n    <tr>\n      <th>6</th>\n      <td>6</td>\n      <td>0</td>\n      <td>3.081474</td>\n      <td>12232</td>\n      <td>0.32452</td>\n      <td>0.0</td>\n      <td>13263</td>\n      <td>0.34008</td>\n      <td>0.0</td>\n      <td>0.047948</td>\n      <td>0.047948</td>\n      <td>0</td>\n      <td>1</td>\n      <td>6</td>\n    </tr>\n    <tr>\n      <th>7</th>\n      <td>7</td>\n      <td>0</td>\n      <td>2.985520</td>\n      <td>13597</td>\n      <td>0.33495</td>\n      <td>0.0</td>\n      <td>15902</td>\n      <td>0.38763</td>\n      <td>0.0</td>\n      <td>0.157277</td>\n      <td>0.157277</td>\n      <td>0</td>\n      <td>1</td>\n      <td>7</td>\n    </tr>\n  </tbody>\n</table>\n</div>"
     },
     "execution_count": 213,
     "metadata": {},
     "output_type": "execute_result"
    }
   ],
   "source": [
    "trades"
   ]
  },
  {
   "cell_type": "code",
   "execution_count": 214,
   "metadata": {},
   "outputs": [
    {
     "data": {
      "text/plain": "                timestamp  day  hour  quarter  past_min     open     high  \\\n502   2024-12-25 04:08:00  109     4        0         8  0.32919  0.32923   \n505   2024-12-25 04:11:00  109     4        0        11  0.32877  0.32887   \n507   2024-12-25 04:13:00  109     4        0        13  0.32812  0.32842   \n3449  2024-12-27 05:15:00  111     5        1         0  0.30936  0.30956   \n3754  2024-12-27 10:20:00  111    10        1         5  0.31614  0.31649   \n4076  2024-12-27 15:42:00  111    15        2        12  0.30906  0.30932   \n4678  2024-12-28 01:44:00  112     1        2        14  0.31508  0.31541   \n4935  2024-12-28 06:01:00  112     6        0         1  0.31073  0.31100   \n5250  2024-12-28 11:16:00  112    11        1         1  0.31493  0.31537   \n5388  2024-12-28 13:34:00  112    13        2         4  0.31485  0.31511   \n5601  2024-12-28 17:07:00  112    17        0         7  0.31808  0.31835   \n5779  2024-12-28 20:05:00  112    20        0         5  0.31789  0.31841   \n5918  2024-12-28 22:24:00  112    22        1         9  0.32109  0.32138   \n6426  2024-12-29 06:52:00  113     6        3         7  0.32600  0.32745   \n6724  2024-12-29 11:50:00  113    11        3         5  0.32612  0.32633   \n6972  2024-12-29 15:58:00  113    15        3        13  0.32877  0.32955   \n8032  2024-12-30 09:38:00  114     9        2         8  0.32227  0.32290   \n8601  2024-12-30 19:07:00  114    19        0         7  0.31852  0.31865   \n9224  2024-12-31 05:30:00  115     5        2         0  0.31828  0.31828   \n9233  2024-12-31 05:39:00  115     5        2         9  0.31609  0.31610   \n9744  2024-12-31 14:10:00  115    14        0        10  0.31236  0.31297   \n10427 2025-01-01 01:33:00  116     1        2         3  0.32151  0.32188   \n10431 2025-01-01 01:37:00  116     1        2         7  0.31827  0.31844   \n10791 2025-01-01 07:37:00  116     7        2         7  0.31543  0.31563   \n11771 2025-01-01 23:57:00  116    23        3        12  0.31973  0.32036   \n11852 2025-01-02 01:18:00  117     1        1         3  0.31775  0.31775   \n11951 2025-01-02 02:57:00  117     2        3        12  0.32437  0.32494   \n12230 2025-01-02 07:36:00  117     7        2         6  0.32479  0.32483   \n12293 2025-01-02 08:39:00  117     8        2         9  0.33636  0.33760   \n12885 2025-01-02 18:31:00  117    18        2         1  0.34413  0.34479   \n13765 2025-01-03 09:11:00  118     9        0        11  0.33642  0.33645   \n14496 2025-01-03 21:22:00  118    21        1         7  0.36161  0.36540   \n15018 2025-01-04 06:04:00  119     6        0         4  0.38849  0.38940   \n15360 2025-01-04 11:46:00  119    11        3         1  0.39253  0.39478   \n15902 2025-01-04 20:48:00  119    20        3         3  0.38781  0.38784   \n16205 2025-01-05 01:51:00  120     1        3         6  0.38451  0.38509   \n16671 2025-01-05 09:37:00  120     9        2         7  0.39004  0.39023   \n16755 2025-01-05 11:01:00  120    11        0         1  0.39013  0.39013   \n16760 2025-01-05 11:06:00  120    11        0         6  0.38909  0.38913   \n\n           low    close    volume  ...  return_rate  predicted_signal  \\\n502    0.32851  0.32870  18005191  ...     0.335869               1.0   \n505    0.32776  0.32810  14499303  ...     0.354770               1.0   \n507    0.32782  0.32794   4475082  ...     0.359822               1.0   \n3449   0.30830  0.30835  15384471  ...     0.000000               1.0   \n3754   0.31608  0.31642   3773322  ...     0.000000              -1.0   \n4076   0.30855  0.30904  15141139  ...     0.000000               1.0   \n4678   0.31507  0.31536   3344780  ...     0.000000              -1.0   \n4935   0.31061  0.31061   2633032  ...     0.152925               1.0   \n5250   0.31491  0.31511   5005501  ...     0.000000              -1.0   \n5388   0.31485  0.31511   2663225  ...     0.000000              -1.0   \n5601   0.31806  0.31820   4427243  ...     0.000000              -1.0   \n5779   0.31788  0.31837   6294775  ...     0.000000              -1.0   \n5918   0.32081  0.32116   4457150  ...     0.000000              -1.0   \n6426   0.32600  0.32669  20867510  ...     0.000000              -1.0   \n6724   0.32606  0.32623   1802473  ...     0.000000              -1.0   \n6972   0.32877  0.32940   8544429  ...     0.000000              -1.0   \n8032   0.32185  0.32253   9176537  ...     0.000000              -1.0   \n8601   0.31815  0.31823   4155785  ...     0.000000               1.0   \n9224   0.31707  0.31736   7955668  ...     0.079720               1.0   \n9233   0.31412  0.31412  19944523  ...     0.183688               1.0   \n9744   0.31184  0.31280  10270525  ...     0.000000              -1.0   \n10427  0.32080  0.32104   9996866  ...    -0.256666               1.0   \n10431  0.31642  0.31671  17890388  ...    -0.123457               1.0   \n10791  0.31512  0.31524   2751549  ...     0.000000               1.0   \n11771  0.31973  0.32036   5018972  ...     0.136371              -1.0   \n11852  0.31704  0.31710   6308330  ...     0.000000               1.0   \n11951  0.32416  0.32486   7614815  ...     0.244718              -1.0   \n12230  0.32434  0.32452   1919812  ...     0.000000               1.0   \n12293  0.33616  0.33748  20015601  ...     0.399359              -1.0   \n12885  0.34401  0.34469   8914121  ...     0.000000              -1.0   \n13765  0.33577  0.33580   6508340  ...     0.000000               1.0   \n14496  0.36142  0.36532  58403773  ...     0.000000              -1.0   \n15018  0.38807  0.38854  13922113  ...     0.000000              -1.0   \n15360  0.39228  0.39448  39956590  ...     0.000000              -1.0   \n15902  0.38726  0.38763   5208090  ...     0.000000               1.0   \n16205  0.38451  0.38495   5349277  ...     0.000000              -1.0   \n16671  0.38922  0.38956   9546929  ...    -0.118339               1.0   \n16755  0.38924  0.38924   1459028  ...    -0.110215               1.0   \n16760  0.38755  0.38802  29942185  ...    -0.079120               1.0   \n\n       predicted_signal2  trade_prices  return_rates  w_stop_rate  entries  \\\n502                  0.0       0.33974      0.335869    -0.233014    False   \n505                  0.0       0.33974      0.354770    -0.235324    False   \n507                  0.0       0.33974      0.359822    -0.235359    False   \n3449                 0.0       0.33981      1.020269    -0.216894    False   \n3754                 1.0       0.33981      0.739207    -0.217064    False   \n4076                 0.0       0.31328     -0.135342    -0.220443    False   \n4678                 0.0       0.31328      0.066394    -0.229152    False   \n4935                 0.0       0.31328     -0.085227    -0.204489    False   \n5250                 0.0       0.31328      0.058414    -0.201666    False   \n5388                 0.0       0.31328      0.058414    -0.188949    False   \n5601                 0.0       0.31328      0.157048    -0.192739    False   \n5779                 0.0       0.31328      0.162474    -0.186235    False   \n5918                 0.0       0.31328      0.251532    -0.193238    False   \n6426                 0.0       0.31328      0.428052    -0.192711    False   \n6724                 0.0       0.31328      0.413368    -0.189655    False   \n6972                 0.0       0.31328      0.514556    -0.190635    False   \n8032                 0.0       0.31328      0.295263    -0.221085    False   \n8601                -1.0       0.31328      0.158006    -0.204123    False   \n9224                 0.0       0.31989      0.079720    -0.213491    False   \n9233                 0.0       0.31989      0.183688    -0.223010    False   \n9744                 1.0       0.31989      0.226662    -0.211505    False   \n10427                0.0       0.32241     -0.042492    -0.216650    False   \n10431                0.0       0.32241     -0.176794    -0.230621    False   \n10791               -1.0       0.32241     -0.222388    -0.205578    False   \n11771                0.0       0.31605      0.136371    -0.195757    False   \n11852                0.0       0.31605      0.033223    -0.196429    False   \n11951                0.0       0.31605      0.278753    -0.201637    False   \n12230               -1.0       0.31605      0.267996    -0.194929    False   \n12293                0.0       0.32452      0.399359    -0.233601    False   \n12885                0.0       0.32452      0.621533    -0.217558    False   \n13765                0.0       0.33495      0.025377    -0.197609    False   \n14496                0.0       0.33495      0.906702    -0.254543    False   \n15018                0.0       0.33495      1.599940    -0.248553    False   \n15360                0.0       0.33495      1.777280    -0.241421    False   \n15902               -1.0       0.33495      1.572772    -0.212329    False   \n16205                0.0       0.39428      0.242369    -0.220508    False   \n16671                0.0       0.39428      0.121162    -0.222377    False   \n16755                0.0       0.39428      0.129483    -0.209716    False   \n16760                0.0       0.39428      0.161332    -0.214022    False   \n\n       exits  short_entries  short_exits  \n502    False          False        False  \n505    False          False        False  \n507    False          False        False  \n3449   False          False        False  \n3754   False          False         True  \n4076   False          False        False  \n4678   False          False        False  \n4935   False          False        False  \n5250   False          False        False  \n5388   False          False        False  \n5601   False          False        False  \n5779   False          False        False  \n5918   False          False        False  \n6426   False          False        False  \n6724   False          False        False  \n6972   False          False        False  \n8032   False          False        False  \n8601    True          False        False  \n9224   False          False        False  \n9233   False          False        False  \n9744   False          False         True  \n10427  False          False        False  \n10431  False          False        False  \n10791   True          False        False  \n11771  False          False        False  \n11852  False          False        False  \n11951  False          False        False  \n12230   True          False        False  \n12293  False          False        False  \n12885  False          False        False  \n13765  False          False        False  \n14496  False          False        False  \n15018  False          False        False  \n15360  False          False        False  \n15902   True          False        False  \n16205  False          False        False  \n16671  False          False        False  \n16755  False          False        False  \n16760  False          False        False  \n\n[39 rows x 108 columns]",
      "text/html": "<div>\n<style scoped>\n    .dataframe tbody tr th:only-of-type {\n        vertical-align: middle;\n    }\n\n    .dataframe tbody tr th {\n        vertical-align: top;\n    }\n\n    .dataframe thead th {\n        text-align: right;\n    }\n</style>\n<table border=\"1\" class=\"dataframe\">\n  <thead>\n    <tr style=\"text-align: right;\">\n      <th></th>\n      <th>timestamp</th>\n      <th>day</th>\n      <th>hour</th>\n      <th>quarter</th>\n      <th>past_min</th>\n      <th>open</th>\n      <th>high</th>\n      <th>low</th>\n      <th>close</th>\n      <th>volume</th>\n      <th>...</th>\n      <th>return_rate</th>\n      <th>predicted_signal</th>\n      <th>predicted_signal2</th>\n      <th>trade_prices</th>\n      <th>return_rates</th>\n      <th>w_stop_rate</th>\n      <th>entries</th>\n      <th>exits</th>\n      <th>short_entries</th>\n      <th>short_exits</th>\n    </tr>\n  </thead>\n  <tbody>\n    <tr>\n      <th>502</th>\n      <td>2024-12-25 04:08:00</td>\n      <td>109</td>\n      <td>4</td>\n      <td>0</td>\n      <td>8</td>\n      <td>0.32919</td>\n      <td>0.32923</td>\n      <td>0.32851</td>\n      <td>0.32870</td>\n      <td>18005191</td>\n      <td>...</td>\n      <td>0.335869</td>\n      <td>1.0</td>\n      <td>0.0</td>\n      <td>0.33974</td>\n      <td>0.335869</td>\n      <td>-0.233014</td>\n      <td>False</td>\n      <td>False</td>\n      <td>False</td>\n      <td>False</td>\n    </tr>\n    <tr>\n      <th>505</th>\n      <td>2024-12-25 04:11:00</td>\n      <td>109</td>\n      <td>4</td>\n      <td>0</td>\n      <td>11</td>\n      <td>0.32877</td>\n      <td>0.32887</td>\n      <td>0.32776</td>\n      <td>0.32810</td>\n      <td>14499303</td>\n      <td>...</td>\n      <td>0.354770</td>\n      <td>1.0</td>\n      <td>0.0</td>\n      <td>0.33974</td>\n      <td>0.354770</td>\n      <td>-0.235324</td>\n      <td>False</td>\n      <td>False</td>\n      <td>False</td>\n      <td>False</td>\n    </tr>\n    <tr>\n      <th>507</th>\n      <td>2024-12-25 04:13:00</td>\n      <td>109</td>\n      <td>4</td>\n      <td>0</td>\n      <td>13</td>\n      <td>0.32812</td>\n      <td>0.32842</td>\n      <td>0.32782</td>\n      <td>0.32794</td>\n      <td>4475082</td>\n      <td>...</td>\n      <td>0.359822</td>\n      <td>1.0</td>\n      <td>0.0</td>\n      <td>0.33974</td>\n      <td>0.359822</td>\n      <td>-0.235359</td>\n      <td>False</td>\n      <td>False</td>\n      <td>False</td>\n      <td>False</td>\n    </tr>\n    <tr>\n      <th>3449</th>\n      <td>2024-12-27 05:15:00</td>\n      <td>111</td>\n      <td>5</td>\n      <td>1</td>\n      <td>0</td>\n      <td>0.30936</td>\n      <td>0.30956</td>\n      <td>0.30830</td>\n      <td>0.30835</td>\n      <td>15384471</td>\n      <td>...</td>\n      <td>0.000000</td>\n      <td>1.0</td>\n      <td>0.0</td>\n      <td>0.33981</td>\n      <td>1.020269</td>\n      <td>-0.216894</td>\n      <td>False</td>\n      <td>False</td>\n      <td>False</td>\n      <td>False</td>\n    </tr>\n    <tr>\n      <th>3754</th>\n      <td>2024-12-27 10:20:00</td>\n      <td>111</td>\n      <td>10</td>\n      <td>1</td>\n      <td>5</td>\n      <td>0.31614</td>\n      <td>0.31649</td>\n      <td>0.31608</td>\n      <td>0.31642</td>\n      <td>3773322</td>\n      <td>...</td>\n      <td>0.000000</td>\n      <td>-1.0</td>\n      <td>1.0</td>\n      <td>0.33981</td>\n      <td>0.739207</td>\n      <td>-0.217064</td>\n      <td>False</td>\n      <td>False</td>\n      <td>False</td>\n      <td>True</td>\n    </tr>\n    <tr>\n      <th>4076</th>\n      <td>2024-12-27 15:42:00</td>\n      <td>111</td>\n      <td>15</td>\n      <td>2</td>\n      <td>12</td>\n      <td>0.30906</td>\n      <td>0.30932</td>\n      <td>0.30855</td>\n      <td>0.30904</td>\n      <td>15141139</td>\n      <td>...</td>\n      <td>0.000000</td>\n      <td>1.0</td>\n      <td>0.0</td>\n      <td>0.31328</td>\n      <td>-0.135342</td>\n      <td>-0.220443</td>\n      <td>False</td>\n      <td>False</td>\n      <td>False</td>\n      <td>False</td>\n    </tr>\n    <tr>\n      <th>4678</th>\n      <td>2024-12-28 01:44:00</td>\n      <td>112</td>\n      <td>1</td>\n      <td>2</td>\n      <td>14</td>\n      <td>0.31508</td>\n      <td>0.31541</td>\n      <td>0.31507</td>\n      <td>0.31536</td>\n      <td>3344780</td>\n      <td>...</td>\n      <td>0.000000</td>\n      <td>-1.0</td>\n      <td>0.0</td>\n      <td>0.31328</td>\n      <td>0.066394</td>\n      <td>-0.229152</td>\n      <td>False</td>\n      <td>False</td>\n      <td>False</td>\n      <td>False</td>\n    </tr>\n    <tr>\n      <th>4935</th>\n      <td>2024-12-28 06:01:00</td>\n      <td>112</td>\n      <td>6</td>\n      <td>0</td>\n      <td>1</td>\n      <td>0.31073</td>\n      <td>0.31100</td>\n      <td>0.31061</td>\n      <td>0.31061</td>\n      <td>2633032</td>\n      <td>...</td>\n      <td>0.152925</td>\n      <td>1.0</td>\n      <td>0.0</td>\n      <td>0.31328</td>\n      <td>-0.085227</td>\n      <td>-0.204489</td>\n      <td>False</td>\n      <td>False</td>\n      <td>False</td>\n      <td>False</td>\n    </tr>\n    <tr>\n      <th>5250</th>\n      <td>2024-12-28 11:16:00</td>\n      <td>112</td>\n      <td>11</td>\n      <td>1</td>\n      <td>1</td>\n      <td>0.31493</td>\n      <td>0.31537</td>\n      <td>0.31491</td>\n      <td>0.31511</td>\n      <td>5005501</td>\n      <td>...</td>\n      <td>0.000000</td>\n      <td>-1.0</td>\n      <td>0.0</td>\n      <td>0.31328</td>\n      <td>0.058414</td>\n      <td>-0.201666</td>\n      <td>False</td>\n      <td>False</td>\n      <td>False</td>\n      <td>False</td>\n    </tr>\n    <tr>\n      <th>5388</th>\n      <td>2024-12-28 13:34:00</td>\n      <td>112</td>\n      <td>13</td>\n      <td>2</td>\n      <td>4</td>\n      <td>0.31485</td>\n      <td>0.31511</td>\n      <td>0.31485</td>\n      <td>0.31511</td>\n      <td>2663225</td>\n      <td>...</td>\n      <td>0.000000</td>\n      <td>-1.0</td>\n      <td>0.0</td>\n      <td>0.31328</td>\n      <td>0.058414</td>\n      <td>-0.188949</td>\n      <td>False</td>\n      <td>False</td>\n      <td>False</td>\n      <td>False</td>\n    </tr>\n    <tr>\n      <th>5601</th>\n      <td>2024-12-28 17:07:00</td>\n      <td>112</td>\n      <td>17</td>\n      <td>0</td>\n      <td>7</td>\n      <td>0.31808</td>\n      <td>0.31835</td>\n      <td>0.31806</td>\n      <td>0.31820</td>\n      <td>4427243</td>\n      <td>...</td>\n      <td>0.000000</td>\n      <td>-1.0</td>\n      <td>0.0</td>\n      <td>0.31328</td>\n      <td>0.157048</td>\n      <td>-0.192739</td>\n      <td>False</td>\n      <td>False</td>\n      <td>False</td>\n      <td>False</td>\n    </tr>\n    <tr>\n      <th>5779</th>\n      <td>2024-12-28 20:05:00</td>\n      <td>112</td>\n      <td>20</td>\n      <td>0</td>\n      <td>5</td>\n      <td>0.31789</td>\n      <td>0.31841</td>\n      <td>0.31788</td>\n      <td>0.31837</td>\n      <td>6294775</td>\n      <td>...</td>\n      <td>0.000000</td>\n      <td>-1.0</td>\n      <td>0.0</td>\n      <td>0.31328</td>\n      <td>0.162474</td>\n      <td>-0.186235</td>\n      <td>False</td>\n      <td>False</td>\n      <td>False</td>\n      <td>False</td>\n    </tr>\n    <tr>\n      <th>5918</th>\n      <td>2024-12-28 22:24:00</td>\n      <td>112</td>\n      <td>22</td>\n      <td>1</td>\n      <td>9</td>\n      <td>0.32109</td>\n      <td>0.32138</td>\n      <td>0.32081</td>\n      <td>0.32116</td>\n      <td>4457150</td>\n      <td>...</td>\n      <td>0.000000</td>\n      <td>-1.0</td>\n      <td>0.0</td>\n      <td>0.31328</td>\n      <td>0.251532</td>\n      <td>-0.193238</td>\n      <td>False</td>\n      <td>False</td>\n      <td>False</td>\n      <td>False</td>\n    </tr>\n    <tr>\n      <th>6426</th>\n      <td>2024-12-29 06:52:00</td>\n      <td>113</td>\n      <td>6</td>\n      <td>3</td>\n      <td>7</td>\n      <td>0.32600</td>\n      <td>0.32745</td>\n      <td>0.32600</td>\n      <td>0.32669</td>\n      <td>20867510</td>\n      <td>...</td>\n      <td>0.000000</td>\n      <td>-1.0</td>\n      <td>0.0</td>\n      <td>0.31328</td>\n      <td>0.428052</td>\n      <td>-0.192711</td>\n      <td>False</td>\n      <td>False</td>\n      <td>False</td>\n      <td>False</td>\n    </tr>\n    <tr>\n      <th>6724</th>\n      <td>2024-12-29 11:50:00</td>\n      <td>113</td>\n      <td>11</td>\n      <td>3</td>\n      <td>5</td>\n      <td>0.32612</td>\n      <td>0.32633</td>\n      <td>0.32606</td>\n      <td>0.32623</td>\n      <td>1802473</td>\n      <td>...</td>\n      <td>0.000000</td>\n      <td>-1.0</td>\n      <td>0.0</td>\n      <td>0.31328</td>\n      <td>0.413368</td>\n      <td>-0.189655</td>\n      <td>False</td>\n      <td>False</td>\n      <td>False</td>\n      <td>False</td>\n    </tr>\n    <tr>\n      <th>6972</th>\n      <td>2024-12-29 15:58:00</td>\n      <td>113</td>\n      <td>15</td>\n      <td>3</td>\n      <td>13</td>\n      <td>0.32877</td>\n      <td>0.32955</td>\n      <td>0.32877</td>\n      <td>0.32940</td>\n      <td>8544429</td>\n      <td>...</td>\n      <td>0.000000</td>\n      <td>-1.0</td>\n      <td>0.0</td>\n      <td>0.31328</td>\n      <td>0.514556</td>\n      <td>-0.190635</td>\n      <td>False</td>\n      <td>False</td>\n      <td>False</td>\n      <td>False</td>\n    </tr>\n    <tr>\n      <th>8032</th>\n      <td>2024-12-30 09:38:00</td>\n      <td>114</td>\n      <td>9</td>\n      <td>2</td>\n      <td>8</td>\n      <td>0.32227</td>\n      <td>0.32290</td>\n      <td>0.32185</td>\n      <td>0.32253</td>\n      <td>9176537</td>\n      <td>...</td>\n      <td>0.000000</td>\n      <td>-1.0</td>\n      <td>0.0</td>\n      <td>0.31328</td>\n      <td>0.295263</td>\n      <td>-0.221085</td>\n      <td>False</td>\n      <td>False</td>\n      <td>False</td>\n      <td>False</td>\n    </tr>\n    <tr>\n      <th>8601</th>\n      <td>2024-12-30 19:07:00</td>\n      <td>114</td>\n      <td>19</td>\n      <td>0</td>\n      <td>7</td>\n      <td>0.31852</td>\n      <td>0.31865</td>\n      <td>0.31815</td>\n      <td>0.31823</td>\n      <td>4155785</td>\n      <td>...</td>\n      <td>0.000000</td>\n      <td>1.0</td>\n      <td>-1.0</td>\n      <td>0.31328</td>\n      <td>0.158006</td>\n      <td>-0.204123</td>\n      <td>False</td>\n      <td>True</td>\n      <td>False</td>\n      <td>False</td>\n    </tr>\n    <tr>\n      <th>9224</th>\n      <td>2024-12-31 05:30:00</td>\n      <td>115</td>\n      <td>5</td>\n      <td>2</td>\n      <td>0</td>\n      <td>0.31828</td>\n      <td>0.31828</td>\n      <td>0.31707</td>\n      <td>0.31736</td>\n      <td>7955668</td>\n      <td>...</td>\n      <td>0.079720</td>\n      <td>1.0</td>\n      <td>0.0</td>\n      <td>0.31989</td>\n      <td>0.079720</td>\n      <td>-0.213491</td>\n      <td>False</td>\n      <td>False</td>\n      <td>False</td>\n      <td>False</td>\n    </tr>\n    <tr>\n      <th>9233</th>\n      <td>2024-12-31 05:39:00</td>\n      <td>115</td>\n      <td>5</td>\n      <td>2</td>\n      <td>9</td>\n      <td>0.31609</td>\n      <td>0.31610</td>\n      <td>0.31412</td>\n      <td>0.31412</td>\n      <td>19944523</td>\n      <td>...</td>\n      <td>0.183688</td>\n      <td>1.0</td>\n      <td>0.0</td>\n      <td>0.31989</td>\n      <td>0.183688</td>\n      <td>-0.223010</td>\n      <td>False</td>\n      <td>False</td>\n      <td>False</td>\n      <td>False</td>\n    </tr>\n    <tr>\n      <th>9744</th>\n      <td>2024-12-31 14:10:00</td>\n      <td>115</td>\n      <td>14</td>\n      <td>0</td>\n      <td>10</td>\n      <td>0.31236</td>\n      <td>0.31297</td>\n      <td>0.31184</td>\n      <td>0.31280</td>\n      <td>10270525</td>\n      <td>...</td>\n      <td>0.000000</td>\n      <td>-1.0</td>\n      <td>1.0</td>\n      <td>0.31989</td>\n      <td>0.226662</td>\n      <td>-0.211505</td>\n      <td>False</td>\n      <td>False</td>\n      <td>False</td>\n      <td>True</td>\n    </tr>\n    <tr>\n      <th>10427</th>\n      <td>2025-01-01 01:33:00</td>\n      <td>116</td>\n      <td>1</td>\n      <td>2</td>\n      <td>3</td>\n      <td>0.32151</td>\n      <td>0.32188</td>\n      <td>0.32080</td>\n      <td>0.32104</td>\n      <td>9996866</td>\n      <td>...</td>\n      <td>-0.256666</td>\n      <td>1.0</td>\n      <td>0.0</td>\n      <td>0.32241</td>\n      <td>-0.042492</td>\n      <td>-0.216650</td>\n      <td>False</td>\n      <td>False</td>\n      <td>False</td>\n      <td>False</td>\n    </tr>\n    <tr>\n      <th>10431</th>\n      <td>2025-01-01 01:37:00</td>\n      <td>116</td>\n      <td>1</td>\n      <td>2</td>\n      <td>7</td>\n      <td>0.31827</td>\n      <td>0.31844</td>\n      <td>0.31642</td>\n      <td>0.31671</td>\n      <td>17890388</td>\n      <td>...</td>\n      <td>-0.123457</td>\n      <td>1.0</td>\n      <td>0.0</td>\n      <td>0.32241</td>\n      <td>-0.176794</td>\n      <td>-0.230621</td>\n      <td>False</td>\n      <td>False</td>\n      <td>False</td>\n      <td>False</td>\n    </tr>\n    <tr>\n      <th>10791</th>\n      <td>2025-01-01 07:37:00</td>\n      <td>116</td>\n      <td>7</td>\n      <td>2</td>\n      <td>7</td>\n      <td>0.31543</td>\n      <td>0.31563</td>\n      <td>0.31512</td>\n      <td>0.31524</td>\n      <td>2751549</td>\n      <td>...</td>\n      <td>0.000000</td>\n      <td>1.0</td>\n      <td>-1.0</td>\n      <td>0.32241</td>\n      <td>-0.222388</td>\n      <td>-0.205578</td>\n      <td>False</td>\n      <td>True</td>\n      <td>False</td>\n      <td>False</td>\n    </tr>\n    <tr>\n      <th>11771</th>\n      <td>2025-01-01 23:57:00</td>\n      <td>116</td>\n      <td>23</td>\n      <td>3</td>\n      <td>12</td>\n      <td>0.31973</td>\n      <td>0.32036</td>\n      <td>0.31973</td>\n      <td>0.32036</td>\n      <td>5018972</td>\n      <td>...</td>\n      <td>0.136371</td>\n      <td>-1.0</td>\n      <td>0.0</td>\n      <td>0.31605</td>\n      <td>0.136371</td>\n      <td>-0.195757</td>\n      <td>False</td>\n      <td>False</td>\n      <td>False</td>\n      <td>False</td>\n    </tr>\n    <tr>\n      <th>11852</th>\n      <td>2025-01-02 01:18:00</td>\n      <td>117</td>\n      <td>1</td>\n      <td>1</td>\n      <td>3</td>\n      <td>0.31775</td>\n      <td>0.31775</td>\n      <td>0.31704</td>\n      <td>0.31710</td>\n      <td>6308330</td>\n      <td>...</td>\n      <td>0.000000</td>\n      <td>1.0</td>\n      <td>0.0</td>\n      <td>0.31605</td>\n      <td>0.033223</td>\n      <td>-0.196429</td>\n      <td>False</td>\n      <td>False</td>\n      <td>False</td>\n      <td>False</td>\n    </tr>\n    <tr>\n      <th>11951</th>\n      <td>2025-01-02 02:57:00</td>\n      <td>117</td>\n      <td>2</td>\n      <td>3</td>\n      <td>12</td>\n      <td>0.32437</td>\n      <td>0.32494</td>\n      <td>0.32416</td>\n      <td>0.32486</td>\n      <td>7614815</td>\n      <td>...</td>\n      <td>0.244718</td>\n      <td>-1.0</td>\n      <td>0.0</td>\n      <td>0.31605</td>\n      <td>0.278753</td>\n      <td>-0.201637</td>\n      <td>False</td>\n      <td>False</td>\n      <td>False</td>\n      <td>False</td>\n    </tr>\n    <tr>\n      <th>12230</th>\n      <td>2025-01-02 07:36:00</td>\n      <td>117</td>\n      <td>7</td>\n      <td>2</td>\n      <td>6</td>\n      <td>0.32479</td>\n      <td>0.32483</td>\n      <td>0.32434</td>\n      <td>0.32452</td>\n      <td>1919812</td>\n      <td>...</td>\n      <td>0.000000</td>\n      <td>1.0</td>\n      <td>-1.0</td>\n      <td>0.31605</td>\n      <td>0.267996</td>\n      <td>-0.194929</td>\n      <td>False</td>\n      <td>True</td>\n      <td>False</td>\n      <td>False</td>\n    </tr>\n    <tr>\n      <th>12293</th>\n      <td>2025-01-02 08:39:00</td>\n      <td>117</td>\n      <td>8</td>\n      <td>2</td>\n      <td>9</td>\n      <td>0.33636</td>\n      <td>0.33760</td>\n      <td>0.33616</td>\n      <td>0.33748</td>\n      <td>20015601</td>\n      <td>...</td>\n      <td>0.399359</td>\n      <td>-1.0</td>\n      <td>0.0</td>\n      <td>0.32452</td>\n      <td>0.399359</td>\n      <td>-0.233601</td>\n      <td>False</td>\n      <td>False</td>\n      <td>False</td>\n      <td>False</td>\n    </tr>\n    <tr>\n      <th>12885</th>\n      <td>2025-01-02 18:31:00</td>\n      <td>117</td>\n      <td>18</td>\n      <td>2</td>\n      <td>1</td>\n      <td>0.34413</td>\n      <td>0.34479</td>\n      <td>0.34401</td>\n      <td>0.34469</td>\n      <td>8914121</td>\n      <td>...</td>\n      <td>0.000000</td>\n      <td>-1.0</td>\n      <td>0.0</td>\n      <td>0.32452</td>\n      <td>0.621533</td>\n      <td>-0.217558</td>\n      <td>False</td>\n      <td>False</td>\n      <td>False</td>\n      <td>False</td>\n    </tr>\n    <tr>\n      <th>13765</th>\n      <td>2025-01-03 09:11:00</td>\n      <td>118</td>\n      <td>9</td>\n      <td>0</td>\n      <td>11</td>\n      <td>0.33642</td>\n      <td>0.33645</td>\n      <td>0.33577</td>\n      <td>0.33580</td>\n      <td>6508340</td>\n      <td>...</td>\n      <td>0.000000</td>\n      <td>1.0</td>\n      <td>0.0</td>\n      <td>0.33495</td>\n      <td>0.025377</td>\n      <td>-0.197609</td>\n      <td>False</td>\n      <td>False</td>\n      <td>False</td>\n      <td>False</td>\n    </tr>\n    <tr>\n      <th>14496</th>\n      <td>2025-01-03 21:22:00</td>\n      <td>118</td>\n      <td>21</td>\n      <td>1</td>\n      <td>7</td>\n      <td>0.36161</td>\n      <td>0.36540</td>\n      <td>0.36142</td>\n      <td>0.36532</td>\n      <td>58403773</td>\n      <td>...</td>\n      <td>0.000000</td>\n      <td>-1.0</td>\n      <td>0.0</td>\n      <td>0.33495</td>\n      <td>0.906702</td>\n      <td>-0.254543</td>\n      <td>False</td>\n      <td>False</td>\n      <td>False</td>\n      <td>False</td>\n    </tr>\n    <tr>\n      <th>15018</th>\n      <td>2025-01-04 06:04:00</td>\n      <td>119</td>\n      <td>6</td>\n      <td>0</td>\n      <td>4</td>\n      <td>0.38849</td>\n      <td>0.38940</td>\n      <td>0.38807</td>\n      <td>0.38854</td>\n      <td>13922113</td>\n      <td>...</td>\n      <td>0.000000</td>\n      <td>-1.0</td>\n      <td>0.0</td>\n      <td>0.33495</td>\n      <td>1.599940</td>\n      <td>-0.248553</td>\n      <td>False</td>\n      <td>False</td>\n      <td>False</td>\n      <td>False</td>\n    </tr>\n    <tr>\n      <th>15360</th>\n      <td>2025-01-04 11:46:00</td>\n      <td>119</td>\n      <td>11</td>\n      <td>3</td>\n      <td>1</td>\n      <td>0.39253</td>\n      <td>0.39478</td>\n      <td>0.39228</td>\n      <td>0.39448</td>\n      <td>39956590</td>\n      <td>...</td>\n      <td>0.000000</td>\n      <td>-1.0</td>\n      <td>0.0</td>\n      <td>0.33495</td>\n      <td>1.777280</td>\n      <td>-0.241421</td>\n      <td>False</td>\n      <td>False</td>\n      <td>False</td>\n      <td>False</td>\n    </tr>\n    <tr>\n      <th>15902</th>\n      <td>2025-01-04 20:48:00</td>\n      <td>119</td>\n      <td>20</td>\n      <td>3</td>\n      <td>3</td>\n      <td>0.38781</td>\n      <td>0.38784</td>\n      <td>0.38726</td>\n      <td>0.38763</td>\n      <td>5208090</td>\n      <td>...</td>\n      <td>0.000000</td>\n      <td>1.0</td>\n      <td>-1.0</td>\n      <td>0.33495</td>\n      <td>1.572772</td>\n      <td>-0.212329</td>\n      <td>False</td>\n      <td>True</td>\n      <td>False</td>\n      <td>False</td>\n    </tr>\n    <tr>\n      <th>16205</th>\n      <td>2025-01-05 01:51:00</td>\n      <td>120</td>\n      <td>1</td>\n      <td>3</td>\n      <td>6</td>\n      <td>0.38451</td>\n      <td>0.38509</td>\n      <td>0.38451</td>\n      <td>0.38495</td>\n      <td>5349277</td>\n      <td>...</td>\n      <td>0.000000</td>\n      <td>-1.0</td>\n      <td>0.0</td>\n      <td>0.39428</td>\n      <td>0.242369</td>\n      <td>-0.220508</td>\n      <td>False</td>\n      <td>False</td>\n      <td>False</td>\n      <td>False</td>\n    </tr>\n    <tr>\n      <th>16671</th>\n      <td>2025-01-05 09:37:00</td>\n      <td>120</td>\n      <td>9</td>\n      <td>2</td>\n      <td>7</td>\n      <td>0.39004</td>\n      <td>0.39023</td>\n      <td>0.38922</td>\n      <td>0.38956</td>\n      <td>9546929</td>\n      <td>...</td>\n      <td>-0.118339</td>\n      <td>1.0</td>\n      <td>0.0</td>\n      <td>0.39428</td>\n      <td>0.121162</td>\n      <td>-0.222377</td>\n      <td>False</td>\n      <td>False</td>\n      <td>False</td>\n      <td>False</td>\n    </tr>\n    <tr>\n      <th>16755</th>\n      <td>2025-01-05 11:01:00</td>\n      <td>120</td>\n      <td>11</td>\n      <td>0</td>\n      <td>1</td>\n      <td>0.39013</td>\n      <td>0.39013</td>\n      <td>0.38924</td>\n      <td>0.38924</td>\n      <td>1459028</td>\n      <td>...</td>\n      <td>-0.110215</td>\n      <td>1.0</td>\n      <td>0.0</td>\n      <td>0.39428</td>\n      <td>0.129483</td>\n      <td>-0.209716</td>\n      <td>False</td>\n      <td>False</td>\n      <td>False</td>\n      <td>False</td>\n    </tr>\n    <tr>\n      <th>16760</th>\n      <td>2025-01-05 11:06:00</td>\n      <td>120</td>\n      <td>11</td>\n      <td>0</td>\n      <td>6</td>\n      <td>0.38909</td>\n      <td>0.38913</td>\n      <td>0.38755</td>\n      <td>0.38802</td>\n      <td>29942185</td>\n      <td>...</td>\n      <td>-0.079120</td>\n      <td>1.0</td>\n      <td>0.0</td>\n      <td>0.39428</td>\n      <td>0.161332</td>\n      <td>-0.214022</td>\n      <td>False</td>\n      <td>False</td>\n      <td>False</td>\n      <td>False</td>\n    </tr>\n  </tbody>\n</table>\n<p>39 rows × 108 columns</p>\n</div>"
     },
     "execution_count": 214,
     "metadata": {},
     "output_type": "execute_result"
    }
   ],
   "source": [
    "lgb_future3[lgb_future3['predicted_signal'] != lgb_future3['predicted_signal2']]"
   ]
  },
  {
   "cell_type": "code",
   "execution_count": 31,
   "metadata": {},
   "outputs": [],
   "source": [
    "trades.to_csv(r'D:\\output2.csv', encoding='utf-8-sig')"
   ]
  },
  {
   "cell_type": "code",
   "execution_count": 36,
   "metadata": {
    "collapsed": false,
    "jupyter": {
     "outputs_hidden": false
    }
   },
   "outputs": [
    {
     "data": {
      "text/plain": [
       "entries  exits  short_entries  short_exits\n",
       "False    False  False          False          9416\n",
       "                               True              2\n",
       "                True           False             2\n",
       "         True   False          False             1\n",
       "True     False  False          False             1\n",
       "Name: count, dtype: int64"
      ]
     },
     "execution_count": 36,
     "metadata": {},
     "output_type": "execute_result"
    }
   ],
   "source": [
    "lgb_future3.iloc[:,-4:].value_counts()\n",
    "dff2.iloc[:,-4:].value_counts()"
   ]
  },
  {
   "cell_type": "code",
   "execution_count": 216,
   "metadata": {
    "collapsed": false,
    "jupyter": {
     "outputs_hidden": false
    }
   },
   "outputs": [
    {
     "data": {
      "text/plain": "                  Feature  Importance (split)  Importance (gain)\n47                   rsi1                 780       2.675604e+06\n95               position                 459       1.784372e+06\n24  current_last_low_rate                 413       1.637479e+06\n96            return_rate                 803       4.310951e+05\n51                   rsi3                 163       2.405076e+05\n..                    ...                 ...                ...\n68       atr2_4_stop_rate                  89       1.991824e+03\n65       atr1_4_stop_rate                  81       1.568354e+03\n6                     low                  71       1.564467e+03\n71       atr3_4_stop_rate                  92       1.459344e+03\n2                 quarter                  27       3.461832e+02\n\n[97 rows x 3 columns]",
      "text/html": "<div>\n<style scoped>\n    .dataframe tbody tr th:only-of-type {\n        vertical-align: middle;\n    }\n\n    .dataframe tbody tr th {\n        vertical-align: top;\n    }\n\n    .dataframe thead th {\n        text-align: right;\n    }\n</style>\n<table border=\"1\" class=\"dataframe\">\n  <thead>\n    <tr style=\"text-align: right;\">\n      <th></th>\n      <th>Feature</th>\n      <th>Importance (split)</th>\n      <th>Importance (gain)</th>\n    </tr>\n  </thead>\n  <tbody>\n    <tr>\n      <th>47</th>\n      <td>rsi1</td>\n      <td>780</td>\n      <td>2.675604e+06</td>\n    </tr>\n    <tr>\n      <th>95</th>\n      <td>position</td>\n      <td>459</td>\n      <td>1.784372e+06</td>\n    </tr>\n    <tr>\n      <th>24</th>\n      <td>current_last_low_rate</td>\n      <td>413</td>\n      <td>1.637479e+06</td>\n    </tr>\n    <tr>\n      <th>96</th>\n      <td>return_rate</td>\n      <td>803</td>\n      <td>4.310951e+05</td>\n    </tr>\n    <tr>\n      <th>51</th>\n      <td>rsi3</td>\n      <td>163</td>\n      <td>2.405076e+05</td>\n    </tr>\n    <tr>\n      <th>...</th>\n      <td>...</td>\n      <td>...</td>\n      <td>...</td>\n    </tr>\n    <tr>\n      <th>68</th>\n      <td>atr2_4_stop_rate</td>\n      <td>89</td>\n      <td>1.991824e+03</td>\n    </tr>\n    <tr>\n      <th>65</th>\n      <td>atr1_4_stop_rate</td>\n      <td>81</td>\n      <td>1.568354e+03</td>\n    </tr>\n    <tr>\n      <th>6</th>\n      <td>low</td>\n      <td>71</td>\n      <td>1.564467e+03</td>\n    </tr>\n    <tr>\n      <th>71</th>\n      <td>atr3_4_stop_rate</td>\n      <td>92</td>\n      <td>1.459344e+03</td>\n    </tr>\n    <tr>\n      <th>2</th>\n      <td>quarter</td>\n      <td>27</td>\n      <td>3.461832e+02</td>\n    </tr>\n  </tbody>\n</table>\n<p>97 rows × 3 columns</p>\n</div>"
     },
     "execution_count": 216,
     "metadata": {},
     "output_type": "execute_result"
    }
   ],
   "source": [
    "# 获取特征重要性（基于分裂次数）\n",
    "importance_split = lgb_model.booster_.feature_importance(importance_type='split')\n",
    "\n",
    "# 获取特征重要性（基于增益）\n",
    "importance_gain = lgb_model.booster_.feature_importance(importance_type='gain')\n",
    "\n",
    "# 将结果放入 DataFrame 进行展示\n",
    "importance_df = pd.DataFrame({\n",
    "    'Feature': features,\n",
    "    'Importance (split)': importance_split,\n",
    "    'Importance (gain)': importance_gain\n",
    "})\n",
    "\n",
    "# 按照增益重要性排序\n",
    "importance_df = importance_df.sort_values(by='Importance (gain)', ascending=False)\n",
    "\n",
    "importance_df"
   ]
  },
  {
   "cell_type": "code",
   "execution_count": 43,
   "metadata": {
    "collapsed": false,
    "jupyter": {
     "outputs_hidden": false
    }
   },
   "outputs": [
    {
     "data": {
      "text/plain": [
       "['C:\\\\pythonProject\\\\trained_lgb_model2.txt']"
      ]
     },
     "execution_count": 43,
     "metadata": {},
     "output_type": "execute_result"
    }
   ],
   "source": [
    "\n",
    "\n",
    "# 保存模型\n",
    "joblib.dump(lgb_model, r'C:\\pythonProject\\trained_lgb_model2.txt')\n",
    "\n",
    "\n"
   ]
  },
  {
   "cell_type": "code",
   "execution_count": 9,
   "metadata": {},
   "outputs": [
    {
     "data": {
      "text/html": [
       "<div>\n",
       "<style scoped>\n",
       "    .dataframe tbody tr th:only-of-type {\n",
       "        vertical-align: middle;\n",
       "    }\n",
       "\n",
       "    .dataframe tbody tr th {\n",
       "        vertical-align: top;\n",
       "    }\n",
       "\n",
       "    .dataframe thead th {\n",
       "        text-align: right;\n",
       "    }\n",
       "</style>\n",
       "<table border=\"1\" class=\"dataframe\">\n",
       "  <thead>\n",
       "    <tr style=\"text-align: right;\">\n",
       "      <th></th>\n",
       "      <th>day</th>\n",
       "      <th>hour</th>\n",
       "      <th>quarter</th>\n",
       "      <th>past_min</th>\n",
       "      <th>open</th>\n",
       "      <th>high</th>\n",
       "      <th>low</th>\n",
       "      <th>close</th>\n",
       "      <th>volume</th>\n",
       "      <th>quote_asset_volume</th>\n",
       "      <th>...</th>\n",
       "      <th>taker_sell_quote_asset_volume_diff</th>\n",
       "      <th>taker_sell_quote_asset_volume_rate</th>\n",
       "      <th>taker_buy_sell_volume_diff</th>\n",
       "      <th>taker_buy_sell_volume_rate</th>\n",
       "      <th>taker_buy_sell_quote_asset_volume_diff</th>\n",
       "      <th>taker_buy_sell_quote_asset_volume_rate</th>\n",
       "      <th>current_taker_buy_sell_volume_rate</th>\n",
       "      <th>current_buy_sell_quote_asset_volume_rate</th>\n",
       "      <th>timestamp</th>\n",
       "      <th>pred</th>\n",
       "    </tr>\n",
       "  </thead>\n",
       "  <tbody>\n",
       "    <tr>\n",
       "      <th>16</th>\n",
       "      <td>0</td>\n",
       "      <td>8</td>\n",
       "      <td>1</td>\n",
       "      <td>0</td>\n",
       "      <td>0.38664</td>\n",
       "      <td>0.38946</td>\n",
       "      <td>0.38607</td>\n",
       "      <td>0.38944</td>\n",
       "      <td>44098791.0</td>\n",
       "      <td>1.712890e+07</td>\n",
       "      <td>...</td>\n",
       "      <td>2.837072e+06</td>\n",
       "      <td>0.53698</td>\n",
       "      <td>4592897.0</td>\n",
       "      <td>-1.98656</td>\n",
       "      <td>1.784863e+06</td>\n",
       "      <td>-1.98996</td>\n",
       "      <td>0.10909</td>\n",
       "      <td>0.10934</td>\n",
       "      <td>2025-01-07 08:15:00</td>\n",
       "      <td>-1</td>\n",
       "    </tr>\n",
       "    <tr>\n",
       "      <th>17</th>\n",
       "      <td>0</td>\n",
       "      <td>8</td>\n",
       "      <td>1</td>\n",
       "      <td>0</td>\n",
       "      <td>0.38664</td>\n",
       "      <td>0.38982</td>\n",
       "      <td>0.38607</td>\n",
       "      <td>0.38982</td>\n",
       "      <td>45952850.0</td>\n",
       "      <td>1.785134e+07</td>\n",
       "      <td>...</td>\n",
       "      <td>2.895354e+06</td>\n",
       "      <td>0.54801</td>\n",
       "      <td>6147770.0</td>\n",
       "      <td>-2.65908</td>\n",
       "      <td>2.390740e+06</td>\n",
       "      <td>-2.66546</td>\n",
       "      <td>0.18215</td>\n",
       "      <td>0.18264</td>\n",
       "      <td>2025-01-07 08:15:00</td>\n",
       "      <td>-1</td>\n",
       "    </tr>\n",
       "    <tr>\n",
       "      <th>18</th>\n",
       "      <td>0</td>\n",
       "      <td>8</td>\n",
       "      <td>1</td>\n",
       "      <td>0</td>\n",
       "      <td>0.38664</td>\n",
       "      <td>0.39016</td>\n",
       "      <td>0.38607</td>\n",
       "      <td>0.39002</td>\n",
       "      <td>47931165.0</td>\n",
       "      <td>1.862286e+07</td>\n",
       "      <td>...</td>\n",
       "      <td>3.048816e+06</td>\n",
       "      <td>0.57705</td>\n",
       "      <td>7339213.0</td>\n",
       "      <td>-3.17441</td>\n",
       "      <td>2.855335e+06</td>\n",
       "      <td>-3.18344</td>\n",
       "      <td>0.23435</td>\n",
       "      <td>0.23504</td>\n",
       "      <td>2025-01-07 08:15:00</td>\n",
       "      <td>-1</td>\n",
       "    </tr>\n",
       "    <tr>\n",
       "      <th>19</th>\n",
       "      <td>0</td>\n",
       "      <td>8</td>\n",
       "      <td>1</td>\n",
       "      <td>0</td>\n",
       "      <td>0.38664</td>\n",
       "      <td>0.39016</td>\n",
       "      <td>0.38607</td>\n",
       "      <td>0.38980</td>\n",
       "      <td>49251023.0</td>\n",
       "      <td>1.913755e+07</td>\n",
       "      <td>...</td>\n",
       "      <td>3.341470e+06</td>\n",
       "      <td>0.63245</td>\n",
       "      <td>7158095.0</td>\n",
       "      <td>-3.09608</td>\n",
       "      <td>2.784715e+06</td>\n",
       "      <td>-3.10470</td>\n",
       "      <td>0.21827</td>\n",
       "      <td>0.21888</td>\n",
       "      <td>2025-01-07 08:15:00</td>\n",
       "      <td>-1</td>\n",
       "    </tr>\n",
       "    <tr>\n",
       "      <th>20</th>\n",
       "      <td>0</td>\n",
       "      <td>8</td>\n",
       "      <td>1</td>\n",
       "      <td>0</td>\n",
       "      <td>0.38664</td>\n",
       "      <td>0.39016</td>\n",
       "      <td>0.38607</td>\n",
       "      <td>0.38972</td>\n",
       "      <td>49583084.0</td>\n",
       "      <td>1.926699e+07</td>\n",
       "      <td>...</td>\n",
       "      <td>3.400659e+06</td>\n",
       "      <td>0.64365</td>\n",
       "      <td>7186476.0</td>\n",
       "      <td>-3.10835</td>\n",
       "      <td>2.795775e+06</td>\n",
       "      <td>-3.11703</td>\n",
       "      <td>0.21806</td>\n",
       "      <td>0.21866</td>\n",
       "      <td>2025-01-07 08:15:00</td>\n",
       "      <td>-1</td>\n",
       "    </tr>\n",
       "    <tr>\n",
       "      <th>...</th>\n",
       "      <td>...</td>\n",
       "      <td>...</td>\n",
       "      <td>...</td>\n",
       "      <td>...</td>\n",
       "      <td>...</td>\n",
       "      <td>...</td>\n",
       "      <td>...</td>\n",
       "      <td>...</td>\n",
       "      <td>...</td>\n",
       "      <td>...</td>\n",
       "      <td>...</td>\n",
       "      <td>...</td>\n",
       "      <td>...</td>\n",
       "      <td>...</td>\n",
       "      <td>...</td>\n",
       "      <td>...</td>\n",
       "      <td>...</td>\n",
       "      <td>...</td>\n",
       "      <td>...</td>\n",
       "      <td>...</td>\n",
       "      <td>...</td>\n",
       "    </tr>\n",
       "    <tr>\n",
       "      <th>21362</th>\n",
       "      <td>0</td>\n",
       "      <td>17</td>\n",
       "      <td>3</td>\n",
       "      <td>0</td>\n",
       "      <td>0.34973</td>\n",
       "      <td>0.35007</td>\n",
       "      <td>0.34581</td>\n",
       "      <td>0.34609</td>\n",
       "      <td>62271656.0</td>\n",
       "      <td>2.164848e+07</td>\n",
       "      <td>...</td>\n",
       "      <td>3.049483e+06</td>\n",
       "      <td>0.25630</td>\n",
       "      <td>-21910782.0</td>\n",
       "      <td>12.06650</td>\n",
       "      <td>-7.603673e+06</td>\n",
       "      <td>11.83248</td>\n",
       "      <td>-0.55179</td>\n",
       "      <td>-0.55169</td>\n",
       "      <td>2025-01-08 17:45:00</td>\n",
       "      <td>1</td>\n",
       "    </tr>\n",
       "    <tr>\n",
       "      <th>21363</th>\n",
       "      <td>0</td>\n",
       "      <td>17</td>\n",
       "      <td>3</td>\n",
       "      <td>0</td>\n",
       "      <td>0.34973</td>\n",
       "      <td>0.35007</td>\n",
       "      <td>0.34581</td>\n",
       "      <td>0.34609</td>\n",
       "      <td>62973432.0</td>\n",
       "      <td>2.189136e+07</td>\n",
       "      <td>...</td>\n",
       "      <td>3.225478e+06</td>\n",
       "      <td>0.27110</td>\n",
       "      <td>-22226048.0</td>\n",
       "      <td>12.24012</td>\n",
       "      <td>-7.712783e+06</td>\n",
       "      <td>12.00227</td>\n",
       "      <td>-0.55259</td>\n",
       "      <td>-0.55248</td>\n",
       "      <td>2025-01-08 17:45:00</td>\n",
       "      <td>1</td>\n",
       "    </tr>\n",
       "    <tr>\n",
       "      <th>21364</th>\n",
       "      <td>0</td>\n",
       "      <td>17</td>\n",
       "      <td>3</td>\n",
       "      <td>0</td>\n",
       "      <td>0.34973</td>\n",
       "      <td>0.35007</td>\n",
       "      <td>0.34581</td>\n",
       "      <td>0.34592</td>\n",
       "      <td>63264663.0</td>\n",
       "      <td>2.199213e+07</td>\n",
       "      <td>...</td>\n",
       "      <td>3.312894e+06</td>\n",
       "      <td>0.27844</td>\n",
       "      <td>-22440053.0</td>\n",
       "      <td>12.35797</td>\n",
       "      <td>-7.786842e+06</td>\n",
       "      <td>12.11752</td>\n",
       "      <td>-0.55429</td>\n",
       "      <td>-0.55418</td>\n",
       "      <td>2025-01-08 17:45:00</td>\n",
       "      <td>1</td>\n",
       "    </tr>\n",
       "    <tr>\n",
       "      <th>21365</th>\n",
       "      <td>0</td>\n",
       "      <td>17</td>\n",
       "      <td>3</td>\n",
       "      <td>0</td>\n",
       "      <td>0.34973</td>\n",
       "      <td>0.35007</td>\n",
       "      <td>0.34563</td>\n",
       "      <td>0.34570</td>\n",
       "      <td>64229544.0</td>\n",
       "      <td>2.232579e+07</td>\n",
       "      <td>...</td>\n",
       "      <td>3.557229e+06</td>\n",
       "      <td>0.29898</td>\n",
       "      <td>-22888392.0</td>\n",
       "      <td>12.60488</td>\n",
       "      <td>-7.941853e+06</td>\n",
       "      <td>12.35874</td>\n",
       "      <td>-0.55556</td>\n",
       "      <td>-0.55544</td>\n",
       "      <td>2025-01-08 17:45:00</td>\n",
       "      <td>1</td>\n",
       "    </tr>\n",
       "    <tr>\n",
       "      <th>21366</th>\n",
       "      <td>0</td>\n",
       "      <td>17</td>\n",
       "      <td>3</td>\n",
       "      <td>0</td>\n",
       "      <td>0.34973</td>\n",
       "      <td>0.35007</td>\n",
       "      <td>0.34563</td>\n",
       "      <td>0.34572</td>\n",
       "      <td>65798390.0</td>\n",
       "      <td>2.286821e+07</td>\n",
       "      <td>...</td>\n",
       "      <td>3.946559e+06</td>\n",
       "      <td>0.33170</td>\n",
       "      <td>-23571724.0</td>\n",
       "      <td>12.98120</td>\n",
       "      <td>-8.178100e+06</td>\n",
       "      <td>12.72638</td>\n",
       "      <td>-0.55683</td>\n",
       "      <td>-0.55671</td>\n",
       "      <td>2025-01-08 17:45:00</td>\n",
       "      <td>1</td>\n",
       "    </tr>\n",
       "  </tbody>\n",
       "</table>\n",
       "<p>3334 rows × 94 columns</p>\n",
       "</div>"
      ],
      "text/plain": [
       "       day  hour  quarter  past_min     open     high      low    close  \\\n",
       "16       0     8        1         0  0.38664  0.38946  0.38607  0.38944   \n",
       "17       0     8        1         0  0.38664  0.38982  0.38607  0.38982   \n",
       "18       0     8        1         0  0.38664  0.39016  0.38607  0.39002   \n",
       "19       0     8        1         0  0.38664  0.39016  0.38607  0.38980   \n",
       "20       0     8        1         0  0.38664  0.39016  0.38607  0.38972   \n",
       "...    ...   ...      ...       ...      ...      ...      ...      ...   \n",
       "21362    0    17        3         0  0.34973  0.35007  0.34581  0.34609   \n",
       "21363    0    17        3         0  0.34973  0.35007  0.34581  0.34609   \n",
       "21364    0    17        3         0  0.34973  0.35007  0.34581  0.34592   \n",
       "21365    0    17        3         0  0.34973  0.35007  0.34563  0.34570   \n",
       "21366    0    17        3         0  0.34973  0.35007  0.34563  0.34572   \n",
       "\n",
       "           volume  quote_asset_volume  ...  \\\n",
       "16     44098791.0        1.712890e+07  ...   \n",
       "17     45952850.0        1.785134e+07  ...   \n",
       "18     47931165.0        1.862286e+07  ...   \n",
       "19     49251023.0        1.913755e+07  ...   \n",
       "20     49583084.0        1.926699e+07  ...   \n",
       "...           ...                 ...  ...   \n",
       "21362  62271656.0        2.164848e+07  ...   \n",
       "21363  62973432.0        2.189136e+07  ...   \n",
       "21364  63264663.0        2.199213e+07  ...   \n",
       "21365  64229544.0        2.232579e+07  ...   \n",
       "21366  65798390.0        2.286821e+07  ...   \n",
       "\n",
       "       taker_sell_quote_asset_volume_diff  taker_sell_quote_asset_volume_rate  \\\n",
       "16                           2.837072e+06                             0.53698   \n",
       "17                           2.895354e+06                             0.54801   \n",
       "18                           3.048816e+06                             0.57705   \n",
       "19                           3.341470e+06                             0.63245   \n",
       "20                           3.400659e+06                             0.64365   \n",
       "...                                   ...                                 ...   \n",
       "21362                        3.049483e+06                             0.25630   \n",
       "21363                        3.225478e+06                             0.27110   \n",
       "21364                        3.312894e+06                             0.27844   \n",
       "21365                        3.557229e+06                             0.29898   \n",
       "21366                        3.946559e+06                             0.33170   \n",
       "\n",
       "       taker_buy_sell_volume_diff  taker_buy_sell_volume_rate  \\\n",
       "16                      4592897.0                    -1.98656   \n",
       "17                      6147770.0                    -2.65908   \n",
       "18                      7339213.0                    -3.17441   \n",
       "19                      7158095.0                    -3.09608   \n",
       "20                      7186476.0                    -3.10835   \n",
       "...                           ...                         ...   \n",
       "21362                 -21910782.0                    12.06650   \n",
       "21363                 -22226048.0                    12.24012   \n",
       "21364                 -22440053.0                    12.35797   \n",
       "21365                 -22888392.0                    12.60488   \n",
       "21366                 -23571724.0                    12.98120   \n",
       "\n",
       "       taker_buy_sell_quote_asset_volume_diff  \\\n",
       "16                               1.784863e+06   \n",
       "17                               2.390740e+06   \n",
       "18                               2.855335e+06   \n",
       "19                               2.784715e+06   \n",
       "20                               2.795775e+06   \n",
       "...                                       ...   \n",
       "21362                           -7.603673e+06   \n",
       "21363                           -7.712783e+06   \n",
       "21364                           -7.786842e+06   \n",
       "21365                           -7.941853e+06   \n",
       "21366                           -8.178100e+06   \n",
       "\n",
       "       taker_buy_sell_quote_asset_volume_rate  \\\n",
       "16                                   -1.98996   \n",
       "17                                   -2.66546   \n",
       "18                                   -3.18344   \n",
       "19                                   -3.10470   \n",
       "20                                   -3.11703   \n",
       "...                                       ...   \n",
       "21362                                11.83248   \n",
       "21363                                12.00227   \n",
       "21364                                12.11752   \n",
       "21365                                12.35874   \n",
       "21366                                12.72638   \n",
       "\n",
       "       current_taker_buy_sell_volume_rate  \\\n",
       "16                                0.10909   \n",
       "17                                0.18215   \n",
       "18                                0.23435   \n",
       "19                                0.21827   \n",
       "20                                0.21806   \n",
       "...                                   ...   \n",
       "21362                            -0.55179   \n",
       "21363                            -0.55259   \n",
       "21364                            -0.55429   \n",
       "21365                            -0.55556   \n",
       "21366                            -0.55683   \n",
       "\n",
       "       current_buy_sell_quote_asset_volume_rate            timestamp  pred  \n",
       "16                                      0.10934  2025-01-07 08:15:00    -1  \n",
       "17                                      0.18264  2025-01-07 08:15:00    -1  \n",
       "18                                      0.23504  2025-01-07 08:15:00    -1  \n",
       "19                                      0.21888  2025-01-07 08:15:00    -1  \n",
       "20                                      0.21866  2025-01-07 08:15:00    -1  \n",
       "...                                         ...                  ...   ...  \n",
       "21362                                  -0.55169  2025-01-08 17:45:00     1  \n",
       "21363                                  -0.55248  2025-01-08 17:45:00     1  \n",
       "21364                                  -0.55418  2025-01-08 17:45:00     1  \n",
       "21365                                  -0.55544  2025-01-08 17:45:00     1  \n",
       "21366                                  -0.55671  2025-01-08 17:45:00     1  \n",
       "\n",
       "[3334 rows x 94 columns]"
      ]
     },
     "execution_count": 9,
     "metadata": {},
     "output_type": "execute_result"
    }
   ],
   "source": [
    "\n",
    "\n",
    "# 读取txt文件内容\n",
    "file_path = r'C:\\pythonProject\\data.csv'\n",
    "\n",
    "dff = pd.read_csv(file_path,encoding='utf-8-sig')\n",
    "dff[dff['pred']!=0]"
   ]
  },
  {
   "cell_type": "code",
   "execution_count": 14,
   "metadata": {},
   "outputs": [
    {
     "ename": "ValueError",
     "evalue": "time data \"2025-01-08\" doesn't match format \"%Y-%m-%d %H:%M:%S\", at position 61. You might want to try:\n    - passing `format` if your strings have a consistent format;\n    - passing `format='ISO8601'` if your strings are all ISO8601 but not necessarily in exactly the same format;\n    - passing `format='mixed'`, and the format will be inferred for each element individually. You might want to use `dayfirst` alongside this.",
     "output_type": "error",
     "traceback": [
      "\u001B[1;31m---------------------------------------------------------------------------\u001B[0m",
      "\u001B[1;31mValueError\u001B[0m                                Traceback (most recent call last)",
      "Cell \u001B[1;32mIn[14], line 11\u001B[0m\n\u001B[0;32m      8\u001B[0m dff[\u001B[38;5;124m'\u001B[39m\u001B[38;5;124mtimestamp\u001B[39m\u001B[38;5;124m'\u001B[39m] \u001B[38;5;241m=\u001B[39m timestamp_column\n\u001B[0;32m     10\u001B[0m \u001B[38;5;66;03m# 如果需要，可以将 timestamp 列转换为日期时间格式\u001B[39;00m\n\u001B[1;32m---> 11\u001B[0m dff[\u001B[38;5;124m'\u001B[39m\u001B[38;5;124mtimestamp\u001B[39m\u001B[38;5;124m'\u001B[39m] \u001B[38;5;241m=\u001B[39m \u001B[43mpd\u001B[49m\u001B[38;5;241;43m.\u001B[39;49m\u001B[43mto_datetime\u001B[49m\u001B[43m(\u001B[49m\u001B[43mdff\u001B[49m\u001B[43m[\u001B[49m\u001B[38;5;124;43m'\u001B[39;49m\u001B[38;5;124;43mtimestamp\u001B[39;49m\u001B[38;5;124;43m'\u001B[39;49m\u001B[43m]\u001B[49m\u001B[43m)\u001B[49m\n\u001B[0;32m     12\u001B[0m dff\u001B[38;5;241m.\u001B[39minfo()\n",
      "File \u001B[1;32mc:\\app\\miniconda3\\Lib\\site-packages\\pandas\\core\\tools\\datetimes.py:1063\u001B[0m, in \u001B[0;36mto_datetime\u001B[1;34m(arg, errors, dayfirst, yearfirst, utc, format, exact, unit, infer_datetime_format, origin, cache)\u001B[0m\n\u001B[0;32m   1061\u001B[0m             result \u001B[38;5;241m=\u001B[39m arg\u001B[38;5;241m.\u001B[39mtz_localize(\u001B[38;5;124m\"\u001B[39m\u001B[38;5;124mutc\u001B[39m\u001B[38;5;124m\"\u001B[39m)\n\u001B[0;32m   1062\u001B[0m \u001B[38;5;28;01melif\u001B[39;00m \u001B[38;5;28misinstance\u001B[39m(arg, ABCSeries):\n\u001B[1;32m-> 1063\u001B[0m     cache_array \u001B[38;5;241m=\u001B[39m \u001B[43m_maybe_cache\u001B[49m\u001B[43m(\u001B[49m\u001B[43marg\u001B[49m\u001B[43m,\u001B[49m\u001B[43m \u001B[49m\u001B[38;5;28;43mformat\u001B[39;49m\u001B[43m,\u001B[49m\u001B[43m \u001B[49m\u001B[43mcache\u001B[49m\u001B[43m,\u001B[49m\u001B[43m \u001B[49m\u001B[43mconvert_listlike\u001B[49m\u001B[43m)\u001B[49m\n\u001B[0;32m   1064\u001B[0m     \u001B[38;5;28;01mif\u001B[39;00m \u001B[38;5;129;01mnot\u001B[39;00m cache_array\u001B[38;5;241m.\u001B[39mempty:\n\u001B[0;32m   1065\u001B[0m         result \u001B[38;5;241m=\u001B[39m arg\u001B[38;5;241m.\u001B[39mmap(cache_array)\n",
      "File \u001B[1;32mc:\\app\\miniconda3\\Lib\\site-packages\\pandas\\core\\tools\\datetimes.py:247\u001B[0m, in \u001B[0;36m_maybe_cache\u001B[1;34m(arg, format, cache, convert_listlike)\u001B[0m\n\u001B[0;32m    245\u001B[0m unique_dates \u001B[38;5;241m=\u001B[39m unique(arg)\n\u001B[0;32m    246\u001B[0m \u001B[38;5;28;01mif\u001B[39;00m \u001B[38;5;28mlen\u001B[39m(unique_dates) \u001B[38;5;241m<\u001B[39m \u001B[38;5;28mlen\u001B[39m(arg):\n\u001B[1;32m--> 247\u001B[0m     cache_dates \u001B[38;5;241m=\u001B[39m \u001B[43mconvert_listlike\u001B[49m\u001B[43m(\u001B[49m\u001B[43munique_dates\u001B[49m\u001B[43m,\u001B[49m\u001B[43m \u001B[49m\u001B[38;5;28;43mformat\u001B[39;49m\u001B[43m)\u001B[49m\n\u001B[0;32m    248\u001B[0m     \u001B[38;5;66;03m# GH#45319\u001B[39;00m\n\u001B[0;32m    249\u001B[0m     \u001B[38;5;28;01mtry\u001B[39;00m:\n",
      "File \u001B[1;32mc:\\app\\miniconda3\\Lib\\site-packages\\pandas\\core\\tools\\datetimes.py:433\u001B[0m, in \u001B[0;36m_convert_listlike_datetimes\u001B[1;34m(arg, format, name, utc, unit, errors, dayfirst, yearfirst, exact)\u001B[0m\n\u001B[0;32m    431\u001B[0m \u001B[38;5;66;03m# `format` could be inferred, or user didn't ask for mixed-format parsing.\u001B[39;00m\n\u001B[0;32m    432\u001B[0m \u001B[38;5;28;01mif\u001B[39;00m \u001B[38;5;28mformat\u001B[39m \u001B[38;5;129;01mis\u001B[39;00m \u001B[38;5;129;01mnot\u001B[39;00m \u001B[38;5;28;01mNone\u001B[39;00m \u001B[38;5;129;01mand\u001B[39;00m \u001B[38;5;28mformat\u001B[39m \u001B[38;5;241m!=\u001B[39m \u001B[38;5;124m\"\u001B[39m\u001B[38;5;124mmixed\u001B[39m\u001B[38;5;124m\"\u001B[39m:\n\u001B[1;32m--> 433\u001B[0m     \u001B[38;5;28;01mreturn\u001B[39;00m \u001B[43m_array_strptime_with_fallback\u001B[49m\u001B[43m(\u001B[49m\u001B[43marg\u001B[49m\u001B[43m,\u001B[49m\u001B[43m \u001B[49m\u001B[43mname\u001B[49m\u001B[43m,\u001B[49m\u001B[43m \u001B[49m\u001B[43mutc\u001B[49m\u001B[43m,\u001B[49m\u001B[43m \u001B[49m\u001B[38;5;28;43mformat\u001B[39;49m\u001B[43m,\u001B[49m\u001B[43m \u001B[49m\u001B[43mexact\u001B[49m\u001B[43m,\u001B[49m\u001B[43m \u001B[49m\u001B[43merrors\u001B[49m\u001B[43m)\u001B[49m\n\u001B[0;32m    435\u001B[0m result, tz_parsed \u001B[38;5;241m=\u001B[39m objects_to_datetime64(\n\u001B[0;32m    436\u001B[0m     arg,\n\u001B[0;32m    437\u001B[0m     dayfirst\u001B[38;5;241m=\u001B[39mdayfirst,\n\u001B[1;32m   (...)\u001B[0m\n\u001B[0;32m    441\u001B[0m     allow_object\u001B[38;5;241m=\u001B[39m\u001B[38;5;28;01mTrue\u001B[39;00m,\n\u001B[0;32m    442\u001B[0m )\n\u001B[0;32m    444\u001B[0m \u001B[38;5;28;01mif\u001B[39;00m tz_parsed \u001B[38;5;129;01mis\u001B[39;00m \u001B[38;5;129;01mnot\u001B[39;00m \u001B[38;5;28;01mNone\u001B[39;00m:\n\u001B[0;32m    445\u001B[0m     \u001B[38;5;66;03m# We can take a shortcut since the datetime64 numpy array\u001B[39;00m\n\u001B[0;32m    446\u001B[0m     \u001B[38;5;66;03m# is in UTC\u001B[39;00m\n",
      "File \u001B[1;32mc:\\app\\miniconda3\\Lib\\site-packages\\pandas\\core\\tools\\datetimes.py:467\u001B[0m, in \u001B[0;36m_array_strptime_with_fallback\u001B[1;34m(arg, name, utc, fmt, exact, errors)\u001B[0m\n\u001B[0;32m    456\u001B[0m \u001B[38;5;28;01mdef\u001B[39;00m \u001B[38;5;21m_array_strptime_with_fallback\u001B[39m(\n\u001B[0;32m    457\u001B[0m     arg,\n\u001B[0;32m    458\u001B[0m     name,\n\u001B[1;32m   (...)\u001B[0m\n\u001B[0;32m    462\u001B[0m     errors: \u001B[38;5;28mstr\u001B[39m,\n\u001B[0;32m    463\u001B[0m ) \u001B[38;5;241m-\u001B[39m\u001B[38;5;241m>\u001B[39m Index:\n\u001B[0;32m    464\u001B[0m \u001B[38;5;250m    \u001B[39m\u001B[38;5;124;03m\"\"\"\u001B[39;00m\n\u001B[0;32m    465\u001B[0m \u001B[38;5;124;03m    Call array_strptime, with fallback behavior depending on 'errors'.\u001B[39;00m\n\u001B[0;32m    466\u001B[0m \u001B[38;5;124;03m    \"\"\"\u001B[39;00m\n\u001B[1;32m--> 467\u001B[0m     result, tz_out \u001B[38;5;241m=\u001B[39m \u001B[43marray_strptime\u001B[49m\u001B[43m(\u001B[49m\u001B[43marg\u001B[49m\u001B[43m,\u001B[49m\u001B[43m \u001B[49m\u001B[43mfmt\u001B[49m\u001B[43m,\u001B[49m\u001B[43m \u001B[49m\u001B[43mexact\u001B[49m\u001B[38;5;241;43m=\u001B[39;49m\u001B[43mexact\u001B[49m\u001B[43m,\u001B[49m\u001B[43m \u001B[49m\u001B[43merrors\u001B[49m\u001B[38;5;241;43m=\u001B[39;49m\u001B[43merrors\u001B[49m\u001B[43m,\u001B[49m\u001B[43m \u001B[49m\u001B[43mutc\u001B[49m\u001B[38;5;241;43m=\u001B[39;49m\u001B[43mutc\u001B[49m\u001B[43m)\u001B[49m\n\u001B[0;32m    468\u001B[0m     \u001B[38;5;28;01mif\u001B[39;00m tz_out \u001B[38;5;129;01mis\u001B[39;00m \u001B[38;5;129;01mnot\u001B[39;00m \u001B[38;5;28;01mNone\u001B[39;00m:\n\u001B[0;32m    469\u001B[0m         unit \u001B[38;5;241m=\u001B[39m np\u001B[38;5;241m.\u001B[39mdatetime_data(result\u001B[38;5;241m.\u001B[39mdtype)[\u001B[38;5;241m0\u001B[39m]\n",
      "File \u001B[1;32mstrptime.pyx:501\u001B[0m, in \u001B[0;36mpandas._libs.tslibs.strptime.array_strptime\u001B[1;34m()\u001B[0m\n",
      "File \u001B[1;32mstrptime.pyx:451\u001B[0m, in \u001B[0;36mpandas._libs.tslibs.strptime.array_strptime\u001B[1;34m()\u001B[0m\n",
      "File \u001B[1;32mstrptime.pyx:583\u001B[0m, in \u001B[0;36mpandas._libs.tslibs.strptime._parse_with_format\u001B[1;34m()\u001B[0m\n",
      "\u001B[1;31mValueError\u001B[0m: time data \"2025-01-08\" doesn't match format \"%Y-%m-%d %H:%M:%S\", at position 61. You might want to try:\n    - passing `format` if your strings have a consistent format;\n    - passing `format='ISO8601'` if your strings are all ISO8601 but not necessarily in exactly the same format;\n    - passing `format='mixed'`, and the format will be inferred for each element individually. You might want to use `dayfirst` alongside this."
     ]
    }
   ],
   "source": [
    "# 保存 timestamp 列\n",
    "timestamp_column = dff['timestamp']\n",
    "\n",
    "# 选择从第二列开始的部分并转换为 float\n",
    "dff = dff.iloc[:, :-2].astype(float)\n",
    "\n",
    "# 恢复 timestamp 列\n",
    "dff['timestamp'] = timestamp_column\n",
    "\n",
    "# 如果需要，可以将 timestamp 列转换为日期时间格式\n",
    "dff['timestamp'] = pd.to_datetime(dff['timestamp'])\n",
    "dff.info()"
   ]
  },
  {
   "cell_type": "code",
   "execution_count": 15,
   "metadata": {},
   "outputs": [
    {
     "data": {
      "text/html": [
       "<div>\n",
       "<style scoped>\n",
       "    .dataframe tbody tr th:only-of-type {\n",
       "        vertical-align: middle;\n",
       "    }\n",
       "\n",
       "    .dataframe tbody tr th {\n",
       "        vertical-align: top;\n",
       "    }\n",
       "\n",
       "    .dataframe thead th {\n",
       "        text-align: right;\n",
       "    }\n",
       "</style>\n",
       "<table border=\"1\" class=\"dataframe\">\n",
       "  <thead>\n",
       "    <tr style=\"text-align: right;\">\n",
       "      <th></th>\n",
       "      <th>day</th>\n",
       "      <th>hour</th>\n",
       "      <th>quarter</th>\n",
       "      <th>past_min</th>\n",
       "      <th>open</th>\n",
       "      <th>high</th>\n",
       "      <th>low</th>\n",
       "      <th>close</th>\n",
       "      <th>volume</th>\n",
       "      <th>quote_asset_volume</th>\n",
       "      <th>...</th>\n",
       "      <th>taker_buy_quote_asset_volume_rate</th>\n",
       "      <th>taker_sell_base_asset_volume_diff</th>\n",
       "      <th>taker_sell_base_asset_volume_rate</th>\n",
       "      <th>taker_sell_quote_asset_volume_diff</th>\n",
       "      <th>taker_sell_quote_asset_volume_rate</th>\n",
       "      <th>taker_buy_sell_volume_diff</th>\n",
       "      <th>taker_buy_sell_volume_rate</th>\n",
       "      <th>taker_buy_sell_quote_asset_volume_diff</th>\n",
       "      <th>taker_buy_sell_quote_asset_volume_rate</th>\n",
       "      <th>timestamp</th>\n",
       "    </tr>\n",
       "  </thead>\n",
       "  <tbody>\n",
       "    <tr>\n",
       "      <th>0</th>\n",
       "      <td>0.0</td>\n",
       "      <td>8.0</td>\n",
       "      <td>1.0</td>\n",
       "      <td>0.0</td>\n",
       "      <td>0.38664</td>\n",
       "      <td>0.38936</td>\n",
       "      <td>0.38607</td>\n",
       "      <td>0.38819</td>\n",
       "      <td>38050270.0</td>\n",
       "      <td>1.477748e+07</td>\n",
       "      <td>...</td>\n",
       "      <td>0.62175</td>\n",
       "      <td>6075348.0</td>\n",
       "      <td>0.44480</td>\n",
       "      <td>2.380280e+06</td>\n",
       "      <td>0.45052</td>\n",
       "      <td>894464.0</td>\n",
       "      <td>-0.38688</td>\n",
       "      <td>3.470304e+05</td>\n",
       "      <td>-0.38691</td>\n",
       "      <td>2025-01-07 08:15:00</td>\n",
       "    </tr>\n",
       "    <tr>\n",
       "      <th>1</th>\n",
       "      <td>0.0</td>\n",
       "      <td>8.0</td>\n",
       "      <td>1.0</td>\n",
       "      <td>0.0</td>\n",
       "      <td>0.38664</td>\n",
       "      <td>0.38936</td>\n",
       "      <td>0.38607</td>\n",
       "      <td>0.38827</td>\n",
       "      <td>38107869.0</td>\n",
       "      <td>1.479984e+07</td>\n",
       "      <td>...</td>\n",
       "      <td>0.62681</td>\n",
       "      <td>6075771.0</td>\n",
       "      <td>0.44483</td>\n",
       "      <td>2.380444e+06</td>\n",
       "      <td>0.45055</td>\n",
       "      <td>951217.0</td>\n",
       "      <td>-0.41143</td>\n",
       "      <td>3.690633e+05</td>\n",
       "      <td>-0.41147</td>\n",
       "      <td>2025-01-07 08:15:00</td>\n",
       "    </tr>\n",
       "    <tr>\n",
       "      <th>2</th>\n",
       "      <td>0.0</td>\n",
       "      <td>8.0</td>\n",
       "      <td>1.0</td>\n",
       "      <td>0.0</td>\n",
       "      <td>0.38664</td>\n",
       "      <td>0.38936</td>\n",
       "      <td>0.38607</td>\n",
       "      <td>0.38834</td>\n",
       "      <td>38229164.0</td>\n",
       "      <td>1.484695e+07</td>\n",
       "      <td>...</td>\n",
       "      <td>0.63209</td>\n",
       "      <td>6137483.0</td>\n",
       "      <td>0.44935</td>\n",
       "      <td>2.404409e+06</td>\n",
       "      <td>0.45509</td>\n",
       "      <td>949088.0</td>\n",
       "      <td>-0.41051</td>\n",
       "      <td>3.682344e+05</td>\n",
       "      <td>-0.41055</td>\n",
       "      <td>2025-01-07 08:15:00</td>\n",
       "    </tr>\n",
       "    <tr>\n",
       "      <th>3</th>\n",
       "      <td>0.0</td>\n",
       "      <td>8.0</td>\n",
       "      <td>1.0</td>\n",
       "      <td>0.0</td>\n",
       "      <td>0.38664</td>\n",
       "      <td>0.38936</td>\n",
       "      <td>0.38607</td>\n",
       "      <td>0.38829</td>\n",
       "      <td>38294415.0</td>\n",
       "      <td>1.487228e+07</td>\n",
       "      <td>...</td>\n",
       "      <td>0.63363</td>\n",
       "      <td>6185267.0</td>\n",
       "      <td>0.45285</td>\n",
       "      <td>2.422963e+06</td>\n",
       "      <td>0.45860</td>\n",
       "      <td>918771.0</td>\n",
       "      <td>-0.39739</td>\n",
       "      <td>3.564628e+05</td>\n",
       "      <td>-0.39742</td>\n",
       "      <td>2025-01-07 08:15:00</td>\n",
       "    </tr>\n",
       "    <tr>\n",
       "      <th>4</th>\n",
       "      <td>0.0</td>\n",
       "      <td>8.0</td>\n",
       "      <td>1.0</td>\n",
       "      <td>0.0</td>\n",
       "      <td>0.38664</td>\n",
       "      <td>0.38936</td>\n",
       "      <td>0.38607</td>\n",
       "      <td>0.38843</td>\n",
       "      <td>38533179.0</td>\n",
       "      <td>1.496501e+07</td>\n",
       "      <td>...</td>\n",
       "      <td>0.65252</td>\n",
       "      <td>6210731.0</td>\n",
       "      <td>0.45471</td>\n",
       "      <td>2.432852e+06</td>\n",
       "      <td>0.46047</td>\n",
       "      <td>1106607.0</td>\n",
       "      <td>-0.47864</td>\n",
       "      <td>4.294111e+05</td>\n",
       "      <td>-0.47875</td>\n",
       "      <td>2025-01-07 08:15:00</td>\n",
       "    </tr>\n",
       "    <tr>\n",
       "      <th>...</th>\n",
       "      <td>...</td>\n",
       "      <td>...</td>\n",
       "      <td>...</td>\n",
       "      <td>...</td>\n",
       "      <td>...</td>\n",
       "      <td>...</td>\n",
       "      <td>...</td>\n",
       "      <td>...</td>\n",
       "      <td>...</td>\n",
       "      <td>...</td>\n",
       "      <td>...</td>\n",
       "      <td>...</td>\n",
       "      <td>...</td>\n",
       "      <td>...</td>\n",
       "      <td>...</td>\n",
       "      <td>...</td>\n",
       "      <td>...</td>\n",
       "      <td>...</td>\n",
       "      <td>...</td>\n",
       "      <td>...</td>\n",
       "      <td>...</td>\n",
       "    </tr>\n",
       "    <tr>\n",
       "      <th>22344</th>\n",
       "      <td>0.0</td>\n",
       "      <td>19.0</td>\n",
       "      <td>1.0</td>\n",
       "      <td>0.0</td>\n",
       "      <td>0.34778</td>\n",
       "      <td>0.34936</td>\n",
       "      <td>0.34778</td>\n",
       "      <td>0.34849</td>\n",
       "      <td>23303460.0</td>\n",
       "      <td>8.122085e+06</td>\n",
       "      <td>...</td>\n",
       "      <td>-0.57879</td>\n",
       "      <td>-8981134.0</td>\n",
       "      <td>-0.46988</td>\n",
       "      <td>-3.134126e+06</td>\n",
       "      <td>-0.47017</td>\n",
       "      <td>-9051244.0</td>\n",
       "      <td>-0.74869</td>\n",
       "      <td>-3.173244e+06</td>\n",
       "      <td>-0.74989</td>\n",
       "      <td>2025-01-08 19:15:00</td>\n",
       "    </tr>\n",
       "    <tr>\n",
       "      <th>22345</th>\n",
       "      <td>0.0</td>\n",
       "      <td>19.0</td>\n",
       "      <td>1.0</td>\n",
       "      <td>0.0</td>\n",
       "      <td>0.34778</td>\n",
       "      <td>0.34936</td>\n",
       "      <td>0.34778</td>\n",
       "      <td>0.34860</td>\n",
       "      <td>23649025.0</td>\n",
       "      <td>8.242525e+06</td>\n",
       "      <td>...</td>\n",
       "      <td>-0.57150</td>\n",
       "      <td>-8863349.0</td>\n",
       "      <td>-0.46372</td>\n",
       "      <td>-3.093074e+06</td>\n",
       "      <td>-0.46401</td>\n",
       "      <td>-8941249.0</td>\n",
       "      <td>-0.73959</td>\n",
       "      <td>-3.134908e+06</td>\n",
       "      <td>-0.74083</td>\n",
       "      <td>2025-01-08 19:15:00</td>\n",
       "    </tr>\n",
       "    <tr>\n",
       "      <th>22346</th>\n",
       "      <td>0.0</td>\n",
       "      <td>19.0</td>\n",
       "      <td>1.0</td>\n",
       "      <td>0.0</td>\n",
       "      <td>0.34778</td>\n",
       "      <td>0.34936</td>\n",
       "      <td>0.34778</td>\n",
       "      <td>0.34860</td>\n",
       "      <td>23669793.0</td>\n",
       "      <td>8.249765e+06</td>\n",
       "      <td>...</td>\n",
       "      <td>-0.57090</td>\n",
       "      <td>-8861313.0</td>\n",
       "      <td>-0.46361</td>\n",
       "      <td>-3.092364e+06</td>\n",
       "      <td>-0.46390</td>\n",
       "      <td>-8924553.0</td>\n",
       "      <td>-0.73821</td>\n",
       "      <td>-3.129087e+06</td>\n",
       "      <td>-0.73946</td>\n",
       "      <td>2025-01-08 19:15:00</td>\n",
       "    </tr>\n",
       "    <tr>\n",
       "      <th>22347</th>\n",
       "      <td>0.0</td>\n",
       "      <td>19.0</td>\n",
       "      <td>1.0</td>\n",
       "      <td>0.0</td>\n",
       "      <td>0.34778</td>\n",
       "      <td>0.34936</td>\n",
       "      <td>0.34778</td>\n",
       "      <td>0.34863</td>\n",
       "      <td>23861303.0</td>\n",
       "      <td>8.316521e+06</td>\n",
       "      <td>...</td>\n",
       "      <td>-0.56841</td>\n",
       "      <td>-8747675.0</td>\n",
       "      <td>-0.45766</td>\n",
       "      <td>-3.052754e+06</td>\n",
       "      <td>-0.45796</td>\n",
       "      <td>-8960319.0</td>\n",
       "      <td>-0.74117</td>\n",
       "      <td>-3.141552e+06</td>\n",
       "      <td>-0.74240</td>\n",
       "      <td>2025-01-08 19:15:00</td>\n",
       "    </tr>\n",
       "    <tr>\n",
       "      <th>22348</th>\n",
       "      <td>0.0</td>\n",
       "      <td>19.0</td>\n",
       "      <td>1.0</td>\n",
       "      <td>0.0</td>\n",
       "      <td>0.34778</td>\n",
       "      <td>0.34936</td>\n",
       "      <td>0.34778</td>\n",
       "      <td>0.34850</td>\n",
       "      <td>23960718.0</td>\n",
       "      <td>8.351177e+06</td>\n",
       "      <td>...</td>\n",
       "      <td>-0.56737</td>\n",
       "      <td>-8680639.0</td>\n",
       "      <td>-0.45416</td>\n",
       "      <td>-3.029386e+06</td>\n",
       "      <td>-0.45445</td>\n",
       "      <td>-8994976.0</td>\n",
       "      <td>-0.74404</td>\n",
       "      <td>-3.153632e+06</td>\n",
       "      <td>-0.74526</td>\n",
       "      <td>2025-01-08 19:15:00</td>\n",
       "    </tr>\n",
       "  </tbody>\n",
       "</table>\n",
       "<p>22349 rows × 91 columns</p>\n",
       "</div>"
      ],
      "text/plain": [
       "       day  hour  quarter  past_min     open     high      low    close  \\\n",
       "0      0.0   8.0      1.0       0.0  0.38664  0.38936  0.38607  0.38819   \n",
       "1      0.0   8.0      1.0       0.0  0.38664  0.38936  0.38607  0.38827   \n",
       "2      0.0   8.0      1.0       0.0  0.38664  0.38936  0.38607  0.38834   \n",
       "3      0.0   8.0      1.0       0.0  0.38664  0.38936  0.38607  0.38829   \n",
       "4      0.0   8.0      1.0       0.0  0.38664  0.38936  0.38607  0.38843   \n",
       "...    ...   ...      ...       ...      ...      ...      ...      ...   \n",
       "22344  0.0  19.0      1.0       0.0  0.34778  0.34936  0.34778  0.34849   \n",
       "22345  0.0  19.0      1.0       0.0  0.34778  0.34936  0.34778  0.34860   \n",
       "22346  0.0  19.0      1.0       0.0  0.34778  0.34936  0.34778  0.34860   \n",
       "22347  0.0  19.0      1.0       0.0  0.34778  0.34936  0.34778  0.34863   \n",
       "22348  0.0  19.0      1.0       0.0  0.34778  0.34936  0.34778  0.34850   \n",
       "\n",
       "           volume  quote_asset_volume  ...  taker_buy_quote_asset_volume_rate  \\\n",
       "0      38050270.0        1.477748e+07  ...                            0.62175   \n",
       "1      38107869.0        1.479984e+07  ...                            0.62681   \n",
       "2      38229164.0        1.484695e+07  ...                            0.63209   \n",
       "3      38294415.0        1.487228e+07  ...                            0.63363   \n",
       "4      38533179.0        1.496501e+07  ...                            0.65252   \n",
       "...           ...                 ...  ...                                ...   \n",
       "22344  23303460.0        8.122085e+06  ...                           -0.57879   \n",
       "22345  23649025.0        8.242525e+06  ...                           -0.57150   \n",
       "22346  23669793.0        8.249765e+06  ...                           -0.57090   \n",
       "22347  23861303.0        8.316521e+06  ...                           -0.56841   \n",
       "22348  23960718.0        8.351177e+06  ...                           -0.56737   \n",
       "\n",
       "       taker_sell_base_asset_volume_diff  taker_sell_base_asset_volume_rate  \\\n",
       "0                              6075348.0                            0.44480   \n",
       "1                              6075771.0                            0.44483   \n",
       "2                              6137483.0                            0.44935   \n",
       "3                              6185267.0                            0.45285   \n",
       "4                              6210731.0                            0.45471   \n",
       "...                                  ...                                ...   \n",
       "22344                         -8981134.0                           -0.46988   \n",
       "22345                         -8863349.0                           -0.46372   \n",
       "22346                         -8861313.0                           -0.46361   \n",
       "22347                         -8747675.0                           -0.45766   \n",
       "22348                         -8680639.0                           -0.45416   \n",
       "\n",
       "       taker_sell_quote_asset_volume_diff  taker_sell_quote_asset_volume_rate  \\\n",
       "0                            2.380280e+06                             0.45052   \n",
       "1                            2.380444e+06                             0.45055   \n",
       "2                            2.404409e+06                             0.45509   \n",
       "3                            2.422963e+06                             0.45860   \n",
       "4                            2.432852e+06                             0.46047   \n",
       "...                                   ...                                 ...   \n",
       "22344                       -3.134126e+06                            -0.47017   \n",
       "22345                       -3.093074e+06                            -0.46401   \n",
       "22346                       -3.092364e+06                            -0.46390   \n",
       "22347                       -3.052754e+06                            -0.45796   \n",
       "22348                       -3.029386e+06                            -0.45445   \n",
       "\n",
       "       taker_buy_sell_volume_diff  taker_buy_sell_volume_rate  \\\n",
       "0                        894464.0                    -0.38688   \n",
       "1                        951217.0                    -0.41143   \n",
       "2                        949088.0                    -0.41051   \n",
       "3                        918771.0                    -0.39739   \n",
       "4                       1106607.0                    -0.47864   \n",
       "...                           ...                         ...   \n",
       "22344                  -9051244.0                    -0.74869   \n",
       "22345                  -8941249.0                    -0.73959   \n",
       "22346                  -8924553.0                    -0.73821   \n",
       "22347                  -8960319.0                    -0.74117   \n",
       "22348                  -8994976.0                    -0.74404   \n",
       "\n",
       "       taker_buy_sell_quote_asset_volume_diff  \\\n",
       "0                                3.470304e+05   \n",
       "1                                3.690633e+05   \n",
       "2                                3.682344e+05   \n",
       "3                                3.564628e+05   \n",
       "4                                4.294111e+05   \n",
       "...                                       ...   \n",
       "22344                           -3.173244e+06   \n",
       "22345                           -3.134908e+06   \n",
       "22346                           -3.129087e+06   \n",
       "22347                           -3.141552e+06   \n",
       "22348                           -3.153632e+06   \n",
       "\n",
       "       taker_buy_sell_quote_asset_volume_rate            timestamp  \n",
       "0                                    -0.38691  2025-01-07 08:15:00  \n",
       "1                                    -0.41147  2025-01-07 08:15:00  \n",
       "2                                    -0.41055  2025-01-07 08:15:00  \n",
       "3                                    -0.39742  2025-01-07 08:15:00  \n",
       "4                                    -0.47875  2025-01-07 08:15:00  \n",
       "...                                       ...                  ...  \n",
       "22344                                -0.74989  2025-01-08 19:15:00  \n",
       "22345                                -0.74083  2025-01-08 19:15:00  \n",
       "22346                                -0.73946  2025-01-08 19:15:00  \n",
       "22347                                -0.74240  2025-01-08 19:15:00  \n",
       "22348                                -0.74526  2025-01-08 19:15:00  \n",
       "\n",
       "[22349 rows x 91 columns]"
      ]
     },
     "execution_count": 15,
     "metadata": {},
     "output_type": "execute_result"
    }
   ],
   "source": [
    "\n",
    "dff"
   ]
  },
  {
   "cell_type": "code",
   "execution_count": 162,
   "metadata": {},
   "outputs": [
    {
     "name": "stdout",
     "output_type": "stream",
     "text": [
      "[LightGBM] [Warning] min_data_in_leaf is set=42, min_child_samples=36 will be ignored. Current value: min_data_in_leaf=42\n",
      "[LightGBM] [Warning] feature_fraction is set=0.532247573579147, colsample_bytree=1.0 will be ignored. Current value: feature_fraction=0.532247573579147\n",
      "[LightGBM] [Warning] lambda_l1 is set=0.816045083708844, reg_alpha=0.0 will be ignored. Current value: lambda_l1=0.816045083708844\n",
      "[LightGBM] [Warning] lambda_l2 is set=4.25073288981853, reg_lambda=0.0 will be ignored. Current value: lambda_l2=4.25073288981853\n",
      "[LightGBM] [Warning] bagging_fraction is set=0.995987239919934, subsample=0.778961261519561 will be ignored. Current value: bagging_fraction=0.995987239919934\n"
     ]
    }
   ],
   "source": [
    "y_pred  = lgb_model.predict(dff.iloc[:,1:-1])\n",
    "dff['pred'] = y_pred"
   ]
  },
  {
   "cell_type": "code",
   "execution_count": 163,
   "metadata": {},
   "outputs": [
    {
     "name": "stdout",
     "output_type": "stream",
     "text": [
      "<class 'pandas.core.series.Series'>\n",
      "RangeIndex: 7726 entries, 0 to 7725\n",
      "Series name: pred\n",
      "Non-Null Count  Dtype\n",
      "--------------  -----\n",
      "7726 non-null   int64\n",
      "dtypes: int64(1)\n",
      "memory usage: 60.5 KB\n"
     ]
    }
   ],
   "source": [
    "dff['pred'].info()"
   ]
  },
  {
   "cell_type": "code",
   "execution_count": null,
   "metadata": {},
   "outputs": [],
   "source": []
  }
 ],
 "metadata": {
  "kernelspec": {
   "display_name": "base",
   "language": "python",
   "name": "python3"
  },
  "language_info": {
   "codemirror_mode": {
    "name": "ipython",
    "version": 3
   },
   "file_extension": ".py",
   "mimetype": "text/x-python",
   "name": "python",
   "nbconvert_exporter": "python",
   "pygments_lexer": "ipython3",
   "version": "3.12.7"
  }
 },
 "nbformat": 4,
 "nbformat_minor": 4
}
